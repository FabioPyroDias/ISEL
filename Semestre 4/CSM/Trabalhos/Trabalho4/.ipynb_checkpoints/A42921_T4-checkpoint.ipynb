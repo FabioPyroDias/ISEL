{
 "cells": [
  {
   "cell_type": "code",
   "execution_count": 3,
   "id": "131f4f3b",
   "metadata": {},
   "outputs": [],
   "source": [
    "import numpy as np\n",
    "import cv2\n",
    "import matplotlib.pyplot as plt\n",
    "import time"
   ]
  },
  {
   "cell_type": "markdown",
   "id": "141adfb7",
   "metadata": {},
   "source": [
    "Este trabalho explora os princípios básicos da codificação de vídeo. Neste trabalho pretende-se implementar três formas de codificação de vídeo. Cada um destes codificadores deve ser testado com as sequências de imagens disponibilizadas (bola_seq.zip e carro_seq.zip). Para cada codificador deve medir (frame a frame):"
   ]
  },
  {
   "cell_type": "markdown",
   "id": "9065f1e0",
   "metadata": {},
   "source": [
    "##### 1. A taxa de compressão"
   ]
  },
  {
   "cell_type": "code",
   "execution_count": 4,
   "id": "b0231f62",
   "metadata": {},
   "outputs": [],
   "source": [
    "def TaxaDeCompressao(original, comprimida):\n",
    "    \n",
    "    return original.nbytes / len(comprimida)"
   ]
  },
  {
   "cell_type": "markdown",
   "id": "cb07f51c",
   "metadata": {},
   "source": [
    "##### 2. A relação sinal-ruído (relação entre a frame original no emissor e a frame final no recetor)"
   ]
  },
  {
   "cell_type": "code",
   "execution_count": 14,
   "id": "bed2c8de",
   "metadata": {},
   "outputs": [],
   "source": [
    "def RelacaoSinalRuido(original, final):\n",
    "    \n",
    "    print()\n",
    "    print(\"RELACAO SINAL RUIDO\")\n",
    "    print(\"Original -> {0}\".format(np.sum(original)))\n",
    "    print(\"Original 2 -> {0}\".format(np.sum(original) ** 2))\n",
    "    print(\"Final -> {0}\".format(final))\n",
    "    print(\"Final - Original -> {0}\".format(final - original))\n",
    "    print(\"Final - Original Soma -> {0}\".format(np.sum(final - original)))\n",
    "    print(\"Final - Original Soma 2 -> {0}\".format(np.sum(final - original) ** 2))\n",
    "    \n",
    "    potenciaRuido = np.sum((final - original) ** 2)\n",
    "    \n",
    "    return np.sum(original ** 2) / potenciaRuido"
   ]
  },
  {
   "cell_type": "markdown",
   "id": "875d9cee",
   "metadata": {},
   "source": [
    "##### 3. A entropia da frame a transmitir"
   ]
  },
  {
   "cell_type": "code",
   "execution_count": 6,
   "id": "87bb70a5",
   "metadata": {},
   "outputs": [],
   "source": [
    "def Entropia(frame):\n",
    "    \n",
    "    #plt.hist(frame, 256, [0,256])\n",
    "    histogram, bins, patches = plt.hist(frame, 256, [0, 256])\n",
    "    \n",
    "    unique_symbols = np.unique(frame)\n",
    "    \n",
    "    # Filtrar os 0's\n",
    "    H = [ps_i for ps_i in histogram if ps_i > 0]\n",
    "    \n",
    "    # Normalizar com o tamanho do sinal\n",
    "    H = [ps_i/len(frame) for ps_i in H]\n",
    "\n",
    "    # Calcular a entropia\n",
    "    H = np.sum([ps_i * np.log2(1.0/ps_i) for ps_i in H])\n",
    "    \n",
    "    return H"
   ]
  },
  {
   "cell_type": "markdown",
   "id": "aabf022b",
   "metadata": {},
   "source": [
    "##### 4. A energia média por pixel da frame a transmitir"
   ]
  },
  {
   "cell_type": "code",
   "execution_count": 7,
   "id": "bb38b2e0",
   "metadata": {},
   "outputs": [],
   "source": [
    "def EnergiaMediaPorPixel(frame):\n",
    "    \n",
    "    return np.sum(frame ** 2) / len(frame)"
   ]
  },
  {
   "cell_type": "markdown",
   "id": "ee163fa6",
   "metadata": {},
   "source": [
    "##### 5. O tempo de compressão e descompressão"
   ]
  },
  {
   "cell_type": "code",
   "execution_count": 8,
   "id": "5d9cc581",
   "metadata": {},
   "outputs": [],
   "source": [
    "def TempoDeCompressaoEDescompressao(tempoInicial, tempoFinal):\n",
    "    \n",
    "    return tempoFinal - tempoInicial"
   ]
  },
  {
   "cell_type": "markdown",
   "id": "2af6009c",
   "metadata": {},
   "source": [
    "No final deve construir gráficos ou tabelas que ilustrem estas medidas em função da frame.\n",
    "<br>\n",
    "<br>\n",
    "Para os três codificadores use o algoritmo JPEG do OpenCV com uma qualidade de 50%.\n",
    "As três formas de codificação são:"
   ]
  },
  {
   "cell_type": "code",
   "execution_count": 12,
   "id": "f6905263",
   "metadata": {},
   "outputs": [],
   "source": [
    "'''\n",
    "Carregar a primeira imagem para arranjar o seu shape.\n",
    "Criar o np.array para armazenar cada imagem (número de frames, comprimento, largura, canais)\n",
    "Carregar as imagens seguidas e armazená-las nos arrays\n",
    "'''\n",
    "\n",
    "bolaShape = cv2.imread(\"bola_1.tiff\").shape\n",
    "carroShape = cv2.imread(\"carro_1.tiff\").shape\n",
    "\n",
    "bola = np.zeros((11, bolaShape[0], bolaShape[1], bolaShape[2]), dtype=np.uint8)\n",
    "carro = np.zeros((11, carroShape[0], carroShape[1], carroShape[2]), dtype=np.uint8)\n",
    "\n",
    "for index in range(11):\n",
    "    bola[index] = cv2.imread(\"bola_{0}.tiff\".format(index + 1))\n",
    "    carro[index] = cv2.imread(\"carro_{0}.tiff\".format(index + 1))"
   ]
  },
  {
   "cell_type": "markdown",
   "id": "35b54eff",
   "metadata": {},
   "source": [
    "### 1. Considerar que cada frame é uma intra-frame (I)."
   ]
  },
  {
   "cell_type": "code",
   "execution_count": 13,
   "id": "7bb72698",
   "metadata": {
    "scrolled": true
   },
   "outputs": [
    {
     "name": "stdout",
     "output_type": "stream",
     "text": [
      "Bola Frame 0\n",
      "Taxa de Compressao: 2.4179053216050677\n",
      "\n",
      "RELACAO SINAL RUIDO\n",
      "Original -> 15871125\n",
      "Original 2 -> 251892608765625\n"
     ]
    },
    {
     "ename": "KeyError",
     "evalue": "'0]'",
     "output_type": "error",
     "traceback": [
      "\u001b[1;31m---------------------------------------------------------------------------\u001b[0m",
      "\u001b[1;31mKeyError\u001b[0m                                  Traceback (most recent call last)",
      "\u001b[1;32m<ipython-input-13-6a4836d9478c>\u001b[0m in \u001b[0;36m<module>\u001b[1;34m\u001b[0m\n\u001b[0;32m     20\u001b[0m     \u001b[0mprint\u001b[0m\u001b[1;33m(\u001b[0m\u001b[1;34m\"Bola Frame {0}\"\u001b[0m\u001b[1;33m.\u001b[0m\u001b[0mformat\u001b[0m\u001b[1;33m(\u001b[0m\u001b[0mindex\u001b[0m\u001b[1;33m)\u001b[0m\u001b[1;33m)\u001b[0m\u001b[1;33m\u001b[0m\u001b[1;33m\u001b[0m\u001b[0m\n\u001b[0;32m     21\u001b[0m     \u001b[0mprint\u001b[0m\u001b[1;33m(\u001b[0m\u001b[1;34m\"Taxa de Compressao: {0}\"\u001b[0m\u001b[1;33m.\u001b[0m\u001b[0mformat\u001b[0m\u001b[1;33m(\u001b[0m\u001b[0mTaxaDeCompressao\u001b[0m\u001b[1;33m(\u001b[0m\u001b[0mbola\u001b[0m\u001b[1;33m[\u001b[0m\u001b[0mindex\u001b[0m\u001b[1;33m]\u001b[0m\u001b[1;33m,\u001b[0m \u001b[0mbolaFrameComprimida\u001b[0m\u001b[1;33m)\u001b[0m\u001b[1;33m)\u001b[0m\u001b[1;33m)\u001b[0m\u001b[1;33m\u001b[0m\u001b[1;33m\u001b[0m\u001b[0m\n\u001b[1;32m---> 22\u001b[1;33m     \u001b[0mprint\u001b[0m\u001b[1;33m(\u001b[0m\u001b[1;34m\"Relação Sinal Ruído: {0}\"\u001b[0m\u001b[1;33m.\u001b[0m\u001b[0mformat\u001b[0m\u001b[1;33m(\u001b[0m\u001b[0mRelacaoSinalRuido\u001b[0m\u001b[1;33m(\u001b[0m\u001b[0mbola\u001b[0m\u001b[1;33m[\u001b[0m\u001b[0mindex\u001b[0m\u001b[1;33m]\u001b[0m\u001b[1;33m,\u001b[0m \u001b[0mbolaFrameDescomprimida\u001b[0m\u001b[1;33m)\u001b[0m\u001b[1;33m)\u001b[0m\u001b[1;33m)\u001b[0m\u001b[1;33m\u001b[0m\u001b[1;33m\u001b[0m\u001b[0m\n\u001b[0m\u001b[0;32m     23\u001b[0m     \u001b[0mprint\u001b[0m\u001b[1;33m(\u001b[0m\u001b[1;34m\"Entropia: {0}\"\u001b[0m\u001b[1;33m.\u001b[0m\u001b[0mformat\u001b[0m\u001b[1;33m(\u001b[0m\u001b[0mEntropia\u001b[0m\u001b[1;33m(\u001b[0m\u001b[0mbolaFrameComprimida\u001b[0m\u001b[1;33m)\u001b[0m\u001b[1;33m)\u001b[0m\u001b[1;33m)\u001b[0m\u001b[1;33m\u001b[0m\u001b[1;33m\u001b[0m\u001b[0m\n\u001b[0;32m     24\u001b[0m     \u001b[0mprint\u001b[0m\u001b[1;33m(\u001b[0m\u001b[1;34m\"Energia Media Por Pixel: {0}\"\u001b[0m\u001b[1;33m.\u001b[0m\u001b[0mformat\u001b[0m\u001b[1;33m(\u001b[0m\u001b[0mEnergiaMediaPorPixel\u001b[0m\u001b[1;33m(\u001b[0m\u001b[0mbolaFrameComprimida\u001b[0m\u001b[1;33m)\u001b[0m\u001b[1;33m)\u001b[0m\u001b[1;33m)\u001b[0m\u001b[1;33m\u001b[0m\u001b[1;33m\u001b[0m\u001b[0m\n",
      "\u001b[1;32m<ipython-input-11-738c7b465814>\u001b[0m in \u001b[0;36mRelacaoSinalRuido\u001b[1;34m(original, final)\u001b[0m\n\u001b[0;32m      5\u001b[0m     \u001b[0mprint\u001b[0m\u001b[1;33m(\u001b[0m\u001b[1;34m\"Original -> {0}\"\u001b[0m\u001b[1;33m.\u001b[0m\u001b[0mformat\u001b[0m\u001b[1;33m(\u001b[0m\u001b[0mnp\u001b[0m\u001b[1;33m.\u001b[0m\u001b[0msum\u001b[0m\u001b[1;33m(\u001b[0m\u001b[0moriginal\u001b[0m\u001b[1;33m)\u001b[0m\u001b[1;33m)\u001b[0m\u001b[1;33m)\u001b[0m\u001b[1;33m\u001b[0m\u001b[1;33m\u001b[0m\u001b[0m\n\u001b[0;32m      6\u001b[0m     \u001b[0mprint\u001b[0m\u001b[1;33m(\u001b[0m\u001b[1;34m\"Original 2 -> {0}\"\u001b[0m\u001b[1;33m.\u001b[0m\u001b[0mformat\u001b[0m\u001b[1;33m(\u001b[0m\u001b[0mnp\u001b[0m\u001b[1;33m.\u001b[0m\u001b[0msum\u001b[0m\u001b[1;33m(\u001b[0m\u001b[0moriginal\u001b[0m\u001b[1;33m)\u001b[0m \u001b[1;33m**\u001b[0m \u001b[1;36m2\u001b[0m\u001b[1;33m)\u001b[0m\u001b[1;33m)\u001b[0m\u001b[1;33m\u001b[0m\u001b[1;33m\u001b[0m\u001b[0m\n\u001b[1;32m----> 7\u001b[1;33m     \u001b[0mprint\u001b[0m\u001b[1;33m(\u001b[0m\u001b[1;34m\"Final -> {0]}\"\u001b[0m\u001b[1;33m.\u001b[0m\u001b[0mformat\u001b[0m\u001b[1;33m(\u001b[0m\u001b[0mfinal\u001b[0m\u001b[1;33m)\u001b[0m\u001b[1;33m)\u001b[0m\u001b[1;33m\u001b[0m\u001b[1;33m\u001b[0m\u001b[0m\n\u001b[0m\u001b[0;32m      8\u001b[0m     \u001b[0mprint\u001b[0m\u001b[1;33m(\u001b[0m\u001b[1;34m\"Final - Original -> {0}\"\u001b[0m\u001b[1;33m.\u001b[0m\u001b[0mformat\u001b[0m\u001b[1;33m(\u001b[0m\u001b[0mfinal\u001b[0m \u001b[1;33m-\u001b[0m \u001b[0moriginal\u001b[0m\u001b[1;33m)\u001b[0m\u001b[1;33m)\u001b[0m\u001b[1;33m\u001b[0m\u001b[1;33m\u001b[0m\u001b[0m\n\u001b[0;32m      9\u001b[0m     \u001b[0mprint\u001b[0m\u001b[1;33m(\u001b[0m\u001b[1;34m\"Final - Original Soma -> {0}\"\u001b[0m\u001b[1;33m.\u001b[0m\u001b[0mformat\u001b[0m\u001b[1;33m(\u001b[0m\u001b[0mnp\u001b[0m\u001b[1;33m.\u001b[0m\u001b[0msum\u001b[0m\u001b[1;33m(\u001b[0m\u001b[0mfinal\u001b[0m \u001b[1;33m-\u001b[0m \u001b[0moriginal\u001b[0m\u001b[1;33m)\u001b[0m\u001b[1;33m)\u001b[0m\u001b[1;33m)\u001b[0m\u001b[1;33m\u001b[0m\u001b[1;33m\u001b[0m\u001b[0m\n",
      "\u001b[1;31mKeyError\u001b[0m: '0]'"
     ]
    }
   ],
   "source": [
    "factorQualidade = 50\n",
    "\n",
    "for index in range(11):\n",
    "    \n",
    "    #Bola\n",
    "    tempoInicialBola = time.time()\n",
    "    bolaFrameComprimida = cv2.imencode('.tiff', bola[index], [int(cv2.IMWRITE_JPEG_QUALITY), factorQualidade])[1]\n",
    "    tempoAposCompressaoBola = time.time()\n",
    "    bolaFrameDescomprimida = cv2.imdecode(bolaFrameComprimida, cv2.IMREAD_COLOR)\n",
    "    tempoAposDescompressaoBola = time.time()\n",
    "    \n",
    "    #Carro\n",
    "    tempoInicialCarro = time.time()\n",
    "    carroFrameComprimida = cv2.imencode('.tiff', carro[index], [int(cv2.IMWRITE_JPEG_QUALITY), factorQualidade])[1]\n",
    "    tempoAposCompressaoCarro = time.time()\n",
    "    carroFrameDescomprimida = cv2.imdecode(carroFrameComprimida, cv2.IMREAD_COLOR)\n",
    "    tempoAposDescompressaoCarro = time.time()\n",
    "    \n",
    "    #Methods\n",
    "    print(\"Bola Frame {0}\".format(index))\n",
    "    print(\"Taxa de Compressao: {0}\".format(TaxaDeCompressao(bola[index], bolaFrameComprimida)))\n",
    "    print(\"Relação Sinal Ruído: {0}\".format(RelacaoSinalRuido(bola[index], bolaFrameDescomprimida)))\n",
    "    print(\"Entropia: {0}\".format(Entropia(bolaFrameComprimida)))\n",
    "    print(\"Energia Media Por Pixel: {0}\".format(EnergiaMediaPorPixel(bolaFrameComprimida)))\n",
    "    print(\"Tempo de Compressao: {0}\".format(TempoDeCompressaoEDescompressao(tempoInicialBola, tempoAposCompressaoBola)))\n",
    "    print(\"Tempo de Descompressao: {0}\".format(TempoDeCompressaoEDescompressao(tempoAposCompressaoBola, tempoAposDescompressaoBola)))\n",
    "    print()\n",
    "    \n",
    "    print(\"Carro Frame {0}\".format(index))\n",
    "    print(\"Taxa de Compressao: {0}\".format(TaxaDeCompressao(carro[index], carroFrameComprimida)))\n",
    "    print(\"Relação Sinal Ruído: {0}\".format(RelacaoSinalRuido(carro[index], carroFrameDescomprimida)))\n",
    "    print(\"Entropia: {0}\".format(Entropia(carroFrameComprimida)))\n",
    "    print(\"Energia Media Por Pixel: {0}\".format(EnergiaMediaPorPixel(carroFrameComprimida)))\n",
    "    print(\"Tempo de Compressao: {0}\".format(TempoDeCompressaoEDescompressao(tempoInicialCarro, tempoAposCompressaoCarro)))\n",
    "    print(\"Tempo de Descompressao: {0}\".format(TempoDeCompressaoEDescompressao(tempoAposCompressaoCarro, tempoAposDescompressaoCarro)))\n",
    "    print()"
   ]
  },
  {
   "cell_type": "markdown",
   "id": "05e71154",
   "metadata": {},
   "source": [
    "### 2. Considerar que todas as frames à exceção da primeira (a I-frame) são inter-frames (P). Neste codificador deve criar as P-frames, que são a diferença entre a frame a codificar e a I-frame, sem compensação de movimento. <br> Visualize a P-frame (ou seja a imagem a transmitir)."
   ]
  },
  {
   "cell_type": "code",
   "execution_count": 9,
   "id": "d15eb9f6",
   "metadata": {
    "scrolled": true
   },
   "outputs": [
    {
     "name": "stdout",
     "output_type": "stream",
     "text": [
      "Bola Frame 1\n",
      "Taxa de Compressao: 3.2159171657699726\n",
      "Relação Sinal Ruído: 1.0010372712930122\n",
      "Entropia: 7.969802482072232\n",
      "Energia Media Por Pixel: 103.88473251446554\n",
      "Tempo de Compressao: 0.004016399383544922\n",
      "Tempo de Descompressao: 0.0019979476928710938\n",
      "\n",
      "Carro Frame 1\n",
      "Taxa de Compressao: 3.4236756869710585\n",
      "Relação Sinal Ruído: inf\n"
     ]
    },
    {
     "name": "stderr",
     "output_type": "stream",
     "text": [
      "<ipython-input-3-6ae4f51e7881>:5: RuntimeWarning: divide by zero encountered in ulong_scalars\n",
      "  return np.sum(original ** 2) / potenciaRuido\n"
     ]
    },
    {
     "name": "stdout",
     "output_type": "stream",
     "text": [
      "Entropia: 7.976211516150719\n",
      "Energia Media Por Pixel: 104.2111238811688\n",
      "Tempo de Compressao: 0.002991914749145508\n",
      "Tempo de Descompressao: 0.0019638538360595703\n",
      "\n",
      "Bola Frame 2\n",
      "Taxa de Compressao: 3.1836796221390347\n",
      "Relação Sinal Ruído: 0.9967879649615494\n",
      "Entropia: 7.968107036031656\n",
      "Energia Media Por Pixel: 103.22509609828406\n",
      "Tempo de Compressao: 0.004024982452392578\n",
      "Tempo de Descompressao: 0.0019927024841308594\n",
      "\n",
      "Carro Frame 2\n",
      "Taxa de Compressao: 3.376751854905194\n",
      "Relação Sinal Ruído: inf\n",
      "Entropia: 7.974440166516209\n",
      "Energia Media Por Pixel: 105.22973344325364\n",
      "Tempo de Compressao: 0.002996206283569336\n",
      "Tempo de Descompressao: 0.0009953975677490234\n",
      "\n",
      "Bola Frame 3\n",
      "Taxa de Compressao: 2.706766917293233\n",
      "Relação Sinal Ruído: 0.9935959977642064\n",
      "Entropia: 7.945718859380972\n",
      "Energia Media Por Pixel: 101.55875128161313\n",
      "Tempo de Compressao: 0.003983497619628906\n",
      "Tempo de Descompressao: 0.0019948482513427734\n",
      "\n",
      "Carro Frame 3\n",
      "Taxa de Compressao: 3.2940388030693963\n",
      "Relação Sinal Ruído: inf\n",
      "Entropia: 7.971728635331831\n",
      "Energia Media Por Pixel: 104.41095064169151\n",
      "Tempo de Compressao: 0.0029921531677246094\n",
      "Tempo de Descompressao: 0.0019943714141845703\n",
      "\n",
      "Bola Frame 4\n",
      "Taxa de Compressao: 2.9917132941426448\n",
      "Relação Sinal Ruído: 0.9866695233828714\n",
      "Entropia: 7.9612427384293145\n",
      "Energia Media Por Pixel: 103.34916306631726\n",
      "Tempo de Compressao: 0.003988742828369141\n",
      "Tempo de Descompressao: 0.001994609832763672\n",
      "\n",
      "Carro Frame 4\n",
      "Taxa de Compressao: 3.361050328227571\n",
      "Relação Sinal Ruído: inf\n",
      "Entropia: 7.973024820460347\n",
      "Energia Media Por Pixel: 104.37655566192561\n",
      "Tempo de Compressao: 0.002991914749145508\n",
      "Tempo de Descompressao: 0.0009980201721191406\n",
      "\n",
      "Bola Frame 5\n",
      "Taxa de Compressao: 3.241501035991098\n",
      "Relação Sinal Ruído: 0.9864349657341613\n",
      "Entropia: 7.970366219537085\n",
      "Energia Media Por Pixel: 104.41211981684701\n",
      "Tempo de Compressao: 0.003984689712524414\n",
      "Tempo de Descompressao: 0.001994609832763672\n",
      "\n",
      "Carro Frame 5\n",
      "Taxa de Compressao: 3.337769930734755\n",
      "Relação Sinal Ruído: inf\n",
      "Entropia: 7.972508672798724\n",
      "Energia Media Por Pixel: 104.03636425370094\n",
      "Tempo de Compressao: 0.0029916763305664062\n",
      "Tempo de Descompressao: 0.0009975433349609375\n",
      "\n",
      "Bola Frame 6\n",
      "Taxa de Compressao: 3.0754295699446654\n",
      "Relação Sinal Ruído: 0.9879957715878325\n",
      "Entropia: 7.966146904137051\n",
      "Energia Media Por Pixel: 103.23305989709736\n",
      "Tempo de Compressao: 0.003988504409790039\n",
      "Tempo de Descompressao: 0.0019943714141845703\n",
      "\n",
      "Carro Frame 6\n",
      "Taxa de Compressao: 3.3523393807120447\n",
      "Relação Sinal Ruído: inf\n",
      "Entropia: 7.973418505120283\n",
      "Energia Media Por Pixel: 104.37586959487109\n",
      "Tempo de Compressao: 0.0029921531677246094\n",
      "Tempo de Descompressao: 0.000997304916381836\n",
      "\n",
      "Bola Frame 7\n",
      "Taxa de Compressao: 3.090580947270865\n",
      "Relação Sinal Ruído: 0.9921808608277513\n",
      "Entropia: 7.96384117019007\n",
      "Energia Media Por Pixel: 103.31428954685137\n",
      "Tempo de Compressao: 0.003988742828369141\n",
      "Tempo de Descompressao: 0.0019948482513427734\n",
      "\n",
      "Carro Frame 7\n",
      "Taxa de Compressao: 3.356803824483524\n",
      "Relação Sinal Ruído: inf\n",
      "Entropia: 7.972288743032935\n",
      "Energia Media Por Pixel: 103.27693358374594\n",
      "Tempo de Compressao: 0.002991914749145508\n",
      "Tempo de Descompressao: 0.000997304916381836\n",
      "\n",
      "Bola Frame 8\n",
      "Taxa de Compressao: 3.1937898530634876\n",
      "Relação Sinal Ruído: 0.9997148005640244\n",
      "Entropia: 7.967645287789959\n",
      "Energia Media Por Pixel: 103.30177432769615\n",
      "Tempo de Compressao: 0.003983974456787109\n",
      "Tempo de Descompressao: 0.0019958019256591797\n",
      "\n",
      "Carro Frame 8\n",
      "Taxa de Compressao: 3.3541695100313906\n",
      "Relação Sinal Ruído: inf\n",
      "Entropia: 7.976541782190191\n",
      "Energia Media Por Pixel: 104.2496587962331\n",
      "Tempo de Compressao: 0.0029909610748291016\n",
      "Tempo de Descompressao: 0.001994609832763672\n",
      "\n",
      "Bola Frame 9\n",
      "Taxa de Compressao: 3.0488655775569615\n",
      "Relação Sinal Ruído: 0.9997392361117259\n",
      "Entropia: 7.96188212499891\n",
      "Energia Media Por Pixel: 103.44736905420687\n",
      "Tempo de Compressao: 0.003991603851318359\n",
      "Tempo de Descompressao: 0.0029921531677246094\n",
      "\n",
      "Carro Frame 9\n",
      "Taxa de Compressao: 3.320856698871698\n",
      "Relação Sinal Ruído: inf\n",
      "Entropia: 7.973223609883539\n",
      "Energia Media Por Pixel: 104.07374501722856\n",
      "Tempo de Compressao: 0.0029916763305664062\n",
      "Tempo de Descompressao: 0.000997781753540039\n",
      "\n",
      "Bola Frame 10\n",
      "Taxa de Compressao: 3.0463735365531166\n",
      "Relação Sinal Ruído: 1.002255507294365\n",
      "Entropia: 7.96101784449146\n",
      "Energia Media Por Pixel: 103.29146332668222\n",
      "Tempo de Compressao: 0.003988742828369141\n",
      "Tempo de Descompressao: 0.0019965171813964844\n",
      "\n",
      "Carro Frame 10\n",
      "Taxa de Compressao: 3.2520841603811035\n",
      "Relação Sinal Ruído: inf\n",
      "Entropia: 7.970111005207733\n",
      "Energia Media Por Pixel: 104.03485179303956\n",
      "Tempo de Compressao: 0.001994609832763672\n",
      "Tempo de Descompressao: 0.001994609832763672\n",
      "\n"
     ]
    },
    {
     "data": {
      "image/png": "[encoded data removed]",
      "text/plain": [
       "<Figure size 432x288 with 1 Axes>"
      ]
     },
     "metadata": {
      "needs_background": "light"
     },
     "output_type": "display_data"
    }
   ],
   "source": [
    "factorQualidade = 50\n",
    "\n",
    "for index in range(1, 11):\n",
    "    \n",
    "    #Bola\n",
    "    tempoInicialBola = time.time()\n",
    "    bolaFrameP = bola[index] - bola[0]\n",
    "    bolaFrameComprimida = cv2.imencode('.tiff', bolaFrameP, [int(cv2.IMWRITE_JPEG_QUALITY), factorQualidade])[1]\n",
    "    tempoAposCompressaoBola = time.time()\n",
    "    bolaFrameDescomprimida = cv2.imdecode(bolaFrameComprimida, cv2.IMREAD_COLOR)\n",
    "    tempoAposDescompressaoBola = time.time()\n",
    "    \n",
    "    #Carro\n",
    "    tempoInicialCarro = time.time()\n",
    "    carroFrameP = carro[index] - carro[0]\n",
    "    carroFrameComprimida = cv2.imencode('.tiff', carro[index], [int(cv2.IMWRITE_JPEG_QUALITY), factorQualidade])[1]\n",
    "    tempoAposCompressaoCarro = time.time()\n",
    "    carroFrameDescomprimida = cv2.imdecode(carroFrameComprimida, cv2.IMREAD_COLOR)\n",
    "    tempoAposDescompressaoCarro = time.time()\n",
    "    \n",
    "    #Methods\n",
    "    print(\"Bola Frame {0}\".format(index))\n",
    "    print(\"Taxa de Compressao: {0}\".format(TaxaDeCompressao(bola[index], bolaFrameComprimida)))\n",
    "    print(\"Relação Sinal Ruído: {0}\".format(RelacaoSinalRuido(bola[index], bolaFrameDescomprimida)))\n",
    "    print(\"Entropia: {0}\".format(Entropia(bolaFrameComprimida)))\n",
    "    print(\"Energia Media Por Pixel: {0}\".format(EnergiaMediaPorPixel(bolaFrameComprimida)))\n",
    "    print(\"Tempo de Compressao: {0}\".format(TempoDeCompressaoEDescompressao(tempoInicialBola, tempoAposCompressaoBola)))\n",
    "    print(\"Tempo de Descompressao: {0}\".format(TempoDeCompressaoEDescompressao(tempoAposCompressaoBola, tempoAposDescompressaoBola)))\n",
    "    print()\n",
    "    \n",
    "    print(\"Carro Frame {0}\".format(index))\n",
    "    print(\"Taxa de Compressao: {0}\".format(TaxaDeCompressao(carro[index], carroFrameComprimida)))\n",
    "    print(\"Relação Sinal Ruído: {0}\".format(RelacaoSinalRuido(carro[index], carroFrameDescomprimida)))\n",
    "    print(\"Entropia: {0}\".format(Entropia(carroFrameComprimida)))\n",
    "    print(\"Energia Media Por Pixel: {0}\".format(EnergiaMediaPorPixel(carroFrameComprimida)))\n",
    "    print(\"Tempo de Compressao: {0}\".format(TempoDeCompressaoEDescompressao(tempoInicialCarro, tempoAposCompressaoCarro)))\n",
    "    print(\"Tempo de Descompressao: {0}\".format(TempoDeCompressaoEDescompressao(tempoAposCompressaoCarro, tempoAposDescompressaoCarro)))\n",
    "    print()"
   ]
  },
  {
   "cell_type": "markdown",
   "id": "75b9ae00",
   "metadata": {},
   "source": [
    "### 3. Considerar que todas as frames à exceção da primeira são inter-frames (P). Neste codificador deve implementar a predição da frame a codificar com base na I-frame fazendo a compensação de movimento. A frame a transmitir é a diferença entre a frame a codificar e a sua predição. Sugere-se a construção de três funções:"
   ]
  },
  {
   "cell_type": "markdown",
   "id": "31ebe72a",
   "metadata": {},
   "source": [
    "##### 3.1. uma função que realiza a medição do erro absoluto médio entre dois blocos (tamanho 16 × 16)"
   ]
  },
  {
   "cell_type": "code",
   "execution_count": 10,
   "id": "a99aad7f",
   "metadata": {},
   "outputs": [],
   "source": [
    "def erroAbsolutoMedio(bloco, blocoOriginal):\n",
    "    \n",
    "    #A ideia é obter a diferença entre o bloco passado e o original.\n",
    "    #Essa diferença tem de ser positiva (absoluto)\n",
    "    #Somamos todos os valores e dividimos pelo número de pixeis (média)\n",
    "    return np.sum(np.abs(bloco - blocoOriginal)) / len(bloco)"
   ]
  },
  {
   "cell_type": "markdown",
   "id": "c1fd809b",
   "metadata": {},
   "source": [
    "##### 3.2. uma função que realiza uma pesquisa (pode escolher a full-search ou outra) do macro-bloco da frame a codificar numa janela de pesquisa (-15 a +15) da I-frame"
   ]
  },
  {
   "cell_type": "code",
   "execution_count": 11,
   "id": "f454585f",
   "metadata": {
    "scrolled": true
   },
   "outputs": [],
   "source": [
    "def full_search(IFrameOriginal, PFrameOriginal):\n",
    "    \n",
    "    IFrame = cv2.cvtColor(IFrameOriginal, cv2.COLOR_BGR2GRAY)\n",
    "    PFrame = cv2.cvtColor(PFrameOriginal, cv2.COLOR_BGR2GRAY)\n",
    "    \n",
    "    EAM = 1000000000\n",
    "    frameDescoberta = np.zeros((IFrameOriginal.shape[0], IFrameOriginal.shape[1]))\n",
    "    \n",
    "    comprimento = int(IFrame.shape[0] / 16)\n",
    "    largura = int(IFrame.shape[1] / 16)\n",
    "    \n",
    "    for blocoHorizontalFrameP in range(comprimento):\n",
    "        for blocoVerticalFrameP in range(largura):\n",
    "            \n",
    "            blocoFrameP = np.zeros((16, 16))\n",
    "            blocoFrameP = PFrame[blocoHorizontalFrameP * 16 : blocoHorizontalFrameP * 16 + 16, blocoVerticalFrameP * 16 : blocoVerticalFrameP * 16 + 16]\n",
    "        \n",
    "            for blocoHorizontalProcura in range(-15, 16):\n",
    "                for blocoVerticalProcura in range(-15, 16):\n",
    "                    \n",
    "                    blocoHorizontalProcuraAuxiliar = blocoHorizontalProcura\n",
    "                    blocoVerticalProcuraAuxiliar = blocoVerticalProcura\n",
    "                    \n",
    "                    if blocoHorizontalProcura < 0:\n",
    "                        blocoHorizontalProcuraAuxiliar = 0\n",
    "                    if blocoHorizontalFrameP * 16 + 16 + blocoHorizontalProcura >= IFrame.shape[0]:\n",
    "                        blocoHorizontalProcuraAuxiliar = 0\n",
    "                    \n",
    "                    if blocoVerticalProcura < 0:\n",
    "                        blocoVerticalProcuraAuxiliar = 0\n",
    "                    if blocoVerticalFrameP * 16 + 16 + blocoVerticalProcura >= IFrame.shape[1]:\n",
    "                        blocoVerticalProcuraAuxiliar = 0\n",
    "                    \n",
    "                    blocoProcura = IFrame[blocoHorizontalFrameP * 16 + blocoHorizontalProcuraAuxiliar : blocoHorizontalFrameP * 16 + 16 + blocoHorizontalProcuraAuxiliar, blocoVerticalFrameP * 16 + blocoVerticalProcuraAuxiliar : blocoVerticalFrameP * 16 + 16 + blocoVerticalProcuraAuxiliar]\n",
    "                    \n",
    "                    EAMBloco = erroAbsolutoMedio(blocoProcura, blocoFrameP)\n",
    "                \n",
    "                    if EAMBloco < EAM:\n",
    "                        EAM = EAMBloco\n",
    "                        \n",
    "            frameDescoberta[blocoHorizontalFrameP * 16 : blocoHorizontalFrameP * 16 + 16, blocoVerticalFrameP * 16 : blocoVerticalFrameP * 16 + 16] = blocoProcura\n",
    "            EAM = 1000000000\n",
    "            \n",
    "    return frameDescoberta"
   ]
  },
  {
   "cell_type": "markdown",
   "id": "df4bc103",
   "metadata": {},
   "source": [
    "##### 3.3. uma função que percorra os blocos da frame a codificar e construa a frame predita"
   ]
  },
  {
   "cell_type": "code",
   "execution_count": 12,
   "id": "936a5e66",
   "metadata": {},
   "outputs": [],
   "source": [
    "#Esta função é realizada acima."
   ]
  },
  {
   "cell_type": "markdown",
   "id": "ba90dca7",
   "metadata": {},
   "source": [
    "Visualizar a frame predita, e a frame diferença, bem como os vetores de movimento (use a função pylab.quiver\n",
    "para o efeito)."
   ]
  },
  {
   "cell_type": "code",
   "execution_count": null,
   "id": "ab27dd90",
   "metadata": {},
   "outputs": [],
   "source": [
    "framePredita1 = full_search(bola[0], bola[1])\n",
    "\n",
    "for index in range(1, len(bola)):\n",
    "    \n",
    "    tempoInicialBola = time.time()\n",
    "    bolaFrameP = full_search(bola[0], bola[index])\n",
    "    bolaFrameComprimida = cv2.imencode('.tiff', bolaFrameP, [int(cv2.IMWRITE_JPEG_QUALITY), factorQualidade])[1]\n",
    "    tempoAposCompressaoBola = time.time()\n",
    "    bolaFrameDescomprimida = cv2.imdecode(bolaFrameComprimida, cv2.IMREAD_COLOR)\n",
    "    tempoAposDescompressaoBola = time.time()\n",
    "    \n",
    "    print(\"Bola Frame {0}\".format(index))\n",
    "    print(\"Taxa de Compressao: {0}\".format(TaxaDeCompressao(bola[index], bolaFrameComprimida)))\n",
    "    print(\"Relação Sinal Ruído: {0}\".format(RelacaoSinalRuido(bola[index], bolaFrameDescomprimida)))\n",
    "    print(\"Entropia: {0}\".format(Entropia(bolaFrameComprimida)))\n",
    "    print(\"Energia Media Por Pixel: {0}\".format(EnergiaMediaPorPixel(bolaFrameComprimida)))\n",
    "    print(\"Tempo de Compressao: {0}\".format(TempoDeCompressaoEDescompressao(tempoInicialBola, tempoAposCompressaoBola)))\n",
    "    print(\"Tempo de Descompressao: {0}\".format(TempoDeCompressaoEDescompressao(tempoAposCompressaoBola, tempoAposDescompressaoBola)))\n",
    "    print()\n",
    "    \n",
    "    #X, Y = np.meshgrid(framePredita1[0], framePredita1[0])\n",
    "    #plt.quiver(X, Y, framePredita1[0],framePredita1[1])"
   ]
  }
 ],
 "metadata": {
  "kernelspec": {
   "display_name": "Python 3",
   "language": "python",
   "name": "python3"
  },
  "language_info": {
   "codemirror_mode": {
    "name": "ipython",
    "version": 3
   },
   "file_extension": ".py",
   "mimetype": "text/x-python",
   "name": "python",
   "nbconvert_exporter": "python",
   "pygments_lexer": "ipython3",
   "version": "3.8.8"
  }
 },
 "nbformat": 4,
 "nbformat_minor": 5
}
