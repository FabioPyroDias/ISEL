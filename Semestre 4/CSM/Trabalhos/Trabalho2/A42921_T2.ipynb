{
 "cells": [
  {
   "cell_type": "code",
   "execution_count": 3,
   "id": "bcd187dc",
   "metadata": {},
   "outputs": [],
   "source": [
    "import numpy as np\n",
    "import matplotlib.pyplot as plt\n",
    "import binascii"
   ]
  },
  {
   "cell_type": "markdown",
   "id": "f75985cc",
   "metadata": {},
   "source": [
    "## 1. \n",
    "Elabore uma função (gen_huff_table) que gere uma tabela com o código binário para cada símbolo de um\n",
    "dado conjunto, usando o método de Huffman. Esta função deve ter como parâmetros de entrada um conjunto de\n",
    "símbolos e as suas probabilidades (ou em alternativa pode usar o número de ocorrências de cada símbolo, dado\n",
    "pelo seu histograma). Também pode em alternativa gerar não uma tabela mas outra estrutura de dados com os\n",
    "códigos pretendidos (ex: dicionário).\n"
   ]
  },
  {
   "cell_type": "code",
   "execution_count": 4,
   "id": "2ca492a1",
   "metadata": {},
   "outputs": [],
   "source": [
    "class Node:\n",
    "    def __init__(self, symbol, data):\n",
    "        self.symbol = symbol\n",
    "        self.left = None\n",
    "        self.right = None\n",
    "        self.data = data\n",
    "        self.binary = None\n",
    "        \n",
    "    def GetSymbol(self):\n",
    "        return self.symbol\n",
    "        \n",
    "    def PrintTree(self):\n",
    "        print(self.data)\n",
    "    \n",
    "    def GetData(self):\n",
    "        return self.data\n",
    "    \n",
    "    def SetLeft(self, leftNode):\n",
    "        self.left = leftNode\n",
    "        \n",
    "    def GetLeft(self):\n",
    "        return self.left\n",
    "    \n",
    "    def SetRight(self, rightNode):\n",
    "        self.right = rightNode\n",
    "    \n",
    "    def GetRight(self):\n",
    "        return self.right\n",
    "    \n",
    "    def SetBin(self, binary):\n",
    "        self.binary = binary\n",
    "    \n",
    "    def GetBin(self):\n",
    "        return self.binary\n",
    "    \n",
    "    '''\n",
    "    def __repr__(self):\n",
    "        print(self.data)\n",
    "        '''"
   ]
  },
  {
   "cell_type": "code",
   "execution_count": 5,
   "id": "26dbd2cf",
   "metadata": {},
   "outputs": [],
   "source": [
    "def gen_huff_table(simbolos, ocorrencias):\n",
    "    #print(\"Tamanho Simbolos: {0}, Tamanho Ocorrencias: {1}\".format(len(simbolos), len(ocorrencias)))\n",
    "    \n",
    "    dictNodes = {}\n",
    "    \n",
    "    for index in range(min(len(simbolos), len(ocorrencias))):\n",
    "        dictNodes.update({str(simbolos[index]) : Node(str(simbolos[index]), ocorrencias[index])})\n",
    "    \n",
    "#     print(\"Antes da Organização\")\n",
    "\n",
    "#     for i, k in dictNodes.items():\n",
    "#         print(\"Simbolo: {0}, Ocorrencias: {1}\".format(k.GetSymbol(), k.GetData()))\n",
    "#     print()\n",
    "    \n",
    "    dictNodes = dict(sorted(dictNodes.items(), key = lambda x:x[1].GetData()))\n",
    "\n",
    "#     print(\"Depois da Organização\")\n",
    "#     for i, k in dictNodes.items():\n",
    "#         print(\"Simbolo: {0}, Ocorrencias: {1}\".format(k.GetSymbol(), k.GetData()))\n",
    "#     print()\n",
    "    \n",
    "    #print(\"Tamanho dos Nodes: {0}\".format(len(dictNodes)))\n",
    "    #print()\n",
    "    \n",
    "    #Este for vai remover dois dos símbolos (e nodes) menos repetidos do dicionário,\n",
    "    #Cria um novo Node que junta ambos os símbolos e as suas repetições.\n",
    "    #Volta a ser adicionado ao dicionário e ordena-o.\n",
    "    #Faz isto até possuir apenas dois símbolos no dicionário.\n",
    "    #print(\"Juncao\")\n",
    "    while len(dictNodes) > 2:\n",
    "        \n",
    "        #print(\"Inicio Teste\")\n",
    "        \n",
    "        dictNodes = dict(dictNodes)\n",
    "        \n",
    "        itemLeftName = list(dictNodes.keys())[0]\n",
    "        itemLeftNode = dictNodes.pop(itemLeftName)\n",
    "        #print(\"Após remover primeiro: {0}\".format(len(dictNodes)))\n",
    "        \n",
    "        itemRightName = list(dictNodes.keys())[0]\n",
    "        itemRightNode = dictNodes.pop(itemRightName)\n",
    "        #print(\"Após remover segundo: {0}\".format(len(dictNodes)))\n",
    "        \n",
    "        newNode = Node(itemLeftNode.GetSymbol() + itemRightNode.GetSymbol(), itemLeftNode.GetData() + itemRightNode.GetData())\n",
    "        newNode.SetLeft(itemLeftNode)\n",
    "        newNode.SetRight(itemRightNode)\n",
    "        newNode.SetBin(\"\")\n",
    "        \n",
    "        dictNodes.update({itemLeftName + itemRightName : newNode})\n",
    "        dictNodes = dict(sorted(dictNodes.items(), key = lambda x:x[1].GetData()))\n",
    "        #print(\"Após adicionar o node criado: {0}\".format(len(dictNodes)))\n",
    "\n",
    "        #print(\"Node Formado: {0}, Left: {1}, Right: {2}, Ocorrencias: {3}, Tamanho Dicionario: {4}\".format(newNode.GetSymbol(), itemLeftName, itemRightName, newNode.GetData(), len(dictNodes)))    \n",
    "    #A partir daqui, os símbolos vão ser desfeitos. Ou seja, o processo inverso do anterior.\n",
    "    #O valor que binário que já existia passa para cada um dos símbolos.\n",
    "    #É adicionado o 0 ao símbolo da esquerda e o 1 ao da direita.\n",
    "    #Se o símbolo que estiver a ser analisado tem apenas um caracter, este é deixado (já devia ter valor binário)\n",
    "    #E aumenta o index para o próximo símbolo. Este apenas é incrementado quando arranja o símbolo com apenas um caracter\n",
    "    \n",
    "    #print(\"Inicio da Codificacao\")\n",
    "    index = 0\n",
    "    \n",
    "#     for a in range(len(dictNodes)):\n",
    "#         print(list(dictNodes.items())[a][0] + \" | \" + str(list(dictNodes.items())[a][1].GetData()) + \" | BIN: \" + str(list(dictNodes.items())[a][1].GetBin()))\n",
    "#     print()\n",
    "\n",
    "    list(dictNodes.items())[0][1].SetBin(\"0\")\n",
    "    list(dictNodes.items())[1][1].SetBin(\"1\")\n",
    "    \n",
    "    \n",
    "    while(index < min(len(simbolos), len(ocorrencias))):\n",
    "        \n",
    "        #print(\"Tamanho While: {0}, Index: {1}, Tamanho NodeList: {2}\".format(min(len(simbolos), len(ocorrencias)), index, len(dictNodes)))\n",
    "        \n",
    "        item = list(dictNodes.keys())[index]\n",
    "        node = dictNodes[item]\n",
    "        \n",
    "        #print(\"INDEX: {0} - Simbolo: {1}, Left: {2}, Right: {3}\".format(index, node.GetSymbol(), node.GetLeft().GetSymbol() if node.GetLeft() is not None else None, node.GetRight().GetSymbol() if node.GetRight() is not None else None))\n",
    "        \n",
    "        if node.GetLeft() is None:            \n",
    "            index = index + 1\n",
    "        else:\n",
    "            dictNodes.pop(item)\n",
    "            nodeBin = node.GetBin()\n",
    "            \n",
    "            nodeLeft = node.GetLeft()\n",
    "            nodeLeft.SetBin(nodeBin + \"0\")\n",
    "            itemLeftName = nodeLeft.GetSymbol()\n",
    "            \n",
    "            nodeRight = node.GetRight()\n",
    "            nodeRight.SetBin(nodeBin + \"1\")\n",
    "            itemRightName = nodeRight.GetSymbol()\n",
    "            \n",
    "            dictNodes = dict(dictNodes)\n",
    "            \n",
    "            dictNodes.update({itemLeftName : nodeLeft})\n",
    "            dictNodes.update({itemRightName : nodeRight})\n",
    "            \n",
    "            dictNodes = dict(sorted(dictNodes.items(), key = lambda x:x[1].GetData()))\n",
    "            index = 0\n",
    "        \n",
    "    #Criação do dicionário que vai possuir cada símbolo e o seu código binário associado\n",
    "    binaryDict = {}\n",
    "    #Obtém os símbolos dos Nodes\n",
    "    nodesList = list(dictNodes.keys())\n",
    "    \n",
    "    #Percorre o dicionário, usando os símbolos obtidos previamente, e associa o seu código binário\n",
    "    for index in range(min(len(ocorrencias), len(simbolos))):\n",
    "        binaryDict.update({simbolos[index] : dictNodes[nodesList[index]].GetBin()})\n",
    "    \n",
    "    return binaryDict"
   ]
  },
  {
   "cell_type": "code",
   "execution_count": 6,
   "id": "a0327e22",
   "metadata": {
    "scrolled": true
   },
   "outputs": [
    {
     "data": {
      "text/plain": [
       "{'o': '1100',\n",
       " 'r': '000',\n",
       " 'i': '001',\n",
       " 't': '1101',\n",
       " 'n': '1110',\n",
       " 'l': '1111',\n",
       " 'a': '100',\n",
       " 'g': '101',\n",
       " 's': '01'}"
      ]
     },
     "execution_count": 6,
     "metadata": {},
     "output_type": "execute_result"
    }
   ],
   "source": [
    "x = np.fromfile(\"./DecUniversalDH.txt\",dtype=\"uint8\")\n",
    "\n",
    "# Calcular o histogram\n",
    "#h, bins, patches = plt.hist(x, 255, [0,255])\n",
    "\n",
    "simbolos = ['o', 'r', 'i', 't', 'n', 'l', 'a', 'g', 's']\n",
    "probabilidade = [5, 3, 3, 2, 2, 2, 2, 2, 1]\n",
    "\n",
    "#codificacao = gen_huff_table(bins, h)\n",
    "codificacao = gen_huff_table(simbolos, probabilidade)\n",
    "codificacao"
   ]
  },
  {
   "cell_type": "markdown",
   "id": "72206e0a",
   "metadata": {},
   "source": [
    "## 2.\n",
    "Elabore uma função (encode_huff) que dada uma mensagem (sequência de símbolos) e a tabela da ponto\n",
    "anterior, retorne uma sequência de bits com a mensagem codificada"
   ]
  },
  {
   "cell_type": "code",
   "execution_count": 7,
   "id": "13bef65d",
   "metadata": {},
   "outputs": [],
   "source": [
    "def encode_huff(mensagem, codificacao):\n",
    "    code = \"\"\n",
    "    for character in mensagem:\n",
    "        code = code + str(codificacao[character])\n",
    "    \n",
    "    return code"
   ]
  },
  {
   "cell_type": "code",
   "execution_count": 8,
   "id": "7ede8328",
   "metadata": {},
   "outputs": [
    {
     "data": {
      "text/plain": [
       "'1100110111000000000011110110011111000000011110101110011111100101001011101100'"
      ]
     },
     "execution_count": 8,
     "metadata": {},
     "output_type": "execute_result"
    }
   ],
   "source": [
    "mensagem = \"otorrinolaringologista\"\n",
    "\n",
    "mensagemParaInt = []\n",
    "\n",
    "for c in mensagem:\n",
    "    mensagemParaInt = mensagemParaInt + [ord(c)]\n",
    "\n",
    "mensagemComprimida = encode_huff(mensagem, codificacao)\n",
    "mensagemComprimida"
   ]
  },
  {
   "cell_type": "markdown",
   "id": "3d3e9e73",
   "metadata": {},
   "source": [
    "## 3.\n",
    "Elabore uma função (decode_huff) que dada uma sequência de bits (mensagem codificada) e a tabela do ponto\n",
    "1, retorne uma sequência de símbolos (mensagem descodificada). Garanta que a mensagem retornada por esta\n",
    "função é igual à mensagem que é dada como parâmetro de entrada da função encode_huff."
   ]
  },
  {
   "cell_type": "code",
   "execution_count": 9,
   "id": "c0fae2e1",
   "metadata": {},
   "outputs": [],
   "source": [
    "def decode_huff(mensagemComprimida, codificacao):\n",
    "        mensagemDescomprimida = \"\"\n",
    "\n",
    "        codigoCaracter = \"\"\n",
    "        for codigo in mensagemComprimida:\n",
    "            \n",
    "            codigoCaracter = codigoCaracter + str(codigo)\n",
    "            \n",
    "            caracter = [caracterDescodificado for caracterDescodificado, caracterCodificado in codificacao.items() if caracterCodificado == codigoCaracter]\n",
    "\n",
    "            if len(caracter) > 0:\n",
    "                mensagemDescomprimida = mensagemDescomprimida + str(caracter[0])\n",
    "                codigoCaracter = \"\"\n",
    "                \n",
    "        return mensagemDescomprimida"
   ]
  },
  {
   "cell_type": "code",
   "execution_count": 10,
   "id": "050546c8",
   "metadata": {},
   "outputs": [
    {
     "data": {
      "text/plain": [
       "'otorrinolaringologista'"
      ]
     },
     "execution_count": 10,
     "metadata": {},
     "output_type": "execute_result"
    }
   ],
   "source": [
    "mensagemDescomprimida = decode_huff(mensagemComprimida, codificacao)\n",
    "mensagemDescomprimida"
   ]
  },
  {
   "cell_type": "markdown",
   "id": "910d9dce",
   "metadata": {},
   "source": [
    "## 4.\n",
    "Elabore uma função (encode_table) que dada a tabela de Huffman do ponto 1, retorna uma sequência de bits\n",
    "correspondente à tabela codificada. Acrescente esta sequência binária à obtida no ponto 2."
   ]
  },
  {
   "cell_type": "code",
   "execution_count": 11,
   "id": "c1ade7cf",
   "metadata": {
    "scrolled": false
   },
   "outputs": [],
   "source": [
    "def encode_table(codificacao, mensagemComprimida):\n",
    "    \n",
    "    numSimbolos = len(codificacao.items()) #Primeiro byte do Header\n",
    "    mensagem = bytearray([numSimbolos])\n",
    "    \n",
    "    #print(\"Número de Símbolos: {0}, Em bytearray: {1}\".format(numSimbolos, mensagem))\n",
    "   \n",
    "    codificacaoLista = list(codificacao.items())\n",
    "    \n",
    "    #print(type(codificacaoLista[0][1]))\n",
    "    for caracterCodificado in range(numSimbolos):\n",
    "        mensagem = mensagem + bytearray([len(codificacaoLista[caracterCodificado][1])]) #Tamanho da Codificacao do Caracter\n",
    "        #print(bytearray([len(codificacaoLista[caracterCodificado][1])]))\n",
    "        mensagem = mensagem + bytearray([codificacaoLista[caracterCodificado][0]]) #Caracter (em binário)\n",
    "        #print(codificacaoLista[caracterCodificado][0])\n",
    "        mensagem = mensagem + bytearray(codificacaoLista[caracterCodificado][1], \"utf-8\") #Codificacao do Caracter\n",
    "        \n",
    "        #print(\"{0} {1} {2}\".format(len(codificacaoLista[caracterCodificado][1]), codificacaoLista[caracterCodificado][0], codificacaoLista[caracterCodificado][1]))\n",
    "        \n",
    "    zerosADescartar = format(8 - (len(mensagemComprimida) % 8), 'b') #Zeros à direita para ocupar o restante byte.\n",
    "    zerosADescartarInfo = (8 - (len(zerosADescartar) % 8)) * \"0\" + zerosADescartar\n",
    "    \n",
    "        \n",
    "    print(\"Zeros\")\n",
    "    print(zerosADescartarInfo)\n",
    "    print(len(zerosADescartarInfo))\n",
    "    print(zerosADescartar)\n",
    "    mensagem = mensagem + bytearray(zerosADescartarInfo, \"utf-8\")\n",
    "    \n",
    "    mensagem = mensagem + bytearray(mensagemComprimida, \"utf-8\")\n",
    "    \n",
    "    \n",
    "    zerosADescartar = \"0\" * int(zerosADescartar, 2)\n",
    "    \n",
    "    print(len(mensagem))\n",
    "    mensagem = mensagem + bytearray(zerosADescartar, \"utf-8\")\n",
    "    print(len(mensagem))\n",
    "    return mensagem\n",
    "    \n",
    "    '''\n",
    "    def write2file(msg):\n",
    "        msg = str(msg) # Converts the msg as string, to better manipulate the bytes\n",
    "\n",
    "        padding_bytes = 8-len(msg) % 8  # Calculates the amount of padded bytes that will need\n",
    "        padded_msg = msg + \"0\" * padding_bytes # np.concatenate((msg, np.zeros(padding_bytes, dtype=int)))\n",
    "        byte_int_array = [padding_bytes]\n",
    "\n",
    "        for i in range(0,len(padded_msg),8):\n",
    "            byte = padded_msg[i:i+8] # Gets the first 8 bits of a string\n",
    "            byte_int_array.append(int(byte,2)) # converts said string into a byte array\n",
    "\n",
    "    '''"
   ]
  },
  {
   "cell_type": "code",
   "execution_count": 12,
   "id": "c9d40988",
   "metadata": {
    "scrolled": false
   },
   "outputs": [
    {
     "name": "stdout",
     "output_type": "stream",
     "text": [
      "Zeros\n",
      "00000100\n",
      "8\n",
      "100\n",
      "133\n",
      "137\n",
      "[9, 4, 111, 49, 49, 48, 48, 3, 114, 48, 48, 48, 3, 105, 48, 48, 49, 4, 116, 49, 49, 48, 49, 4, 110, 49, 49, 49, 48, 4, 108, 49, 49, 49, 49, 3, 97, 49, 48, 48, 3, 103, 49, 48, 49, 2, 115, 48, 49, 48, 48, 48, 48, 48, 49, 48, 48, 49, 49, 48, 48, 49, 49, 48, 49, 49, 49, 48, 48, 48, 48, 48, 48, 48, 48, 48, 48, 49, 49, 49, 49, 48, 49, 49, 48, 48, 49, 49, 49, 49, 49, 48, 48, 48, 48, 48, 48, 48, 49, 49, 49, 49, 48, 49, 48, 49, 49, 49, 48, 48, 49, 49, 49, 49, 49, 49, 48, 48, 49, 48, 49, 48, 48, 49, 48, 49, 49, 49, 48, 49, 49, 48, 48, 48, 48, 48, 48]\n",
      "bytearray(b'\\t\\x04o1100\\x03r000\\x03i001\\x04t1101\\x04n1110\\x04l1111\\x03a100\\x03g101\\x02s010000010011001101110000000000111101100111110000000111101011100111111001010010111011000000')\n"
     ]
    }
   ],
   "source": [
    "simbolos = ['o', 'r', 'i', 't', 'n', 'l', 'a', 'g', 's']\n",
    "simbolosInt = [ord(c) for c in simbolos]\n",
    "probabilidade = [5, 3, 3, 2, 2, 2, 2, 2, 1]\n",
    "\n",
    "codificacao = gen_huff_table(simbolosInt, probabilidade)\n",
    "\n",
    "mensagem = [ord(c) for c in \"otorrinolaringologista\"]\n",
    "mensagemCodificada = encode_huff(mensagem, codificacao)\n",
    "total = encode_table(codificacao, mensagemCodificada)\n",
    "\n",
    "#a = bytes(total)\n",
    "print(list(total))\n",
    "\n",
    "print(total)\n",
    "\n",
    "f=open(\"binfile.bin\",\"wb\")\n",
    "f.write(total)\n",
    "f.close()\n",
    "\n",
    "byte_file = open(\"binfile.bin\", \"rb\")\n",
    "\n",
    "content_int = int.from_bytes(byte_file.read(),'big')\n",
    "content_bin = format(content_int,\"b\") # formats the content as binary\n",
    "'''\n",
    "for i in range(0, len(content_bin), 8):\n",
    "    print(content_bin[i:i+8])\n",
    "'''\n",
    "\n",
    "bytesArr = np.array([int(x) for x in content_bin], dtype=np.uint8)\n",
    "bytesArr = np.packbits(bytesArr).tobytes()\n",
    "\n",
    "#print()\n",
    "#print(list(bytesArr))"
   ]
  },
  {
   "cell_type": "markdown",
   "id": "52ee5134",
   "metadata": {},
   "source": [
    "\n",
    "## 5.\n",
    "Elabore uma função (write2file) que dada uma sequência de bits (mensagem codificada) e o nome do ficheiro,\n",
    "escreva a sequência de bits para o ficheiro."
   ]
  },
  {
   "cell_type": "code",
   "execution_count": 13,
   "id": "eb27b791",
   "metadata": {},
   "outputs": [],
   "source": [
    "def write2file(mensagemCodificada, nomeFicheiro):\n",
    "    \n",
    "    arr = bytearray(mensagemCodificada)\n",
    "    f=open(nomeFicheiro,\"wb\")\n",
    "    f.write(arr)\n",
    "    f.close()"
   ]
  },
  {
   "cell_type": "markdown",
   "id": "b39b4c64",
   "metadata": {},
   "source": [
    "## 6.\n",
    "Elabore uma função (read_file) que dado o nome do ficheiro, leia uma sequência de bits (tabela codificada e\n",
    "mensagem codificada) contida no ficheiro e que descodifique a tabela, retorne a tabela descodificada bem como\n",
    "a sequência binária correspondente à mensagem codificada"
   ]
  },
  {
   "cell_type": "code",
   "execution_count": 14,
   "id": "99b01001",
   "metadata": {},
   "outputs": [],
   "source": [
    "def read_file(nomeFicheiro):\n",
    "    byte_file = open(nomeFicheiro, \"rb\")\n",
    "    #content_int = int.from_bytes(byte_file.read(),'big')\n",
    "    #content_bin = format(content_int,\"b\") # formats the content as binary\n",
    "    \n",
    "    byte_content = np.frombuffer(byte_file.read(),dtype=np.uint8)# padded bytes should be discarded\n",
    "    #unpack_bits = np.unpackbits(byte_content)\n",
    "    \n",
    "    numeroSimbolos = byte_content[0]\n",
    "    auxiliarInfo = 1\n",
    "    \n",
    "    codificacao = {}\n",
    "    \n",
    "    for indexSimbolo in range(numeroSimbolos):\n",
    "\n",
    "        tamanhoSimbolo = byte_content[auxiliarInfo]\n",
    "        auxiliarInfo = auxiliarInfo + 1\n",
    "        \n",
    "        simbolo = byte_content[auxiliarInfo]\n",
    "        auxiliarInfo = auxiliarInfo + 1\n",
    "        \n",
    "        codigoSimbolo = byte_content[auxiliarInfo: auxiliarInfo + tamanhoSimbolo]\n",
    "        auxiliarInfo = auxiliarInfo + tamanhoSimbolo\n",
    "        \n",
    "        #codificacao.update({})\n",
    "        print(\"Tam. {0}, Sim. {1}, Cod.{2}\".format(tamanhoSimbolo, simbolo, codigoSimbolo))\n",
    "        \n",
    "        codigoSimboloString = \"\"\n",
    "        for codigo in codigoSimbolo:\n",
    "            codigoSimboloString = codigoSimboloString + chr(codigo)\n",
    "        \n",
    "        codificacao.update({chr(simbolo) : codigoSimboloString})\n",
    "        \n",
    "    print(codificacao)\n",
    "    \n",
    "    numeroZeros = byte_content[auxiliarInfo : auxiliarInfo + 8]\n",
    "    print(numeroZeros)\n",
    "    numeroZeros = [int(chr(c)) for c in numeroZeros]\n",
    "    print(numeroZeros)\n",
    "    numeroZeros = np.packbits(np.array(numeroZeros, dtype=np.uint8))[0]\n",
    "    auxiliarInfo = auxiliarInfo + 8\n",
    "    print(\"Numero Zeros: {0}\".format(numeroZeros))\n",
    "        \n",
    "    mensagem = byte_content[auxiliarInfo : len(byte_content) - numeroZeros]\n",
    "    print()\n",
    "    print(mensagem)\n",
    "    mensagemDescomprimida = \"\"\n",
    "\n",
    "    codigoCaracter = \"\"\n",
    "    for codigo in mensagem:\n",
    "\n",
    "        codigoCaracter = codigoCaracter + chr(codigo)\n",
    "\n",
    "        caracter = [caracterDescodificado for caracterDescodificado, caracterCodificado in codificacao.items() if caracterCodificado == codigoCaracter]\n",
    "\n",
    "        if len(caracter) > 0:\n",
    "            mensagemDescomprimida = mensagemDescomprimida + str(caracter[0])\n",
    "            codigoCaracter = \"\"\n",
    "    \n",
    "    print(mensagemDescomprimida)\n",
    "    return byte_content #unpack_bits"
   ]
  },
  {
   "cell_type": "code",
   "execution_count": 15,
   "id": "59224a46",
   "metadata": {},
   "outputs": [
    {
     "name": "stdout",
     "output_type": "stream",
     "text": [
      "Tam. 4, Sim. 111, Cod.[49 49 48 48]\n",
      "Tam. 3, Sim. 114, Cod.[48 48 48]\n",
      "Tam. 3, Sim. 105, Cod.[48 48 49]\n",
      "Tam. 4, Sim. 116, Cod.[49 49 48 49]\n",
      "Tam. 4, Sim. 110, Cod.[49 49 49 48]\n",
      "Tam. 4, Sim. 108, Cod.[49 49 49 49]\n",
      "Tam. 3, Sim. 97, Cod.[49 48 48]\n",
      "Tam. 3, Sim. 103, Cod.[49 48 49]\n",
      "Tam. 2, Sim. 115, Cod.[48 49]\n",
      "{'o': '1100', 'r': '000', 'i': '001', 't': '1101', 'n': '1110', 'l': '1111', 'a': '100', 'g': '101', 's': '01'}\n",
      "[48 48 48 48 48 49 48 48]\n",
      "[0, 0, 0, 0, 0, 1, 0, 0]\n",
      "Numero Zeros: 4\n",
      "\n",
      "[49 49 48 48 49 49 48 49 49 49 48 48 48 48 48 48 48 48 48 48 49 49 49 49\n",
      " 48 49 49 48 48 49 49 49 49 49 48 48 48 48 48 48 48 49 49 49 49 48 49 48\n",
      " 49 49 49 48 48 49 49 49 49 49 49 48 48 49 48 49 48 48 49 48 49 49 49 48\n",
      " 49 49 48 48]\n",
      "otorrinolaringologista\n",
      "[  9   4 111  49  49  48  48   3 114  48  48  48   3 105  48  48  49   4\n",
      " 116  49  49  48  49   4 110  49  49  49  48   4 108  49  49  49  49   3\n",
      "  97  49  48  48   3 103  49  48  49   2 115  48  49  48  48  48  48  48\n",
      "  49  48  48  49  49  48  48  49  49  48  49  49  49  48  48  48  48  48\n",
      "  48  48  48  48  48  49  49  49  49  48  49  49  48  48  49  49  49  49\n",
      "  49  48  48  48  48  48  48  48  49  49  49  49  48  49  48  49  49  49\n",
      "  48  48  49  49  49  49  49  49  48  48  49  48  49  48  48  49  48  49\n",
      "  49  49  48  49  49  48  48  48  48  48  48]\n"
     ]
    }
   ],
   "source": [
    "print(read_file(\"binfile.bin\"))\n",
    "#np.unpackbits(np.array([9], dtype=np.uint8))"
   ]
  },
  {
   "cell_type": "markdown",
   "id": "652c3191",
   "metadata": {},
   "source": [
    "## 7.\n",
    "\n",
    "Teste as funções elaboradas usando para o efeito os seguintes ficheiros com diferentes tipos de média. Adicionalmente, pode usar mais outros ficheiros à sua escolha que achar pertinentes.\n",
    "\n",
    "Imagem: Use as imagens LenaColor.tif e LenaGray.tif.\n",
    "\n",
    "Texto: Use os ficheiros DecUniversalDH.pdf e DecUniversalDH.txt.\n",
    "\n",
    "Áudio: Use os ficheiros HenryMancini-PinkPanther30s.mp3 e HenryMancini-PinkPanther.mid."
   ]
  },
  {
   "cell_type": "markdown",
   "id": "b6c1af37",
   "metadata": {},
   "source": [
    "#### Comentário\n",
    "Pela forma como tenho isto feito, eu não vou conseguir ler os ficheiros.\n"
   ]
  },
  {
   "cell_type": "markdown",
   "id": "c84c8d2d",
   "metadata": {},
   "source": [
    "a) Gere o código usando a função realizada no ponto 1. Meça o tempo que demora a função."
   ]
  },
  {
   "cell_type": "code",
   "execution_count": 34,
   "id": "cfdb2e24",
   "metadata": {},
   "outputs": [
    {
     "name": "stdout",
     "output_type": "stream",
     "text": [
      "Tempo total de Execução: 0.0 milisegundos\n"
     ]
    }
   ],
   "source": [
    "import time\n",
    "\n",
    "simbolos = ['o', 'r', 'i', 't', 'n', 'l', 'a', 'g', 's']\n",
    "ocorrencias = [5, 3, 3, 2, 2, 2, 2, 2, 1]\n",
    "\n",
    "start = time.time()\n",
    "codificacao = gen_huff_table(simbolos, ocorrencias)\n",
    "end = time.time()\n",
    "\n",
    "total = (end - start) * 1000\n",
    "print(\"Tempo total de Execução: {0} milisegundos\".format(total))"
   ]
  },
  {
   "cell_type": "markdown",
   "id": "fc5d3460",
   "metadata": {},
   "source": [
    "b) Meça a entropia e o número médio de bits por símbolo. Calcule a eficiência."
   ]
  },
  {
   "cell_type": "code",
   "execution_count": 79,
   "id": "238b71f2",
   "metadata": {},
   "outputs": [
    {
     "name": "stdout",
     "output_type": "stream",
     "text": [
      "Entropia: 4.290992728107459, Número médio de bits por símbolo: 8.444444444444445, Eficiência: 0.5081438756969359\n"
     ]
    }
   ],
   "source": [
    "#entropia = - np.sum(occorencia for ocorrencia in ocorrencias : ocorrencia / len(ocorrencias) * np.log2(ocorrencia / len(ocorrencias)))\n",
    "entropia = 0\n",
    "L = 0\n",
    "codigos = list(codificacao.values())\n",
    "\n",
    "for ocorrencia in range(len(ocorrencias)) :  \n",
    "    entropia = entropia + ocorrencias[ocorrencia] / len(ocorrencias) * np.log2(ocorrencias[ocorrencia] / len(ocorrencias))\n",
    "    L = L + ocorrencias[ocorrencia] / len(ocorrencias) * len(codigos[ocorrencia])\n",
    "\n",
    "entropia = -entropia\n",
    "eficiencia = entropia / L\n",
    "\n",
    "print(\"Entropia: {0}, Número médio de bits por símbolo: {1}, Eficiência: {2}\".format(entropia, L, eficiencia))"
   ]
  },
  {
   "cell_type": "markdown",
   "id": "007b5327",
   "metadata": {},
   "source": [
    "c) Faça a codificação da mensagem contida no ficheiro (usando a função realizada no ponto 2). Meça o tempo\n",
    "que a função demora a fazer a codificação."
   ]
  },
  {
   "cell_type": "code",
   "execution_count": null,
   "id": "bd42ba31",
   "metadata": {},
   "outputs": [],
   "source": []
  },
  {
   "cell_type": "markdown",
   "id": "4f0ff214",
   "metadata": {},
   "source": [
    "d) Grave um ficheiro com a mensagem codificada, usando a função realizada no ponto 4. Veja o tamanho do\n",
    "ficheiro."
   ]
  },
  {
   "cell_type": "code",
   "execution_count": null,
   "id": "35925f49",
   "metadata": {},
   "outputs": [],
   "source": []
  },
  {
   "cell_type": "markdown",
   "id": "f939ebd6",
   "metadata": {},
   "source": [
    "e) Leia do ficheiro o conjunto de bits, usando a função realizada no ponto 5."
   ]
  },
  {
   "cell_type": "code",
   "execution_count": null,
   "id": "9da6f299",
   "metadata": {},
   "outputs": [],
   "source": []
  },
  {
   "cell_type": "markdown",
   "id": "59566099",
   "metadata": {},
   "source": [
    "f) Faça a descodificação da mensagem (usando a função realizada no ponto 3.) Meça o tempo que a função\n",
    "demora a fazer a descodificação."
   ]
  },
  {
   "cell_type": "code",
   "execution_count": null,
   "id": "04134844",
   "metadata": {},
   "outputs": [],
   "source": []
  },
  {
   "cell_type": "markdown",
   "id": "55ca2800",
   "metadata": {},
   "source": [
    "g) Compare a mensagem descodificada com a original e verifique que são iguais (erro nulo)."
   ]
  },
  {
   "cell_type": "code",
   "execution_count": null,
   "id": "0c8d0c4c",
   "metadata": {},
   "outputs": [],
   "source": []
  }
 ],
 "metadata": {
  "kernelspec": {
   "display_name": "Python 3",
   "language": "python",
   "name": "python3"
  },
  "language_info": {
   "codemirror_mode": {
    "name": "ipython",
    "version": 3
   },
   "file_extension": ".py",
   "mimetype": "text/x-python",
   "name": "python",
   "nbconvert_exporter": "python",
   "pygments_lexer": "ipython3",
   "version": "3.8.8"
  }
 },
 "nbformat": 4,
 "nbformat_minor": 5
}
