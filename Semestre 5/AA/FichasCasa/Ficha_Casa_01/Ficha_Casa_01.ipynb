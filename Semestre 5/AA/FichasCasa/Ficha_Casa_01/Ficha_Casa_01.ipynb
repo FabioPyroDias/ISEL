{
 "cells": [
  {
   "cell_type": "code",
   "execution_count": 2,
   "id": "e7ad666c",
   "metadata": {},
   "outputs": [],
   "source": [
    "import pickle\n",
    "import numpy as np\n",
    "import scipy.linalg as la"
   ]
  },
  {
   "cell_type": "code",
   "execution_count": 6,
   "id": "7c1e7b9d",
   "metadata": {},
   "outputs": [
    {
     "data": {
      "text/plain": [
       "{'Q001': array([[-1., -1., -1., -1.],\n",
       "        [-1., -1., -1., -1.],\n",
       "        [-1., -1., -1., -1.]]),\n",
       " 'Q002': array([[-1., -1., -1., -1.],\n",
       "        [-1., -1., -1., -1.],\n",
       "        [-1., -1., -1., -1.],\n",
       "        [-1., -1., -1., -1.]]),\n",
       " 'Q003': array([[-1., -1., -1., -1.],\n",
       "        [-1., -1., -1., -1.]]),\n",
       " 'nome': 'Fábio Alexandre Cruz Silva Dias',\n",
       " 'numero': 'A42921'}"
      ]
     },
     "execution_count": 6,
     "metadata": {},
     "output_type": "execute_result"
    }
   ],
   "source": [
    "respostas = pickle.load(open('A42921_Ficha1_Respostas.p','rb'))\n",
    "respostas"
   ]
  },
  {
   "cell_type": "markdown",
   "id": "b8f81855",
   "metadata": {},
   "source": [
    "## Exercício 1"
   ]
  },
  {
   "cell_type": "code",
   "execution_count": 2,
   "id": "676b4b64",
   "metadata": {},
   "outputs": [
    {
     "ename": "NameError",
     "evalue": "name 'np' is not defined",
     "output_type": "error",
     "traceback": [
      "\u001b[1;31m---------------------------------------------------------------------------\u001b[0m",
      "\u001b[1;31mNameError\u001b[0m                                 Traceback (most recent call last)",
      "\u001b[1;32m<ipython-input-2-71539ec1df58>\u001b[0m in \u001b[0;36m<module>\u001b[1;34m\u001b[0m\n\u001b[1;32m----> 1\u001b[1;33m \u001b[0mX\u001b[0m \u001b[1;33m=\u001b[0m \u001b[0mnp\u001b[0m\u001b[1;33m.\u001b[0m\u001b[0marray\u001b[0m\u001b[1;33m(\u001b[0m\u001b[1;33m[\u001b[0m\u001b[1;33m[\u001b[0m\u001b[1;33m-\u001b[0m\u001b[1;36m1\u001b[0m\u001b[1;33m,\u001b[0m \u001b[1;33m-\u001b[0m\u001b[1;36m2\u001b[0m\u001b[1;33m,\u001b[0m \u001b[1;33m-\u001b[0m\u001b[1;36m4\u001b[0m\u001b[1;33m,\u001b[0m \u001b[1;36m4\u001b[0m\u001b[1;33m,\u001b[0m \u001b[1;36m6\u001b[0m\u001b[1;33m,\u001b[0m \u001b[1;36m6\u001b[0m\u001b[1;33m,\u001b[0m \u001b[1;36m2\u001b[0m\u001b[1;33m]\u001b[0m\u001b[1;33m,\u001b[0m \u001b[1;33m[\u001b[0m\u001b[1;36m1\u001b[0m\u001b[1;33m,\u001b[0m \u001b[1;36m2\u001b[0m\u001b[1;33m,\u001b[0m \u001b[1;36m1\u001b[0m\u001b[1;33m,\u001b[0m \u001b[1;36m0\u001b[0m\u001b[1;33m,\u001b[0m \u001b[1;33m-\u001b[0m\u001b[1;36m2\u001b[0m\u001b[1;33m,\u001b[0m \u001b[1;36m0\u001b[0m\u001b[1;33m,\u001b[0m \u001b[1;33m-\u001b[0m\u001b[1;36m1\u001b[0m\u001b[1;33m]\u001b[0m\u001b[1;33m]\u001b[0m\u001b[1;33m)\u001b[0m\u001b[1;33m\u001b[0m\u001b[1;33m\u001b[0m\u001b[0m\n\u001b[0m\u001b[0;32m      2\u001b[0m \u001b[0mX\u001b[0m \u001b[1;33m=\u001b[0m \u001b[0mX\u001b[0m\u001b[1;33m.\u001b[0m\u001b[0mT\u001b[0m\u001b[1;33m\u001b[0m\u001b[1;33m\u001b[0m\u001b[0m\n\u001b[0;32m      3\u001b[0m \u001b[0mX\u001b[0m\u001b[1;33m\u001b[0m\u001b[1;33m\u001b[0m\u001b[0m\n\u001b[0;32m      4\u001b[0m \u001b[1;33m\u001b[0m\u001b[0m\n\u001b[0;32m      5\u001b[0m \u001b[0mw0\u001b[0m \u001b[1;33m=\u001b[0m \u001b[0mX\u001b[0m\u001b[1;33m[\u001b[0m\u001b[1;33m:\u001b[0m\u001b[1;36m3\u001b[0m\u001b[1;33m]\u001b[0m\u001b[1;33m\u001b[0m\u001b[1;33m\u001b[0m\u001b[0m\n",
      "\u001b[1;31mNameError\u001b[0m: name 'np' is not defined"
     ]
    }
   ],
   "source": [
    "X = np.array([[-1, -2, -4, 4, 6, 6, 2], [1, 2, 1, 0, -2, 0, -1]])\n",
    "X = X.T\n",
    "X\n",
    "\n",
    "w0 = X[:3]\n",
    "w1 = X[3:]\n",
    "\n",
    "print(w0)\n",
    "print(w1)"
   ]
  },
  {
   "cell_type": "markdown",
   "id": "e9d0cc9e",
   "metadata": {},
   "source": [
    "### a)"
   ]
  },
  {
   "cell_type": "markdown",
   "id": "72fe1c87",
   "metadata": {},
   "source": [
    "#### i)"
   ]
  },
  {
   "cell_type": "code",
   "execution_count": 107,
   "id": "22877421",
   "metadata": {},
   "outputs": [
    {
     "data": {
      "text/plain": [
       "-11.5"
      ]
     },
     "execution_count": 107,
     "metadata": {},
     "output_type": "execute_result"
    }
   ],
   "source": [
    "w0mean = np.mean(w0, axis=0)\n",
    "w1mean = np.mean(w1, axis=0)\n",
    "\n",
    "'''\n",
    "This is what it's doing\n",
    "w0meanX = np.mean(w0[:, 0])\n",
    "w0meanY = np.mean(w0[:, 1])\n",
    "w1meanX = np.mean(w1[:, 0])\n",
    "w1meanY = np.mean(w1[:, 1])\n",
    "\n",
    "w0mean = np.array([w0meanX, w0meanY])\n",
    "w1mean = np.array([w1meanX, w1meanY])\n",
    "'''\n",
    "\n",
    "dotProduct = np.dot(w0mean, w1mean)\n",
    "dotProduct"
   ]
  },
  {
   "cell_type": "markdown",
   "id": "ae4d80d3",
   "metadata": {},
   "source": [
    "#### ii)"
   ]
  },
  {
   "cell_type": "code",
   "execution_count": 108,
   "id": "8bb327c8",
   "metadata": {
    "scrolled": true
   },
   "outputs": [
    {
     "name": "stdout",
     "output_type": "stream",
     "text": [
      "2.68741924943285\n"
     ]
    }
   ],
   "source": [
    "w0Norm = la.norm(w0mean)\n",
    "\n",
    "'''\n",
    "This is what it's doing\n",
    "w0meanSquared = w0mean[0] ** 2 + w0mean[1] ** 2 #Other way: w0meanSquaredv2 = w0mean[:] ** 2\n",
    "w0meanSumSquared = np.sum(w0meanSquared)\n",
    "w0Norm = np.sqrt(w0meanSumSquared)\n",
    "'''\n",
    "\n",
    "print(w0Norm)"
   ]
  },
  {
   "cell_type": "markdown",
   "id": "72d2a4f4",
   "metadata": {},
   "source": [
    "### b)"
   ]
  },
  {
   "cell_type": "markdown",
   "id": "d5cc1aaf",
   "metadata": {},
   "source": [
    "#### i)"
   ]
  },
  {
   "cell_type": "code",
   "execution_count": 109,
   "id": "4106128e",
   "metadata": {},
   "outputs": [
    {
     "name": "stdout",
     "output_type": "stream",
     "text": [
      "[[21 -9]\n",
      " [-9  6]]\n"
     ]
    }
   ],
   "source": [
    "X0 = np.array([[-1, -2, -4], [1, 2, 1]])\n",
    "produtoMatricial = np.dot(X0, X0.T)\n",
    "\n",
    "print(produtoMatricial)"
   ]
  },
  {
   "cell_type": "markdown",
   "id": "ae682819",
   "metadata": {},
   "source": [
    "#### ii)"
   ]
  },
  {
   "cell_type": "code",
   "execution_count": 110,
   "id": "dee0d780",
   "metadata": {
    "scrolled": true
   },
   "outputs": [
    {
     "name": "stdout",
     "output_type": "stream",
     "text": [
      "[[2.33333333 0.16666667]\n",
      " [0.16666667 0.33333333]]\n"
     ]
    }
   ],
   "source": [
    "cov = np.cov(X0)\n",
    "\n",
    "print(cov)"
   ]
  },
  {
   "cell_type": "markdown",
   "id": "bf461519",
   "metadata": {},
   "source": [
    "### c)"
   ]
  },
  {
   "cell_type": "markdown",
   "id": "fe863bdc",
   "metadata": {},
   "source": [
    "#### i)"
   ]
  },
  {
   "cell_type": "code",
   "execution_count": 111,
   "id": "f9e576c4",
   "metadata": {},
   "outputs": [
    {
     "name": "stdout",
     "output_type": "stream",
     "text": [
      "[16.625  -1.4375]\n"
     ]
    }
   ],
   "source": [
    "X1 = np.array([[4, 6, 6, 2], [0, -2, 0, -1]])\n",
    "\n",
    "cov = np.cov(X1)\n",
    "X1mean = np.mean(w1, axis=0)\n",
    "produtoCovX1mean = np.dot(cov, X1mean)\n",
    "\n",
    "print(produtoCovX1mean.T)"
   ]
  },
  {
   "cell_type": "markdown",
   "id": "12274837",
   "metadata": {},
   "source": [
    "#### ii)"
   ]
  },
  {
   "cell_type": "code",
   "execution_count": 112,
   "id": "92281b89",
   "metadata": {},
   "outputs": [
    {
     "name": "stdout",
     "output_type": "stream",
     "text": [
      "[-5.22222222  0.05555556]\n"
     ]
    }
   ],
   "source": [
    "X0 = np.array([[-1, -2, -4], [1, 2, 1]])\n",
    "\n",
    "cov = np.cov(X0)\n",
    "X0mean = np.mean(w0, axis=0)\n",
    "produtoCovX0mean = np.dot(cov, X0mean)\n",
    "\n",
    "print(produtoCovX0mean.T)"
   ]
  },
  {
   "cell_type": "markdown",
   "id": "29ea2337",
   "metadata": {},
   "source": [
    "## Exercício 2"
   ]
  },
  {
   "cell_type": "code",
   "execution_count": 128,
   "id": "e6c00810",
   "metadata": {},
   "outputs": [],
   "source": [
    "D = pickle.load(open('A42921_Q002_data.p','rb'))\n",
    "dados = D['dados']\n",
    "classes = D['trueClass']"
   ]
  },
  {
   "cell_type": "markdown",
   "id": "75cdcfed",
   "metadata": {},
   "source": [
    "### a)"
   ]
  },
  {
   "cell_type": "markdown",
   "id": "0e852425",
   "metadata": {},
   "source": [
    "#### i)"
   ]
  },
  {
   "cell_type": "code",
   "execution_count": 156,
   "id": "b1476dc1",
   "metadata": {},
   "outputs": [
    {
     "name": "stdout",
     "output_type": "stream",
     "text": [
      "(2, 1950)\n",
      "[4. 4. 4. ... 4. 2. 4.]\n",
      "(400,)\n",
      "0.20512820512820512\n",
      "\n",
      "\n",
      "0.20512820512820512\n"
     ]
    }
   ],
   "source": [
    "print(dados.shape)\n",
    "print(classes)\n",
    "\n",
    "numeroTotalDeAmostras = len(classes)\n",
    "a = np.mean(dados, axis=0)\n",
    "a.shape\n",
    "\n",
    "b = a[classes == 0]\n",
    "print(b.shape)\n",
    "\n",
    "print(len(b) / numeroTotalDeAmostras)\n",
    "print()\n",
    "print()\n",
    "\n",
    "numeroTotalAmostras = len(classes)\n",
    "amostrasAlvo = np.sum(classes == 0)\n",
    "print(amostrasAlvo / numeroTotalAmostras)"
   ]
  },
  {
   "cell_type": "markdown",
   "id": "e96e2806",
   "metadata": {},
   "source": [
    "#### ii)"
   ]
  },
  {
   "cell_type": "code",
   "execution_count": 184,
   "id": "8ce18a25",
   "metadata": {},
   "outputs": [
    {
     "data": {
      "text/plain": [
       "array([[ 1.953717  , -0.2338568 ],\n",
       "       [-0.2338568 ,  1.89525009]])"
      ]
     },
     "execution_count": 184,
     "metadata": {},
     "output_type": "execute_result"
    }
   ],
   "source": [
    "cov = np.cov(dados[:, classes == 4])\n",
    "cov"
   ]
  },
  {
   "cell_type": "markdown",
   "id": "f0349ace",
   "metadata": {},
   "source": [
    "### b)"
   ]
  },
  {
   "cell_type": "markdown",
   "id": "aae2b24c",
   "metadata": {},
   "source": [
    "#### i)"
   ]
  },
  {
   "cell_type": "code",
   "execution_count": 177,
   "id": "0c118ec5",
   "metadata": {},
   "outputs": [
    {
     "name": "stdout",
     "output_type": "stream",
     "text": [
      "[-2.11850051 -5.27674343]\n"
     ]
    }
   ],
   "source": [
    "indiceAmostras = np.where(classes == 1)\n",
    "amostras = dados[:, indiceAmostras[0]]\n",
    "amostrasMedia = np.mean(amostras, axis=1)\n",
    "\n",
    "print(amostrasMedia)\n",
    "\n",
    "#print(indiceAmostras)\n",
    "#print(amostras)"
   ]
  },
  {
   "cell_type": "markdown",
   "id": "26365bb2",
   "metadata": {},
   "source": [
    "#### ii)"
   ]
  },
  {
   "cell_type": "code",
   "execution_count": 178,
   "id": "42de961d",
   "metadata": {},
   "outputs": [
    {
     "name": "stdout",
     "output_type": "stream",
     "text": [
      "[-5.92557341  3.09165685]\n"
     ]
    }
   ],
   "source": [
    "indiceAmostras = np.where(classes == 2)\n",
    "amostras = dados[:, indiceAmostras[0]]\n",
    "amostrasMedia = np.mean(amostras, axis=1)\n",
    "\n",
    "print(amostrasMedia)"
   ]
  },
  {
   "cell_type": "markdown",
   "id": "5e682208",
   "metadata": {},
   "source": [
    "### c)"
   ]
  },
  {
   "cell_type": "markdown",
   "id": "72cb0fff",
   "metadata": {},
   "source": [
    "#### i)"
   ]
  },
  {
   "cell_type": "code",
   "execution_count": 181,
   "id": "e4b889ea",
   "metadata": {
    "scrolled": true
   },
   "outputs": [
    {
     "data": {
      "text/plain": [
       "array([0.21781899, 0.19148105])"
      ]
     },
     "execution_count": 181,
     "metadata": {},
     "output_type": "execute_result"
    }
   ],
   "source": [
    "np.mean(dados, axis=1)"
   ]
  },
  {
   "cell_type": "markdown",
   "id": "502ddb0a",
   "metadata": {},
   "source": [
    "#### ii)"
   ]
  },
  {
   "cell_type": "code",
   "execution_count": 183,
   "id": "415891f0",
   "metadata": {},
   "outputs": [
    {
     "data": {
      "text/plain": [
       "array([[12.06159916,  0.36795179],\n",
       "       [ 0.36795179, 11.62977501]])"
      ]
     },
     "execution_count": 183,
     "metadata": {},
     "output_type": "execute_result"
    }
   ],
   "source": [
    "np.cov(dados)"
   ]
  },
  {
   "cell_type": "markdown",
   "id": "6cacb566",
   "metadata": {},
   "source": [
    "### d)"
   ]
  },
  {
   "cell_type": "markdown",
   "id": "19b99b9b",
   "metadata": {},
   "source": [
    "#### i)"
   ]
  },
  {
   "cell_type": "code",
   "execution_count": 192,
   "id": "139b1749",
   "metadata": {},
   "outputs": [
    {
     "data": {
      "text/plain": [
       "0.19959444647157332"
      ]
     },
     "execution_count": 192,
     "metadata": {},
     "output_type": "execute_result"
    }
   ],
   "source": [
    "indiceAmostras0 = np.where(classes == 0)\n",
    "indiceAmostras2 = np.where(classes == 2)\n",
    "\n",
    "meanClass0 = np.mean(dados[:, indiceAmostras0[0]], axis=1)\n",
    "meanClass2 = np.mean(dados[:, indiceAmostras2[0]], axis=1)\n",
    "cov2 = np.cov(dados[:, classes == 2])\n",
    "\n",
    "produtoMatricial = np.dot(meanClass0.T, np.dot(cov2, meanClass2))\n",
    "\n",
    "produtoMatricial"
   ]
  },
  {
   "cell_type": "markdown",
   "id": "eb60cd40",
   "metadata": {},
   "source": [
    "#### ii)"
   ]
  },
  {
   "cell_type": "code",
   "execution_count": 197,
   "id": "67ae6f42",
   "metadata": {},
   "outputs": [
    {
     "data": {
      "text/plain": [
       "4.241469994535395"
      ]
     },
     "execution_count": 197,
     "metadata": {},
     "output_type": "execute_result"
    }
   ],
   "source": [
    "cov0 = np.cov(dados[:, classes== 0])\n",
    "cov2 = np.cov(dados[:, classes== 2])\n",
    "\n",
    "produtoMatricial = np.dot(cov0, cov2)\n",
    "determinante = la.det(produtoMatricial)\n",
    "\n",
    "determinante"
   ]
  },
  {
   "cell_type": "markdown",
   "id": "cf642f2f",
   "metadata": {},
   "source": [
    "#### iii)"
   ]
  },
  {
   "cell_type": "code",
   "execution_count": 200,
   "id": "4a340bc3",
   "metadata": {},
   "outputs": [
    {
     "data": {
      "text/plain": [
       "-3.760549653539636"
      ]
     },
     "execution_count": 200,
     "metadata": {},
     "output_type": "execute_result"
    }
   ],
   "source": [
    "indiceAmostras1 = np.where(classes == 1)\n",
    "indiceAmostras2 = np.where(classes == 2)\n",
    "\n",
    "meanClass1 = np.mean(dados[:, indiceAmostras1[0]], axis=1)\n",
    "meanClass2 = np.mean(dados[:, indiceAmostras2[0]], axis=1)\n",
    "\n",
    "produtoInterno = np.dot(meanClass1, meanClass2)\n",
    "\n",
    "produtoInterno"
   ]
  },
  {
   "cell_type": "markdown",
   "id": "798006ab",
   "metadata": {},
   "source": [
    "#### iv)"
   ]
  },
  {
   "cell_type": "code",
   "execution_count": 202,
   "id": "2c65853b",
   "metadata": {},
   "outputs": [
    {
     "data": {
      "text/plain": [
       "array([3.28230988, 3.63618569])"
      ]
     },
     "execution_count": 202,
     "metadata": {},
     "output_type": "execute_result"
    }
   ],
   "source": [
    "indiceAmostras4 = np.where(classes == 4)\n",
    "\n",
    "meanClass4 = np.mean(dados[:, indiceAmostras4[0]], axis=1)\n",
    "cov3 = np.cov(dados[:, classes == 3])\n",
    "\n",
    "produtoInterno = np.dot(cov3, meanClass4)\n",
    "\n",
    "produtoInterno"
   ]
  },
  {
   "cell_type": "markdown",
   "id": "29fdde6d",
   "metadata": {},
   "source": [
    "## Exercício 3"
   ]
  },
  {
   "cell_type": "markdown",
   "id": "622e1b6c",
   "metadata": {},
   "source": [
    "### a)"
   ]
  },
  {
   "cell_type": "code",
   "execution_count": 3,
   "id": "1fb92cb2",
   "metadata": {},
   "outputs": [],
   "source": [
    "N = 20000000\n",
    "X=np.random.randn(2,N)"
   ]
  },
  {
   "cell_type": "markdown",
   "id": "4bb53722",
   "metadata": {},
   "source": [
    "#### i)"
   ]
  },
  {
   "cell_type": "code",
   "execution_count": 212,
   "id": "4bcf95a5",
   "metadata": {},
   "outputs": [
    {
     "data": {
      "text/plain": [
       "array([[72.04460624, 24.60757145],\n",
       "       [24.60757145, 12.89705497]])"
      ]
     },
     "execution_count": 212,
     "metadata": {},
     "output_type": "execute_result"
    }
   ],
   "source": [
    "A=np.array([[8.46,-0.68],[3.06,1.88]])\n",
    "m=np.array([-4, -3])\n",
    "Y=np.dot(A,X)+m[:,np.newaxis]\n",
    "\n",
    "np.cov(Y)"
   ]
  },
  {
   "cell_type": "markdown",
   "id": "fdf04d36",
   "metadata": {},
   "source": [
    "#### ii)"
   ]
  },
  {
   "cell_type": "code",
   "execution_count": 213,
   "id": "94822734",
   "metadata": {},
   "outputs": [
    {
     "data": {
      "text/plain": [
       "array([[72.04460624, 24.60757145],\n",
       "       [24.60757145, 12.89705497]])"
      ]
     },
     "execution_count": 213,
     "metadata": {},
     "output_type": "execute_result"
    }
   ],
   "source": [
    "A=np.array([[8.46,-0.68],[3.06,1.88]])\n",
    "m=np.array([-4, -3])\n",
    "Y=np.dot(A,X+m[:,np.newaxis])\n",
    "\n",
    "np.cov(Y)"
   ]
  },
  {
   "cell_type": "markdown",
   "id": "27221028",
   "metadata": {},
   "source": [
    "### b)"
   ]
  },
  {
   "cell_type": "code",
   "execution_count": 5,
   "id": "7fad5f85",
   "metadata": {},
   "outputs": [
    {
     "data": {
      "text/plain": [
       "array([[1.00029828e+00, 2.28294316e-06],\n",
       "       [2.28294316e-06, 1.00066333e+00]])"
      ]
     },
     "execution_count": 5,
     "metadata": {},
     "output_type": "execute_result"
    }
   ],
   "source": [
    "cov = np.cov(X)\n",
    "\n",
    "cov"
   ]
  },
  {
   "cell_type": "markdown",
   "id": "a5bae268",
   "metadata": {},
   "source": [
    "#### i)"
   ]
  },
  {
   "cell_type": "code",
   "execution_count": 217,
   "id": "93b055c1",
   "metadata": {},
   "outputs": [
    {
     "data": {
      "text/plain": [
       "array([[4.51596766e-09, 2.28439666e-09, 1.05966801e-08, ...,\n",
       "        4.38444383e-08, 2.47842780e-12, 1.01413806e-09],\n",
       "       [8.44948225e-09, 4.46955901e-09, 2.66435716e-08, ...,\n",
       "        2.25363457e-08, 9.21282730e-08, 2.03669104e-08]])"
      ]
     },
     "execution_count": 217,
     "metadata": {},
     "output_type": "execute_result"
    }
   ],
   "source": [
    "mx=np.mean(X,axis=1)\n",
    "Xn=(X.T-mx).T\n",
    "Ctmp=Xn*Xn\n",
    "Cx=Ctmp/(X.shape[1]-1)\n",
    "\n",
    "Cx"
   ]
  },
  {
   "cell_type": "markdown",
   "id": "1038ffab",
   "metadata": {},
   "source": [
    "#### ii)"
   ]
  },
  {
   "cell_type": "code",
   "execution_count": 218,
   "id": "22c1b739",
   "metadata": {},
   "outputs": [
    {
     "data": {
      "text/plain": [
       "array([[ 1.00010166e+00, -2.75024030e-04],\n",
       "       [-2.75024030e-04,  1.00035858e+00]])"
      ]
     },
     "execution_count": 218,
     "metadata": {},
     "output_type": "execute_result"
    }
   ],
   "source": [
    "Cx=np.cov(X.T,rowvar=False)\n",
    "\n",
    "Cx"
   ]
  },
  {
   "cell_type": "markdown",
   "id": "c68e59dc",
   "metadata": {},
   "source": [
    "#### iii)"
   ]
  },
  {
   "cell_type": "code",
   "execution_count": 219,
   "id": "71029676",
   "metadata": {},
   "outputs": [
    {
     "data": {
      "text/plain": [
       "array([[ 1.00010164e+00, -2.75024025e-04],\n",
       "       [-2.75024025e-04,  1.00035856e+00]])"
      ]
     },
     "execution_count": 219,
     "metadata": {},
     "output_type": "execute_result"
    }
   ],
   "source": [
    "Cx=np.cov(X.T,rowvar=False,ddof=0)\n",
    "\n",
    "Cx"
   ]
  },
  {
   "cell_type": "markdown",
   "id": "d7300e76",
   "metadata": {},
   "source": [
    "#### iv)"
   ]
  },
  {
   "cell_type": "code",
   "execution_count": 4,
   "id": "60724eaa",
   "metadata": {
    "scrolled": true
   },
   "outputs": [
    {
     "ename": "MemoryError",
     "evalue": "Unable to allocate 2.84 PiB for an array with shape (20000000, 20000000) and data type float64",
     "output_type": "error",
     "traceback": [
      "\u001b[1;31m---------------------------------------------------------------------------\u001b[0m",
      "\u001b[1;31mMemoryError\u001b[0m                               Traceback (most recent call last)",
      "\u001b[1;32m<ipython-input-4-344f9a1aea89>\u001b[0m in \u001b[0;36m<module>\u001b[1;34m\u001b[0m\n\u001b[1;32m----> 1\u001b[1;33m \u001b[0mCx\u001b[0m\u001b[1;33m=\u001b[0m\u001b[0mnp\u001b[0m\u001b[1;33m.\u001b[0m\u001b[0mcov\u001b[0m\u001b[1;33m(\u001b[0m\u001b[0mX\u001b[0m\u001b[1;33m,\u001b[0m\u001b[0mrowvar\u001b[0m\u001b[1;33m=\u001b[0m\u001b[1;32mFalse\u001b[0m\u001b[1;33m)\u001b[0m\u001b[1;33m\u001b[0m\u001b[1;33m\u001b[0m\u001b[0m\n\u001b[0m\u001b[0;32m      2\u001b[0m \u001b[1;33m\u001b[0m\u001b[0m\n\u001b[0;32m      3\u001b[0m \u001b[0mCx\u001b[0m\u001b[1;33m\u001b[0m\u001b[1;33m\u001b[0m\u001b[0m\n",
      "\u001b[1;32m<__array_function__ internals>\u001b[0m in \u001b[0;36mcov\u001b[1;34m(*args, **kwargs)\u001b[0m\n",
      "\u001b[1;32m~\\anaconda3\\lib\\site-packages\\numpy\\lib\\function_base.py\u001b[0m in \u001b[0;36mcov\u001b[1;34m(m, y, rowvar, bias, ddof, fweights, aweights, dtype)\u001b[0m\n\u001b[0;32m   2490\u001b[0m     \u001b[1;32melse\u001b[0m\u001b[1;33m:\u001b[0m\u001b[1;33m\u001b[0m\u001b[1;33m\u001b[0m\u001b[0m\n\u001b[0;32m   2491\u001b[0m         \u001b[0mX_T\u001b[0m \u001b[1;33m=\u001b[0m \u001b[1;33m(\u001b[0m\u001b[0mX\u001b[0m\u001b[1;33m*\u001b[0m\u001b[0mw\u001b[0m\u001b[1;33m)\u001b[0m\u001b[1;33m.\u001b[0m\u001b[0mT\u001b[0m\u001b[1;33m\u001b[0m\u001b[1;33m\u001b[0m\u001b[0m\n\u001b[1;32m-> 2492\u001b[1;33m     \u001b[0mc\u001b[0m \u001b[1;33m=\u001b[0m \u001b[0mdot\u001b[0m\u001b[1;33m(\u001b[0m\u001b[0mX\u001b[0m\u001b[1;33m,\u001b[0m \u001b[0mX_T\u001b[0m\u001b[1;33m.\u001b[0m\u001b[0mconj\u001b[0m\u001b[1;33m(\u001b[0m\u001b[1;33m)\u001b[0m\u001b[1;33m)\u001b[0m\u001b[1;33m\u001b[0m\u001b[1;33m\u001b[0m\u001b[0m\n\u001b[0m\u001b[0;32m   2493\u001b[0m     \u001b[0mc\u001b[0m \u001b[1;33m*=\u001b[0m \u001b[0mnp\u001b[0m\u001b[1;33m.\u001b[0m\u001b[0mtrue_divide\u001b[0m\u001b[1;33m(\u001b[0m\u001b[1;36m1\u001b[0m\u001b[1;33m,\u001b[0m \u001b[0mfact\u001b[0m\u001b[1;33m)\u001b[0m\u001b[1;33m\u001b[0m\u001b[1;33m\u001b[0m\u001b[0m\n\u001b[0;32m   2494\u001b[0m     \u001b[1;32mreturn\u001b[0m \u001b[0mc\u001b[0m\u001b[1;33m.\u001b[0m\u001b[0msqueeze\u001b[0m\u001b[1;33m(\u001b[0m\u001b[1;33m)\u001b[0m\u001b[1;33m\u001b[0m\u001b[1;33m\u001b[0m\u001b[0m\n",
      "\u001b[1;32m<__array_function__ internals>\u001b[0m in \u001b[0;36mdot\u001b[1;34m(*args, **kwargs)\u001b[0m\n",
      "\u001b[1;31mMemoryError\u001b[0m: Unable to allocate 2.84 PiB for an array with shape (20000000, 20000000) and data type float64"
     ]
    }
   ],
   "source": [
    "Cx=np.cov(X,rowvar=False)\n",
    "\n",
    "Cx"
   ]
  },
  {
   "cell_type": "markdown",
   "id": "2b9761c8",
   "metadata": {},
   "source": [
    "# Preenchimento das Respostas"
   ]
  },
  {
   "cell_type": "code",
   "execution_count": 21,
   "id": "0f07f989",
   "metadata": {},
   "outputs": [],
   "source": [
    "q001 = respostas['Q001']\n",
    "q002 = respostas['Q002']\n",
    "q003 = respostas['Q003']"
   ]
  },
  {
   "cell_type": "markdown",
   "id": "f2dbafa1",
   "metadata": {},
   "source": [
    "### Exercício 1"
   ]
  },
  {
   "cell_type": "code",
   "execution_count": 26,
   "id": "db7c9d09",
   "metadata": {},
   "outputs": [
    {
     "data": {
      "text/plain": [
       "array([[1., 0., 0., 0.],\n",
       "       [0., 0., 0., 1.],\n",
       "       [0., 0., 1., 0.]])"
      ]
     },
     "execution_count": 26,
     "metadata": {},
     "output_type": "execute_result"
    }
   ],
   "source": [
    "q001[:, :] = 0\n",
    "\n",
    "q001[0, 0] = 1\n",
    "q001[1, 3] = 1\n",
    "q001[2, 2] = 1\n",
    "\n",
    "q001"
   ]
  },
  {
   "cell_type": "markdown",
   "id": "a8db52fb",
   "metadata": {},
   "source": [
    "### Exercício 2"
   ]
  },
  {
   "cell_type": "code",
   "execution_count": 28,
   "id": "f9920d3f",
   "metadata": {},
   "outputs": [
    {
     "data": {
      "text/plain": [
       "array([[0., 0., 0., 1.],\n",
       "       [1., 0., 0., 0.],\n",
       "       [0., 1., 0., 0.],\n",
       "       [0., 1., 0., 0.]])"
      ]
     },
     "execution_count": 28,
     "metadata": {},
     "output_type": "execute_result"
    }
   ],
   "source": [
    "q002[:, :] = 0\n",
    "\n",
    "q002[0, 3] = 1\n",
    "q002[1, 0] = 1\n",
    "q002[2, 1] = 1\n",
    "q002[3, 1] = 1\n",
    "\n",
    "q002"
   ]
  },
  {
   "cell_type": "markdown",
   "id": "d8e641e6",
   "metadata": {},
   "source": [
    "### Exercício 3"
   ]
  },
  {
   "cell_type": "code",
   "execution_count": 32,
   "id": "47928fdb",
   "metadata": {},
   "outputs": [
    {
     "data": {
      "text/plain": [
       "array([[0., 0., 1., 0.],\n",
       "       [0., 1., 0., 0.]])"
      ]
     },
     "execution_count": 32,
     "metadata": {},
     "output_type": "execute_result"
    }
   ],
   "source": [
    "q003[:, :] = 0\n",
    "\n",
    "q003[0, 2] = 1\n",
    "q003[1, 1] = 1\n",
    "\n",
    "q003"
   ]
  },
  {
   "cell_type": "code",
   "execution_count": 34,
   "id": "800a6d96",
   "metadata": {
    "scrolled": true
   },
   "outputs": [
    {
     "data": {
      "text/plain": [
       "{'Q001': array([[1., 0., 0., 0.],\n",
       "        [0., 0., 0., 1.],\n",
       "        [0., 0., 1., 0.]]),\n",
       " 'Q002': array([[0., 0., 0., 1.],\n",
       "        [1., 0., 0., 0.],\n",
       "        [0., 1., 0., 0.],\n",
       "        [0., 1., 0., 0.]]),\n",
       " 'Q003': array([[0., 0., 1., 0.],\n",
       "        [0., 1., 0., 0.]]),\n",
       " 'nome': 'Fábio Alexandre Cruz Silva Dias',\n",
       " 'numero': 'A42921'}"
      ]
     },
     "execution_count": 34,
     "metadata": {},
     "output_type": "execute_result"
    }
   ],
   "source": [
    "respostas['Q001'] = q001\n",
    "respostas['Q002'] = q002\n",
    "respostas['Q003'] = q003\n",
    "\n",
    "respostas"
   ]
  },
  {
   "cell_type": "code",
   "execution_count": 36,
   "id": "d567c678",
   "metadata": {},
   "outputs": [],
   "source": [
    "pickle.dump(respostas,open('A42921_Ficha1_Respostas.p','wb'))"
   ]
  },
  {
   "cell_type": "code",
   "execution_count": 37,
   "id": "5444857c",
   "metadata": {},
   "outputs": [
    {
     "data": {
      "text/plain": [
       "{'Q001': array([[1., 0., 0., 0.],\n",
       "        [0., 0., 0., 1.],\n",
       "        [0., 0., 1., 0.]]),\n",
       " 'Q002': array([[0., 0., 0., 1.],\n",
       "        [1., 0., 0., 0.],\n",
       "        [0., 1., 0., 0.],\n",
       "        [0., 1., 0., 0.]]),\n",
       " 'Q003': array([[0., 0., 1., 0.],\n",
       "        [0., 1., 0., 0.]]),\n",
       " 'nome': 'Fábio Alexandre Cruz Silva Dias',\n",
       " 'numero': 'A42921'}"
      ]
     },
     "execution_count": 37,
     "metadata": {},
     "output_type": "execute_result"
    }
   ],
   "source": [
    "a = pickle.load(open('A42921_Ficha1_Respostas.p','rb'))\n",
    "\n",
    "a"
   ]
  }
 ],
 "metadata": {
  "kernelspec": {
   "display_name": "Python 3",
   "language": "python",
   "name": "python3"
  },
  "language_info": {
   "codemirror_mode": {
    "name": "ipython",
    "version": 3
   },
   "file_extension": ".py",
   "mimetype": "text/x-python",
   "name": "python",
   "nbconvert_exporter": "python",
   "pygments_lexer": "ipython3",
   "version": "3.8.8"
  }
 },
 "nbformat": 4,
 "nbformat_minor": 5
}
