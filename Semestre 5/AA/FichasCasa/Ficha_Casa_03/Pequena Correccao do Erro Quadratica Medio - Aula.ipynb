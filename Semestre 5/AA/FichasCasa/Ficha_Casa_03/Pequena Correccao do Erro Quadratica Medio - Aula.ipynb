{
 "cells": [
  {
   "cell_type": "code",
   "execution_count": 14,
   "id": "7c989fbc",
   "metadata": {},
   "outputs": [],
   "source": [
    "import numpy as np\n",
    "import scipy.linalg as la\n",
    "from sklearn.decomposition import PCA\n",
    "import pickle\n",
    "import matplotlib.pyplot as plt"
   ]
  },
  {
   "cell_type": "code",
   "execution_count": 3,
   "id": "a4eef733",
   "metadata": {},
   "outputs": [],
   "source": [
    "D = pickle.load(open(\"MNISTsmall.p\", 'rb'))\n",
    "\n",
    "X = D['X'] * 1.0\n",
    "y = D['trueClass']\n",
    "f1 = D['foldTrain']\n",
    "\n",
    "X1 = X[:, f1]\n",
    "y1 = y[f1]"
   ]
  },
  {
   "cell_type": "code",
   "execution_count": 6,
   "id": "1eacaf54",
   "metadata": {},
   "outputs": [
    {
     "name": "stdout",
     "output_type": "stream",
     "text": [
      "(784, 10000)\n",
      "(10000,)\n"
     ]
    }
   ],
   "source": [
    "print(X1.shape)\n",
    "print(y1.shape)"
   ]
  },
  {
   "cell_type": "code",
   "execution_count": 8,
   "id": "a585f113",
   "metadata": {},
   "outputs": [
    {
     "name": "stdout",
     "output_type": "stream",
     "text": [
      "(784, 15000)\n"
     ]
    }
   ],
   "source": [
    "X1a = X1[:, y1==7][:, : 312]\n",
    "\n",
    "print(X1a.shape)"
   ]
  },
  {
   "cell_type": "code",
   "execution_count": 17,
   "id": "60615e1b",
   "metadata": {},
   "outputs": [
    {
     "name": "stdout",
     "output_type": "stream",
     "text": [
      "(784, 784)\n"
     ]
    }
   ],
   "source": [
    "C = np.cov(X1a)\n",
    "\n",
    "print(C.shape)"
   ]
  },
  {
   "cell_type": "code",
   "execution_count": 18,
   "id": "b557b22f",
   "metadata": {},
   "outputs": [],
   "source": [
    "u, V = la.eig(C)\n",
    "\n",
    "u = u.real\n",
    "V = V.real\n",
    "\n",
    "idx = np.argsort(-u)\n",
    "u = u[idx]\n",
    "V = V[:, idx]"
   ]
  },
  {
   "cell_type": "code",
   "execution_count": 19,
   "id": "e4c2ef68",
   "metadata": {},
   "outputs": [
    {
     "name": "stdout",
     "output_type": "stream",
     "text": [
      "(784, 11)\n"
     ]
    }
   ],
   "source": [
    "W = V[:, :11]\n",
    "\n",
    "print(W.shape)"
   ]
  },
  {
   "cell_type": "code",
   "execution_count": 20,
   "id": "b7ffe878",
   "metadata": {},
   "outputs": [],
   "source": [
    "x = X1a[:, 26]\n",
    "\n",
    "xr = np.dot(W, np.dot(W.T, x))"
   ]
  },
  {
   "cell_type": "code",
   "execution_count": 21,
   "id": "d5979d11",
   "metadata": {},
   "outputs": [
    {
     "data": {
      "text/plain": [
       "<matplotlib.image.AxesImage at 0x20209f2bf70>"
      ]
     },
     "execution_count": 21,
     "metadata": {},
     "output_type": "execute_result"
    },
    {
     "data": {
      "image/png": "[encoded data removed]",
      "text/plain": [
       "<Figure size 432x288 with 1 Axes>"
      ]
     },
     "metadata": {
      "needs_background": "light"
     },
     "output_type": "display_data"
    }
   ],
   "source": [
    "plt.imshow(xr.reshape(28, 28), cmap='binary')"
   ]
  },
  {
   "cell_type": "code",
   "execution_count": 22,
   "id": "5a25a5b9",
   "metadata": {},
   "outputs": [
    {
     "name": "stdout",
     "output_type": "stream",
     "text": [
      "860.3779272129444\n"
     ]
    }
   ],
   "source": [
    "print(np.mean((x - xr) ** 2))"
   ]
  },
  {
   "cell_type": "markdown",
   "id": "078edc1b",
   "metadata": {},
   "source": [
    "- Pelo PCA"
   ]
  },
  {
   "cell_type": "code",
   "execution_count": 23,
   "id": "ba0673d2",
   "metadata": {},
   "outputs": [],
   "source": [
    "pca = PCA(n_components=11).fit(X1a.T)\n",
    "Xp = pca.transform(X1a.T)"
   ]
  },
  {
   "cell_type": "code",
   "execution_count": 25,
   "id": "95f2ae4c",
   "metadata": {},
   "outputs": [
    {
     "name": "stdout",
     "output_type": "stream",
     "text": [
      "(312, 11)\n"
     ]
    }
   ],
   "source": [
    "print(Xp.shape)"
   ]
  },
  {
   "cell_type": "code",
   "execution_count": 26,
   "id": "d9183806",
   "metadata": {},
   "outputs": [
    {
     "data": {
      "text/plain": [
       "array([-1.66886448e-13, -7.28761780e-16,  3.27942801e-15,  3.90798505e-14,\n",
       "        1.52356760e-14,  9.61965550e-14,  5.54769905e-14, -6.43360009e-15,\n",
       "        4.91914202e-15,  2.91504712e-14,  1.12958076e-14])"
      ]
     },
     "execution_count": 26,
     "metadata": {},
     "output_type": "execute_result"
    }
   ],
   "source": [
    "np.mean(Xp, axis=0)"
   ]
  },
  {
   "cell_type": "code",
   "execution_count": 28,
   "id": "e2b53919",
   "metadata": {},
   "outputs": [],
   "source": [
    "xr = pca.inverse_transform(pca.transform(x[np.newaxis, :]))"
   ]
  },
  {
   "cell_type": "code",
   "execution_count": 29,
   "id": "b487edc7",
   "metadata": {},
   "outputs": [
    {
     "name": "stdout",
     "output_type": "stream",
     "text": [
      "693.0055722194603\n"
     ]
    }
   ],
   "source": [
    "print(np.mean((x-xr) ** 2))"
   ]
  }
 ],
 "metadata": {
  "kernelspec": {
   "display_name": "Python 3",
   "language": "python",
   "name": "python3"
  },
  "language_info": {
   "codemirror_mode": {
    "name": "ipython",
    "version": 3
   },
   "file_extension": ".py",
   "mimetype": "text/x-python",
   "name": "python",
   "nbconvert_exporter": "python",
   "pygments_lexer": "ipython3",
   "version": "3.8.8"
  }
 },
 "nbformat": 4,
 "nbformat_minor": 5
}
