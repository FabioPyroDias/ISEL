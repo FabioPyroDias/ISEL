{
 "cells": [
  {
   "cell_type": "code",
   "execution_count": 339,
   "id": "cb5b7c19",
   "metadata": {},
   "outputs": [],
   "source": [
    "import pickle\n",
    "import numpy as np\n",
    "import matplotlib.pyplot as plt\n",
    "import scipy.linalg as la\n",
    "from sklearn.decomposition import PCA\n",
    "from sklearn.metrics import mean_squared_error"
   ]
  },
  {
   "cell_type": "code",
   "execution_count": 305,
   "id": "142361ab",
   "metadata": {},
   "outputs": [
    {
     "data": {
      "text/plain": [
       "{'Q001': array([[0., 0., 0., 0.],\n",
       "        [0., 0., 0., 1.],\n",
       "        [0., 0., 0., 1.],\n",
       "        [0., 0., 0., 0.],\n",
       "        [1., 0., 0., 0.],\n",
       "        [0., 0., 0., 0.],\n",
       "        [0., 1., 0., 0.],\n",
       "        [1., 0., 0., 0.],\n",
       "        [0., 0., 0., 1.],\n",
       "        [0., 0., 0., 1.]]),\n",
       " 'nome': 'Fábio Alexandre Cruz Silva Dias',\n",
       " 'numero': 'A42921'}"
      ]
     },
     "execution_count": 305,
     "metadata": {},
     "output_type": "execute_result"
    }
   ],
   "source": [
    "respostas = pickle.load(open('A42921_Ficha3_Respostas.p','rb'))\n",
    "respostas"
   ]
  },
  {
   "cell_type": "code",
   "execution_count": 306,
   "id": "892600f9",
   "metadata": {},
   "outputs": [],
   "source": [
    "D = pickle.load(open('MNISTsmall.p','rb'))"
   ]
  },
  {
   "cell_type": "markdown",
   "id": "f6523f19",
   "metadata": {},
   "source": [
    "## Exercicio 1"
   ]
  },
  {
   "cell_type": "code",
   "execution_count": 386,
   "id": "9ef730da",
   "metadata": {},
   "outputs": [],
   "source": [
    "D.keys()\n",
    "X = D['X']\n",
    "y = D['trueClass']\n",
    "f1 = D['foldTrain']\n",
    "f2 = D['foldTest']\n",
    "\n",
    "X1 = X[:, f1]\n",
    "y1 = y[f1]\n",
    "\n",
    "X2 = X[:, f2]\n",
    "y2 = y[f2]"
   ]
  },
  {
   "cell_type": "code",
   "execution_count": 434,
   "id": "18ab335b",
   "metadata": {},
   "outputs": [],
   "source": [
    "#Todos os digitos 0\n",
    "X2a = X2[:, y2==0]\n",
    "\n",
    "#Primeiros 381 exemplos\n",
    "X2b = X2a[:, : 381]"
   ]
  },
  {
   "cell_type": "markdown",
   "id": "0f3aac82",
   "metadata": {},
   "source": [
    "### a)\n",
    "\n",
    "R: Vou assumir que é 6.\n",
    "\n",
    "iv (3)"
   ]
  },
  {
   "cell_type": "code",
   "execution_count": 435,
   "id": "789e1873",
   "metadata": {},
   "outputs": [
    {
     "name": "stdout",
     "output_type": "stream",
     "text": [
      "5.351179864328478\n"
     ]
    }
   ],
   "source": [
    "digito = X2b[: 172]\n",
    "\n",
    "Cx = np.cov(digito) * 1.0\n",
    "u, V = la.eig(Cx)\n",
    "\n",
    "u = u.real\n",
    "V = V.real\n",
    "\n",
    "idx = np.argsort(-u)\n",
    "u = u[idx]\n",
    "V = V[:, idx]\n",
    "\n",
    "un = u / np.sum(u)\n",
    "uc = np.cumsum(un)\n",
    "W = V[:, : np.sum(uc <= 0.75)]\n",
    "\n",
    "digitoP = np.dot(W.T, digito)\n",
    "digitoR = np.dot(W, digitoP)\n",
    "\n",
    "erroQuadratico = (np.mean(np.abs(digito - digitoR)))\n",
    "\n",
    "print(erroQuadratico)"
   ]
  },
  {
   "cell_type": "code",
   "execution_count": 436,
   "id": "07b8159c",
   "metadata": {},
   "outputs": [
    {
     "name": "stdout",
     "output_type": "stream",
     "text": [
      "39.0\n"
     ]
    }
   ],
   "source": [
    "#Tentativa 2\n",
    "m = np.mean(X2b, axis=1)[:, np.newaxis]\n",
    "Xn = X2b-m\n",
    "\n",
    "C = np.cov(X2b)\n",
    "V, W = np.linalg.eig(C)\n",
    "v = V.real\n",
    "\n",
    "vn = v / np.sum(v)\n",
    "L = np.cumsum(vn)\n",
    "\n",
    "W2 = W[:,:np.sum(L<=.75)] \n",
    "\n",
    "Xp = np.dot(W.T, Xn) # dados transformardos\n",
    "\n",
    "Xr = np.dot(W, Xp)+m # reconstrução dos dados\n",
    "\n",
    "digito = X2b[:, 172]\n",
    "\n",
    "print(np.round(np.mean(np.abs(digito - Xr.T))))"
   ]
  },
  {
   "cell_type": "code",
   "execution_count": 437,
   "id": "57b93a7d",
   "metadata": {},
   "outputs": [
    {
     "name": "stdout",
     "output_type": "stream",
     "text": [
      "46.43611679619572\n"
     ]
    }
   ],
   "source": [
    "#Tentativa 3\n",
    "digito = X2b[:, 172]\n",
    "\n",
    "C3 = np.cov(X2b)\n",
    "u,V = np.linalg.eig(C3)\n",
    "u = np.real(u)\n",
    "V = np.real(V)\n",
    "idx = np.argsort(-u)\n",
    "\n",
    "u = u[idx]\n",
    "V = V[:,idx]\n",
    "\n",
    "u = u/np.sum(u)\n",
    "L = np.cumsum(u)\n",
    "\n",
    "soma = np.sum(L <= 0.75)\n",
    "\n",
    "W = V[:,:soma]\n",
    "x = X2b\n",
    "\n",
    "Xn = X2b\n",
    "Y = np.dot(W.T,Xn)\n",
    "\n",
    "Xr = np.dot(W,Y)\n",
    "print(np.mean(np.abs(digito-Xr[:,197])))"
   ]
  },
  {
   "cell_type": "markdown",
   "id": "bbb1821b",
   "metadata": {},
   "source": [
    "### b)\n",
    "\n",
    "R: iv (3)"
   ]
  },
  {
   "cell_type": "markdown",
   "id": "021eac5d",
   "metadata": {},
   "source": [
    "#### i)"
   ]
  },
  {
   "cell_type": "code",
   "execution_count": 408,
   "id": "0374b3f6",
   "metadata": {},
   "outputs": [
    {
     "name": "stdout",
     "output_type": "stream",
     "text": [
      "310\n",
      "119\n"
     ]
    }
   ],
   "source": [
    "variar = np.sum(np.round(X2b, 2), axis=1)\n",
    "variarNum = variar == 0\n",
    "\n",
    "print(np.sum(variarNum))\n",
    "\n",
    "resposta2 = np.sum(np.diag(Cx)==0)\n",
    "print(resposta2)"
   ]
  },
  {
   "cell_type": "markdown",
   "id": "e4914559",
   "metadata": {},
   "source": [
    "#### ii)"
   ]
  },
  {
   "cell_type": "code",
   "execution_count": 410,
   "id": "b9ac90fa",
   "metadata": {
    "scrolled": false
   },
   "outputs": [
    {
     "name": "stdout",
     "output_type": "stream",
     "text": [
      "-0.13447254923122015\n",
      "-0.13\n"
     ]
    },
    {
     "name": "stderr",
     "output_type": "stream",
     "text": [
      "C:\\Users\\fabio\\anaconda3\\lib\\site-packages\\numpy\\lib\\function_base.py:2642: RuntimeWarning: invalid value encountered in true_divide\n",
      "  c /= stddev[:, None]\n",
      "C:\\Users\\fabio\\anaconda3\\lib\\site-packages\\numpy\\lib\\function_base.py:2643: RuntimeWarning: invalid value encountered in true_divide\n",
      "  c /= stddev[None, :]\n"
     ]
    }
   ],
   "source": [
    "print(np.corrcoef(X2b[411, :], X2b[217, :])[0, 1])\n",
    "\n",
    "print(np.round(np.corrcoef(X2b)[411, 217], 2))"
   ]
  },
  {
   "cell_type": "markdown",
   "id": "cc483395",
   "metadata": {},
   "source": [
    "### c)\n",
    "\n",
    "R: iv (3)"
   ]
  },
  {
   "cell_type": "markdown",
   "id": "a902ab2a",
   "metadata": {},
   "source": [
    "#### i)"
   ]
  },
  {
   "cell_type": "code",
   "execution_count": 347,
   "id": "b0e819db",
   "metadata": {},
   "outputs": [
    {
     "data": {
      "text/plain": [
       "<matplotlib.image.AxesImage at 0x21780d3e6d0>"
      ]
     },
     "execution_count": 347,
     "metadata": {},
     "output_type": "execute_result"
    },
    {
     "data": {
      "image/png": "[encoded data removed]",
      "text/plain": [
       "<Figure size 432x288 with 1 Axes>"
      ]
     },
     "metadata": {
      "needs_background": "light"
     },
     "output_type": "display_data"
    }
   ],
   "source": [
    "plt.imshow(la.pinv(X2b)[2, :].reshape(28, 28), cmap='binary')"
   ]
  },
  {
   "cell_type": "markdown",
   "id": "4981c6a3",
   "metadata": {},
   "source": [
    "#### ii)"
   ]
  },
  {
   "cell_type": "code",
   "execution_count": 348,
   "id": "4a34ca7b",
   "metadata": {
    "scrolled": true
   },
   "outputs": [
    {
     "data": {
      "text/plain": [
       "<matplotlib.image.AxesImage at 0x2178021b550>"
      ]
     },
     "execution_count": 348,
     "metadata": {},
     "output_type": "execute_result"
    },
    {
     "data": {
      "image/png": "[encoded data removed]",
      "text/plain": [
       "<Figure size 432x288 with 1 Axes>"
      ]
     },
     "metadata": {
      "needs_background": "light"
     },
     "output_type": "display_data"
    }
   ],
   "source": [
    "C = np.cov(X2b)\n",
    "u, V = la.eig(C)\n",
    "\n",
    "u = u.real\n",
    "V = V.real\n",
    "\n",
    "idx = np.argsort(-u)\n",
    "u = u[idx]\n",
    "V = V[:, idx]\n",
    "\n",
    "segundo = V[:, 1]\n",
    "\n",
    "plt.imshow(segundo.reshape(28, 28), cmap='binary')"
   ]
  },
  {
   "cell_type": "markdown",
   "id": "908c2dd5",
   "metadata": {},
   "source": [
    "### d)"
   ]
  },
  {
   "cell_type": "markdown",
   "id": "801f14e1",
   "metadata": {},
   "source": [
    "#### i)"
   ]
  },
  {
   "cell_type": "code",
   "execution_count": 354,
   "id": "d15b9fda",
   "metadata": {
    "scrolled": true
   },
   "outputs": [
    {
     "name": "stdout",
     "output_type": "stream",
     "text": [
      "(784, 381)\n",
      "(784, 13)\n",
      "(784, 381)\n",
      "571377.0\n"
     ]
    }
   ],
   "source": [
    "digito = X2b[:, 177]\n",
    "pca = PCA(n_components=13).fit(X2b)\n",
    "X2bp = pca.transform(X2b)\n",
    "\n",
    "print(X2b.shape)\n",
    "print(X2bp.shape)\n",
    "\n",
    "X2br = pca.inverse_transform(X2bp)\n",
    "\n",
    "print(X2br.shape)\n",
    "\n",
    "EQM = np.round(np.mean(np.sum((digito - X2br[:, 177]) ** 2)))\n",
    "print(EQM)"
   ]
  },
  {
   "cell_type": "code",
   "execution_count": 412,
   "id": "9bcb3b36",
   "metadata": {},
   "outputs": [
    {
     "name": "stdout",
     "output_type": "stream",
     "text": [
      "76.0\n"
     ]
    }
   ],
   "source": [
    "digito = X2b[: 177]\n",
    "\n",
    "Cx = np.cov(digito) * 1.0\n",
    "u, V = la.eig(Cx)\n",
    "\n",
    "u = u.real\n",
    "V = V.real\n",
    "\n",
    "idx = np.argsort(-u)\n",
    "u = u[idx]\n",
    "V = V[:, idx]\n",
    "\n",
    "W = V[:, : 13]\n",
    "\n",
    "digitoP = np.dot(W.T, digito)\n",
    "digitoR = np.dot(W, digitoP)\n",
    "\n",
    "erroQuadratico = np.round(mean_squared_error(digito, digitoR))\n",
    "\n",
    "print(erroQuadratico)"
   ]
  },
  {
   "cell_type": "markdown",
   "id": "97d51876",
   "metadata": {},
   "source": [
    "### e)\n",
    "\n",
    "R: i (0)"
   ]
  },
  {
   "cell_type": "markdown",
   "id": "cead4c06",
   "metadata": {},
   "source": [
    "#### i)"
   ]
  },
  {
   "cell_type": "code",
   "execution_count": 232,
   "id": "2e644879",
   "metadata": {},
   "outputs": [
    {
     "data": {
      "text/plain": [
       "(784, 784)"
      ]
     },
     "execution_count": 232,
     "metadata": {},
     "output_type": "execute_result"
    }
   ],
   "source": [
    "np.cov(X2b).shape"
   ]
  },
  {
   "cell_type": "markdown",
   "id": "ec0f78f8",
   "metadata": {},
   "source": [
    "#### ii)"
   ]
  },
  {
   "cell_type": "code",
   "execution_count": 414,
   "id": "222f60ac",
   "metadata": {
    "scrolled": true
   },
   "outputs": [
    {
     "name": "stdout",
     "output_type": "stream",
     "text": [
      "-0.0\n"
     ]
    }
   ],
   "source": [
    "v, W = la.eig(np.cov(X2b))\n",
    "\n",
    "v = v.real\n",
    "W = W.real\n",
    "\n",
    "# Calcule o determinante\n",
    "determinante = np.prod(W)\n",
    "\n",
    "print(determinante)"
   ]
  },
  {
   "cell_type": "code",
   "execution_count": 418,
   "id": "aa8def02",
   "metadata": {},
   "outputs": [
    {
     "data": {
      "text/plain": [
       "0.0"
      ]
     },
     "execution_count": 418,
     "metadata": {},
     "output_type": "execute_result"
    }
   ],
   "source": [
    "np.linalg.det(Cx)"
   ]
  },
  {
   "cell_type": "markdown",
   "id": "501e4e1a",
   "metadata": {},
   "source": [
    "### f)\n",
    "\n",
    "R: ii) 49. (1)"
   ]
  },
  {
   "cell_type": "code",
   "execution_count": 420,
   "id": "b20a5b1f",
   "metadata": {},
   "outputs": [
    {
     "name": "stdout",
     "output_type": "stream",
     "text": [
      "(28, 381)\n"
     ]
    }
   ],
   "source": [
    "pca = PCA(n_components=0.90).fit(X2b)\n",
    "X2bp = pca.transform(X2b)\n",
    "\n",
    "print(pca.components_.shape) #27. A resposta é 35?"
   ]
  },
  {
   "cell_type": "code",
   "execution_count": 419,
   "id": "07f18eb7",
   "metadata": {},
   "outputs": [
    {
     "name": "stdout",
     "output_type": "stream",
     "text": [
      "49\n"
     ]
    }
   ],
   "source": [
    "Cx = np.cov(X2b) * 1.0\n",
    "u, V = la.eig(Cx)\n",
    "\n",
    "u = u.real\n",
    "V = V.real\n",
    "\n",
    "idx = np.argsort(-u)\n",
    "u = u[idx]\n",
    "V = V[:, idx]\n",
    "\n",
    "un = u / np.sum(u)\n",
    "uc = np.cumsum(un)\n",
    "W = V[:, : np.sum(uc <= 0.90) + 1]\n",
    "\n",
    "print(W.shape[1])"
   ]
  },
  {
   "cell_type": "code",
   "execution_count": 423,
   "id": "3e6fd34c",
   "metadata": {},
   "outputs": [
    {
     "name": "stdout",
     "output_type": "stream",
     "text": [
      "49\n"
     ]
    }
   ],
   "source": [
    "pca = PCA(n_components=0.90, svd_solver='full').fit(X2b.T)\n",
    "print(pca.n_components_)"
   ]
  },
  {
   "cell_type": "markdown",
   "id": "0dfb6349",
   "metadata": {},
   "source": [
    "### g)\n",
    "\n",
    "R: ii) 310 (1)"
   ]
  },
  {
   "cell_type": "code",
   "execution_count": 421,
   "id": "bf91bbd0",
   "metadata": {
    "scrolled": true
   },
   "outputs": [
    {
     "name": "stdout",
     "output_type": "stream",
     "text": [
      "310\n"
     ]
    }
   ],
   "source": [
    "pixels_valor_zero = np.sum(X2b == 0, axis=1)\n",
    "num_pixeis_valor_zero = np.sum(pixels_valor_zero == X2b.shape[1])\n",
    "\n",
    "print(num_pixeis_valor_zero)"
   ]
  },
  {
   "cell_type": "code",
   "execution_count": 424,
   "id": "8c95cef4",
   "metadata": {},
   "outputs": [
    {
     "data": {
      "text/plain": [
       "310"
      ]
     },
     "execution_count": 424,
     "metadata": {},
     "output_type": "execute_result"
    }
   ],
   "source": [
    "np.sum(np.diag(Cx)==0)"
   ]
  },
  {
   "cell_type": "markdown",
   "id": "59aaaba8",
   "metadata": {},
   "source": [
    "### h)\n",
    "\n",
    "R: i (0)"
   ]
  },
  {
   "cell_type": "markdown",
   "id": "455adcfe",
   "metadata": {},
   "source": [
    "#### i)"
   ]
  },
  {
   "cell_type": "code",
   "execution_count": 358,
   "id": "d0aacb39",
   "metadata": {},
   "outputs": [
    {
     "data": {
      "text/plain": [
       "1917.0"
      ]
     },
     "execution_count": 358,
     "metadata": {},
     "output_type": "execute_result"
    }
   ],
   "source": [
    "vetorMedia = np.mean(X2b, axis=1)\n",
    "np.round(la.norm(vetorMedia))"
   ]
  },
  {
   "cell_type": "markdown",
   "id": "ff84e3e8",
   "metadata": {},
   "source": [
    "#### ii)"
   ]
  },
  {
   "cell_type": "code",
   "execution_count": 362,
   "id": "90f64ce1",
   "metadata": {
    "scrolled": true
   },
   "outputs": [
    {
     "data": {
      "text/plain": [
       "104.11835454763944"
      ]
     },
     "execution_count": 362,
     "metadata": {},
     "output_type": "execute_result"
    }
   ],
   "source": [
    "np.std(X2b[157, :])"
   ]
  },
  {
   "cell_type": "markdown",
   "id": "64de3f79",
   "metadata": {},
   "source": [
    "### i)\n",
    "\n",
    "R iv (3)"
   ]
  },
  {
   "cell_type": "code",
   "execution_count": 426,
   "id": "c38b18b7",
   "metadata": {},
   "outputs": [
    {
     "name": "stdout",
     "output_type": "stream",
     "text": [
      "380\n"
     ]
    }
   ],
   "source": [
    "cov = np.cov(X2b)\n",
    "\n",
    "autovalores = np.linalg.eigvals(cov)\n",
    "\n",
    "# Conte os autovalores superiores a 10^-10\n",
    "autovalores_superiores = np.sum(autovalores > 10e-10)\n",
    "\n",
    "print(autovalores_superiores)"
   ]
  },
  {
   "cell_type": "code",
   "execution_count": 427,
   "id": "527a2a44",
   "metadata": {},
   "outputs": [
    {
     "data": {
      "text/plain": [
       "380"
      ]
     },
     "execution_count": 427,
     "metadata": {},
     "output_type": "execute_result"
    }
   ],
   "source": [
    "np.sum(u > 10e-10)"
   ]
  },
  {
   "cell_type": "markdown",
   "id": "ca4794ea",
   "metadata": {},
   "source": [
    "### j)"
   ]
  },
  {
   "cell_type": "code",
   "execution_count": 411,
   "id": "33cc7d68",
   "metadata": {},
   "outputs": [],
   "source": [
    "x1 = X2b[:, 224]\n",
    "x2 = X2b[:, 225]\n",
    "x3 = X2b[:, 273]\n",
    "x4 = X2b[:, 291]"
   ]
  },
  {
   "cell_type": "markdown",
   "id": "69bd8599",
   "metadata": {},
   "source": [
    "#### i)"
   ]
  },
  {
   "cell_type": "code",
   "execution_count": 366,
   "id": "4f840c86",
   "metadata": {},
   "outputs": [
    {
     "data": {
      "text/plain": [
       "192"
      ]
     },
     "execution_count": 366,
     "metadata": {},
     "output_type": "execute_result"
    }
   ],
   "source": [
    "np.dot(x1, x2)"
   ]
  },
  {
   "cell_type": "markdown",
   "id": "34547d0b",
   "metadata": {},
   "source": [
    "#### ii)"
   ]
  },
  {
   "cell_type": "code",
   "execution_count": 367,
   "id": "121808f0",
   "metadata": {},
   "outputs": [
    {
     "data": {
      "text/plain": [
       "55"
      ]
     },
     "execution_count": 367,
     "metadata": {},
     "output_type": "execute_result"
    }
   ],
   "source": [
    "np.dot(x3, x4)"
   ]
  },
  {
   "cell_type": "markdown",
   "id": "015eb9d7",
   "metadata": {},
   "source": [
    "# Preenchimento das Respostas"
   ]
  },
  {
   "cell_type": "code",
   "execution_count": 281,
   "id": "87475f74",
   "metadata": {},
   "outputs": [],
   "source": [
    "q001 = respostas['Q001']"
   ]
  },
  {
   "cell_type": "code",
   "execution_count": 442,
   "id": "2ae8688b",
   "metadata": {},
   "outputs": [
    {
     "data": {
      "text/plain": [
       "array([[0., 0., 0., 0.],\n",
       "       [0., 0., 0., 1.],\n",
       "       [0., 0., 0., 1.],\n",
       "       [0., 0., 0., 0.],\n",
       "       [1., 0., 0., 0.],\n",
       "       [0., 1., 0., 0.],\n",
       "       [0., 1., 0., 0.],\n",
       "       [1., 0., 0., 0.],\n",
       "       [0., 0., 0., 1.],\n",
       "       [0., 0., 0., 1.]])"
      ]
     },
     "execution_count": 442,
     "metadata": {},
     "output_type": "execute_result"
    }
   ],
   "source": [
    "q001[:, :] = 0\n",
    "\n",
    "#q001[0, 0] = 1 #a i\n",
    "q001[1, 3] = 1 #b iv\n",
    "q001[2, 3] = 1 #c iv\n",
    "#q001[3, 0] = 1 #d i\n",
    "q001[4, 0] = 1 #e i\n",
    "q001[5, 1] = 1 #f ii\n",
    "q001[6, 1] = 1 #g ii\n",
    "q001[7, 0] = 1 #h i\n",
    "q001[8, 3] = 1 #i iv\n",
    "q001[9, 3] = 1 #j iv\n",
    "\n",
    "q001"
   ]
  },
  {
   "cell_type": "code",
   "execution_count": 443,
   "id": "1cd93496",
   "metadata": {},
   "outputs": [],
   "source": [
    "pickle.dump(respostas,open('A42921_Ficha3_Respostas.p','wb'))"
   ]
  },
  {
   "cell_type": "code",
   "execution_count": 444,
   "id": "fbd61046",
   "metadata": {},
   "outputs": [
    {
     "data": {
      "text/plain": [
       "{'Q001': array([[0., 0., 0., 0.],\n",
       "        [0., 0., 0., 1.],\n",
       "        [0., 0., 0., 1.],\n",
       "        [0., 0., 0., 0.],\n",
       "        [1., 0., 0., 0.],\n",
       "        [0., 0., 0., 0.],\n",
       "        [0., 1., 0., 0.],\n",
       "        [1., 0., 0., 0.],\n",
       "        [0., 0., 0., 1.],\n",
       "        [0., 0., 0., 1.]]),\n",
       " 'nome': 'Fábio Alexandre Cruz Silva Dias',\n",
       " 'numero': 'A42921'}"
      ]
     },
     "execution_count": 444,
     "metadata": {},
     "output_type": "execute_result"
    }
   ],
   "source": [
    "pickle.load(open('A42921_Ficha3_Respostas.p','rb'))"
   ]
  }
 ],
 "metadata": {
  "kernelspec": {
   "display_name": "Python 3",
   "language": "python",
   "name": "python3"
  },
  "language_info": {
   "codemirror_mode": {
    "name": "ipython",
    "version": 3
   },
   "file_extension": ".py",
   "mimetype": "text/x-python",
   "name": "python",
   "nbconvert_exporter": "python",
   "pygments_lexer": "ipython3",
   "version": "3.8.8"
  }
 },
 "nbformat": 4,
 "nbformat_minor": 5
}
