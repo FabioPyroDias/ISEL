{
 "cells": [
  {
   "cell_type": "markdown",
   "metadata": {},
   "source": [
    "# Ficha 3 Aprendizagem Automática\n",
    "\n",
    "Nº: 48623\n",
    "\n",
    "Nome: Jairo Cristóvão Ramos\n",
    "\n",
    "LEIM 51 N"
   ]
  },
  {
   "cell_type": "code",
   "execution_count": 3,
   "metadata": {},
   "outputs": [],
   "source": [
    "import numpy as np\n",
    "import numpy.random as rd\n",
    "import matplotlib.pyplot as plt\n",
    "import sklearn.datasets as ds\n",
    "from sklearn.metrics import confusion_matrix\n",
    "import scipy.linalg as la\n",
    "import pickle as pk"
   ]
  },
  {
   "cell_type": "code",
   "execution_count": 83,
   "metadata": {},
   "outputs": [
    {
     "name": "stdout",
     "output_type": "stream",
     "text": [
      "dict_keys(['foldTrain', 'trueClass', 'foldTest', 'X'])\n"
     ]
    },
    {
     "data": {
      "text/plain": [
       "(5000,)"
      ]
     },
     "execution_count": 83,
     "metadata": {},
     "output_type": "execute_result"
    }
   ],
   "source": [
    "fn = '../../lab/LAB2/MNISTsmall.p'\n",
    "\n",
    "D = pk.load(open(fn, 'rb'))\n",
    "\n",
    "print(D.keys())\n",
    "\n",
    "X = D['X'] * 1.0\n",
    "y = D['trueClass']\n",
    "X.shape\n",
    "y.shape\n",
    "\n",
    "f1 = D['foldTrain']\n",
    "f2 = D['foldTest']\n",
    "f2.shape\n",
    "\n",
    "np.sum(f1[f1==True])\n",
    "np.sum(f2[f2==True])\n",
    "\n",
    "X1 = X[:, f1]\n",
    "X2 = X[:, f2]\n",
    "\n",
    "y1 = y[f1]\n",
    "y2 = y[f2]\n",
    "y2.shape"
   ]
  },
  {
   "cell_type": "code",
   "execution_count": 139,
   "metadata": {},
   "outputs": [
    {
     "data": {
      "text/plain": [
       "311"
      ]
     },
     "execution_count": 139,
     "metadata": {},
     "output_type": "execute_result"
    },
    {
     "data": {
      "image/png": "[encoded data removed]",
      "text/plain": [
       "<Figure size 432x288 with 1 Axes>"
      ]
     },
     "metadata": {
      "needs_background": "light"
     },
     "output_type": "display_data"
    }
   ],
   "source": [
    "# a)\n",
    "\n",
    "x7 = X1[:, y1==7] # obter digitos 7\n",
    "X7 = x7[: ,: 312] # primeiros 312 exemplos\n",
    "\n",
    "plt.imshow(X7[:,311].reshape(28,28), cmap='binary')\n",
    "\n",
    "C7 = np.cov(X7)\n",
    "\n",
    "# valores próprios, W vetores\n",
    "V, W = np.linalg.eig(C7)\n",
    "v = V.real\n",
    "len(v[v>10e-10])\n",
    "\n",
    "# R: i.311"
   ]
  },
  {
   "cell_type": "code",
   "execution_count": 140,
   "metadata": {},
   "outputs": [
    {
     "data": {
      "text/plain": [
       "281"
      ]
     },
     "execution_count": 140,
     "metadata": {},
     "output_type": "execute_result"
    },
    {
     "data": {
      "image/png": "[encoded data removed]",
      "text/plain": [
       "<Figure size 432x288 with 1 Axes>"
      ]
     },
     "metadata": {
      "needs_background": "light"
     },
     "output_type": "display_data"
    }
   ],
   "source": [
    "# b)\n",
    "z7 = np.diag(C7)!= 0\n",
    "\n",
    "plt.imshow(z7.reshape(28,28), cmap='gray')\n",
    "\n",
    "np.count_nonzero(z7 == 0)\n",
    "\n",
    "# R: i.281"
   ]
  },
  {
   "cell_type": "code",
   "execution_count": 186,
   "metadata": {},
   "outputs": [
    {
     "name": "stdout",
     "output_type": "stream",
     "text": [
      "692.9883448576851\n"
     ]
    }
   ],
   "source": [
    "# c) \n",
    "X27 = X7[:,26]\n",
    "\n",
    "from sklearn.decomposition import PCA\n",
    "pca = PCA(n_components=11).fit(X7.T)\n",
    "\n",
    "dp = pca.transform(X7.T)\n",
    "dr = pca.inverse_transform(dp).T\n",
    "print(np.mean((dr[:,26]- X27)**2))\n",
    "# R: iii\n"
   ]
  },
  {
   "cell_type": "code",
   "execution_count": 142,
   "metadata": {},
   "outputs": [
    {
     "name": "stdout",
     "output_type": "stream",
     "text": [
      "2926948.0\n",
      "1933498.0\n"
     ]
    }
   ],
   "source": [
    "# d)\n",
    "\n",
    "\n",
    "X_1 = X7[:,44]\n",
    "X_2 = X7[:,113]\n",
    "X_3 = X7[:,265]\n",
    "X_4 = X7[:,276]\n",
    "\n",
    "print(np.round(np.dot(X_1, X_2)))\n",
    "print(np.round(np.dot(X_3, X_4)))\n",
    "\n",
    "# R: i"
   ]
  },
  {
   "cell_type": "code",
   "execution_count": 143,
   "metadata": {},
   "outputs": [
    {
     "data": {
      "text/plain": [
       "(-0.5, 27.5, 27.5, -0.5)"
      ]
     },
     "execution_count": 143,
     "metadata": {},
     "output_type": "execute_result"
    },
    {
     "data": {
      "image/png": "[encoded data removed]",
      "text/plain": [
       "<Figure size 1080x720 with 2 Axes>"
      ]
     },
     "metadata": {
      "needs_background": "light"
     },
     "output_type": "display_data"
    }
   ],
   "source": [
    "# e)\n",
    "plt.figure(figsize=(15,10))\n",
    "plt.subplot(221)\n",
    "plt.imshow(X7[:,253].reshape(28,28), cmap='binary')\n",
    "plt.subplot(222)\n",
    "plt.imshow(W[:,11].reshape(28,28), cmap='binary')\n",
    "plt.grid(True)\n",
    "plt.axis('off')\n",
    "\n",
    "# R: i"
   ]
  },
  {
   "cell_type": "code",
   "execution_count": 151,
   "metadata": {},
   "outputs": [
    {
     "data": {
      "text/plain": [
       "48"
      ]
     },
     "execution_count": 151,
     "metadata": {},
     "output_type": "execute_result"
    }
   ],
   "source": [
    "# f)\n",
    "vn = v / np.sum(v)\n",
    "L = np.cumsum(vn)\n",
    "\n",
    "np.sum(L<.9)\n",
    "\n",
    "# R: ii"
   ]
  },
  {
   "cell_type": "code",
   "execution_count": 157,
   "metadata": {},
   "outputs": [
    {
     "data": {
      "text/plain": [
       "35.0"
      ]
     },
     "execution_count": 157,
     "metadata": {},
     "output_type": "execute_result"
    }
   ],
   "source": [
    "# g)\n",
    "m = np.mean(X7, axis=1)[:, np.newaxis]\n",
    "Xn = X7-m\n",
    "W2 = W[:,:np.sum(L<.7)] \n",
    "\n",
    "Xp = np.dot(W.T, Xn) # dados transfomardos\n",
    "\n",
    "Xr = np.dot(W, Xp)+m # reconstrução dos dados\n",
    "\n",
    "X219 = X7[:, 218]\n",
    "\n",
    "np.round(np.mean(np.abs(X219 - Xr.T)))\n",
    "# R: i"
   ]
  },
  {
   "cell_type": "code",
   "execution_count": 163,
   "metadata": {},
   "outputs": [
    {
     "name": "stdout",
     "output_type": "stream",
     "text": [
      "543.8853043351951\n",
      "39.453287231311215\n"
     ]
    }
   ],
   "source": [
    "# h)\n",
    "\n",
    "print(np.linalg.norm(np.mean(X7, axis=0)))\n",
    "print(np.std(X7[275,:]))\n",
    "# R: iv"
   ]
  },
  {
   "cell_type": "code",
   "execution_count": 166,
   "metadata": {},
   "outputs": [
    {
     "name": "stdout",
     "output_type": "stream",
     "text": [
      "(784, 784)\n",
      "0.0\n"
     ]
    }
   ],
   "source": [
    "# i) \n",
    "print(C7.shape)\n",
    "print(np.linalg.det(C7))\n",
    "# R: iii"
   ]
  },
  {
   "cell_type": "code",
   "execution_count": 187,
   "metadata": {},
   "outputs": [
    {
     "name": "stdout",
     "output_type": "stream",
     "text": [
      "281\n",
      "-0.13093810796706978\n"
     ]
    }
   ],
   "source": [
    "# j)\n",
    "\n",
    "vn = np.diag(C7) == 0\n",
    "print(np.sum(vn))\n",
    "print(np.corrcoef(X7[211,:], X7[323,:])[0,1])\n",
    "\n",
    "# R: iii"
   ]
  },
  {
   "cell_type": "code",
   "execution_count": 197,
   "metadata": {},
   "outputs": [],
   "source": [
    "fl = 'A48623_Ficha3_Respostas.p'\n",
    "\n",
    "R = pk.load(open(fl, 'rb'))\n",
    "R.keys()\n",
    "\n",
    "R['nome']\n",
    "R['numero']\n",
    "\n",
    "\n",
    "q1 = R['Q001']\n",
    "\n",
    "q1 = -q1 * 0\n",
    "\n",
    "q1[0,0]= 1\n",
    "q1[1,0]= 1\n",
    "q1[2,2]= 1\n",
    "q1[3,0]= 1\n",
    "q1[4,0]= 1\n",
    "q1[5,1]= 1\n",
    "q1[6,0]= 1\n",
    "q1[7,3]= 1\n",
    "q1[8,2]= 1\n",
    "q1[9,2]= 1\n",
    "q1\n",
    "R['Q001'] = q1"
   ]
  },
  {
   "cell_type": "code",
   "execution_count": 199,
   "metadata": {},
   "outputs": [],
   "source": [
    "R['Q001']\n",
    "\n",
    "pk.dump(R, open(fl, 'wb'))"
   ]
  },
  {
   "cell_type": "code",
   "execution_count": 200,
   "metadata": {},
   "outputs": [
    {
     "data": {
      "text/plain": [
       "array([[1., 0., 0., 0.],\n",
       "       [1., 0., 0., 0.],\n",
       "       [0., 0., 1., 0.],\n",
       "       [1., 0., 0., 0.],\n",
       "       [1., 0., 0., 0.],\n",
       "       [0., 1., 0., 0.],\n",
       "       [1., 0., 0., 0.],\n",
       "       [0., 0., 0., 1.],\n",
       "       [0., 0., 1., 0.],\n",
       "       [0., 0., 1., 0.]])"
      ]
     },
     "execution_count": 200,
     "metadata": {},
     "output_type": "execute_result"
    }
   ],
   "source": [
    "T = pk.load(open(fl, 'rb'))\n",
    "\n",
    "T['Q001'] "
   ]
  }
 ],
 "metadata": {
  "kernelspec": {
   "display_name": "Python 3",
   "language": "python",
   "name": "python3"
  },
  "language_info": {
   "codemirror_mode": {
    "name": "ipython",
    "version": 3
   },
   "file_extension": ".py",
   "mimetype": "text/x-python",
   "name": "python",
   "nbconvert_exporter": "python",
   "pygments_lexer": "ipython3",
   "version": "3.8.8"
  }
 },
 "nbformat": 4,
 "nbformat_minor": 2
}
