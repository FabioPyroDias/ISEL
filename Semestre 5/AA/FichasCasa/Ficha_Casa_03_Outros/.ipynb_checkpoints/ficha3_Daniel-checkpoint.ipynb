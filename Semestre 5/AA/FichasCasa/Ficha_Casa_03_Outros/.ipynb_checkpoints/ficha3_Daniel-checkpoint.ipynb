{
 "cells": [
  {
   "cell_type": "code",
   "execution_count": 1,
   "id": "e7550742",
   "metadata": {},
   "outputs": [],
   "source": [
    "import pickle\n",
    "import numpy as np\n",
    "import matplotlib.pyplot as plt\n",
    "from sklearn.metrics import mean_absolute_error\n",
    "from sklearn.metrics import mean_squared_error"
   ]
  },
  {
   "cell_type": "code",
   "execution_count": 2,
   "id": "79e19931",
   "metadata": {},
   "outputs": [
    {
     "name": "stdout",
     "output_type": "stream",
     "text": [
      "dict_keys(['foldTrain', 'trueClass', 'foldTest', 'X'])\n"
     ]
    }
   ],
   "source": [
    "D = pickle.load(open('MNISTsmall.p','rb'))\n",
    "print(D.keys())\n",
    "\n",
    "X = D['X']*1. #multilicar os dados por 1 para serem floats\n",
    "\n",
    "ftrain = D['foldTrain']\n",
    "ftest = D['foldTest']\n",
    "\n",
    "Xtrain = X[:,ftrain]\n",
    "Xtest = X[:,ftest]\n",
    "\n",
    "y = D['trueClass']\n",
    "\n",
    "ytrain = y[ftrain]\n",
    "ytest = y[ftest]\n",
    "\n",
    "train3 = Xtrain[:,ytrain==3][:,:398]"
   ]
  },
  {
   "cell_type": "code",
   "execution_count": 8,
   "id": "e447d28f",
   "metadata": {},
   "outputs": [
    {
     "name": "stdout",
     "output_type": "stream",
     "text": [
      "\n",
      "Alinea a)\n",
      "número mínimo de componentes =  33\n",
      "\n",
      "Alinea b)\n",
      "dimensões de dados que não variam:  283\n",
      "coeficiente de correlação:  0.05607730759878474\n",
      "\n",
      "Alinea c)\n",
      "número de pixeis igual a zero:  283\n",
      "\n",
      "Alinea d)\n",
      "produto interno entre x1 e x2 =  1770286.0\n",
      "produto interno entre x3 e x4 =  2703945.0\n",
      "\n",
      "Alinea e)\n",
      "o erro absoluto médio =  21.012102597404688\n",
      "\n",
      "Alinea f)\n",
      "O erro quadrático médio é: 970.0\n",
      "\n",
      "Alinea g)\n"
     ]
    },
    {
     "data": {
      "image/png": "[encoded data removed]",
      "text/plain": [
       "<Figure size 432x288 with 1 Axes>"
      ]
     },
     "metadata": {
      "needs_background": "light"
     },
     "output_type": "display_data"
    },
    {
     "data": {
      "image/png": "[encoded data removed]",
      "text/plain": [
       "<Figure size 432x288 with 1 Axes>"
      ]
     },
     "metadata": {
      "needs_background": "light"
     },
     "output_type": "display_data"
    },
    {
     "name": "stdout",
     "output_type": "stream",
     "text": [
      "\n",
      "Aliena h)\n",
      "dimensão da matriz:  (784, 784)\n",
      "determinante da matriz:  0.0\n",
      "\n",
      "Alinea i)\n",
      "valores da matriz de covariância =  397\n",
      "\n",
      "Alinea j)\n",
      "norma do vetor de média (transposta)=  748.9123918795653\n",
      "norma do vetor de média =  1825.891499711295\n",
      "desvio padrão =  0.0\n"
     ]
    }
   ],
   "source": [
    "C3 = np.cov(train3)\n",
    "u,V = np.linalg.eig(C3)\n",
    "u = np.real(u)\n",
    "V = np.real(V)\n",
    "idx = np.argsort(-u)\n",
    "\n",
    "u = u[idx]\n",
    "V = V[:,idx]\n",
    "V = V[:,u >= 1e-10]\n",
    "\n",
    "u = u/np.sum(u)\n",
    "L = np.cumsum(u)\n",
    "\n",
    "\n",
    "x = train3\n",
    "\n",
    "Xn = train3\n",
    "Y = np.dot(W.T,Xn)\n",
    "\n",
    "Xr = np.dot(W,Y)\n",
    "\n",
    "print(\"\\nAlinea a)\")\n",
    "print(\"número mínimo de componentes = \", np.sum(L<= 0.8)+1)\n",
    "\n",
    "print(\"\\nAlinea b)\")\n",
    "idx3_0 = np.diag(C3) == 0\n",
    "coeficiente = C3[184-1,595-1]/((C3[184-1,184-1]*C3[595-1,595-1])**(1/2))\n",
    "print(\"dimensões de dados que não variam: \", np.sum(idx3_0))\n",
    "print(\"coeficiente de correlação: \", coeficiente)\n",
    "\n",
    "print(\"\\nAlinea c)\")\n",
    "C3 = np.cov(train3)\n",
    "idx3_0 = np.diag(C3) == 0\n",
    "pixeis = np.sum(idx3_0)\n",
    "print(\"número de pixeis igual a zero: \", pixeis)\n",
    "\n",
    "print(\"\\nAlinea d)\")\n",
    "x1 = train3[:,241-1]\n",
    "x2 = train3[:,270-1]\n",
    "x3 = train3[:,288-1]\n",
    "x4 = train3[:,393-1]\n",
    "print(\"produto interno entre x1 e x2 = \", np.dot(x1,x2))\n",
    "print(\"produto interno entre x3 e x4 = \", np.dot(x3,x4))\n",
    "\n",
    "\n",
    "print(\"\\nAlinea e)\")\n",
    "digit198 = train3[:, 198 - 1]\n",
    "soma = np.sum(L < 0.62)#variância\n",
    "W = V[:,:soma]\n",
    "x = train3\n",
    "\n",
    "Xn = train3\n",
    "Y = np.dot(W.T,Xn)\n",
    "\n",
    "Xr = np.dot(W,Y)\n",
    "print(\"o erro absoluto médio = \", np.mean(abs(digit198-Xr[:,197])))\n",
    "\n",
    "print(\"\\nAlinea f)\")\n",
    "digit369 = train3[:, 369 - 1]\n",
    "W = V[:,:32]\n",
    "\n",
    "Xn = train3\n",
    "\n",
    "Y = np.dot(W.T, Xn)\n",
    "Xr = np.dot(W, Y)\n",
    "\n",
    "# Calculando o erro quadrático médio entre o dígito original e o reconstruído\n",
    "error_squared = np.mean((digit369 - Xr[:, 368]) ** 2)\n",
    "print(\"O erro quadrático médio é:\", round(error_squared, 0))  # Arredondando para 0 casas decimais\n",
    "\n",
    "print(\"\\nAlinea g)\")\n",
    "plt.imshow(255-train3[:, 161-1].reshape(28,28), cmap='gray'), plt.show()\n",
    "plt.imshow(V[:,3-1].reshape(28,28), cmap='gray'), plt.show()\n",
    "\n",
    "print(\"\\nAliena h)\")\n",
    "C3 = np.cov(train3)\n",
    "print(\"dimensão da matriz: \", C3.shape)\n",
    "print(\"determinante da matriz: \", np.linalg.det(C3))\n",
    "\n",
    "print(\"\\nAlinea i)\")\n",
    "print(\"valores da matriz de covariância = \", np.sum(u > 10e-10))\n",
    "\n",
    "print(\"\\nAlinea j)\")\n",
    "print(\"norma do vetor de média (transposta)= \", np.linalg.norm(np.mean(train3.T,1)))\n",
    "print(\"norma do vetor de média = \", np.linalg.norm(np.mean(train3,1)))\n",
    "print(\"desvio padrão = \", np.std(train3[280-1,:]))"
   ]
  },
  {
   "cell_type": "code",
   "execution_count": 7,
   "id": "f256e9a4",
   "metadata": {},
   "outputs": [],
   "source": [
    "QuestDic = pickle.load(open('A41850_Ficha3_Respostas.p', 'rb'))\n",
    "\n",
    "QuestDic['Q001'][0,:] = np.array([0,1,0,0])\n",
    "QuestDic['Q001'][1,:] = np.array([0,0,1,0])\n",
    "QuestDic['Q001'][2,:] = np.array([1,0,0,0])\n",
    "QuestDic['Q001'][3,:] = np.array([0,1,0,0])\n",
    "QuestDic['Q001'][4,:] = np.array([0,1,0,0])\n",
    "QuestDic['Q001'][5,:] = np.array([0,0,0,1])\n",
    "QuestDic['Q001'][6,:] = np.array([1,0,0,0])\n",
    "QuestDic['Q001'][7,:] = np.array([1,0,0,0])\n",
    "QuestDic['Q001'][8,:] = np.array([0,1,0,0])\n",
    "QuestDic['Q001'][9,:] = np.array([0,0,1,0])\n",
    "\n",
    "pickle.dump(QuestDic, open('A41850_Ficha3_Respostas.p', 'wb'))"
   ]
  },
  {
   "cell_type": "code",
   "execution_count": null,
   "id": "2bd5c6ee",
   "metadata": {},
   "outputs": [],
   "source": []
  },
  {
   "cell_type": "code",
   "execution_count": null,
   "id": "babdf095",
   "metadata": {},
   "outputs": [],
   "source": []
  }
 ],
 "metadata": {
  "kernelspec": {
   "display_name": "Python 3",
   "language": "python",
   "name": "python3"
  },
  "language_info": {
   "codemirror_mode": {
    "name": "ipython",
    "version": 3
   },
   "file_extension": ".py",
   "mimetype": "text/x-python",
   "name": "python",
   "nbconvert_exporter": "python",
   "pygments_lexer": "ipython3",
   "version": "3.8.8"
  }
 },
 "nbformat": 4,
 "nbformat_minor": 5
}
