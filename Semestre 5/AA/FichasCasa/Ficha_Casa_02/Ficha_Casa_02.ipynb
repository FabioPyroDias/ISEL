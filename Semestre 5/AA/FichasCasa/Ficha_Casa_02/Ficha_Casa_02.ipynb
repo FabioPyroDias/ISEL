{
 "cells": [
  {
   "cell_type": "code",
   "execution_count": 25,
   "id": "ccabd311",
   "metadata": {},
   "outputs": [],
   "source": [
    "import pickle\n",
    "import numpy as np\n",
    "from scipy.spatial import distance\n",
    "from sklearn.neighbors import KNeighborsClassifier\n",
    "from sklearn.metrics import confusion_matrix"
   ]
  },
  {
   "cell_type": "code",
   "execution_count": 26,
   "id": "e41444a3",
   "metadata": {
    "scrolled": true
   },
   "outputs": [
    {
     "data": {
      "text/plain": [
       "{'Q001': array([[0., 0., 0., 1.],\n",
       "        [1., 0., 0., 0.]]),\n",
       " 'Q002': array([[0., 0., 0., 0.],\n",
       "        [0., 0., 0., 0.],\n",
       "        [0., 0., 0., 0.],\n",
       "        [0., 0., 0., 0.],\n",
       "        [0., 0., 0., 0.]]),\n",
       " 'Q003': array([[0., 0., 0., 0.],\n",
       "        [0., 0., 0., 0.],\n",
       "        [0., 0., 0., 0.]]),\n",
       " 'nome': 'Fábio Alexandre Cruz Silva Dias',\n",
       " 'numero': 'A42921'}"
      ]
     },
     "execution_count": 26,
     "metadata": {},
     "output_type": "execute_result"
    }
   ],
   "source": [
    "respostas = pickle.load(open('A42921_Ficha2_Respostas.p','rb'))\n",
    "respostas"
   ]
  },
  {
   "cell_type": "markdown",
   "id": "ea5a6b9a",
   "metadata": {},
   "source": [
    "## Exercício 1"
   ]
  },
  {
   "cell_type": "code",
   "execution_count": 27,
   "id": "61dffbfa",
   "metadata": {},
   "outputs": [],
   "source": [
    "D = pickle.load(open('A42921_Q001_data.p','rb'))\n",
    "XTrain = D['Xtrain']\n",
    "XTest = D['Xtest']\n",
    "targetTrain = D['trueClassTrain']\n",
    "targetTest = D['trueClassTest']"
   ]
  },
  {
   "cell_type": "markdown",
   "id": "1ada6457",
   "metadata": {},
   "source": [
    "### a)"
   ]
  },
  {
   "cell_type": "code",
   "execution_count": 28,
   "id": "0cfbeb43",
   "metadata": {},
   "outputs": [
    {
     "data": {
      "text/plain": [
       "array([[176,   8,   0],\n",
       "       [  7,  69,   0],\n",
       "       [  0,   0, 189]], dtype=int64)"
      ]
     },
     "execution_count": 28,
     "metadata": {},
     "output_type": "execute_result"
    }
   ],
   "source": [
    "# a = [[1, -2], [1, 1]]\n",
    "\n",
    "# m0=np.mean(XTest[:,targetTest==0],axis=1)\n",
    "# m1=np.mean(XTest[:,targetTest==1],axis=1)\n",
    "# m2=np.mean(XTest[:,targetTest==2],axis=1)\n",
    "\n",
    "# X0=XTest-m0[:,np.newaxis]\n",
    "# X1=XTest-m1[:,np.newaxis]\n",
    "# X2=XTest-m2[:,np.newaxis]\n",
    "\n",
    "# D0=np.sum(np.dot(X0.T, np.dot(a,X0)), axis=0)\n",
    "# D1=np.sum(np.dot(X1.T, np.dot(a,X1)),axis=0)\n",
    "# D2=np.sum(np.dot(X2.T, np.dot(a,X2)),axis=0)\n",
    "\n",
    "# Dtotal=np.vstack((D0,D1,D2))\n",
    "\n",
    "# #Classificar:\n",
    "# estClass=np.argmin(Dtotal,axis=0)\n",
    "# #confusion_matrix(targetTest, estClass)\n",
    "\n",
    "# kNN=KNeighborsClassifier(n_neighbors=15, metric=estClass)\n",
    "\n",
    "# kNN.fit(XTest.T, targetTest)\n",
    "# resultados=kNN.predict(XTest.T)\n",
    "\n",
    "# confusion_matrix(targetTest, resultados)\n",
    "\n",
    "def getDist(x, y):\n",
    "    a = np.array([[1, -2], [1, 1]])\n",
    "    xn = x - y\n",
    "    dist = np.dot(np.dot(xn.T, a), xn)\n",
    "    return dist\n",
    "\n",
    "kNN=KNeighborsClassifier(n_neighbors=15, metric=getDist)\n",
    "\n",
    "kNN.fit(XTrain.T, targetTrain)\n",
    "resultados=kNN.predict(XTest.T)\n",
    "\n",
    "confusion_matrix(targetTest, resultados)"
   ]
  },
  {
   "cell_type": "markdown",
   "id": "0d767116",
   "metadata": {},
   "source": [
    "### b)"
   ]
  },
  {
   "cell_type": "code",
   "execution_count": 29,
   "id": "f02e54d3",
   "metadata": {
    "scrolled": true
   },
   "outputs": [
    {
     "data": {
      "text/plain": [
       "array([[177,   7,   0],\n",
       "       [  6,  70,   0],\n",
       "       [  0,   0, 189]], dtype=int64)"
      ]
     },
     "execution_count": 29,
     "metadata": {},
     "output_type": "execute_result"
    }
   ],
   "source": [
    "kNN=KNeighborsClassifier(n_neighbors=15)\n",
    "\n",
    "kNN.fit(XTrain.T, targetTrain)\n",
    "resultados=kNN.predict(XTest.T)\n",
    "\n",
    "confusion_matrix(targetTest, resultados)"
   ]
  },
  {
   "cell_type": "markdown",
   "id": "45e51372",
   "metadata": {},
   "source": [
    "## Exercício 2"
   ]
  },
  {
   "cell_type": "markdown",
   "id": "6e2ed828",
   "metadata": {},
   "source": [
    "### a)"
   ]
  },
  {
   "cell_type": "code",
   "execution_count": 73,
   "id": "cd32c0cc",
   "metadata": {},
   "outputs": [
    {
     "data": {
      "text/plain": [
       "array([[5, 0],\n",
       "       [0, 5]], dtype=int64)"
      ]
     },
     "execution_count": 73,
     "metadata": {},
     "output_type": "execute_result"
    }
   ],
   "source": [
    "import scipy.spatial.distance as spd\n",
    "\n",
    "X = np.array([[-1, 2, 1, -1, 2, 6, 8, 4, 6, 4], \n",
    "              [1, 1, 2, 3, 2, -1, 2, -1, 1, -1]])\n",
    "classes = np.array([0, 0, 0, 0, 0, 1, 1, 1, 1, 1])\n",
    "\n",
    "D=spd.squareform(spd.pdist(X.T, 'cosine'))\n",
    "D.astype(np.uint8)\n",
    "\n",
    "m0=np.mean(X[:,classes==0],axis=1) # array de (4,)\n",
    "m1=np.mean(X[:,classes==1],axis=1)\n",
    "#Calcular calcular distancias das 3 m ˆ edias a todos os pontos: ´\n",
    "X0=X-m0[:,np.newaxis] #m0, agora com dim. (4,1)\n",
    "D0=np.sqrt(np.sum(X0*X0,axis=0))\n",
    "X1=X-m1[:,np.newaxis] #m0, agora com dim. (4,1)\n",
    "D1=np.sqrt(np.sum(X1*X1,axis=0))\n",
    "\n",
    "#Construir matriz de distancias (3 ˆ × 150)\n",
    "Dtotal=np.vstack((D0,D1))\n",
    "#Classificar:\n",
    "estClass=np.argmin(Dtotal,axis=0)\n",
    "confusion_matrix(classes, estClass)"
   ]
  },
  {
   "cell_type": "markdown",
   "id": "4f1a68eb",
   "metadata": {},
   "source": [
    "### b)"
   ]
  },
  {
   "cell_type": "code",
   "execution_count": 76,
   "id": "eef89391",
   "metadata": {},
   "outputs": [
    {
     "name": "stdout",
     "output_type": "stream",
     "text": [
      "[0.6 1.8]\n",
      "[5.6 0. ]\n"
     ]
    }
   ],
   "source": [
    "print(m0)\n",
    "print(m1)"
   ]
  },
  {
   "cell_type": "markdown",
   "id": "4d2f21ef",
   "metadata": {},
   "source": [
    "## Exercicio 3)"
   ]
  },
  {
   "cell_type": "code",
   "execution_count": 115,
   "id": "1be77ff5",
   "metadata": {},
   "outputs": [
    {
     "name": "stdout",
     "output_type": "stream",
     "text": [
      "0.830622009569378\n",
      "0.2125\n"
     ]
    },
    {
     "data": {
      "text/plain": [
       "array([[434, 126],\n",
       "       [ 51, 189]], dtype=int64)"
      ]
     },
     "execution_count": 115,
     "metadata": {},
     "output_type": "execute_result"
    }
   ],
   "source": [
    "D = pickle.load(open('A42921_Q003_data.p','rb'))\n",
    "trueClass = D['trueClass']\n",
    "estClass = D['estClass']\n",
    "\n",
    "a = confusion_matrix(trueClass, estClass)\n",
    "\n",
    "precision = a[0, 0] / (a[0, 0] + a[1, 0])\n",
    "recall = a[0, 0] / (a[0, 0] + a[0, 1])\n",
    "\n",
    "p_mais_r = precision + recall\n",
    "p_vezes_r = precision * recall\n",
    "\n",
    "b = 2 * p_vezes_r / p_mais_r\n",
    "print(b)\n",
    "\n",
    "FP = 51 / (51 + 189)\n",
    "print(FP)\n",
    "\n",
    "a"
   ]
  },
  {
   "cell_type": "markdown",
   "id": "d693dafe",
   "metadata": {},
   "source": [
    "# Preenchimento das Respostas"
   ]
  },
  {
   "cell_type": "code",
   "execution_count": 30,
   "id": "b2e9ab2a",
   "metadata": {},
   "outputs": [],
   "source": [
    "q001 = respostas['Q001']\n",
    "q002 = respostas['Q002']\n",
    "q003 = respostas['Q003']"
   ]
  },
  {
   "cell_type": "markdown",
   "id": "b6b8b294",
   "metadata": {},
   "source": [
    "### Exercício 1"
   ]
  },
  {
   "cell_type": "code",
   "execution_count": 31,
   "id": "33754a1e",
   "metadata": {},
   "outputs": [
    {
     "data": {
      "text/plain": [
       "array([[0., 0., 0., 1.],\n",
       "       [1., 0., 0., 0.]])"
      ]
     },
     "execution_count": 31,
     "metadata": {},
     "output_type": "execute_result"
    }
   ],
   "source": [
    "q001[:, :] = 0\n",
    "\n",
    "q001[0, 3] = 1\n",
    "q001[1, 0] = 1\n",
    "\n",
    "q001"
   ]
  },
  {
   "cell_type": "markdown",
   "id": "376a1439",
   "metadata": {},
   "source": [
    "### Exercício 2"
   ]
  },
  {
   "cell_type": "code",
   "execution_count": 81,
   "id": "227da5ec",
   "metadata": {},
   "outputs": [
    {
     "data": {
      "text/plain": [
       "array([[0., 0., 1., 0.],\n",
       "       [0., 0., 0., 1.],\n",
       "       [1., 0., 0., 0.],\n",
       "       [0., 0., 1., 0.],\n",
       "       [0., 0., 0., 1.]])"
      ]
     },
     "execution_count": 81,
     "metadata": {},
     "output_type": "execute_result"
    }
   ],
   "source": [
    "q002[:, :] = 0\n",
    "\n",
    "q002[0, 2] = 1\n",
    "q002[1, 3] = 1\n",
    "q002[2, 0] = 1\n",
    "q002[3, 2] = 1\n",
    "q002[4, 3] = 1\n",
    "\n",
    "q002"
   ]
  },
  {
   "cell_type": "markdown",
   "id": "4107303a",
   "metadata": {},
   "source": [
    "### Exercício 3"
   ]
  },
  {
   "cell_type": "code",
   "execution_count": 116,
   "id": "1e39848d",
   "metadata": {},
   "outputs": [
    {
     "data": {
      "text/plain": [
       "array([[1., 0., 0., 0.],\n",
       "       [0., 0., 0., 1.],\n",
       "       [0., 0., 0., 1.]])"
      ]
     },
     "execution_count": 116,
     "metadata": {},
     "output_type": "execute_result"
    }
   ],
   "source": [
    "q003[:, :] = 0\n",
    "\n",
    "q003[0, 0] = 1\n",
    "q003[1, 3] = 1\n",
    "q003[2, 3] = 1\n",
    "\n",
    "q003"
   ]
  },
  {
   "cell_type": "code",
   "execution_count": 117,
   "id": "7568d574",
   "metadata": {},
   "outputs": [
    {
     "data": {
      "text/plain": [
       "{'Q001': array([[0., 0., 0., 1.],\n",
       "        [1., 0., 0., 0.]]),\n",
       " 'Q002': array([[0., 0., 1., 0.],\n",
       "        [0., 0., 0., 1.],\n",
       "        [1., 0., 0., 0.],\n",
       "        [0., 0., 1., 0.],\n",
       "        [0., 0., 0., 1.]]),\n",
       " 'Q003': array([[1., 0., 0., 0.],\n",
       "        [0., 0., 0., 1.],\n",
       "        [0., 0., 0., 1.]]),\n",
       " 'nome': 'Fábio Alexandre Cruz Silva Dias',\n",
       " 'numero': 'A42921'}"
      ]
     },
     "execution_count": 117,
     "metadata": {},
     "output_type": "execute_result"
    }
   ],
   "source": [
    "respostas['Q001'] = q001\n",
    "respostas['Q002'] = q002\n",
    "respostas['Q003'] = q003\n",
    "\n",
    "respostas"
   ]
  },
  {
   "cell_type": "code",
   "execution_count": 118,
   "id": "1981bb5f",
   "metadata": {},
   "outputs": [],
   "source": [
    "pickle.dump(respostas,open('A42921_Ficha2_Respostas.p','wb'))"
   ]
  },
  {
   "cell_type": "code",
   "execution_count": 119,
   "id": "9c5c1914",
   "metadata": {},
   "outputs": [
    {
     "data": {
      "text/plain": [
       "{'Q001': array([[0., 0., 0., 1.],\n",
       "        [1., 0., 0., 0.]]),\n",
       " 'Q002': array([[0., 0., 1., 0.],\n",
       "        [0., 0., 0., 1.],\n",
       "        [1., 0., 0., 0.],\n",
       "        [0., 0., 1., 0.],\n",
       "        [0., 0., 0., 1.]]),\n",
       " 'Q003': array([[1., 0., 0., 0.],\n",
       "        [0., 0., 0., 1.],\n",
       "        [0., 0., 0., 1.]]),\n",
       " 'nome': 'Fábio Alexandre Cruz Silva Dias',\n",
       " 'numero': 'A42921'}"
      ]
     },
     "execution_count": 119,
     "metadata": {},
     "output_type": "execute_result"
    }
   ],
   "source": [
    "a = pickle.load(open('A42921_Ficha2_Respostas.p','rb'))\n",
    "\n",
    "a"
   ]
  }
 ],
 "metadata": {
  "kernelspec": {
   "display_name": "Python 3",
   "language": "python",
   "name": "python3"
  },
  "language_info": {
   "codemirror_mode": {
    "name": "ipython",
    "version": 3
   },
   "file_extension": ".py",
   "mimetype": "text/x-python",
   "name": "python",
   "nbconvert_exporter": "python",
   "pygments_lexer": "ipython3",
   "version": "3.8.8"
  }
 },
 "nbformat": 4,
 "nbformat_minor": 5
}
