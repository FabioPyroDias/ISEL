{
 "cells": [
  {
   "cell_type": "code",
   "execution_count": 2,
   "id": "64221cf6",
   "metadata": {},
   "outputs": [],
   "source": [
    "import numpy as np\n",
    "import sklearn.datasets as dt\n",
    "import matplotlib.pyplot as plt\n",
    "from sklearn.linear_model import LogisticRegression\n",
    "from sklearn.model_selection import train_test_split\n",
    "from sklearn.metrics import confusion_matrix, roc_curve"
   ]
  },
  {
   "cell_type": "code",
   "execution_count": 7,
   "id": "278852fa",
   "metadata": {},
   "outputs": [],
   "source": [
    "D = dt.load_breast_cancer()\n",
    "X = D.data\n",
    "y = D.target"
   ]
  },
  {
   "cell_type": "code",
   "execution_count": 8,
   "id": "f449cb9d",
   "metadata": {},
   "outputs": [
    {
     "name": "stdout",
     "output_type": "stream",
     "text": [
      "(569, 30)\n"
     ]
    }
   ],
   "source": [
    "print(X.shape)"
   ]
  },
  {
   "cell_type": "code",
   "execution_count": 9,
   "id": "de6b4a3a",
   "metadata": {},
   "outputs": [
    {
     "name": "stdout",
     "output_type": "stream",
     "text": [
      "(379, 30)\n",
      "(190, 30)\n",
      "(379,)\n",
      "(190,)\n"
     ]
    }
   ],
   "source": [
    "X1, X2, y1, y2 = train_test_split(X, y, test_size=1/3, random_state=42, stratify=y)\n",
    "\n",
    "print(X1.shape)\n",
    "print(X2.shape)\n",
    "print(y1.shape)\n",
    "print(y2.shape)"
   ]
  },
  {
   "cell_type": "code",
   "execution_count": 11,
   "id": "e28bb4f5",
   "metadata": {},
   "outputs": [
    {
     "name": "stderr",
     "output_type": "stream",
     "text": [
      "C:\\Users\\fabio\\anaconda3\\lib\\site-packages\\sklearn\\linear_model\\_logistic.py:763: ConvergenceWarning: lbfgs failed to converge (status=1):\n",
      "STOP: TOTAL NO. of ITERATIONS REACHED LIMIT.\n",
      "\n",
      "Increase the number of iterations (max_iter) or scale the data as shown in:\n",
      "    https://scikit-learn.org/stable/modules/preprocessing.html\n",
      "Please also refer to the documentation for alternative solver options:\n",
      "    https://scikit-learn.org/stable/modules/linear_model.html#logistic-regression\n",
      "  n_iter_i = _check_optimize_result(\n"
     ]
    }
   ],
   "source": [
    "#Isto dá erro pelo número máximo de iterações ser muito pequeno.\n",
    "lr = LogisticRegression().fit(X1, y1)"
   ]
  },
  {
   "cell_type": "code",
   "execution_count": 16,
   "id": "d0298ab6",
   "metadata": {},
   "outputs": [
    {
     "name": "stdout",
     "output_type": "stream",
     "text": [
      "[268]\n"
     ]
    }
   ],
   "source": [
    "lr = LogisticRegression(max_iter=5000).fit(X1, y1)\n",
    "\n",
    "print(lr.n_iter_)"
   ]
  },
  {
   "cell_type": "code",
   "execution_count": 17,
   "id": "01194306",
   "metadata": {},
   "outputs": [
    {
     "data": {
      "text/plain": [
       "array([[ 62,   9],\n",
       "       [  2, 117]], dtype=int64)"
      ]
     },
     "execution_count": 17,
     "metadata": {},
     "output_type": "execute_result"
    }
   ],
   "source": [
    "y2e = lr.predict(X2)\n",
    "confusion_matrix(y2, y2e)"
   ]
  },
  {
   "cell_type": "markdown",
   "id": "6487abb9",
   "metadata": {},
   "source": [
    "O que pretendemos é aumentar o limiar. Queremos diminuir o \"9\" (falsos benignos)."
   ]
  },
  {
   "cell_type": "code",
   "execution_count": 18,
   "id": "16180b1a",
   "metadata": {},
   "outputs": [],
   "source": [
    "y2d = lr.decision_function(X2)"
   ]
  },
  {
   "cell_type": "code",
   "execution_count": 19,
   "id": "9d047973",
   "metadata": {},
   "outputs": [
    {
     "data": {
      "text/plain": [
       "array([[ 63,   8],\n",
       "       [  2, 117]], dtype=int64)"
      ]
     },
     "execution_count": 19,
     "metadata": {},
     "output_type": "execute_result"
    }
   ],
   "source": [
    "confusion_matrix(y2, y2d > 0.5)"
   ]
  },
  {
   "cell_type": "code",
   "execution_count": 20,
   "id": "80fb32cf",
   "metadata": {},
   "outputs": [
    {
     "data": {
      "text/plain": [
       "array([[ 64,   7],\n",
       "       [  3, 116]], dtype=int64)"
      ]
     },
     "execution_count": 20,
     "metadata": {},
     "output_type": "execute_result"
    }
   ],
   "source": [
    "confusion_matrix(y2, y2d > 0.75)"
   ]
  },
  {
   "cell_type": "code",
   "execution_count": 21,
   "id": "074b6644",
   "metadata": {},
   "outputs": [
    {
     "data": {
      "text/plain": [
       "array([[ 66,   5],\n",
       "       [  5, 114]], dtype=int64)"
      ]
     },
     "execution_count": 21,
     "metadata": {},
     "output_type": "execute_result"
    }
   ],
   "source": [
    "confusion_matrix(y2, y2d > 1)"
   ]
  },
  {
   "cell_type": "code",
   "execution_count": 22,
   "id": "27b2be8b",
   "metadata": {},
   "outputs": [
    {
     "data": {
      "text/plain": [
       "array([[ 68,   3],\n",
       "       [  9, 110]], dtype=int64)"
      ]
     },
     "execution_count": 22,
     "metadata": {},
     "output_type": "execute_result"
    }
   ],
   "source": [
    "confusion_matrix(y2, y2d > 1.5)"
   ]
  },
  {
   "cell_type": "code",
   "execution_count": 24,
   "id": "574566a1",
   "metadata": {},
   "outputs": [
    {
     "name": "stdout",
     "output_type": "stream",
     "text": [
      "[[ 1.83949187  0.04609554 -0.10540447  0.00853385 -0.12727165 -0.34668759\n",
      "  -0.55797774 -0.27184137 -0.232888   -0.03363053  0.04634084  0.85124319\n",
      "   0.62311687 -0.08347178 -0.02650273 -0.05356398 -0.12101105 -0.04554628\n",
      "  -0.05845603 -0.00477738  1.36758243 -0.23346078 -0.10992862 -0.03175085\n",
      "  -0.24457957 -1.03218798 -1.45988037 -0.54681521 -0.62471423 -0.10346448]]\n"
     ]
    }
   ],
   "source": [
    "print(lr.coef_)"
   ]
  },
  {
   "cell_type": "code",
   "execution_count": 26,
   "id": "924e1a4a",
   "metadata": {},
   "outputs": [],
   "source": [
    "#Só suporta o Solver l2 (tem de se meter o solver='saga')\n",
    "lr = LogisticRegression(max_iter=5000, penalty='l1', solver='saga').fit(X1, y1)"
   ]
  },
  {
   "cell_type": "code",
   "execution_count": 27,
   "id": "9aec93d0",
   "metadata": {},
   "outputs": [
    {
     "data": {
      "text/plain": [
       "array([[ 58,  13],\n",
       "       [  5, 114]], dtype=int64)"
      ]
     },
     "execution_count": 27,
     "metadata": {},
     "output_type": "execute_result"
    }
   ],
   "source": [
    "y2e = lr.predict(X2)\n",
    "\n",
    "confusion_matrix(y2, y2e)"
   ]
  },
  {
   "cell_type": "code",
   "execution_count": 29,
   "id": "d31cbfd0",
   "metadata": {},
   "outputs": [
    {
     "name": "stdout",
     "output_type": "stream",
     "text": [
      "[[ 1.57158743e-02  5.14544520e-03  8.07377497e-02  2.03959522e-02\n",
      "   0.00000000e+00 -6.88045805e-05 -4.02057189e-04  0.00000000e+00\n",
      "   0.00000000e+00  0.00000000e+00  0.00000000e+00  5.57174562e-04\n",
      "  -1.19970539e-04 -1.24940306e-02  0.00000000e+00  0.00000000e+00\n",
      "   0.00000000e+00  0.00000000e+00  0.00000000e+00  0.00000000e+00\n",
      "   1.65187583e-02  8.08676323e-04  6.91139220e-02 -3.40893216e-02\n",
      "   0.00000000e+00 -1.33106886e-03 -2.03204457e-03 -1.76039326e-04\n",
      "   0.00000000e+00  0.00000000e+00]]\n"
     ]
    }
   ],
   "source": [
    "print(lr.coef_)"
   ]
  },
  {
   "cell_type": "code",
   "execution_count": 30,
   "id": "39e469db",
   "metadata": {},
   "outputs": [
    {
     "name": "stdout",
     "output_type": "stream",
     "text": [
      "16\n"
     ]
    }
   ],
   "source": [
    "w = lr.coef_\n",
    "print(np.sum(w != 0))"
   ]
  },
  {
   "cell_type": "markdown",
   "id": "efadba49",
   "metadata": {},
   "source": [
    "A variância em algumas dimensões é de 0.1 enquanto existem outras a variar na ordem dos milhares.\n",
    "\n",
    "Isto pode levar a erros."
   ]
  },
  {
   "cell_type": "code",
   "execution_count": 32,
   "id": "25207366",
   "metadata": {},
   "outputs": [
    {
     "data": {
      "image/png": "[encoded data removed]",
      "text/plain": [
       "<Figure size 432x288 with 1 Axes>"
      ]
     },
     "metadata": {
      "needs_background": "light"
     },
     "output_type": "display_data"
    }
   ],
   "source": [
    "plt.plot(np.mean(X, axis=0), '*')\n",
    "plt.grid(True)"
   ]
  },
  {
   "cell_type": "code",
   "execution_count": 33,
   "id": "82f51a2e",
   "metadata": {},
   "outputs": [
    {
     "data": {
      "image/png": "[encoded data removed]",
      "text/plain": [
       "<Figure size 432x288 with 1 Axes>"
      ]
     },
     "metadata": {
      "needs_background": "light"
     },
     "output_type": "display_data"
    }
   ],
   "source": [
    "plt.plot(np.std(X, axis=0), '*')\n",
    "plt.grid(True)"
   ]
  },
  {
   "cell_type": "markdown",
   "id": "93bde33f",
   "metadata": {},
   "source": [
    "Temos de normalizar os dados"
   ]
  },
  {
   "cell_type": "code",
   "execution_count": 34,
   "id": "22815580",
   "metadata": {},
   "outputs": [],
   "source": [
    "from sklearn.preprocessing import StandardScaler"
   ]
  },
  {
   "cell_type": "code",
   "execution_count": 35,
   "id": "ab279589",
   "metadata": {},
   "outputs": [],
   "source": [
    "sc = StandardScaler().fit(X1)\n",
    "\n",
    "X1n = sc.transform(X1)\n",
    "X2n = sc.transform(X2)"
   ]
  },
  {
   "cell_type": "code",
   "execution_count": 36,
   "id": "dfe020d7",
   "metadata": {},
   "outputs": [],
   "source": [
    "lr = LogisticRegression(max_iter=5000, penalty='l1', solver='saga').fit(X1n, y1)"
   ]
  },
  {
   "cell_type": "markdown",
   "id": "c04132db",
   "metadata": {},
   "source": [
    "Antes de normalizar os dados:"
   ]
  },
  {
   "cell_type": "code",
   "execution_count": 38,
   "id": "903f9577",
   "metadata": {},
   "outputs": [
    {
     "data": {
      "text/plain": [
       "array([[ 58,  13],\n",
       "       [  5, 114]], dtype=int64)"
      ]
     },
     "execution_count": 38,
     "metadata": {},
     "output_type": "execute_result"
    }
   ],
   "source": [
    "confusion_matrix(y2, y2e)"
   ]
  },
  {
   "cell_type": "markdown",
   "id": "66ea4847",
   "metadata": {},
   "source": [
    "Depois de normalizar os dados"
   ]
  },
  {
   "cell_type": "code",
   "execution_count": null,
   "id": "3e7984b8",
   "metadata": {},
   "outputs": [],
   "source": []
  },
  {
   "cell_type": "code",
   "execution_count": null,
   "id": "780f737d",
   "metadata": {},
   "outputs": [],
   "source": []
  },
  {
   "cell_type": "code",
   "execution_count": null,
   "id": "47f229cf",
   "metadata": {},
   "outputs": [],
   "source": []
  },
  {
   "cell_type": "code",
   "execution_count": null,
   "id": "f22aa48a",
   "metadata": {},
   "outputs": [],
   "source": []
  },
  {
   "cell_type": "code",
   "execution_count": null,
   "id": "e2257715",
   "metadata": {},
   "outputs": [],
   "source": []
  },
  {
   "cell_type": "code",
   "execution_count": 40,
   "id": "af36cd78",
   "metadata": {},
   "outputs": [],
   "source": [
    "y2da = lr.decision_function(X2n)\n",
    "\n",
    "lr = LogisticRegression(max_iter=5000, penalty='l1', solver='saga').fit(X1n, y1)\n",
    "y2db = lr.decision_function(X2n)"
   ]
  },
  {
   "cell_type": "code",
   "execution_count": 42,
   "id": "ca1eb42f",
   "metadata": {},
   "outputs": [],
   "source": [
    "f1, r1, t = roc_curve(y2, y2da)\n",
    "f2, r2, t = roc_curve(y2, y2db)"
   ]
  },
  {
   "cell_type": "code",
   "execution_count": 44,
   "id": "21f00df1",
   "metadata": {},
   "outputs": [
    {
     "data": {
      "image/png": "[encoded data removed]",
      "text/plain": [
       "<Figure size 432x288 with 1 Axes>"
      ]
     },
     "metadata": {
      "needs_background": "light"
     },
     "output_type": "display_data"
    }
   ],
   "source": [
    "plt.plot(f1, r1, 'b', f2, r2, 'r')\n",
    "plt.axis('scaled')\n",
    "plt.grid(True)"
   ]
  },
  {
   "cell_type": "code",
   "execution_count": 46,
   "id": "20bf0fc8",
   "metadata": {},
   "outputs": [],
   "source": [
    "fp1 = 4/(67+4)\n",
    "tp1 = 118/119\n",
    "\n",
    "fp2 = 3/71\n",
    "tp2 = tp1"
   ]
  },
  {
   "cell_type": "code",
   "execution_count": 47,
   "id": "ccd9f302",
   "metadata": {},
   "outputs": [
    {
     "data": {
      "image/png": "[encoded data removed]",
      "text/plain": [
       "<Figure size 432x288 with 1 Axes>"
      ]
     },
     "metadata": {
      "needs_background": "light"
     },
     "output_type": "display_data"
    }
   ],
   "source": [
    "plt.plot(f1, r1, 'b', f2, r2, 'r', fp1, tp1, '+b', fp2, tp2, '+r')\n",
    "plt.axis('scaled')\n",
    "plt.grid(True)"
   ]
  },
  {
   "cell_type": "code",
   "execution_count": 48,
   "id": "2383eaee",
   "metadata": {},
   "outputs": [],
   "source": [
    "lr = LogisticRegression(max_iter=5000, penalty='l1', solver='saga', C=2).fit(X1n, y1)"
   ]
  },
  {
   "cell_type": "code",
   "execution_count": 49,
   "id": "0aa5e2b8",
   "metadata": {},
   "outputs": [
    {
     "name": "stdout",
     "output_type": "stream",
     "text": [
      "[[ 0.          0.          0.          0.          0.          0.66210327\n",
      "   0.         -0.72285196  0.          0.         -0.91463926  0.54307864\n",
      "   0.         -2.13760623 -0.30047547  0.80812906  0.          0.\n",
      "   0.03530613  0.         -1.94499445 -1.93969478  0.         -2.54552246\n",
      "  -0.7790993   0.         -0.88761959 -1.94005555 -0.76156537  0.        ]]\n"
     ]
    }
   ],
   "source": [
    "wc = lr.coef_\n",
    "\n",
    "print(wc)"
   ]
  },
  {
   "cell_type": "code",
   "execution_count": 50,
   "id": "10d80e49",
   "metadata": {},
   "outputs": [
    {
     "data": {
      "text/plain": [
       "array([[ 69,   2],\n",
       "       [  0, 119]], dtype=int64)"
      ]
     },
     "execution_count": 50,
     "metadata": {},
     "output_type": "execute_result"
    }
   ],
   "source": [
    "y2e = lr.predict(X2n)\n",
    "confusion_matrix(y2, y2e)"
   ]
  },
  {
   "cell_type": "code",
   "execution_count": 52,
   "id": "2ae1c34b",
   "metadata": {},
   "outputs": [
    {
     "data": {
      "text/plain": [
       "array([[ 70,   1],\n",
       "       [  4, 115]], dtype=int64)"
      ]
     },
     "execution_count": 52,
     "metadata": {},
     "output_type": "execute_result"
    }
   ],
   "source": [
    "y2d = lr.decision_function(X2n)\n",
    "confusion_matrix(y2, y2d > .5)"
   ]
  },
  {
   "cell_type": "code",
   "execution_count": 54,
   "id": "e157e35e",
   "metadata": {},
   "outputs": [
    {
     "data": {
      "text/plain": [
       "array([[ 69,   2],\n",
       "       [  1, 118]], dtype=int64)"
      ]
     },
     "execution_count": 54,
     "metadata": {},
     "output_type": "execute_result"
    }
   ],
   "source": [
    "confusion_matrix(y2, y2d > .15)"
   ]
  },
  {
   "cell_type": "code",
   "execution_count": 55,
   "id": "5dc80f1c",
   "metadata": {},
   "outputs": [
    {
     "data": {
      "text/plain": [
       "array([[ 70,   1],\n",
       "       [  1, 118]], dtype=int64)"
      ]
     },
     "execution_count": 55,
     "metadata": {},
     "output_type": "execute_result"
    }
   ],
   "source": [
    "confusion_matrix(y2, y2d > .25)"
   ]
  },
  {
   "cell_type": "code",
   "execution_count": null,
   "id": "093de83d",
   "metadata": {},
   "outputs": [],
   "source": []
  },
  {
   "cell_type": "markdown",
   "id": "906b3516",
   "metadata": {},
   "source": [
    "Classificacao Multi-classe"
   ]
  },
  {
   "cell_type": "code",
   "execution_count": 57,
   "id": "8bf354f1",
   "metadata": {},
   "outputs": [
    {
     "data": {
      "text/plain": [
       "array([[ 0.        ,  0.        ,  0.        ,  0.        ,  0.        ,\n",
       "         0.66210327,  0.        , -0.72285196,  0.        ,  0.        ,\n",
       "        -0.91463926,  0.54307864,  0.        , -2.13760623, -0.30047547,\n",
       "         0.80812906,  0.        ,  0.        ,  0.03530613,  0.        ,\n",
       "        -1.94499445, -1.93969478,  0.        , -2.54552246, -0.7790993 ,\n",
       "         0.        , -0.88761959, -1.94005555, -0.76156537,  0.        ]])"
      ]
     },
     "execution_count": 57,
     "metadata": {},
     "output_type": "execute_result"
    }
   ],
   "source": [
    "lr.coef_"
   ]
  },
  {
   "cell_type": "code",
   "execution_count": 58,
   "id": "766aa76d",
   "metadata": {},
   "outputs": [
    {
     "data": {
      "text/plain": [
       "(190,)"
      ]
     },
     "execution_count": 58,
     "metadata": {},
     "output_type": "execute_result"
    }
   ],
   "source": [
    "y2d.shape"
   ]
  },
  {
   "cell_type": "code",
   "execution_count": 59,
   "id": "1572b325",
   "metadata": {},
   "outputs": [],
   "source": [
    "D = dt.load_iris()\n",
    "X = D.data\n",
    "y = D.target"
   ]
  },
  {
   "cell_type": "code",
   "execution_count": 61,
   "id": "8297510e",
   "metadata": {},
   "outputs": [],
   "source": [
    "lr = LogisticRegression(max_iter=500).fit(X, y)"
   ]
  },
  {
   "cell_type": "code",
   "execution_count": 62,
   "id": "57fc32db",
   "metadata": {},
   "outputs": [
    {
     "name": "stdout",
     "output_type": "stream",
     "text": [
      "[  9.85512128   2.23277161 -12.08789289]\n"
     ]
    }
   ],
   "source": [
    "print(lr.intercept_)"
   ]
  },
  {
   "cell_type": "code",
   "execution_count": 63,
   "id": "27cd5bdc",
   "metadata": {},
   "outputs": [
    {
     "name": "stdout",
     "output_type": "stream",
     "text": [
      "[[-0.42434519  0.96692807 -2.51720846 -1.07938946]\n",
      " [ 0.53499003 -0.32132698 -0.20620328 -0.94424639]\n",
      " [-0.11064484 -0.64560109  2.72341174  2.02363584]]\n"
     ]
    }
   ],
   "source": [
    "print(lr.coef_)"
   ]
  },
  {
   "cell_type": "markdown",
   "id": "29257434",
   "metadata": {},
   "source": [
    "## Máquinas de Suporte Vectorial"
   ]
  },
  {
   "cell_type": "code",
   "execution_count": 64,
   "id": "daddf71d",
   "metadata": {},
   "outputs": [],
   "source": [
    "from sklearn.svm import SVC"
   ]
  },
  {
   "cell_type": "code",
   "execution_count": 65,
   "id": "e7187291",
   "metadata": {},
   "outputs": [],
   "source": [
    "D =dt.load_breast_cancer()\n",
    "X = D.data\n",
    "y = D.target"
   ]
  },
  {
   "cell_type": "code",
   "execution_count": 66,
   "id": "c5e20f03",
   "metadata": {},
   "outputs": [],
   "source": [
    "X1, X2, y1, y2 = train_test_split(X, y, test_size=1/3, random_state=42, stratify=y)"
   ]
  },
  {
   "cell_type": "code",
   "execution_count": 68,
   "id": "94a24902",
   "metadata": {},
   "outputs": [],
   "source": [
    "svm = SVC(kernel='rbf', gamma='auto').fit(X1, y1)"
   ]
  },
  {
   "cell_type": "code",
   "execution_count": 69,
   "id": "5cdc0fa6",
   "metadata": {},
   "outputs": [],
   "source": [
    "y2e = svm.predict(X2)"
   ]
  },
  {
   "cell_type": "code",
   "execution_count": 70,
   "id": "e263be39",
   "metadata": {},
   "outputs": [
    {
     "data": {
      "text/plain": [
       "array([[  0,  71],\n",
       "       [  0, 119]], dtype=int64)"
      ]
     },
     "execution_count": 70,
     "metadata": {},
     "output_type": "execute_result"
    }
   ],
   "source": [
    "confusion_matrix(y2, y2e)"
   ]
  },
  {
   "cell_type": "code",
   "execution_count": 73,
   "id": "57c20b79",
   "metadata": {},
   "outputs": [
    {
     "name": "stdout",
     "output_type": "stream",
     "text": [
      "0.6263157894736842\n"
     ]
    }
   ],
   "source": [
    "score = 119 / (119 + 71)\n",
    "\n",
    "print(score)"
   ]
  },
  {
   "cell_type": "code",
   "execution_count": 77,
   "id": "3abd9aba",
   "metadata": {},
   "outputs": [
    {
     "data": {
      "text/plain": [
       "array([[  0,  71],\n",
       "       [  0, 119]], dtype=int64)"
      ]
     },
     "execution_count": 77,
     "metadata": {},
     "output_type": "execute_result"
    }
   ],
   "source": [
    "svm = SVC(kernel='rbf', gamma=1/30).fit(X1, y1)\n",
    "y2e = svm.predict(X2)\n",
    "confusion_matrix(y2, y2e)"
   ]
  },
  {
   "cell_type": "code",
   "execution_count": 78,
   "id": "da1e1ab9",
   "metadata": {},
   "outputs": [
    {
     "data": {
      "text/plain": [
       "array([[  0,  71],\n",
       "       [  0, 119]], dtype=int64)"
      ]
     },
     "execution_count": 78,
     "metadata": {},
     "output_type": "execute_result"
    }
   ],
   "source": [
    "svm = SVC(kernel='rbf', gamma=1/20).fit(X1, y1)\n",
    "y2e = svm.predict(X2)\n",
    "confusion_matrix(y2, y2e)"
   ]
  },
  {
   "cell_type": "code",
   "execution_count": 79,
   "id": "439c153b",
   "metadata": {},
   "outputs": [
    {
     "data": {
      "text/plain": [
       "(379, 30)"
      ]
     },
     "execution_count": 79,
     "metadata": {},
     "output_type": "execute_result"
    }
   ],
   "source": [
    "X1n.shape"
   ]
  },
  {
   "cell_type": "code",
   "execution_count": 81,
   "id": "d184defd",
   "metadata": {},
   "outputs": [
    {
     "data": {
      "text/plain": [
       "array([[ 69,   2],\n",
       "       [  2, 117]], dtype=int64)"
      ]
     },
     "execution_count": 81,
     "metadata": {},
     "output_type": "execute_result"
    }
   ],
   "source": [
    "svm = SVC(kernel='rbf', gamma='auto').fit(X1n, y1)\n",
    "y2e = svm.predict(X2n)\n",
    "confusion_matrix(y2, y2e)"
   ]
  },
  {
   "cell_type": "code",
   "execution_count": 82,
   "id": "9e18d6e4",
   "metadata": {},
   "outputs": [
    {
     "data": {
      "text/plain": [
       "array([[ 70,   1],\n",
       "       [  2, 117]], dtype=int64)"
      ]
     },
     "execution_count": 82,
     "metadata": {},
     "output_type": "execute_result"
    }
   ],
   "source": [
    "svm = SVC(kernel='rbf', gamma=1/20).fit(X1n, y1)\n",
    "y2e = svm.predict(X2n)\n",
    "confusion_matrix(y2, y2e)"
   ]
  },
  {
   "cell_type": "markdown",
   "id": "b046d92a",
   "metadata": {},
   "source": [
    "### Aula 11-12"
   ]
  },
  {
   "cell_type": "code",
   "execution_count": 6,
   "id": "fc38e30e",
   "metadata": {},
   "outputs": [],
   "source": [
    "import numpy as np\n",
    "import matplotlib.pyplot as plt\n",
    "import  sklearn.datasets as dt\n",
    "from sklearn.linear_model import LogisticRegression\n",
    "from sklearn.model_selection import train_test_split\n",
    "\n",
    "D = dt.load_digits()\n",
    "X = D.data\n",
    "y = D.target\n",
    "\n",
    "X1, X2, y1, y2 = train_test_split(X, y, test_size=1/3)"
   ]
  },
  {
   "cell_type": "code",
   "execution_count": 7,
   "id": "bd9ed5d2",
   "metadata": {},
   "outputs": [
    {
     "name": "stderr",
     "output_type": "stream",
     "text": [
      "C:\\Users\\fabio\\anaconda3\\lib\\site-packages\\sklearn\\linear_model\\_logistic.py:763: ConvergenceWarning: lbfgs failed to converge (status=1):\n",
      "STOP: TOTAL NO. of ITERATIONS REACHED LIMIT.\n",
      "\n",
      "Increase the number of iterations (max_iter) or scale the data as shown in:\n",
      "    https://scikit-learn.org/stable/modules/preprocessing.html\n",
      "Please also refer to the documentation for alternative solver options:\n",
      "    https://scikit-learn.org/stable/modules/linear_model.html#logistic-regression\n",
      "  n_iter_i = _check_optimize_result(\n"
     ]
    }
   ],
   "source": [
    "lr = LogisticRegression().fit(X1, y1)"
   ]
  },
  {
   "cell_type": "code",
   "execution_count": 8,
   "id": "90cd2304",
   "metadata": {},
   "outputs": [
    {
     "name": "stdout",
     "output_type": "stream",
     "text": [
      "(599, 10)\n"
     ]
    },
    {
     "data": {
      "text/plain": [
       "array([3, 4, 0, 8, 5])"
      ]
     },
     "execution_count": 8,
     "metadata": {},
     "output_type": "execute_result"
    }
   ],
   "source": [
    "Y = lr.decision_function(X2)\n",
    "print(Y.shape)\n",
    "\n",
    "y2e = lr.predict(X2)\n",
    "y2e[ :5]"
   ]
  },
  {
   "cell_type": "code",
   "execution_count": 9,
   "id": "e72625a7",
   "metadata": {},
   "outputs": [
    {
     "name": "stderr",
     "output_type": "stream",
     "text": [
      "C:\\Users\\fabio\\anaconda3\\lib\\site-packages\\sklearn\\linear_model\\_logistic.py:763: ConvergenceWarning: lbfgs failed to converge (status=1):\n",
      "STOP: TOTAL NO. of ITERATIONS REACHED LIMIT.\n",
      "\n",
      "Increase the number of iterations (max_iter) or scale the data as shown in:\n",
      "    https://scikit-learn.org/stable/modules/preprocessing.html\n",
      "Please also refer to the documentation for alternative solver options:\n",
      "    https://scikit-learn.org/stable/modules/linear_model.html#logistic-regression\n",
      "  n_iter_i = _check_optimize_result(\n"
     ]
    }
   ],
   "source": [
    "#Assim, só temos duas classes, o que são 8 e o que não são.\n",
    "y1b =(y1==8) * 1\n",
    "lr = LogisticRegression().fit(X1, y1b)"
   ]
  },
  {
   "cell_type": "code",
   "execution_count": 10,
   "id": "59c251e3",
   "metadata": {},
   "outputs": [
    {
     "name": "stdout",
     "output_type": "stream",
     "text": [
      "(599,)\n"
     ]
    }
   ],
   "source": [
    "Y = lr.decision_function(X2)\n",
    "\n",
    "print(Y.shape)"
   ]
  },
  {
   "cell_type": "code",
   "execution_count": 11,
   "id": "256b4886",
   "metadata": {},
   "outputs": [],
   "source": [
    "from sklearn.ensemble import RandomForestClassifier"
   ]
  },
  {
   "cell_type": "code",
   "execution_count": 12,
   "id": "6c5f358f",
   "metadata": {},
   "outputs": [],
   "source": [
    "rf = RandomForestClassifier().fit(X1, y1b)"
   ]
  },
  {
   "cell_type": "code",
   "execution_count": 14,
   "id": "ff709788",
   "metadata": {},
   "outputs": [
    {
     "data": {
      "text/plain": [
       "(599, 2)"
      ]
     },
     "execution_count": 14,
     "metadata": {},
     "output_type": "execute_result"
    }
   ],
   "source": [
    "Y = rf.predict_proba(X2)\n",
    "Y.shape"
   ]
  },
  {
   "cell_type": "code",
   "execution_count": 16,
   "id": "820016d5",
   "metadata": {},
   "outputs": [
    {
     "data": {
      "text/plain": [
       "array([[0.89, 0.11],\n",
       "       [0.99, 0.01],\n",
       "       [0.99, 0.01],\n",
       "       [0.75, 0.25],\n",
       "       [0.98, 0.02]])"
      ]
     },
     "execution_count": 16,
     "metadata": {},
     "output_type": "execute_result"
    }
   ],
   "source": [
    "#A segunda coluna indica a probabilidade de ser positivo ou negativo.\n",
    "#São complementares. Uma é 1 - a outra.\n",
    "Y[:5, :]"
   ]
  },
  {
   "cell_type": "markdown",
   "id": "6bc1d830",
   "metadata": {},
   "source": [
    "Para a curva ROC, usar o decision_function().\n",
    "É preciso ser continuo.\n",
    "\n",
    "Saida da curva ROC: Taxa de , Taxa de, "
   ]
  },
  {
   "cell_type": "code",
   "execution_count": 17,
   "id": "7142bb84",
   "metadata": {},
   "outputs": [],
   "source": [
    "from sklearn.metrics import roc_curve, confusion_matrix"
   ]
  },
  {
   "cell_type": "code",
   "execution_count": 18,
   "id": "5d169fb3",
   "metadata": {},
   "outputs": [],
   "source": [
    "ylr = lr.decision_function(X2)\n",
    "yrf = rf.predict_proba(X2)[:, 1]\n",
    "\n",
    "y2b = (y2==8)*1"
   ]
  },
  {
   "cell_type": "code",
   "execution_count": 20,
   "id": "f22a78f7",
   "metadata": {},
   "outputs": [
    {
     "name": "stdout",
     "output_type": "stream",
     "text": [
      "Logistic Regression: \n",
      "[[518  17]\n",
      " [ 15  49]]\n",
      "Random Forest: \n",
      "[[535   0]\n",
      " [ 18  46]]\n"
     ]
    }
   ],
   "source": [
    "y2lr = lr.predict(X2)\n",
    "y2rf = rf.predict(X2)\n",
    "\n",
    "print(\"Logistic Regression: \")\n",
    "print(confusion_matrix(y2b, y2lr))\n",
    "print(\"Random Forest: \")\n",
    "print(confusion_matrix(y2b, y2rf))"
   ]
  },
  {
   "cell_type": "code",
   "execution_count": 22,
   "id": "5a871be8",
   "metadata": {},
   "outputs": [
    {
     "data": {
      "image/png": "[encoded data removed]",
      "text/plain": [
       "<Figure size 432x288 with 1 Axes>"
      ]
     },
     "metadata": {
      "needs_background": "light"
     },
     "output_type": "display_data"
    }
   ],
   "source": [
    "fp1, tp1, t = roc_curve(y2b, ylr)\n",
    "fp2, tp2, t = roc_curve(y2b, yrf)\n",
    "\n",
    "#Ponto Operacional\n",
    "f1a = 17 / (518+17) #matriz confusao (0, 1) / ((0, 0) + (0, 1))\n",
    "r1a = 49 / (19+49) #matriz confusao (1, 1) / ((1, 0) + (1, 1))\n",
    "\n",
    "f2a = 0\n",
    "r2a = 46 / (18 + 46)\n",
    "\n",
    "plt.plot(fp1, tp1, '-', fp2, tp2, '-', f1a, r1a, 'or', f2a, r2a, 'ob')\n",
    "plt.axis('scaled')\n",
    "plt.grid(True)"
   ]
  },
  {
   "cell_type": "markdown",
   "id": "fdc10d8e",
   "metadata": {},
   "source": [
    "## Ajuste de Parâmetros dos Modelos"
   ]
  },
  {
   "cell_type": "markdown",
   "id": "1a1f5084",
   "metadata": {},
   "source": [
    "Depois de obtidos os hiperparametros optimos, juntamos os dados de treino e validação, o X1 inicial (X1n deve ser normalizado) e treino o classificador com esses."
   ]
  },
  {
   "cell_type": "code",
   "execution_count": null,
   "id": "57f29ada",
   "metadata": {},
   "outputs": [],
   "source": []
  }
 ],
 "metadata": {
  "kernelspec": {
   "display_name": "Python 3",
   "language": "python",
   "name": "python3"
  },
  "language_info": {
   "codemirror_mode": {
    "name": "ipython",
    "version": 3
   },
   "file_extension": ".py",
   "mimetype": "text/x-python",
   "name": "python",
   "nbconvert_exporter": "python",
   "pygments_lexer": "ipython3",
   "version": "3.8.8"
  }
 },
 "nbformat": 4,
 "nbformat_minor": 5
}
