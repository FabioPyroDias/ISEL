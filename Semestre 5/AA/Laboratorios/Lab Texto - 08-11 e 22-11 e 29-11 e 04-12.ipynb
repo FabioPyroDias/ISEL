{
 "cells": [
  {
   "cell_type": "code",
   "execution_count": 1,
   "id": "6217076b",
   "metadata": {},
   "outputs": [],
   "source": [
    "import numpy as np\n",
    "from sklearn.feature_extraction.text import CountVectorizer"
   ]
  },
  {
   "cell_type": "code",
   "execution_count": 5,
   "id": "960f7603",
   "metadata": {},
   "outputs": [
    {
     "data": {
      "text/plain": [
       "3"
      ]
     },
     "execution_count": 5,
     "metadata": {},
     "output_type": "execute_result"
    }
   ],
   "source": [
    "corpus=[\"you better start swimming or you’ll sink like a stone for the times they are a-changing\",\\\n",
    "\"the loser now will be later to win cause the times they are a-changing\",\\\n",
    "\"it’ll soon shake your windows and rattle your walls for the times they are a-changing\"]\n",
    "\n",
    "len(corpus)"
   ]
  },
  {
   "cell_type": "code",
   "execution_count": 6,
   "id": "3b6f9314",
   "metadata": {},
   "outputs": [
    {
     "name": "stdout",
     "output_type": "stream",
     "text": [
      "you better start swimming or you’ll sink like a stone for the times they are a-changing\n",
      "the loser now will be later to win cause the times they are a-changing\n",
      "it’ll soon shake your windows and rattle your walls for the times they are a-changing\n"
     ]
    }
   ],
   "source": [
    "print(corpus[0])\n",
    "print(corpus[1])\n",
    "print(corpus[2])"
   ]
  },
  {
   "cell_type": "code",
   "execution_count": 9,
   "id": "a2cd9bb3",
   "metadata": {},
   "outputs": [],
   "source": [
    "cv = CountVectorizer().fit(corpus)\n",
    "v = cv.transform(corpus)"
   ]
  },
  {
   "cell_type": "code",
   "execution_count": 10,
   "id": "e213a070",
   "metadata": {},
   "outputs": [
    {
     "data": {
      "text/plain": [
       "array([[0, 1, 0, 1, 0, 1, 1, 0, 0, 1, 1, 0, 0, 1, 0, 0, 1, 0, 1, 1, 1, 1,\n",
       "        1, 1, 0, 0, 0, 0, 0, 2, 0],\n",
       "       [0, 1, 1, 0, 1, 1, 0, 0, 1, 0, 0, 1, 1, 0, 0, 0, 0, 0, 0, 0, 0, 2,\n",
       "        1, 1, 1, 0, 1, 1, 0, 0, 0],\n",
       "       [1, 1, 0, 0, 0, 1, 1, 1, 0, 0, 1, 0, 0, 0, 1, 1, 0, 1, 0, 0, 0, 1,\n",
       "        1, 1, 0, 1, 0, 0, 1, 0, 2]], dtype=int64)"
      ]
     },
     "execution_count": 10,
     "metadata": {},
     "output_type": "execute_result"
    }
   ],
   "source": [
    "v.toarray()"
   ]
  },
  {
   "cell_type": "code",
   "execution_count": 16,
   "id": "db3e83e9",
   "metadata": {},
   "outputs": [
    {
     "name": "stdout",
     "output_type": "stream",
     "text": [
      "<class 'dict'>\n",
      "{'you': 29, 'better': 3, 'start': 18, 'swimming': 20, 'or': 13, 'll': 10, 'sink': 16, 'like': 9, 'stone': 19, 'for': 6, 'the': 21, 'times': 23, 'they': 22, 'are': 1, 'changing': 5, 'loser': 11, 'now': 12, 'will': 26, 'be': 2, 'later': 8, 'to': 24, 'win': 27, 'cause': 4, 'it': 7, 'soon': 17, 'shake': 15, 'your': 30, 'windows': 28, 'and': 0, 'rattle': 14, 'walls': 25}\n"
     ]
    }
   ],
   "source": [
    "voc = cv.vocabulary_ #-> Organizado por ordem alfabética.\n",
    "print(type(voc))\n",
    "print(voc)"
   ]
  },
  {
   "cell_type": "code",
   "execution_count": 19,
   "id": "28f2578b",
   "metadata": {},
   "outputs": [
    {
     "data": {
      "text/plain": [
       "['and',\n",
       " 'are',\n",
       " 'be',\n",
       " 'better',\n",
       " 'cause',\n",
       " 'changing',\n",
       " 'for',\n",
       " 'it',\n",
       " 'later',\n",
       " 'like',\n",
       " 'll',\n",
       " 'loser',\n",
       " 'now',\n",
       " 'or',\n",
       " 'rattle',\n",
       " 'shake',\n",
       " 'sink',\n",
       " 'soon',\n",
       " 'start',\n",
       " 'stone',\n",
       " 'swimming',\n",
       " 'the',\n",
       " 'they',\n",
       " 'times',\n",
       " 'to',\n",
       " 'walls',\n",
       " 'will',\n",
       " 'win',\n",
       " 'windows',\n",
       " 'you',\n",
       " 'your']"
      ]
     },
     "execution_count": 19,
     "metadata": {},
     "output_type": "execute_result"
    }
   ],
   "source": [
    "vn = cv.get_feature_names()\n",
    "vn"
   ]
  },
  {
   "cell_type": "code",
   "execution_count": 29,
   "id": "ea737f64",
   "metadata": {},
   "outputs": [],
   "source": [
    "i = np.array(list(voc.values()))\n",
    "words = list(voc.keys())\n",
    "\n",
    "idx = np.argsort(i)\n",
    "newD = {i:words[idx[i]] for i in range(len(words))}"
   ]
  },
  {
   "cell_type": "code",
   "execution_count": 34,
   "id": "8388a984",
   "metadata": {},
   "outputs": [
    {
     "data": {
      "text/plain": [
       "{0: 'and',\n",
       " 1: 'are',\n",
       " 2: 'be',\n",
       " 3: 'better',\n",
       " 4: 'cause',\n",
       " 5: 'changing',\n",
       " 6: 'for',\n",
       " 7: 'it',\n",
       " 8: 'later',\n",
       " 9: 'like',\n",
       " 10: 'll',\n",
       " 11: 'loser',\n",
       " 12: 'now',\n",
       " 13: 'or',\n",
       " 14: 'rattle',\n",
       " 15: 'shake',\n",
       " 16: 'sink',\n",
       " 17: 'soon',\n",
       " 18: 'start',\n",
       " 19: 'stone',\n",
       " 20: 'swimming',\n",
       " 21: 'the',\n",
       " 22: 'they',\n",
       " 23: 'times',\n",
       " 24: 'to',\n",
       " 25: 'walls',\n",
       " 26: 'will',\n",
       " 27: 'win',\n",
       " 28: 'windows',\n",
       " 29: 'you',\n",
       " 30: 'your'}"
      ]
     },
     "execution_count": 34,
     "metadata": {},
     "output_type": "execute_result"
    }
   ],
   "source": [
    "newD"
   ]
  },
  {
   "cell_type": "code",
   "execution_count": 52,
   "id": "d382e3c8",
   "metadata": {},
   "outputs": [
    {
     "name": "stdout",
     "output_type": "stream",
     "text": [
      "[[0 1 0 1 0 1 1 0 0 1 1 0 0 1 0 0 1 0 1 1 1 1 1 1 0 0 0 0 0 2 0]\n",
      " [0 1 1 0 1 1 0 0 1 0 0 1 1 0 0 0 0 0 0 0 0 2 1 1 1 0 1 1 0 0 0]\n",
      " [1 1 0 0 0 1 1 1 0 0 1 0 0 0 1 1 0 1 0 0 0 1 1 1 0 1 0 0 1 0 2]]\n",
      "2\n",
      "you\n"
     ]
    }
   ],
   "source": [
    "print(v.toarray())\n",
    "\n",
    "print(v.toarray()[0, 29]) #Isto indica que a palavra 29 no newD aparece duas vezes.\n",
    "print(newD[29]) #Neste caso \"you\""
   ]
  },
  {
   "cell_type": "markdown",
   "id": "9987d645",
   "metadata": {},
   "source": [
    "#### Aula 22-11"
   ]
  },
  {
   "cell_type": "code",
   "execution_count": 32,
   "id": "bd1b87c1",
   "metadata": {},
   "outputs": [],
   "source": [
    "import pickle\n",
    "import matplotlib.pyplot as plt\n",
    "import numpy as np"
   ]
  },
  {
   "cell_type": "code",
   "execution_count": 5,
   "id": "7a25c644",
   "metadata": {},
   "outputs": [],
   "source": [
    "D = pickle.load(open(\"Laboratorio de Texto\\imdbCriticas.p\", 'rb'))"
   ]
  },
  {
   "cell_type": "code",
   "execution_count": 8,
   "id": "7a3d7509",
   "metadata": {},
   "outputs": [],
   "source": [
    "Docs = D['data']\n",
    "y = D.target"
   ]
  },
  {
   "cell_type": "code",
   "execution_count": 33,
   "id": "a824f909",
   "metadata": {},
   "outputs": [
    {
     "name": "stdout",
     "output_type": "stream",
     "text": [
      "[ 1  2  3  4  7  8  9 10]\n"
     ]
    }
   ],
   "source": [
    "print(np.unique(y))"
   ]
  },
  {
   "cell_type": "code",
   "execution_count": 29,
   "id": "c1eb2b3a",
   "metadata": {},
   "outputs": [
    {
     "data": {
      "text/plain": [
       "\"Zero Day leads you to think, even re-think why two boys/young men would do what they did - commit mutual suicide via slaughtering their classmates. It captures what must be beyond a bizarre mode of being for two humans who have decided to withdraw from common civility in order to define their own/mutual world via coupled destruction.<br /><br />It is not a perfect movie but given what money/time the filmmaker and actors had - it is a remarkable product. In terms of explaining the motives and actions of the two young suicide/murderers it is better than 'Elephant' - in terms of being a film that gets under our 'rationalistic' skin it is a far, far better film than almost anything you are likely to see. <br /><br />Flawed but honest with a terrible honesty.\""
      ]
     },
     "execution_count": 29,
     "metadata": {},
     "output_type": "execute_result"
    }
   ],
   "source": [
    "Docs[0]"
   ]
  },
  {
   "cell_type": "code",
   "execution_count": 11,
   "id": "031d261d",
   "metadata": {
    "scrolled": false
   },
   "outputs": [
    {
     "data": {
      "text/plain": [
       "'There are a lot of highly talented filmmakers/actors in Germany now. None of them are associated with this \"movie\".<br /><br />Why in the world do producers actually invest money in something like this this? You could have made 10 good films with the budget of this garbage! It\\'s not entertaining to have seven grown men running around as dwarfs, pretending to be funny. What IS funny though is that the film\\'s producer (who happens to be the oldest guy of the bunch) is playing the YOUNGEST dwarf.<br /><br />The film is filled with moments that scream for captions saying \"You\\'re supposed to laugh now!\". It\\'s hard to believe that this crap\\'s supposed to be a comedy.<br /><br />Many people actually stood up and left the cinema 30 minutes into the movie. I should have done the same instead of wasting my time...<br /><br />Pain!'"
      ]
     },
     "execution_count": 11,
     "metadata": {},
     "output_type": "execute_result"
    }
   ],
   "source": [
    "Docs[3]"
   ]
  },
  {
   "cell_type": "code",
   "execution_count": 12,
   "id": "0fb189e9",
   "metadata": {},
   "outputs": [],
   "source": [
    "from sklearn.feature_extraction.text import TfidfVectorizer"
   ]
  },
  {
   "cell_type": "code",
   "execution_count": 38,
   "id": "ea35ba7f",
   "metadata": {},
   "outputs": [
    {
     "name": "stdout",
     "output_type": "stream",
     "text": [
      "40000\n"
     ]
    }
   ],
   "source": [
    "tfidf = TfidfVectorizer().fit(Docs)\n",
    "\n",
    "print(len(Docs))"
   ]
  },
  {
   "cell_type": "code",
   "execution_count": 39,
   "id": "59a146c6",
   "metadata": {},
   "outputs": [
    {
     "name": "stdout",
     "output_type": "stream",
     "text": [
      "(40000, 88214)\n"
     ]
    }
   ],
   "source": [
    "X = tfidf.transform(Docs)\n",
    "\n",
    "print(X.shape)"
   ]
  },
  {
   "cell_type": "code",
   "execution_count": 40,
   "id": "c88012dd",
   "metadata": {},
   "outputs": [
    {
     "name": "stdout",
     "output_type": "stream",
     "text": [
      "88214\n",
      "<class 'list'>\n"
     ]
    }
   ],
   "source": [
    "voc = tfidf.get_feature_names()\n",
    "\n",
    "print(len(voc))\n",
    "print(type(voc))"
   ]
  },
  {
   "cell_type": "code",
   "execution_count": 41,
   "id": "cadb0c0f",
   "metadata": {},
   "outputs": [
    {
     "name": "stdout",
     "output_type": "stream",
     "text": [
      "['00', '000', '00000000000', '0000000000001', '00000001', '00001', '00015', '000dm', '001', '003830', '006', '0069', '007', '0079', '007s', '0080', '0083', '009', '0093638', '00am', '00o', '00pm', '00s', '01', '0126', '0148', '01pm', '02', '020410', '0230', '029', '03', '039', '04', '044', '05', '050', '06', '0615', '07', '07b', '08', '087', '089', '08th', '09', '0and', '0f', '0ne', '0r', '0s', '10', '100', '1000', '10000', '1000000', '10000000000', '10000000000000', '10000th', '1000lb', '1000s', '1000th', '1001', '1004', '100b', '100ft', '100ibs', '100k', '100min', '100mins', '100mph', '100s', '100th', '100times', '100x', '100yards', '101', '101st', '102', '102nd', '103', '104', '1040', '1040a', '1040s', '105', '1050', '106', '106min', '107', '108', '1080', '1080p', '109', '10_', '10am', '10ft', '10ish', '10k', '10lines', '10mil', '10mins', '10minutes', '10pm', '10s', '10th', '10x', '10yo', '10yr', '10yrs', '11', '110', '1100', '11001001', '1100ad', '110min', '110mph', '111', '112', '113', '1138', '113min', '114', '1146', '115', '116', '116minutes', '117', '11706', '118', '119', '11am', '11f', '11m', '11th', '11yr', '12', '120', '1200', '1200f', '1201', '1202', '121', '122', '123', '12383499143743701', '123k', '124', '1242', '1249', '125', '125m', '127', '128', '129', '12a', '12m', '12mm', '12nd', '12p', '12th', '12x', '12yr', '12yrs', '13', '130', '1300', '130000', '131', '132', '133', '134', '135', '136', '137', '138', '139', '13itching', '13k', '13s', '13th', '14', '140', '1408', '141', '1415', '1416', '142', '143', '1433421', '145', '1454', '145th', '146', '147', '1470', '148', '149', '1492', '14a']\n"
     ]
    }
   ],
   "source": [
    "print(voc[: 200])"
   ]
  },
  {
   "cell_type": "code",
   "execution_count": 42,
   "id": "68a71b5b",
   "metadata": {
    "scrolled": true
   },
   "outputs": [
    {
     "name": "stdout",
     "output_type": "stream",
     "text": [
      "['ziv', 'ziva', 'zivagho', 'ziyi', 'zizek', 'zizekian', 'zizola', 'zizte', 'zlatorog', 'zlotoff', 'zmed', 'zmeu', 'znaimer', 'znidarsic', 'zo', 'zobie', 'zod', 'zodiac', 'zodsworth', 'zoe', 'zoetrope', 'zoey', 'zoey101', 'zoeys', 'zohan', 'zohar', 'zohra', 'zoimbies', 'zoinks', 'zola', 'zolt', 'zoltan', 'zom', 'zombi', 'zombie', 'zombied', 'zombiefest', 'zombiefication', 'zombiefied', 'zombielike', 'zombies', 'zombietown', 'zombiez', 'zombification', 'zombified', 'zombs', 'zomcom', 'zomcon', 'zomedy', 'zomerhitte', 'zomg', 'zonadvd', 'zone', 'zone_', 'zoned', 'zones', 'zonfeld', 'zoning', 'zonked', 'zontar', 'zoo', 'zooey', 'zoog', 'zoolander', 'zoological', 'zoologist', 'zoologists', 'zoology', 'zoom', 'zoomed', 'zooming', 'zooms', 'zoos', 'zoot', 'zor', 'zora', 'zorak', 'zorba', 'zord', 'zords', 'zorich', 'zorie', 'zorina', 'zorn', 'zorro', 'zosch', 'zosh', 'zotoh', 'zouganelis', 'zounds', 'zow', 'zowee', 'zozo', 'zoé', 'zp', 'zsa', 'zschering', 'zsigmond', 'zsrr', 'zsrs', 'zu', 'zubeidaa', 'zucco', 'zuccon', 'zucher', 'zucker', 'zuckerman', 'zuckers', 'zuckert', 'zucovic', 'zudina', 'zues', 'zuf', 'zukhov', 'zukor', 'zukovic', 'zula', 'zuleika', 'zuleikha', 'zuleta', 'zulu', 'zulus', 'zumhofe', 'zungia', 'zuniga', 'zurer', 'zurich', 'zurn', 'zutaut', 'zuzz', 'zvezda', 'zvonimir', 'zvyagvatsev', 'zwart', 'zwartboek', 'zwarts', 'zweite', 'zwick', 'zwrite', 'zy', 'zyada', 'zylberstein', 'zyuranger', 'zz', 'zzzz', 'zzzzip', 'zzzzz', 'zzzzzzzz', 'zzzzzzzzzzzz', 'zzzzzzzzzzzzz', 'zzzzzzzzzzzzzzzzzz', 'zzzzzzzzzzzzzzzzzzzzzzzzzzzzzzz', 'zzzzzzzzzzzzzzzzzzzzzzzzzzzzzzzzzzzzzzzzz', 'zzzzzzzzzzzzzzzzzzzzzzzzzzzzzzzzzzzzzzzzzzzz', 'zázvorková', 'zübert', 'ªsen', 'ànd', 'ánd', 'ángela', 'âge', 'âme', 'är', 'ääliöt', 'äänekoski', 'åmål', 'æon', 'æsthetic', 'ça', 'çetin', 'édith', 'élan', 'émigré', 'émigrés', 'époque', 'était', 'étc', 'étoile', 'évery', 'être', 'êxtase', 'ís', 'ísnt', 'ïts', 'óli', 'önsjön', 'örnek', 'özdemir', 'úber', 'über', 'übermenschlich', 'ünel', 'üvegtigris', 'üzümcü', 'ýs', 'þorleifsson', 'þór', 'żmijewski', 'יגאל', 'כרמון']\n"
     ]
    }
   ],
   "source": [
    "print(voc[-200 : ])"
   ]
  },
  {
   "cell_type": "markdown",
   "id": "9c7b7bc9",
   "metadata": {},
   "source": [
    "### Aula 29-11"
   ]
  },
  {
   "cell_type": "code",
   "execution_count": 3,
   "id": "b4ef56ef",
   "metadata": {},
   "outputs": [],
   "source": [
    "import numpy as np\n",
    "import matplotlib.pyplot as plt\n",
    "import pickle"
   ]
  },
  {
   "cell_type": "code",
   "execution_count": 6,
   "id": "93500d54",
   "metadata": {},
   "outputs": [],
   "source": [
    "D = pickle.load(open(\"Laboratorio de Texto/imdbCriticas.p\", \"rb\"))\n",
    "Docs = D['data']"
   ]
  },
  {
   "cell_type": "code",
   "execution_count": 7,
   "id": "f0099fe0",
   "metadata": {},
   "outputs": [
    {
     "name": "stdout",
     "output_type": "stream",
     "text": [
      "Zero Day leads you to think, even re-think why two boys/young men would do what they did - commit mutual suicide via slaughtering their classmates. It captures what must be beyond a bizarre mode of being for two humans who have decided to withdraw from common civility in order to define their own/mutual world via coupled destruction.<br /><br />It is not a perfect movie but given what money/time the filmmaker and actors had - it is a remarkable product. In terms of explaining the motives and actions of the two young suicide/murderers it is better than 'Elephant' - in terms of being a film that gets under our 'rationalistic' skin it is a far, far better film than almost anything you are likely to see. <br /><br />Flawed but honest with a terrible honesty.\n",
      "Zero Day leads you to think, even re-think why two boys/young men would do what they did - commit mutual suicide via slaughtering their classmates. It captures what must be beyond a bizarre mode of being for two humans who have decided to withdraw from common civility in order to define their own/mutual world via coupled destruction.  It is not a perfect movie but given what money/time the filmmaker and actors had - it is a remarkable product. In terms of explaining the motives and actions of the two young suicide/murderers it is better than 'Elephant' - in terms of being a film that gets under our 'rationalistic' skin it is a far, far better film than almost anything you are likely to see.   Flawed but honest with a terrible honesty.\n"
     ]
    }
   ],
   "source": [
    "print(Docs[0])\n",
    "Docs=[doc.replace('<br />', ' ') for doc in Docs]\n",
    "print(Docs[0])"
   ]
  },
  {
   "cell_type": "code",
   "execution_count": 9,
   "id": "21d7940e",
   "metadata": {},
   "outputs": [],
   "source": [
    "import re"
   ]
  },
  {
   "cell_type": "code",
   "execution_count": 20,
   "id": "5b62244e",
   "metadata": {},
   "outputs": [],
   "source": [
    "Docs2 = [re.sub(r'[^a-zA-ZÀ-ÿ]+', ' ', doc) for doc in Docs]"
   ]
  },
  {
   "cell_type": "code",
   "execution_count": 21,
   "id": "e12b2f8a",
   "metadata": {},
   "outputs": [
    {
     "name": "stdout",
     "output_type": "stream",
     "text": [
      "Zero Day leads you to think even re think why two boys young men would do what they did commit mutual suicide via slaughtering their classmates It captures what must be beyond a bizarre mode of being for two humans who have decided to withdraw from common civility in order to define their own mutual world via coupled destruction It is not a perfect movie but given what money time the filmmaker and actors had it is a remarkable product In terms of explaining the motives and actions of the two young suicide murderers it is better than Elephant in terms of being a film that gets under our rationalistic skin it is a far far better film than almost anything you are likely to see Flawed but honest with a terrible honesty \n"
     ]
    }
   ],
   "source": [
    "print(Docs2[0])"
   ]
  },
  {
   "cell_type": "code",
   "execution_count": 22,
   "id": "cd647e5c",
   "metadata": {},
   "outputs": [
    {
     "data": {
      "text/plain": [
       "['Zero',\n",
       " 'Day',\n",
       " 'leads',\n",
       " 'you',\n",
       " 'to',\n",
       " 'think',\n",
       " 'even',\n",
       " 're',\n",
       " 'think',\n",
       " 'why',\n",
       " 'two',\n",
       " 'boys',\n",
       " 'young',\n",
       " 'men',\n",
       " 'would',\n",
       " 'do',\n",
       " 'what',\n",
       " 'they',\n",
       " 'did',\n",
       " 'commit',\n",
       " 'mutual',\n",
       " 'suicide',\n",
       " 'via',\n",
       " 'slaughtering',\n",
       " 'their',\n",
       " 'classmates',\n",
       " 'It',\n",
       " 'captures',\n",
       " 'what',\n",
       " 'must',\n",
       " 'be',\n",
       " 'beyond',\n",
       " 'a',\n",
       " 'bizarre',\n",
       " 'mode',\n",
       " 'of',\n",
       " 'being',\n",
       " 'for',\n",
       " 'two',\n",
       " 'humans',\n",
       " 'who',\n",
       " 'have',\n",
       " 'decided',\n",
       " 'to',\n",
       " 'withdraw',\n",
       " 'from',\n",
       " 'common',\n",
       " 'civility',\n",
       " 'in',\n",
       " 'order',\n",
       " 'to',\n",
       " 'define',\n",
       " 'their',\n",
       " 'own',\n",
       " 'mutual',\n",
       " 'world',\n",
       " 'via',\n",
       " 'coupled',\n",
       " 'destruction',\n",
       " 'It',\n",
       " 'is',\n",
       " 'not',\n",
       " 'a',\n",
       " 'perfect',\n",
       " 'movie',\n",
       " 'but',\n",
       " 'given',\n",
       " 'what',\n",
       " 'money',\n",
       " 'time',\n",
       " 'the',\n",
       " 'filmmaker',\n",
       " 'and',\n",
       " 'actors',\n",
       " 'had',\n",
       " 'it',\n",
       " 'is',\n",
       " 'a',\n",
       " 'remarkable',\n",
       " 'product',\n",
       " 'In',\n",
       " 'terms',\n",
       " 'of',\n",
       " 'explaining',\n",
       " 'the',\n",
       " 'motives',\n",
       " 'and',\n",
       " 'actions',\n",
       " 'of',\n",
       " 'the',\n",
       " 'two',\n",
       " 'young',\n",
       " 'suicide',\n",
       " 'murderers',\n",
       " 'it',\n",
       " 'is',\n",
       " 'better',\n",
       " 'than',\n",
       " 'Elephant',\n",
       " 'in',\n",
       " 'terms',\n",
       " 'of',\n",
       " 'being',\n",
       " 'a',\n",
       " 'film',\n",
       " 'that',\n",
       " 'gets',\n",
       " 'under',\n",
       " 'our',\n",
       " 'rationalistic',\n",
       " 'skin',\n",
       " 'it',\n",
       " 'is',\n",
       " 'a',\n",
       " 'far',\n",
       " 'far',\n",
       " 'better',\n",
       " 'film',\n",
       " 'than',\n",
       " 'almost',\n",
       " 'anything',\n",
       " 'you',\n",
       " 'are',\n",
       " 'likely',\n",
       " 'to',\n",
       " 'see',\n",
       " 'Flawed',\n",
       " 'but',\n",
       " 'honest',\n",
       " 'with',\n",
       " 'a',\n",
       " 'terrible',\n",
       " 'honesty',\n",
       " '']"
      ]
     },
     "execution_count": 22,
     "metadata": {},
     "output_type": "execute_result"
    }
   ],
   "source": [
    "s = Docs2[0]\n",
    "s.split(' ')"
   ]
  },
  {
   "cell_type": "code",
   "execution_count": 23,
   "id": "c5262115",
   "metadata": {},
   "outputs": [],
   "source": [
    "from nltk.stem import PorterStemmer"
   ]
  },
  {
   "cell_type": "code",
   "execution_count": 24,
   "id": "1fb73d3d",
   "metadata": {},
   "outputs": [
    {
     "data": {
      "text/plain": [
       "['zero',\n",
       " 'day',\n",
       " 'lead',\n",
       " 'you',\n",
       " 'to',\n",
       " 'think',\n",
       " 'even',\n",
       " 're',\n",
       " 'think',\n",
       " 'whi',\n",
       " 'two',\n",
       " 'boy',\n",
       " 'young',\n",
       " 'men',\n",
       " 'would',\n",
       " 'do',\n",
       " 'what',\n",
       " 'they',\n",
       " 'did',\n",
       " 'commit',\n",
       " 'mutual',\n",
       " 'suicid',\n",
       " 'via',\n",
       " 'slaughter',\n",
       " 'their',\n",
       " 'classmat',\n",
       " 'it',\n",
       " 'captur',\n",
       " 'what',\n",
       " 'must',\n",
       " 'be',\n",
       " 'beyond',\n",
       " 'a',\n",
       " 'bizarr',\n",
       " 'mode',\n",
       " 'of',\n",
       " 'be',\n",
       " 'for',\n",
       " 'two',\n",
       " 'human',\n",
       " 'who',\n",
       " 'have',\n",
       " 'decid',\n",
       " 'to',\n",
       " 'withdraw',\n",
       " 'from',\n",
       " 'common',\n",
       " 'civil',\n",
       " 'in',\n",
       " 'order',\n",
       " 'to',\n",
       " 'defin',\n",
       " 'their',\n",
       " 'own',\n",
       " 'mutual',\n",
       " 'world',\n",
       " 'via',\n",
       " 'coupl',\n",
       " 'destruct',\n",
       " 'it',\n",
       " 'is',\n",
       " 'not',\n",
       " 'a',\n",
       " 'perfect',\n",
       " 'movi',\n",
       " 'but',\n",
       " 'given',\n",
       " 'what',\n",
       " 'money',\n",
       " 'time',\n",
       " 'the',\n",
       " 'filmmak',\n",
       " 'and',\n",
       " 'actor',\n",
       " 'had',\n",
       " 'it',\n",
       " 'is',\n",
       " 'a',\n",
       " 'remark',\n",
       " 'product',\n",
       " 'in',\n",
       " 'term',\n",
       " 'of',\n",
       " 'explain',\n",
       " 'the',\n",
       " 'motiv',\n",
       " 'and',\n",
       " 'action',\n",
       " 'of',\n",
       " 'the',\n",
       " 'two',\n",
       " 'young',\n",
       " 'suicid',\n",
       " 'murder',\n",
       " 'it',\n",
       " 'is',\n",
       " 'better',\n",
       " 'than',\n",
       " 'eleph',\n",
       " 'in',\n",
       " 'term',\n",
       " 'of',\n",
       " 'be',\n",
       " 'a',\n",
       " 'film',\n",
       " 'that',\n",
       " 'get',\n",
       " 'under',\n",
       " 'our',\n",
       " 'rationalist',\n",
       " 'skin',\n",
       " 'it',\n",
       " 'is',\n",
       " 'a',\n",
       " 'far',\n",
       " 'far',\n",
       " 'better',\n",
       " 'film',\n",
       " 'than',\n",
       " 'almost',\n",
       " 'anyth',\n",
       " 'you',\n",
       " 'are',\n",
       " 'like',\n",
       " 'to',\n",
       " 'see',\n",
       " 'flaw',\n",
       " 'but',\n",
       " 'honest',\n",
       " 'with',\n",
       " 'a',\n",
       " 'terribl',\n",
       " 'honesti',\n",
       " '']"
      ]
     },
     "execution_count": 24,
     "metadata": {},
     "output_type": "execute_result"
    }
   ],
   "source": [
    "ps = PorterStemmer()\n",
    "[ps.stem(w) for w in s.split(' ')]"
   ]
  },
  {
   "cell_type": "code",
   "execution_count": 26,
   "id": "15e1680a",
   "metadata": {},
   "outputs": [
    {
     "data": {
      "text/plain": [
       "'zero day lead you to think even re think whi two boy young men would do what they did commit mutual suicid via slaughter their classmat it captur what must be beyond a bizarr mode of be for two human who have decid to withdraw from common civil in order to defin their own mutual world via coupl destruct it is not a perfect movi but given what money time the filmmak and actor had it is a remark product in term of explain the motiv and action of the two young suicid murder it is better than eleph in term of be a film that get under our rationalist skin it is a far far better film than almost anyth you are like to see flaw but honest with a terribl honesti '"
      ]
     },
     "execution_count": 26,
     "metadata": {},
     "output_type": "execute_result"
    }
   ],
   "source": [
    "' '.join([ps.stem(w) for w in s.split(' ')])"
   ]
  },
  {
   "cell_type": "code",
   "execution_count": 30,
   "id": "a8e73f76",
   "metadata": {},
   "outputs": [],
   "source": [
    "Docs3 = [' '.join([ps.stem(w) for w in doc.split(' ')]) for doc in Docs2]"
   ]
  },
  {
   "cell_type": "markdown",
   "id": "2a752a32",
   "metadata": {},
   "source": [
    "### Aula 04-12"
   ]
  },
  {
   "cell_type": "code",
   "execution_count": null,
   "id": "c8eb88ea",
   "metadata": {},
   "outputs": [],
   "source": []
  }
 ],
 "metadata": {
  "kernelspec": {
   "display_name": "Python 3",
   "language": "python",
   "name": "python3"
  },
  "language_info": {
   "codemirror_mode": {
    "name": "ipython",
    "version": 3
   },
   "file_extension": ".py",
   "mimetype": "text/x-python",
   "name": "python",
   "nbconvert_exporter": "python",
   "pygments_lexer": "ipython3",
   "version": "3.8.8"
  }
 },
 "nbformat": 4,
 "nbformat_minor": 5
}
