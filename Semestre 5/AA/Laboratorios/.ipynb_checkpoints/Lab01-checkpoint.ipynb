{
 "cells": [
  {
   "cell_type": "code",
   "execution_count": 1,
   "id": "f3672b4e",
   "metadata": {},
   "outputs": [],
   "source": [
    "import numpy as np\n",
    "import matplotlib.pyplot as plt\n",
    "import sklearn.datasets as sk"
   ]
  },
  {
   "cell_type": "code",
   "execution_count": 2,
   "id": "2aece907",
   "metadata": {},
   "outputs": [
    {
     "data": {
      "text/plain": [
       "array([[ -8,   1,   5,  -4,  -1],\n",
       "       [ 20,   0,  -9,   4,  -9],\n",
       "       [-25,   0,   3,   0,  11]])"
      ]
     },
     "execution_count": 2,
     "metadata": {},
     "output_type": "execute_result"
    }
   ],
   "source": [
    "A = np.array([[-8, 1, 5, -4, -1], [20, 0, -9, 4, -9], [-25, 0, 3, 0, 11]])\n",
    "A"
   ]
  },
  {
   "cell_type": "code",
   "execution_count": 3,
   "id": "bff05e37",
   "metadata": {},
   "outputs": [],
   "source": [
    "D = sk.load_iris()\n",
    "X = D.data\n",
    "y = D.target"
   ]
  },
  {
   "cell_type": "code",
   "execution_count": 4,
   "id": "90f53220",
   "metadata": {},
   "outputs": [
    {
     "name": "stdout",
     "output_type": "stream",
     "text": [
      "[[1.  1.  1.  1.  1.  1.  1.  1.  1.  1. ]\n",
      " [5.1 4.9 4.7 4.6 5.  5.4 4.6 5.  4.4 4.9]\n",
      " [3.5 3.  3.2 3.1 3.6 3.9 3.4 3.4 2.9 3.1]\n",
      " [1.4 1.4 1.3 1.5 1.4 1.7 1.4 1.5 1.4 1.5]\n",
      " [0.2 0.2 0.2 0.2 0.2 0.4 0.3 0.2 0.2 0.1]]\n",
      "\n",
      "[[5.1 3.5 1.4 0.2]\n",
      " [4.9 3.  1.4 0.2]\n",
      " [4.7 3.2 1.3 0.2]\n",
      " [4.6 3.1 1.5 0.2]\n",
      " [5.  3.6 1.4 0.2]\n",
      " [5.4 3.9 1.7 0.4]\n",
      " [4.6 3.4 1.4 0.3]\n",
      " [5.  3.4 1.5 0.2]\n",
      " [4.4 2.9 1.4 0.2]\n",
      " [4.9 3.1 1.5 0.1]]\n"
     ]
    }
   ],
   "source": [
    "X2 = np.vstack((np.ones(150), X.T))\n",
    "print(X2[:, :10])\n",
    "print()\n",
    "print(X[:10, :])"
   ]
  },
  {
   "cell_type": "code",
   "execution_count": 5,
   "id": "c4489d21",
   "metadata": {},
   "outputs": [
    {
     "data": {
      "text/plain": [
       "array([[  8.8,   6.1,   7.3,   5.9,   9.2,   9.7,   7.7,   7.8,   5.1,\n",
       "          6.3],\n",
       "       [ -7.7,  -3.2,  -5.4,  -3.7,  -8.6, -11.9,  -7.7,  -6.4,  -2.3,\n",
       "         -2.8],\n",
       "       [-12.3, -13.8, -13.2, -13.5, -12. ,  -8.9, -11.5, -12.6, -14.1,\n",
       "        -14.6]])"
      ]
     },
     "execution_count": 5,
     "metadata": {},
     "output_type": "execute_result"
    }
   ],
   "source": [
    "Ye = np.dot(A, X2)\n",
    "Ye[:, :10]"
   ]
  },
  {
   "cell_type": "code",
   "execution_count": 6,
   "id": "6e795e60",
   "metadata": {},
   "outputs": [
    {
     "data": {
      "text/plain": [
       "[<matplotlib.lines.Line2D at 0x1dbd0a38610>]"
      ]
     },
     "execution_count": 6,
     "metadata": {},
     "output_type": "execute_result"
    },
    {
     "data": {
      "image/png": "[encoded data removed]",
      "text/plain": [
       "<Figure size 432x288 with 1 Axes>"
      ]
     },
     "metadata": {
      "needs_background": "light"
     },
     "output_type": "display_data"
    }
   ],
   "source": [
    "ye = np.argmax(Ye, axis = 0)\n",
    "plt.plot(ye)"
   ]
  },
  {
   "cell_type": "code",
   "execution_count": 7,
   "id": "95ed9036",
   "metadata": {},
   "outputs": [
    {
     "data": {
      "text/plain": [
       "50"
      ]
     },
     "execution_count": 7,
     "metadata": {},
     "output_type": "execute_result"
    }
   ],
   "source": [
    "np.sum(y==0)"
   ]
  },
  {
   "cell_type": "code",
   "execution_count": 8,
   "id": "128bd946",
   "metadata": {},
   "outputs": [
    {
     "name": "stdout",
     "output_type": "stream",
     "text": [
      "50\n",
      "0\n",
      "0\n",
      "32\n",
      "18\n",
      "0\n",
      "5\n",
      "45\n"
     ]
    }
   ],
   "source": [
    "print(np.sum(ye[y==0] == 0))\n",
    "print(np.sum(ye[y==0] == 1))\n",
    "print(np.sum(ye[y==0] == 2))\n",
    "print(np.sum(ye[y==1] == 1))\n",
    "print(np.sum(ye[y==1] == 2))\n",
    "print(np.sum(ye[y==2] == 0))\n",
    "print(np.sum(ye[y==2] == 1))\n",
    "print(np.sum(ye[y==2] == 2))"
   ]
  },
  {
   "cell_type": "code",
   "execution_count": 9,
   "id": "09d10704",
   "metadata": {},
   "outputs": [],
   "source": [
    "#B = A[:, 1:]\n",
    "#B"
   ]
  },
  {
   "cell_type": "code",
   "execution_count": 10,
   "id": "c6f2cac9",
   "metadata": {},
   "outputs": [],
   "source": [
    "b = np.array([-8, 20, -25])"
   ]
  },
  {
   "cell_type": "code",
   "execution_count": 11,
   "id": "7b56c4e7",
   "metadata": {},
   "outputs": [
    {
     "ename": "NameError",
     "evalue": "name 'B' is not defined",
     "output_type": "error",
     "traceback": [
      "\u001b[1;31m---------------------------------------------------------------------------\u001b[0m",
      "\u001b[1;31mNameError\u001b[0m                                 Traceback (most recent call last)",
      "\u001b[1;32m<ipython-input-11-f45be5d1f334>\u001b[0m in \u001b[0;36m<module>\u001b[1;34m\u001b[0m\n\u001b[1;32m----> 1\u001b[1;33m \u001b[0mYh\u001b[0m \u001b[1;33m=\u001b[0m \u001b[0mnp\u001b[0m\u001b[1;33m.\u001b[0m\u001b[0mdot\u001b[0m\u001b[1;33m(\u001b[0m\u001b[0mB\u001b[0m\u001b[1;33m,\u001b[0m \u001b[0mX\u001b[0m\u001b[1;33m.\u001b[0m\u001b[0mT\u001b[0m\u001b[1;33m)\u001b[0m \u001b[1;33m+\u001b[0m \u001b[0mb\u001b[0m\u001b[1;33m[\u001b[0m\u001b[1;33m:\u001b[0m\u001b[1;33m,\u001b[0m \u001b[0mnp\u001b[0m\u001b[1;33m.\u001b[0m\u001b[0mnewaxis\u001b[0m\u001b[1;33m]\u001b[0m\u001b[1;33m\u001b[0m\u001b[1;33m\u001b[0m\u001b[0m\n\u001b[0m\u001b[0;32m      2\u001b[0m \u001b[0myh\u001b[0m \u001b[1;33m=\u001b[0m \u001b[0mnp\u001b[0m\u001b[1;33m.\u001b[0m\u001b[0margmax\u001b[0m\u001b[1;33m(\u001b[0m\u001b[0mYh\u001b[0m\u001b[1;33m,\u001b[0m \u001b[0maxis\u001b[0m\u001b[1;33m=\u001b[0m\u001b[1;36m0\u001b[0m\u001b[1;33m)\u001b[0m\u001b[1;33m\u001b[0m\u001b[1;33m\u001b[0m\u001b[0m\n",
      "\u001b[1;31mNameError\u001b[0m: name 'B' is not defined"
     ]
    }
   ],
   "source": [
    "Yh = np.dot(B, X.T) + b[:, np.newaxis]\n",
    "yh = np.argmax(Yh, axis=0)"
   ]
  },
  {
   "cell_type": "code",
   "execution_count": null,
   "id": "ad69d1de",
   "metadata": {},
   "outputs": [],
   "source": [
    "np.sum(np.abs(ye-yh))"
   ]
  },
  {
   "cell_type": "code",
   "execution_count": 62,
   "id": "23e032de",
   "metadata": {},
   "outputs": [
    {
     "data": {
      "text/plain": [
       "array([[50,  0,  0],\n",
       "       [ 0, 32, 18],\n",
       "       [ 0,  5, 45]])"
      ]
     },
     "execution_count": 62,
     "metadata": {},
     "output_type": "execute_result"
    }
   ],
   "source": [
    "D = sk.load_iris()\n",
    "target = D.target\n",
    "\n",
    "A = np.array([[-8, 1, 5, -4, -1], [20, 0, -9, 4, -9], [-25, 0, 3, 0, 11]])\n",
    "B = np.vstack((np.ones(150), D.data.T))\n",
    "\n",
    "Ye = np.dot(A, B)\n",
    "\n",
    "ye = np.argmax(Ye, axis = 0)\n",
    "#plt.plot(ye)\n",
    "\n",
    "#Matriz Confusão:\n",
    "p11 = np.sum(ye[target == 0] == 0) # p11\n",
    "p12 = np.sum(ye[target == 0] == 1) # p12\n",
    "p13 = np.sum(ye[target == 0] == 2) # p13\n",
    "p21 = np.sum(ye[target == 1] == 0) # p21\n",
    "p22 = np.sum(ye[target == 1] == 1) # p22\n",
    "p23 = np.sum(ye[target == 1] == 2) # p23\n",
    "p31 = np.sum(ye[target == 2] == 0) # p31\n",
    "p32 = np.sum(ye[target == 2] == 1) # p32\n",
    "p33 = np.sum(ye[target == 2] == 2) # p33\n",
    "\n",
    "p = np.array([[p11, p12, p12], [p21, p22, p23], [p31, p32, p33]])\n",
    "p"
   ]
  }
 ],
 "metadata": {
  "kernelspec": {
   "display_name": "Python 3",
   "language": "python",
   "name": "python3"
  },
  "language_info": {
   "codemirror_mode": {
    "name": "ipython",
    "version": 3
   },
   "file_extension": ".py",
   "mimetype": "text/x-python",
   "name": "python",
   "nbconvert_exporter": "python",
   "pygments_lexer": "ipython3",
   "version": "3.8.8"
  }
 },
 "nbformat": 4,
 "nbformat_minor": 5
}
