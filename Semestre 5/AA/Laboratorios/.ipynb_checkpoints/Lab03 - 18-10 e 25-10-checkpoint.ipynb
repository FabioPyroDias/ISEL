{
 "cells": [
  {
   "cell_type": "code",
   "execution_count": 1,
   "id": "60c308af",
   "metadata": {},
   "outputs": [],
   "source": [
    "import numpy as np\n",
    "import matplotlib.pyplot as plt\n",
    "import sklearn.datasets as dt"
   ]
  },
  {
   "cell_type": "code",
   "execution_count": 4,
   "id": "1c2e50f8",
   "metadata": {},
   "outputs": [
    {
     "name": "stdout",
     "output_type": "stream",
     "text": [
      "(569, 30)\n"
     ]
    }
   ],
   "source": [
    "D = dt.load_breast_cancer()\n",
    "X = D.data\n",
    "print(X.shape)\n",
    "\n",
    "m = np.mean(X, axis=0)\n",
    "s = np.std(X, axis=0)"
   ]
  },
  {
   "cell_type": "code",
   "execution_count": 5,
   "id": "23ac4209",
   "metadata": {},
   "outputs": [
    {
     "data": {
      "text/plain": [
       "[<matplotlib.lines.Line2D at 0x2cf348dc280>]"
      ]
     },
     "execution_count": 5,
     "metadata": {},
     "output_type": "execute_result"
    },
    {
     "data": {
      "image/png": "[encoded data removed]",
      "text/plain": [
       "<Figure size 432x288 with 1 Axes>"
      ]
     },
     "metadata": {
      "needs_background": "light"
     },
     "output_type": "display_data"
    }
   ],
   "source": [
    "plt.plot(m)"
   ]
  },
  {
   "cell_type": "code",
   "execution_count": 6,
   "id": "cda2ccb6",
   "metadata": {},
   "outputs": [
    {
     "data": {
      "text/plain": [
       "[<matplotlib.lines.Line2D at 0x2cf3493e2b0>]"
      ]
     },
     "execution_count": 6,
     "metadata": {},
     "output_type": "execute_result"
    },
    {
     "data": {
      "image/png": "[encoded data removed]",
      "text/plain": [
       "<Figure size 432x288 with 1 Axes>"
      ]
     },
     "metadata": {
      "needs_background": "light"
     },
     "output_type": "display_data"
    }
   ],
   "source": [
    "plt.plot(s)"
   ]
  },
  {
   "cell_type": "code",
   "execution_count": 9,
   "id": "71dc5114",
   "metadata": {},
   "outputs": [
    {
     "name": "stdout",
     "output_type": "stream",
     "text": [
      "[3.520e+00 4.300e+00 2.428e+01 3.516e+02 1.000e-02 5.000e-02 8.000e-02\n",
      " 4.000e-02 3.000e-02 1.000e-02]\n"
     ]
    }
   ],
   "source": [
    "print(np.round(s[:10], 2))"
   ]
  },
  {
   "cell_type": "code",
   "execution_count": 12,
   "id": "80dc7cfb",
   "metadata": {},
   "outputs": [
    {
     "data": {
      "text/plain": [
       "(30,)"
      ]
     },
     "execution_count": 12,
     "metadata": {},
     "output_type": "execute_result"
    }
   ],
   "source": [
    "m = np.mean(X, axis=0)\n",
    "m.shape"
   ]
  },
  {
   "cell_type": "code",
   "execution_count": 40,
   "id": "a11ce6ea",
   "metadata": {},
   "outputs": [
    {
     "name": "stdout",
     "output_type": "stream",
     "text": [
      "(569, 30)  |  (30,)\n"
     ]
    }
   ],
   "source": [
    "X = X - m # Isto funciona porque os 30 são iguais.\n",
    "#Estamos a fazer isto para normalizar os dados na origem.\n",
    "print(X.shape, \" | \", m.shape)"
   ]
  },
  {
   "cell_type": "code",
   "execution_count": 16,
   "id": "92eef659",
   "metadata": {},
   "outputs": [
    {
     "data": {
      "text/plain": [
       "array([-5, -2,  1])"
      ]
     },
     "execution_count": 16,
     "metadata": {},
     "output_type": "execute_result"
    }
   ],
   "source": [
    "import numpy.random as rd\n",
    "x = rd.randint(-5, 6, 3)\n",
    "x"
   ]
  },
  {
   "cell_type": "code",
   "execution_count": 17,
   "id": "2df1577e",
   "metadata": {},
   "outputs": [
    {
     "data": {
      "text/plain": [
       "array([[-5,  0,  0],\n",
       "       [ 0, -2,  0],\n",
       "       [ 0,  0,  1]])"
      ]
     },
     "execution_count": 17,
     "metadata": {},
     "output_type": "execute_result"
    }
   ],
   "source": [
    "np.diag(x)"
   ]
  },
  {
   "cell_type": "code",
   "execution_count": 19,
   "id": "da56635b",
   "metadata": {},
   "outputs": [
    {
     "data": {
      "text/plain": [
       "array([[ 1, -1, -4],\n",
       "       [ 2,  5,  2],\n",
       "       [ 0, -5,  2]])"
      ]
     },
     "execution_count": 19,
     "metadata": {},
     "output_type": "execute_result"
    }
   ],
   "source": [
    "x = rd.randint(-5, 6, (3, 3))\n",
    "x"
   ]
  },
  {
   "cell_type": "code",
   "execution_count": 21,
   "id": "7d87a133",
   "metadata": {},
   "outputs": [
    {
     "data": {
      "text/plain": [
       "array([1, 5, 2])"
      ]
     },
     "execution_count": 21,
     "metadata": {},
     "output_type": "execute_result"
    }
   ],
   "source": [
    "np.diag(x)"
   ]
  },
  {
   "cell_type": "code",
   "execution_count": 23,
   "id": "074095a1",
   "metadata": {},
   "outputs": [
    {
     "data": {
      "text/plain": [
       "(30,)"
      ]
     },
     "execution_count": 23,
     "metadata": {},
     "output_type": "execute_result"
    }
   ],
   "source": [
    "s = np.std(X, axis=0)\n",
    "s.shape"
   ]
  },
  {
   "cell_type": "code",
   "execution_count": 25,
   "id": "c4dea012",
   "metadata": {},
   "outputs": [
    {
     "data": {
      "text/plain": [
       "array([3.5200e+00, 4.3000e+00, 2.4280e+01, 3.5160e+02, 1.0000e-02,\n",
       "       5.0000e-02, 8.0000e-02, 4.0000e-02, 3.0000e-02, 1.0000e-02,\n",
       "       2.8000e-01, 5.5000e-01, 2.0200e+00, 4.5450e+01, 0.0000e+00,\n",
       "       2.0000e-02, 3.0000e-02, 1.0000e-02, 1.0000e-02, 0.0000e+00,\n",
       "       4.8300e+00, 6.1400e+00, 3.3570e+01, 5.6886e+02, 2.0000e-02,\n",
       "       1.6000e-01, 2.1000e-01, 7.0000e-02, 6.0000e-02, 2.0000e-02])"
      ]
     },
     "execution_count": 25,
     "metadata": {},
     "output_type": "execute_result"
    }
   ],
   "source": [
    "np.round(s, 2)"
   ]
  },
  {
   "cell_type": "code",
   "execution_count": 30,
   "id": "90ead409",
   "metadata": {},
   "outputs": [
    {
     "data": {
      "text/plain": [
       "array([-2.82500e+01, -3.85800e+01, -1.83940e+02, -1.30978e+03,\n",
       "       -1.90000e-01, -2.10000e-01, -1.80000e-01, -1.00000e-01,\n",
       "       -3.60000e-01, -1.30000e-01, -8.10000e-01, -2.43000e+00,\n",
       "       -5.73000e+00, -8.06700e+01, -1.00000e-02, -5.00000e-02,\n",
       "       -6.00000e-02, -2.00000e-02, -4.00000e-02, -1.00000e-02,\n",
       "       -3.25400e+01, -5.13500e+01, -2.14520e+02, -1.76117e+03,\n",
       "       -2.60000e-01, -5.10000e-01, -5.40000e-01, -2.30000e-01,\n",
       "       -5.80000e-01, -1.70000e-01])"
      ]
     },
     "execution_count": 30,
     "metadata": {},
     "output_type": "execute_result"
    }
   ],
   "source": [
    "np.round(np.mean(X, axis=0), 2)"
   ]
  },
  {
   "cell_type": "code",
   "execution_count": 32,
   "id": "ebcaa757",
   "metadata": {},
   "outputs": [
    {
     "data": {
      "text/plain": [
       "(569, 30)"
      ]
     },
     "execution_count": 32,
     "metadata": {},
     "output_type": "execute_result"
    }
   ],
   "source": [
    "X = np.dot(np.diag(1/s), X.T).T\n",
    "X.shape"
   ]
  },
  {
   "cell_type": "code",
   "execution_count": 33,
   "id": "a8981bde",
   "metadata": {},
   "outputs": [
    {
     "data": {
      "text/plain": [
       "array([1., 1., 1., 1., 1., 1., 1., 1., 1., 1., 1., 1., 1., 1., 1., 1., 1.,\n",
       "       1., 1., 1., 1., 1., 1., 1., 1., 1., 1., 1., 1., 1.])"
      ]
     },
     "execution_count": 33,
     "metadata": {},
     "output_type": "execute_result"
    }
   ],
   "source": [
    "np.std(X, axis=0)"
   ]
  },
  {
   "cell_type": "code",
   "execution_count": 34,
   "id": "1ffff624",
   "metadata": {},
   "outputs": [],
   "source": [
    "X = D.data\n",
    "from sklearn.preprocessing import StandardScaler"
   ]
  },
  {
   "cell_type": "code",
   "execution_count": 35,
   "id": "a81d5303",
   "metadata": {},
   "outputs": [
    {
     "data": {
      "text/plain": [
       "StandardScaler()"
      ]
     },
     "execution_count": 35,
     "metadata": {},
     "output_type": "execute_result"
    }
   ],
   "source": [
    "sc = StandardScaler()\n",
    "sc.fit(X)"
   ]
  },
  {
   "cell_type": "code",
   "execution_count": 41,
   "id": "a53fc983",
   "metadata": {},
   "outputs": [],
   "source": [
    "Xn = sc.transform(X)\n",
    "#Isto centro os dados na origem e transforma o desvio padrão para 0"
   ]
  },
  {
   "cell_type": "code",
   "execution_count": 38,
   "id": "dc29af40",
   "metadata": {},
   "outputs": [
    {
     "data": {
      "text/plain": [
       "array([-3.16286735e-15, -6.53060890e-15, -7.07889127e-16, -8.79983452e-16,\n",
       "        6.13217737e-15, -1.12036918e-15, -4.42138027e-16,  9.73249991e-16,\n",
       "       -1.97167024e-15, -1.45363120e-15, -9.07641468e-16, -8.85349205e-16,\n",
       "        1.77367396e-15, -8.29155139e-16, -7.54180940e-16, -3.92187747e-16,\n",
       "        7.91789988e-16, -2.73946068e-16, -3.10823423e-16, -3.36676596e-16,\n",
       "       -2.33322442e-15,  1.76367415e-15, -1.19802625e-15,  5.04966114e-16,\n",
       "       -5.21317026e-15, -2.17478837e-15,  6.85645643e-16, -1.41265636e-16,\n",
       "       -2.28956670e-15,  2.57517109e-15])"
      ]
     },
     "execution_count": 38,
     "metadata": {},
     "output_type": "execute_result"
    }
   ],
   "source": [
    "np.mean(Xn, axis=0)"
   ]
  },
  {
   "cell_type": "code",
   "execution_count": 39,
   "id": "83ec4f65",
   "metadata": {},
   "outputs": [
    {
     "data": {
      "text/plain": [
       "array([1., 1., 1., 1., 1., 1., 1., 1., 1., 1., 1., 1., 1., 1., 1., 1., 1.,\n",
       "       1., 1., 1., 1., 1., 1., 1., 1., 1., 1., 1., 1., 1.])"
      ]
     },
     "execution_count": 39,
     "metadata": {},
     "output_type": "execute_result"
    }
   ],
   "source": [
    "np.var(Xn, axis=0)"
   ]
  },
  {
   "cell_type": "code",
   "execution_count": 43,
   "id": "1bf5f307",
   "metadata": {},
   "outputs": [],
   "source": [
    "D = dt.load_digits()\n",
    "X = D.data\n",
    "s = np.std(X, axis=0)\n",
    "m = np.mean(X, axis=0)\n",
    "#A média é independente da variação.\n",
    "#Retirar a média apenas centra os pontos à volta da origem, eles continuam a variar entre eles da mesma forma."
   ]
  },
  {
   "cell_type": "code",
   "execution_count": 46,
   "id": "5ba4d878",
   "metadata": {},
   "outputs": [
    {
     "name": "stderr",
     "output_type": "stream",
     "text": [
      "<ipython-input-46-2b99c9fa0559>:4: RuntimeWarning: divide by zero encountered in true_divide\n",
      "  Xn = np.dot(np.diag(1/s), X.T).T\n",
      "<ipython-input-46-2b99c9fa0559>:6: RuntimeWarning: divide by zero encountered in true_divide\n",
      "  1/s\n"
     ]
    },
    {
     "data": {
      "text/plain": [
       "array([        inf,  1.10260921,  0.21037117,  0.23542377,  0.23330717,\n",
       "        0.17652747,  0.30076548,  0.96423259, 10.61623701,  0.3129625 ,\n",
       "        0.18450365,  0.25148149,  0.20914597,  0.16525441,  0.2789149 ,\n",
       "        1.20818961, 16.03825133,  0.27969634,  0.17577215,  0.17238268,\n",
       "        0.16196929,  0.16140494,  0.30684612,  2.28062948, 29.99168408,\n",
       "        0.31789863,  0.16154268,  0.17003045,  0.16259156,  0.17033102,\n",
       "        0.27133875, 21.21914774,         inf,  0.28740556,  0.15815459,\n",
       "        0.15957497,  0.16858178,  0.17038637,  0.28278157,         inf,\n",
       "        6.88966081,  0.33545943,  0.15299561,  0.15528951,  0.15980135,\n",
       "        0.17562526,  0.23096043,  3.25446298,  4.89796715,  0.57284696,\n",
       "        0.17721305,  0.1913695 ,  0.18865885,  0.16585189,  0.20333316,\n",
       "        1.01612904, 42.40283666,  1.0706159 ,  0.19601696,  0.22865105,\n",
       "        0.20273389,  0.16952081,  0.24453408,  0.53774887])"
      ]
     },
     "execution_count": 46,
     "metadata": {},
     "output_type": "execute_result"
    }
   ],
   "source": [
    "X = D.data\n",
    "m = np.mean(X, axis=0)\n",
    "X = X - m\n",
    "Xn = np.dot(np.diag(1/s), X.T).T"
   ]
  }
 ],
 "metadata": {
  "kernelspec": {
   "display_name": "Python 3",
   "language": "python",
   "name": "python3"
  },
  "language_info": {
   "codemirror_mode": {
    "name": "ipython",
    "version": 3
   },
   "file_extension": ".py",
   "mimetype": "text/x-python",
   "name": "python",
   "nbconvert_exporter": "python",
   "pygments_lexer": "ipython3",
   "version": "3.8.8"
  }
 },
 "nbformat": 4,
 "nbformat_minor": 5
}
