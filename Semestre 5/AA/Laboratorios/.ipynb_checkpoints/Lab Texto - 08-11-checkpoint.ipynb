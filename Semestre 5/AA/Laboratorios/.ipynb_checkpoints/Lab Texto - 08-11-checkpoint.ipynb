{
 "cells": [
  {
   "cell_type": "code",
   "execution_count": 1,
   "id": "6217076b",
   "metadata": {},
   "outputs": [],
   "source": [
    "import numpy as np\n",
    "from sklearn.feature_extraction.text import CountVectorizer"
   ]
  },
  {
   "cell_type": "code",
   "execution_count": 5,
   "id": "960f7603",
   "metadata": {},
   "outputs": [
    {
     "data": {
      "text/plain": [
       "3"
      ]
     },
     "execution_count": 5,
     "metadata": {},
     "output_type": "execute_result"
    }
   ],
   "source": [
    "corpus=[\"you better start swimming or you’ll sink like a stone for the times they are a-changing\",\\\n",
    "\"the loser now will be later to win cause the times they are a-changing\",\\\n",
    "\"it’ll soon shake your windows and rattle your walls for the times they are a-changing\"]\n",
    "\n",
    "len(corpus)"
   ]
  },
  {
   "cell_type": "code",
   "execution_count": 6,
   "id": "3b6f9314",
   "metadata": {},
   "outputs": [
    {
     "name": "stdout",
     "output_type": "stream",
     "text": [
      "you better start swimming or you’ll sink like a stone for the times they are a-changing\n",
      "the loser now will be later to win cause the times they are a-changing\n",
      "it’ll soon shake your windows and rattle your walls for the times they are a-changing\n"
     ]
    }
   ],
   "source": [
    "print(corpus[0])\n",
    "print(corpus[1])\n",
    "print(corpus[2])"
   ]
  },
  {
   "cell_type": "code",
   "execution_count": 9,
   "id": "a2cd9bb3",
   "metadata": {},
   "outputs": [],
   "source": [
    "cv = CountVectorizer().fit(corpus)\n",
    "v = cv.transform(corpus)"
   ]
  },
  {
   "cell_type": "code",
   "execution_count": 10,
   "id": "e213a070",
   "metadata": {},
   "outputs": [
    {
     "data": {
      "text/plain": [
       "array([[0, 1, 0, 1, 0, 1, 1, 0, 0, 1, 1, 0, 0, 1, 0, 0, 1, 0, 1, 1, 1, 1,\n",
       "        1, 1, 0, 0, 0, 0, 0, 2, 0],\n",
       "       [0, 1, 1, 0, 1, 1, 0, 0, 1, 0, 0, 1, 1, 0, 0, 0, 0, 0, 0, 0, 0, 2,\n",
       "        1, 1, 1, 0, 1, 1, 0, 0, 0],\n",
       "       [1, 1, 0, 0, 0, 1, 1, 1, 0, 0, 1, 0, 0, 0, 1, 1, 0, 1, 0, 0, 0, 1,\n",
       "        1, 1, 0, 1, 0, 0, 1, 0, 2]], dtype=int64)"
      ]
     },
     "execution_count": 10,
     "metadata": {},
     "output_type": "execute_result"
    }
   ],
   "source": [
    "v.toarray()"
   ]
  },
  {
   "cell_type": "code",
   "execution_count": 16,
   "id": "db3e83e9",
   "metadata": {},
   "outputs": [
    {
     "name": "stdout",
     "output_type": "stream",
     "text": [
      "<class 'dict'>\n",
      "{'you': 29, 'better': 3, 'start': 18, 'swimming': 20, 'or': 13, 'll': 10, 'sink': 16, 'like': 9, 'stone': 19, 'for': 6, 'the': 21, 'times': 23, 'they': 22, 'are': 1, 'changing': 5, 'loser': 11, 'now': 12, 'will': 26, 'be': 2, 'later': 8, 'to': 24, 'win': 27, 'cause': 4, 'it': 7, 'soon': 17, 'shake': 15, 'your': 30, 'windows': 28, 'and': 0, 'rattle': 14, 'walls': 25}\n"
     ]
    }
   ],
   "source": [
    "voc = cv.vocabulary_ #-> Organizado por ordem alfabética.\n",
    "print(type(voc))\n",
    "print(voc)"
   ]
  },
  {
   "cell_type": "code",
   "execution_count": 19,
   "id": "28f2578b",
   "metadata": {},
   "outputs": [
    {
     "data": {
      "text/plain": [
       "['and',\n",
       " 'are',\n",
       " 'be',\n",
       " 'better',\n",
       " 'cause',\n",
       " 'changing',\n",
       " 'for',\n",
       " 'it',\n",
       " 'later',\n",
       " 'like',\n",
       " 'll',\n",
       " 'loser',\n",
       " 'now',\n",
       " 'or',\n",
       " 'rattle',\n",
       " 'shake',\n",
       " 'sink',\n",
       " 'soon',\n",
       " 'start',\n",
       " 'stone',\n",
       " 'swimming',\n",
       " 'the',\n",
       " 'they',\n",
       " 'times',\n",
       " 'to',\n",
       " 'walls',\n",
       " 'will',\n",
       " 'win',\n",
       " 'windows',\n",
       " 'you',\n",
       " 'your']"
      ]
     },
     "execution_count": 19,
     "metadata": {},
     "output_type": "execute_result"
    }
   ],
   "source": [
    "vn = cv.get_feature_names()\n",
    "vn"
   ]
  },
  {
   "cell_type": "code",
   "execution_count": 29,
   "id": "ea737f64",
   "metadata": {},
   "outputs": [],
   "source": [
    "i = np.array(list(voc.values()))\n",
    "words = list(voc.keys())\n",
    "\n",
    "idx = np.argsort(i)\n",
    "newD = {i:words[idx[i]] for i in range(len(words))}"
   ]
  },
  {
   "cell_type": "code",
   "execution_count": 34,
   "id": "8388a984",
   "metadata": {},
   "outputs": [
    {
     "data": {
      "text/plain": [
       "{0: 'and',\n",
       " 1: 'are',\n",
       " 2: 'be',\n",
       " 3: 'better',\n",
       " 4: 'cause',\n",
       " 5: 'changing',\n",
       " 6: 'for',\n",
       " 7: 'it',\n",
       " 8: 'later',\n",
       " 9: 'like',\n",
       " 10: 'll',\n",
       " 11: 'loser',\n",
       " 12: 'now',\n",
       " 13: 'or',\n",
       " 14: 'rattle',\n",
       " 15: 'shake',\n",
       " 16: 'sink',\n",
       " 17: 'soon',\n",
       " 18: 'start',\n",
       " 19: 'stone',\n",
       " 20: 'swimming',\n",
       " 21: 'the',\n",
       " 22: 'they',\n",
       " 23: 'times',\n",
       " 24: 'to',\n",
       " 25: 'walls',\n",
       " 26: 'will',\n",
       " 27: 'win',\n",
       " 28: 'windows',\n",
       " 29: 'you',\n",
       " 30: 'your'}"
      ]
     },
     "execution_count": 34,
     "metadata": {},
     "output_type": "execute_result"
    }
   ],
   "source": [
    "newD"
   ]
  },
  {
   "cell_type": "code",
   "execution_count": 52,
   "id": "d382e3c8",
   "metadata": {},
   "outputs": [
    {
     "name": "stdout",
     "output_type": "stream",
     "text": [
      "[[0 1 0 1 0 1 1 0 0 1 1 0 0 1 0 0 1 0 1 1 1 1 1 1 0 0 0 0 0 2 0]\n",
      " [0 1 1 0 1 1 0 0 1 0 0 1 1 0 0 0 0 0 0 0 0 2 1 1 1 0 1 1 0 0 0]\n",
      " [1 1 0 0 0 1 1 1 0 0 1 0 0 0 1 1 0 1 0 0 0 1 1 1 0 1 0 0 1 0 2]]\n",
      "2\n",
      "you\n"
     ]
    }
   ],
   "source": [
    "print(v.toarray())\n",
    "\n",
    "print(v.toarray()[0, 29]) #Isto indica que a palavra 29 no newD aparece duas vezes.\n",
    "print(newD[29]) #Neste caso \"you\""
   ]
  }
 ],
 "metadata": {
  "kernelspec": {
   "display_name": "Python 3",
   "language": "python",
   "name": "python3"
  },
  "language_info": {
   "codemirror_mode": {
    "name": "ipython",
    "version": 3
   },
   "file_extension": ".py",
   "mimetype": "text/x-python",
   "name": "python",
   "nbconvert_exporter": "python",
   "pygments_lexer": "ipython3",
   "version": "3.8.8"
  }
 },
 "nbformat": 4,
 "nbformat_minor": 5
}
