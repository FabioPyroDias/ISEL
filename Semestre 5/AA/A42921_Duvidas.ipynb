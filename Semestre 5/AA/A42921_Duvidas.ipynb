{
 "cells": [
  {
   "cell_type": "code",
   "execution_count": 166,
   "id": "c35749ff",
   "metadata": {},
   "outputs": [],
   "source": [
    "import numpy as np\n",
    "import matplotlib.pyplot as plt\n",
    "import sklearn.datasets as dt \n",
    "from sklearn.metrics import confusion_matrix"
   ]
  },
  {
   "cell_type": "markdown",
   "id": "ace1e0f7",
   "metadata": {},
   "source": [
    "### Iris Dataset"
   ]
  },
  {
   "cell_type": "code",
   "execution_count": 167,
   "id": "4118daf9",
   "metadata": {},
   "outputs": [
    {
     "name": "stdout",
     "output_type": "stream",
     "text": [
      "dict_keys(['data', 'target', 'frame', 'target_names', 'DESCR', 'feature_names', 'filename'])\n",
      "\n",
      "X_Iris shape: (150, 4)\n",
      "target_Iris shape: (150,)\n",
      "\n",
      "[0 0 0 0 0 0 0 0 0 0 0 0 0 0 0 0 0 0 0 0 0 0 0 0 0 0 0 0 0 0 0 0 0 0 0 0 0\n",
      " 0 0 0 0 0 0 0 0 0 0 0 0 0 1 1 1 1 1 1 1 1 1 1 1 1 1 1 1 1 1 1 1 1 1 1 1 1\n",
      " 1 1 1 1 1 1 1 1 1 1 1 1 1 1 1 1 1 1 1 1 1 1 1 1 1 1 2 2 2 2 2 2 2 2 2 2 2\n",
      " 2 2 2 2 2 2 2 2 2 2 2 2 2 2 2 2 2 2 2 2 2 2 2 2 2 2 2 2 2 2 2 2 2 2 2 2 2\n",
      " 2 2]\n"
     ]
    }
   ],
   "source": [
    "D_Iris = dt.load_iris()\n",
    "print(D_Iris.keys())\n",
    "print()\n",
    "\n",
    "#A forma como os dados estão organizados é:\n",
    "# Linhas: Entradas de Dados.\n",
    "# Colunas: Características.\n",
    "X_Iris = D_Iris.data\n",
    "target_Iris = D_Iris.target\n",
    "\n",
    "print(\"X_Iris shape:\", X_Iris.shape)\n",
    "print(\"target_Iris shape:\", target_Iris.shape)\n",
    "print()\n",
    "\n",
    "# irisClass1 = irisData[target_Iris==2, :]\n",
    "Class0_Iris = X_Iris[target_Iris == 0, :]\n",
    "Class1_Iris = X_Iris[target_Iris == 1, :]\n",
    "Class2_Iris = X_Iris[target_Iris == 2, :]\n",
    "\n",
    "# print(Class0_Iris)\n",
    "\n",
    "print(target_Iris)"
   ]
  },
  {
   "cell_type": "markdown",
   "id": "f76f5bd3",
   "metadata": {},
   "source": [
    "### Ordenar e Baralhar Datasets"
   ]
  },
  {
   "cell_type": "code",
   "execution_count": 168,
   "id": "9d442e03",
   "metadata": {},
   "outputs": [],
   "source": [
    "#Ordenar\n",
    "sortedIndex = np.argsort(target_Iris)\n",
    "X_Iris_Sorted = X_Iris[sortedIndex, :]\n",
    "target_Iris_Sorted = target_Iris[sortedIndex]\n",
    "\n",
    "#Baralhar\n",
    "shuffledIndex = np.random.permutation(X_Iris.shape[0])\n",
    "X_Iris_Shuffled = X_Iris[shuffledIndex]\n",
    "target_Iris_Shuffled = target_Iris[shuffledIndex]"
   ]
  },
  {
   "cell_type": "markdown",
   "id": "1e3c17af",
   "metadata": {},
   "source": [
    "## Média"
   ]
  },
  {
   "cell_type": "code",
   "execution_count": 169,
   "id": "f8868872",
   "metadata": {},
   "outputs": [
    {
     "name": "stdout",
     "output_type": "stream",
     "text": [
      "Média Total:  3.4644999999999997\n",
      "Média Colunas:  [5.84333333 3.05733333 3.758      1.19933333]\n",
      "Média Colunas:  [2.55  2.375 2.35  2.35  2.55  2.85  2.425 2.525 2.225 2.4   2.7   2.5\n",
      " 2.325 2.125 2.8   3.    2.75  2.575 2.875 2.675 2.675 2.675 2.35  2.65\n",
      " 2.575 2.45  2.6   2.6   2.55  2.425 2.425 2.675 2.725 2.825 2.425 2.4\n",
      " 2.625 2.5   2.225 2.55  2.525 2.1   2.275 2.675 2.8   2.375 2.675 2.35\n",
      " 2.675 2.475 4.075 3.9   4.1   3.275 3.85  3.575 3.975 2.9   3.85  3.3\n",
      " 2.875 3.65  3.3   3.775 3.35  3.9   3.65  3.4   3.6   3.275 3.925 3.55\n",
      " 3.8   3.7   3.725 3.85  3.95  4.1   3.725 3.2   3.2   3.15  3.4   3.85\n",
      " 3.6   3.875 4.    3.575 3.5   3.325 3.425 3.775 3.4   2.9   3.45  3.525\n",
      " 3.525 3.675 2.925 3.475 4.525 3.875 4.525 4.15  4.375 4.825 3.4   4.575\n",
      " 4.2   4.85  4.2   4.075 4.35  3.8   4.025 4.3   4.2   5.1   4.875 3.675\n",
      " 4.525 3.825 4.8   3.925 4.45  4.55  3.9   3.95  4.225 4.4   4.55  5.025\n",
      " 4.25  3.925 3.925 4.775 4.425 4.2   3.9   4.375 4.45  4.35  3.875 4.55\n",
      " 4.55  4.3   3.925 4.175 4.325 3.95 ]\n"
     ]
    }
   ],
   "source": [
    "#Soma todos os valores e divide pelo número de índices\n",
    "meanX_Iris = np.mean(X_Iris)\n",
    "print(\"Média Total: \", meanX_Iris)\n",
    "\n",
    "#A soma é feita em todas as linhas, obtendo as médias das colunas.\n",
    "meanX_Iris_Columns = np.mean(X_Iris, axis=0)\n",
    "print(\"Média Colunas: \", meanX_Iris_Columns)\n",
    "\n",
    "#A soma é feita em todas as colunas, obtendo as médias das linhas.\n",
    "meanX_Iris_Rows = np.mean(X_Iris, axis=1)\n",
    "print(\"Média Colunas: \", meanX_Iris_Rows)"
   ]
  },
  {
   "cell_type": "markdown",
   "id": "68fb5ae0",
   "metadata": {},
   "source": [
    "### Matriz de Confusão"
   ]
  },
  {
   "cell_type": "code",
   "execution_count": 170,
   "id": "bbfde1c7",
   "metadata": {
    "scrolled": false
   },
   "outputs": [
    {
     "name": "stdout",
     "output_type": "stream",
     "text": [
      "X:  [-1.5  0.5 -0.2  2.3 -2.1  2.5  1.5 -1.1  1.6  1.1  0.9 -0.1]\n",
      "Classe Verdadeira:  [1 1 1 2 0 1 1 0 2 2 1 0]\n",
      "Classe Classificada:  [0. 1. 1. 2. 0. 2. 2. 0. 2. 2. 1. 1.]\n",
      "\n",
      "Matriz de Confusão:\n",
      " [[2 1 0]\n",
      " [1 3 2]\n",
      " [0 0 3]]\n",
      "\n",
      "Número Total de Pontos da Classe 0:  3\n",
      "Número de Pontos Avaliados Correctamente da Classe 0:  2\n",
      "\n",
      "Número Total de Pontos da Classe 1:  6\n",
      "Número de Pontos Avaliados Correctamente da Classe 1:  3\n",
      "\n",
      "Número Total de Pontos da Classe 2:  3\n",
      "Número de Pontos Avaliados Correctamente da Classe 2:  3\n",
      "\n",
      "Número Total de Pontos:  12\n",
      "\n",
      "Probabilidade de Erro da Classe 0:  0.08333333333333333\n",
      "Probabilidade de Erro da Classe 1:  0.25\n",
      "Probabilidade de Erro da Classe 2:  0.0\n",
      "Probabilidade Total de Erro:  0.3333333333333333\n"
     ]
    }
   ],
   "source": [
    "X_Confusion = np.array([-1.5, 0.5, -0.2, 2.3, -2.1, 2.5, 1.5, -1.1, 1.6, 1.1, 0.9, -0.1])\n",
    "true_class_Confusion = np.array([1, 1, 1, 2, 0, 1, 1, 0, 2, 2, 1, 0])\n",
    "classified_class_Confusion = np.zeros(X_Confusion.shape[0])\n",
    "\n",
    "for index in range(len(X_Confusion)):\n",
    "    if X_Confusion[index] <= -1:\n",
    "        classified_class_Confusion[index] = 0\n",
    "    elif X_Confusion[index] <= 1:\n",
    "        classified_class_Confusion[index] = 1\n",
    "    else:\n",
    "        classified_class_Confusion[index] = 2\n",
    "\n",
    "confusion_Matrix = confusion_matrix(true_class_Confusion, classified_class_Confusion)\n",
    "\n",
    "total_Number_Of_Points = np.sum(confusion_Matrix)\n",
    "\n",
    "class0_Number_Of_Points = np.sum(confusion_Matrix[0, :])\n",
    "class0_Right_Classified_Number_Of_Points = confusion_Matrix[0, 0]\n",
    "\n",
    "class1_Number_Of_Points = np.sum(confusion_Matrix[1, :])\n",
    "class1_Right_Classified_Number_Of_Points = confusion_Matrix[1, 1]\n",
    "\n",
    "class2_Number_Of_Points = np.sum(confusion_Matrix[2, :])\n",
    "class2_Right_Classified_Number_Of_Points = confusion_Matrix[2, 2]\n",
    "\n",
    "class0_Error_Rate = (confusion_Matrix[0, 1] + confusion_Matrix[0, 2]) / total_Number_Of_Points\n",
    "class1_Error_Rate = (confusion_Matrix[1, 0] + confusion_Matrix[1, 2]) / total_Number_Of_Points\n",
    "class2_Error_Rate = (confusion_Matrix[2, 0] + confusion_Matrix[2, 1]) / total_Number_Of_Points\n",
    "\n",
    "total_Error_Rate = (np.sum(confusion_Matrix) - np.sum(np.diag(confusion_Matrix))) / total_Number_Of_Points\n",
    "\n",
    "print(\"X: \", X_Confusion)\n",
    "print(\"Classe Verdadeira: \", true_class_Confusion)\n",
    "print(\"Classe Classificada: \", classified_class_Confusion)\n",
    "print()\n",
    "print(\"Matriz de Confusão:\\n\", confusion_Matrix)\n",
    "print()\n",
    "print(\"Número Total de Pontos da Classe 0: \", class0_Number_Of_Points)\n",
    "print(\"Número de Pontos Avaliados Correctamente da Classe 0: \", class0_Right_Classified_Number_Of_Points)\n",
    "print()\n",
    "print(\"Número Total de Pontos da Classe 1: \", class1_Number_Of_Points)\n",
    "print(\"Número de Pontos Avaliados Correctamente da Classe 1: \", class1_Right_Classified_Number_Of_Points)\n",
    "print()\n",
    "print(\"Número Total de Pontos da Classe 2: \", class2_Number_Of_Points)\n",
    "print(\"Número de Pontos Avaliados Correctamente da Classe 2: \", class2_Right_Classified_Number_Of_Points)\n",
    "print()\n",
    "print(\"Número Total de Pontos: \", total_Number_Of_Points)\n",
    "print()\n",
    "print(\"Probabilidade de Erro da Classe 0: \", class0_Error_Rate)\n",
    "print(\"Probabilidade de Erro da Classe 1: \", class1_Error_Rate)\n",
    "print(\"Probabilidade de Erro da Classe 2: \", class2_Error_Rate)\n",
    "print(\"Probabilidade Total de Erro: \", total_Error_Rate)"
   ]
  },
  {
   "cell_type": "markdown",
   "id": "73b8887b",
   "metadata": {},
   "source": [
    "### Matriz de Confusão - Iris Dataset\n",
    "# Não percebo. Perguntar!"
   ]
  },
  {
   "cell_type": "code",
   "execution_count": 171,
   "id": "cfbd529d",
   "metadata": {},
   "outputs": [
    {
     "name": "stdout",
     "output_type": "stream",
     "text": [
      "50\n",
      "0\n",
      "0\n",
      "32\n",
      "18\n",
      "0\n",
      "5\n",
      "45\n"
     ]
    }
   ],
   "source": [
    "X_Iris_Sorted_Confusion_Matrix = np.vstack((np.ones(150), X_Iris_Sorted.T))\n",
    "A = np.array([[-8, 1, 5, -4, -1], [20, 0, -9, 4, -9], [-25, 0, 3, 0, 11]])\n",
    "\n",
    "target_Iris_Estimated = np.dot(A, X_Iris_Sorted_Confusion_Matrix)\n",
    "target_Iris_Estimated = np.argmax(target_Iris_Estimated, axis = 0)\n",
    "\n",
    "print(np.sum(target_Iris_Estimated[target_Iris==0] == 0))\n",
    "print(np.sum(target_Iris_Estimated[target_Iris==0] == 1))\n",
    "print(np.sum(target_Iris_Estimated[target_Iris==0] == 2))\n",
    "print(np.sum(target_Iris_Estimated[target_Iris==1] == 1))\n",
    "print(np.sum(target_Iris_Estimated[target_Iris==1] == 2))\n",
    "print(np.sum(target_Iris_Estimated[target_Iris==2] == 0))\n",
    "print(np.sum(target_Iris_Estimated[target_Iris==2] == 1))\n",
    "print(np.sum(target_Iris_Estimated[target_Iris==2] == 2))"
   ]
  },
  {
   "cell_type": "markdown",
   "id": "8382fbe0",
   "metadata": {},
   "source": [
    "### Classificador Binário"
   ]
  },
  {
   "cell_type": "markdown",
   "id": "71b0526e",
   "metadata": {},
   "source": [
    "Existem dois tipos de classes: positivos e negativos.\n",
    "- Positivo: obtido pela soma do número de ocorrências True Positive e False Positive.\n",
    "- Negativo: obtido pela soma do número de ocorrências True Negative e False Negative.\n",
    "\n",
    "A matriz de confusão também é denominada como \"tabela de contigência\".\n",
    "\n",
    "Probabilidade Total de Erro = (FP + FN) / (TP + FP + TN + FN)<br>\n",
    "p11 = TP <br>\n",
    "p12 = FN <br>\n",
    "p21 = FP <br>\n",
    "p22 = TN <br>\n",
    "\n",
    "Métricas: \n",
    "- TP-Rate:\n",
    "TP / (TP + FN) -> <b>recall</b> ou <b>sensitivity</b>\n",
    "- FP-Rate:\n",
    "FP / (FP + TN) -> <b>false alarm</b> ou <b>fall-out</b>\n",
    "- TN-Rate:\n",
    "TN / (TN + FP) -> <b>specificity</b>\n",
    "- FN-Rate:\n",
    "FN / (FN + TP)\n",
    "- PPV (Positive Predicted Value):\n",
    "TP / (TP + FP) -> <b>precision</b>\n",
    "- FDR (False Discovery Rate):\n",
    "FP / (FP + TP) -> Notar que FDR = 1 - PPV\n",
    "- NPV (Negative Predicted Value):\n",
    "TN / (TN + FN)\n",
    "- FOR (False Omission Rate):\n",
    "FN / (FN + TN)\n",
    "\n",
    "Métricas Derivadas da Precision e Recall:\n",
    "- F-Score:\n",
    "2 / ((1 / recall) + (1 / precision)) <=> 2 * ((precision * recall) / (precision + recall))\n",
    "- G-Score:\n",
    "Raiz Quadrada(precision * recall)"
   ]
  },
  {
   "cell_type": "markdown",
   "id": "2ea3d9e4",
   "metadata": {},
   "source": [
    "## Curvas Roc"
   ]
  },
  {
   "cell_type": "markdown",
   "id": "c1902a88",
   "metadata": {},
   "source": [
    "As curvas ROC (Receiving Operating Characteristics) sao gáficos que servem para ilustrar e comparar o desempenho de um ou mais classificadores.<br>\n",
    "\n",
    "O espaço da curva ROC é definido no eixo das abcissas (x) pela taxa de falsos positivos (FP-rate) e no eixo das ordenadas (y) pela taxa de verdadeiros positivos (TP-rate). Os valores estão limitados no intervalo [0, 1].<br>\n",
    "As curvas ROC são uma ferramenta importante para a escolha dos modelos óptimos e no descarte dos sub-óptimos.<br>\n",
    "\n",
    "Um resultado de classificação corresponde a um único ponto na curva.\n",
    "Tal como em muitos modelos de classificação, existe a possibilidade de variar o limiar de decisão. Ao analisar um modelo para vários valores do limiar, isto resulta numa curva no espaço ROC. Esta curva pode ser usada na escolher do limiar mais apropriado ao problema."
   ]
  },
  {
   "cell_type": "markdown",
   "id": "4c9e7b2a",
   "metadata": {},
   "source": [
    "### Classificações ROC"
   ]
  },
  {
   "cell_type": "markdown",
   "id": "2b87873c",
   "metadata": {},
   "source": [
    "- Classificardor Perfeito:<br>\n",
    "Este é que não possui qualquer erro. A taxa de verdadeiros positivos (TP-Rate) é 1 e a taxa de falsos positivos (FP-Rate) é 0.\n",
    "\n",
    "\n",
    "- Classificadores Aleatórios:<br>\n",
    "Todos os classificadores que se encontram na linha diagonal y = x, ou seja, de (0, 0) a (1, 1) são obtidos com escolha aleatória.\n",
    "\n",
    "\n",
    "- Classificadores Piores que Aleatórios:<br>\n",
    "Estes são os que se encontram abaixo da linha diagonal dos Classificadores Aleatórios, também chamado \"Triângulo Inferior\".<br>\n",
    "É possível reposicioná-los no \"Triângulo Superior\", acima da linha diagonal, invertendo a decisão de classificação.<br>\n",
    "Isto é, trocar os positivos pelos negativos e vice-versa."
   ]
  },
  {
   "cell_type": "markdown",
   "id": "9f9a9050",
   "metadata": {},
   "source": [
    "### Outras Curvas e Medidas de Desempenho"
   ]
  },
  {
   "cell_type": "markdown",
   "id": "b4bac88f",
   "metadata": {},
   "source": [
    "- AUC - Area Under the ROC Curve:<br>\n",
    "A área da curva ROC é uma maneira de combinar as duas métricas TP-rate e FP-rate numa só. AUC pode ser interpretado como a capacidade de discriminar correctamente as observações positivas das negativas.\n",
    "\n",
    "\n",
    "- Curvas DET - Detection Error Tradeoff:<br>\n",
    "Esta serve para visualizar as taxas de erro de um classificador exibindo as detecções falhadas, falsos negativos (FN-rate), versus falsos alarmes, falsos positivos (FP-rate).\n",
    "\n",
    "\n",
    "- Curvas de Precision vs Recall:<br>\n",
    "Estas são muito usadas em recolha de informação. Têm uma característica distinta das curvas ROC ou DET.<br>\n",
    "As curvas ROC e DET nao são afetadas pelo número de exemplos positivos ou negativos, enquanto as curvas Precision-Recall sim.<br>\n",
    "Isto é, diferentes proporções de exemplos positivos e negativos produzem diferentes gráficos."
   ]
  },
  {
   "cell_type": "markdown",
   "id": "4cdd13d6",
   "metadata": {},
   "source": [
    "## Matriz de Covariância"
   ]
  },
  {
   "cell_type": "code",
   "execution_count": null,
   "id": "7028aa21",
   "metadata": {},
   "outputs": [],
   "source": []
  },
  {
   "cell_type": "markdown",
   "id": "fbae2dd5",
   "metadata": {},
   "source": [
    "# Laboratórios"
   ]
  },
  {
   "cell_type": "markdown",
   "id": "95b03150",
   "metadata": {},
   "source": [
    "## Laboratório 1"
   ]
  },
  {
   "cell_type": "markdown",
   "id": "34762bc2",
   "metadata": {},
   "source": [
    "### Exercício 1"
   ]
  },
  {
   "cell_type": "code",
   "execution_count": 172,
   "id": "fd5c8955",
   "metadata": {},
   "outputs": [
    {
     "data": {
      "image/png": "[encoded data removed]",
      "text/plain": [
       "<Figure size 576x288 with 1 Axes>"
      ]
     },
     "metadata": {
      "needs_background": "light"
     },
     "output_type": "display_data"
    }
   ],
   "source": [
    "import numpy as np\n",
    "import numpy.random as rd\n",
    "import matplotlib.pyplot as plt\n",
    "\n",
    "x = rd.wald(1, 3, int(100000))\n",
    "hx, b = np.histogram(x, np.linspace(0, 5, 201), density=True)\n",
    "b = (b[:-1]+b[1:]) / 2.0\n",
    "t = np.linspace(0+1e-6, 5, 100)\n",
    "fx = np.sqrt(3 / (2 * np.pi * t ** 3)) * np.exp(-3 * (t - 1) ** 2 / (2 * t))\n",
    "\n",
    "plt.figure(figsize=(8, 4))\n",
    "plt.bar(b, hx, width=0.025, color=[0.7, 0.7, 0.7])\n",
    "plt.plot(t, fx, 'r', linewidth=2)\n",
    "plt.show()"
   ]
  },
  {
   "cell_type": "markdown",
   "id": "6a5e2365",
   "metadata": {},
   "source": [
    "### Exercício 2"
   ]
  },
  {
   "cell_type": "code",
   "execution_count": 173,
   "id": "857fe542",
   "metadata": {},
   "outputs": [
    {
     "data": {
      "image/png": "[encoded data removed]",
      "text/plain": [
       "<Figure size 648x180 with 4 Axes>"
      ]
     },
     "metadata": {
      "needs_background": "light"
     },
     "output_type": "display_data"
    }
   ],
   "source": [
    "import numpy as np\n",
    "import numpy.random as rd\n",
    "import matplotlib.pyplot as plt\n",
    "plt.close('all')\n",
    "N=100000 #1e5 pts uniforme\n",
    "x1=rd.rand(N)\n",
    "x2=np.sum(rd.rand(2,N),axis=0) #soma de 2 v.a. uniformes\n",
    "x3=np.sum(rd.rand(3,N),axis=0) #soma de 3 v.a. uniformes\n",
    "x4=np.sum(rd.rand(10,N),axis=0) #soma de 10 v.a. uniformes\n",
    "hx,b=np.histogram(x1,np.linspace(0,1,101),density=True)\n",
    "b=(b[:-1]+b[1:])/2\n",
    "plt.figure(figsize=(9,2.5))\n",
    "plt.subplot(141);plt.axis([-0.1,1.1,0,1.1]);plt.title('N=1')\n",
    "plt.bar(b[0:100],hx,width=0.005);plt.xticks([0,0.5,1])\n",
    "hx,b=np.histogram(x2,np.linspace(0,2,101),density=True)\n",
    "b=(b[:-1]+b[1:])/2\n",
    "plt.subplot(142);plt.axis([-0.1,2.1,0,1.1]);plt.title('N=2')\n",
    "plt.bar(b[0:100],hx,width=0.01);plt.xticks(np.arange(3))\n",
    "hx,b=np.histogram(x3,np.linspace(0,3,101),density=True)\n",
    "b=(b[:-1]+b[1:])/2\n",
    "plt.subplot(143);plt.axis([-0.1,3.1,0,.8]);plt.title('N=3')\n",
    "plt.bar(b[0:100],hx,width=0.015);plt.xticks(np.arange(4))\n",
    "hx,b=np.histogram(x4,np.linspace(0,10,101),density=True)\n",
    "b=(b[:-1]+b[1:])/2\n",
    "plt.subplot(144);plt.axis([-0.1,10.1,0,.5]);plt.title('N=10')\n",
    "plt.bar(b[0:100],hx,width=0.05);plt.xticks(np.arange(0,11,2))\n",
    "#plt.savefig('../figs/L1AAex002.png',bbox_inches='tight',transparent=True) \n",
    "plt.show()"
   ]
  },
  {
   "cell_type": "code",
   "execution_count": 174,
   "id": "fb0a4f52",
   "metadata": {},
   "outputs": [
    {
     "data": {
      "image/png": "[encoded data removed]",
      "text/plain": [
       "<Figure size 504x360 with 1 Axes>"
      ]
     },
     "metadata": {
      "needs_background": "light"
     },
     "output_type": "display_data"
    }
   ],
   "source": [
    "# -*- coding: latin-1 -*-\n",
    "import numpy as np\n",
    "from matplotlib import pyplot as plt\n",
    "#criar matrix A 2x2 e vector b 2x1\n",
    "A=np.array([[1./3/np.sqrt(2.),1./np.sqrt(2.)],\\\n",
    "[-1./np.sqrt(2.)/3,1./np.sqrt(2.)]])\n",
    "b=np.array([3,2])\n",
    "#criar 1000 pontos\n",
    "np.random.seed(0);X=np.random.randn(2,1000)\n",
    "#para somar b, tem que se transpor x (e voltar a transpor)\n",
    "Y=(np.dot(A,X).T+b).T\n",
    "#ou em alternativa: Y=np.dot(A,X)+b[:,np.newaxis]\n",
    "plt.figure(figsize=(7,5)) #criar figura\n",
    "plt.plot(X[0,:],X[1,:],'.b',markersize=4)\n",
    "plt.plot(Y[0,:],Y[1,:],'og',markersize=4)\n",
    "plt.axis('equal');plt.axis([-5.,7,-4.,5.1])\n",
    "plt.grid();plt.xticks(np.arange(-4,7))\n",
    "plt.xlabel('$x_1$',fontsize=16)\n",
    "plt.ylabel('$x_2$',fontsize=16)\n",
    "#plt.savefig('../figs/L1AAex003.png',\\\n",
    "#box_inches='tight',transparent=True) #guardar em ficheiro \".png\"\n",
    "plt.show()"
   ]
  },
  {
   "cell_type": "code",
   "execution_count": 175,
   "id": "ad08e9c2",
   "metadata": {},
   "outputs": [
    {
     "data": {
      "image/png": "[encoded data removed]",
      "text/plain": [
       "<Figure size 504x288 with 1 Axes>"
      ]
     },
     "metadata": {
      "needs_background": "light"
     },
     "output_type": "display_data"
    }
   ],
   "source": [
    "# -*- coding: latin-1 -*-\n",
    "import numpy as np\n",
    "import scipy.linalg as la\n",
    "from matplotlib import pyplot as plt\n",
    "#cov + m�dia\n",
    "S1=np.array([[5./9,4./9.],[4./9,5./9]]);m1=np.array([3,2])\n",
    "S2=np.array([[5./9,-4./9.],[-4./9,5./9]]);m2=np.array([-3,2])\n",
    "#criar 1000 pontos\n",
    "N=100000;np.random.seed(0);X1=np.random.randn(2,N)\n",
    "X2=(np.random.rand(2,N)-0.5)*np.sqrt(12.)#tirar m�dia e por var=1\n",
    "A1=la.sqrtm(S1);A2=la.sqrtm(S2)\n",
    "#transforma��es\n",
    "Y1=(np.dot(A1,X1).T+m1).T;Y2=(np.dot(A2,X2).T+m2).T\n",
    "plt.figure(figsize=(7,4)) #criar figura\n",
    "plt.plot(Y1[0,:],Y1[1,:],'.b',Y2[0,:],Y2[1,:],'.g',markersize=4)\n",
    "plt.axis('scaled');plt.grid()\n",
    "plt.xticks(np.arange(-6,6,1));plt.yticks(np.arange(-1,5,1))\n",
    "plt.xlabel('$x_1$',fontsize=16);plt.ylabel('$x_2$',fontsize=16)\n",
    "#plt.savefig('../figs/L1AAex004.png',\\\n",
    "#bbox_inches='tight',transparent=True) #guardar em ficheiro \".png\"\n",
    "plt.show()"
   ]
  },
  {
   "cell_type": "code",
   "execution_count": 176,
   "id": "d466ee89",
   "metadata": {},
   "outputs": [
    {
     "ename": "FileNotFoundError",
     "evalue": "[Errno 2] No such file or directory: 'L1AAestrela.p'",
     "output_type": "error",
     "traceback": [
      "\u001b[1;31m---------------------------------------------------------------------------\u001b[0m",
      "\u001b[1;31mFileNotFoundError\u001b[0m                         Traceback (most recent call last)",
      "\u001b[1;32m<ipython-input-176-e9b040aad4ac>\u001b[0m in \u001b[0;36m<module>\u001b[1;34m\u001b[0m\n\u001b[0;32m      3\u001b[0m \u001b[1;32mfrom\u001b[0m \u001b[0mmatplotlib\u001b[0m \u001b[1;32mimport\u001b[0m \u001b[0mpyplot\u001b[0m \u001b[1;32mas\u001b[0m \u001b[0mplt\u001b[0m\u001b[1;33m\u001b[0m\u001b[1;33m\u001b[0m\u001b[0m\n\u001b[0;32m      4\u001b[0m \u001b[1;32mimport\u001b[0m \u001b[0mpickle\u001b[0m\u001b[1;33m\u001b[0m\u001b[1;33m\u001b[0m\u001b[0m\n\u001b[1;32m----> 5\u001b[1;33m \u001b[0mParm\u001b[0m\u001b[1;33m=\u001b[0m\u001b[0mpickle\u001b[0m\u001b[1;33m.\u001b[0m\u001b[0mload\u001b[0m\u001b[1;33m(\u001b[0m\u001b[0mopen\u001b[0m\u001b[1;33m(\u001b[0m\u001b[1;34m'L1AAestrela.p'\u001b[0m\u001b[1;33m,\u001b[0m\u001b[1;34m'rb'\u001b[0m\u001b[1;33m)\u001b[0m\u001b[1;33m)\u001b[0m\u001b[1;31m#importar pontos\u001b[0m\u001b[1;33m\u001b[0m\u001b[1;33m\u001b[0m\u001b[0m\n\u001b[0m\u001b[0;32m      6\u001b[0m \u001b[0mpts0\u001b[0m\u001b[1;33m=\u001b[0m\u001b[0mParm\u001b[0m\u001b[1;33m[\u001b[0m\u001b[1;36m0\u001b[0m\u001b[1;33m]\u001b[0m\u001b[1;33m;\u001b[0m\u001b[0mpts1\u001b[0m\u001b[1;33m=\u001b[0m\u001b[0mParm\u001b[0m\u001b[1;33m[\u001b[0m\u001b[1;36m1\u001b[0m\u001b[1;33m]\u001b[0m\u001b[1;33m;\u001b[0m\u001b[0mpts2\u001b[0m\u001b[1;33m=\u001b[0m\u001b[0mParm\u001b[0m\u001b[1;33m[\u001b[0m\u001b[1;36m2\u001b[0m\u001b[1;33m]\u001b[0m\u001b[1;33m;\u001b[0m\u001b[0mpts3\u001b[0m\u001b[1;33m=\u001b[0m\u001b[0mParm\u001b[0m\u001b[1;33m[\u001b[0m\u001b[1;36m3\u001b[0m\u001b[1;33m]\u001b[0m\u001b[1;33m\u001b[0m\u001b[1;33m\u001b[0m\u001b[0m\n\u001b[0;32m      7\u001b[0m \u001b[0mN\u001b[0m\u001b[1;33m=\u001b[0m\u001b[1;36m40\u001b[0m \u001b[1;31m#n� de transforma��es\u001b[0m\u001b[1;33m\u001b[0m\u001b[1;33m\u001b[0m\u001b[0m\n",
      "\u001b[1;31mFileNotFoundError\u001b[0m: [Errno 2] No such file or directory: 'L1AAestrela.p'"
     ]
    }
   ],
   "source": [
    "# -*- coding: latin-1 -*-\n",
    "import numpy as np\n",
    "from matplotlib import pyplot as plt\n",
    "import pickle\n",
    "Parm=pickle.load(open('L1AAestrela.p','rb'))#importar pontos\n",
    "pts0=Parm[0];pts1=Parm[1];pts2=Parm[2];pts3=Parm[3]\n",
    "N=40 #n� de transforma��es\n",
    "ang=np.arange(-np.pi,2.*np.pi,3.*np.pi/N)\n",
    "transl=np.zeros((2,N))\n",
    "transl[0,:]=np.arange(-1,1,2./N);transl[1,:]=transl[0,:]**2-1\n",
    "scl=(1.+np.cos(transl[0,:]*np.pi/2+np.pi/2))-.8#escalamento\n",
    "plt.figure(figsize=(7,6.5))    #criar figura\n",
    "idx=0;media=np.zeros((2,1))    #vector temporario\n",
    "for a in ang:\n",
    "    T=np.array([[np.cos(a),-np.sin(a)],[np.sin(a),np.cos(a)]])\n",
    "    media[0,0]=transl[0,idx];media[1,0]=transl[1,idx]\n",
    "    s=scl[idx]\n",
    "    idx=idx+1\n",
    "    x0=np.dot(T,s*pts0)+media;x1=np.dot(T,s*pts1)+media\n",
    "    x2=np.dot(T,s*pts2)+media;x3=np.dot(T,s*pts3)+media\n",
    "    plt.plot(x0[0,:],x0[1,:],'-k',alpha=.1)\n",
    "    plt.fill(x1[0,:],x1[1,:],'b',x2[0,:],x2[1,:],'g',\\\n",
    "    x3[0,:],x3[1,:],'r',alpha=.1)\n",
    "plt.plot(x0[0,:],x0[1,:],'-k',linewidth=2)\n",
    "plt.plot(x1[0,:],x1[1,:],'b',x2[0,:],x2[1,:],'g',x3[0,:],x3[1,:],'r')\n",
    "plt.fill(x1[0,:],x1[1,:],'b',x2[0,:],x2[1,:],'g',x3[0,:],x3[1,:],'r')\n",
    "plt.axis('scaled'),plt.grid(True),\n",
    "plt.axis(np.array([-1.,1.,-1.,1.])*2)\n",
    "plt.xlabel('$x_1$',fontsize=12),plt.xticks(np.arange(-2,2.1))\n",
    "plt.ylabel('$x_2$',fontsize=12),plt.yticks(np.arange(-2,2.1))\n",
    "#plt.savefig('../figs/L1AAex006.png',bbox_inches='tight',transparent=True) \n",
    "plt.show()"
   ]
  }
 ],
 "metadata": {
  "kernelspec": {
   "display_name": "Python 3",
   "language": "python",
   "name": "python3"
  },
  "language_info": {
   "codemirror_mode": {
    "name": "ipython",
    "version": 3
   },
   "file_extension": ".py",
   "mimetype": "text/x-python",
   "name": "python",
   "nbconvert_exporter": "python",
   "pygments_lexer": "ipython3",
   "version": "3.8.8"
  }
 },
 "nbformat": 4,
 "nbformat_minor": 5
}
