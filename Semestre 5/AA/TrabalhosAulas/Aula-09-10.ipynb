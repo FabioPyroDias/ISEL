{
 "cells": [
  {
   "cell_type": "code",
   "execution_count": 29,
   "metadata": {},
   "outputs": [],
   "source": [
    "import numpy as np\n",
    "import matplotlib.pyplot as plt\n",
    "import numpy.random as rd\n",
    "import scipy.spatial.distance as spd\n",
    "import sklearn.datasets as dt\n",
    "from sklearn import metrics as mt\n",
    "import pickle as pk\n",
    "from sklearn.model_selection  import train_test_split\n",
    "from sklearn.ensemble import RandomForestClassifier\n",
    "from sklearn.metrics import confusion_matrix\n",
    "\n",
    "from sklearn.model_selection import cross_val_predict, cross_val_score\n",
    "from sklearn.model_selection import KFold, StratifiedKFold"
   ]
  },
  {
   "cell_type": "code",
   "execution_count": 17,
   "metadata": {},
   "outputs": [
    {
     "data": {
      "text/plain": [
       "dict_keys(['data', 'target', 'frame', 'target_names', 'DESCR', 'feature_names', 'filename'])"
      ]
     },
     "execution_count": 17,
     "metadata": {},
     "output_type": "execute_result"
    }
   ],
   "source": [
    "D = dt.load_iris()\n",
    "X = D.data\n",
    "y = D.target\n",
    "D.keys()"
   ]
  },
  {
   "cell_type": "code",
   "execution_count": 20,
   "metadata": {},
   "outputs": [
    {
     "name": "stdout",
     "output_type": "stream",
     "text": [
      "0.98\n",
      "[0 1 1 1 2 1 2 1 1 0 2 2 1 2 0 0 2 1 0 2 2 1 1 1 1 2 2 1 0 0 2 0 0 0 0 0 0\n",
      " 2 2 1 1 0 1 1 0 2 2 2 0 0]\n",
      "[0 1 1 1 2 1 2 1 1 0 2 2 1 2 0 0 2 1 0 2 2 1 1 1 1 2 2 2 0 0 2 0 0 0 0 0 0\n",
      " 2 2 1 1 0 1 1 0 2 2 2 0 0]\n"
     ]
    },
    {
     "data": {
      "text/plain": [
       "array([[17,  0,  0],\n",
       "       [ 0, 16,  0],\n",
       "       [ 0,  1, 16]], dtype=int64)"
      ]
     },
     "execution_count": 20,
     "metadata": {},
     "output_type": "execute_result"
    }
   ],
   "source": [
    "\n",
    "# stratify -> quantidade semelhante para cada modelo por classe\n",
    "X1, X2, y1, y2 = train_test_split(X, y, train_size=2/3, stratify=y) \n",
    "\n",
    "rf = RandomForestClassifier()\n",
    "rf.fit(X1, y1)\n",
    "\n",
    "print(rf.score(X2, y2))\n",
    "\n",
    "\n",
    "y2e = rf.predict(X2)\n",
    "print(y2e)\n",
    "print(y2)\n",
    "\n",
    "confusion_matrix(y2, y2e)"
   ]
  },
  {
   "cell_type": "code",
   "execution_count": 24,
   "metadata": {},
   "outputs": [
    {
     "data": {
      "text/plain": [
       "0.98"
      ]
     },
     "execution_count": 24,
     "metadata": {},
     "output_type": "execute_result"
    }
   ],
   "source": [
    "np.sum(y2e!=y2)\n",
    "1 - np.sum(y2e!=y2)/50"
   ]
  },
  {
   "cell_type": "code",
   "execution_count": 28,
   "metadata": {},
   "outputs": [
    {
     "data": {
      "text/plain": [
       "array([[50,  0,  0],\n",
       "       [ 0, 47,  3],\n",
       "       [ 0,  2, 48]], dtype=int64)"
      ]
     },
     "execution_count": 28,
     "metadata": {},
     "output_type": "execute_result"
    }
   ],
   "source": [
    "rf = RandomForestClassifier()\n",
    "\n",
    "cross_val_score(rf, X, y, cv=3) # treinou e testou k vezes o classificador\n",
    "\n",
    "y2e = cross_val_predict(rf, X, y)\n",
    "confusion_matrix(y, y2e)"
   ]
  },
  {
   "cell_type": "code",
   "execution_count": 32,
   "metadata": {},
   "outputs": [
    {
     "data": {
      "text/plain": [
       "array([1.        , 1.        , 0.86666667, 0.93333333, 0.76666667])"
      ]
     },
     "execution_count": 32,
     "metadata": {},
     "output_type": "execute_result"
    }
   ],
   "source": [
    "cv = KFold(n_splits=3)\n",
    "cross_val_score(rf, X, y, cv=cv) # treinar com dados sem embaralhar\n",
    "cv = KFold(n_splits=5)\n",
    "cross_val_score(rf, X, y, cv=cv) "
   ]
  },
  {
   "cell_type": "code",
   "execution_count": null,
   "metadata": {},
   "outputs": [],
   "source": []
  }
 ],
 "metadata": {
  "kernelspec": {
   "display_name": "base",
   "language": "python",
   "name": "python3"
  },
  "language_info": {
   "codemirror_mode": {
    "name": "ipython",
    "version": 3
   },
   "file_extension": ".py",
   "mimetype": "text/x-python",
   "name": "python",
   "nbconvert_exporter": "python",
   "pygments_lexer": "ipython3",
   "version": "3.9.7"
  }
 },
 "nbformat": 4,
 "nbformat_minor": 2
}
