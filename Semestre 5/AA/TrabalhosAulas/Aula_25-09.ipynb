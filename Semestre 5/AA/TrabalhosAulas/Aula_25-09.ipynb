{
 "cells": [
  {
   "cell_type": "code",
   "execution_count": 1,
   "id": "f9c334d2",
   "metadata": {},
   "outputs": [],
   "source": [
    "import sklearn"
   ]
  },
  {
   "cell_type": "code",
   "execution_count": 2,
   "id": "20b36488",
   "metadata": {},
   "outputs": [],
   "source": [
    "import numpy as np\n",
    "from numpy import random as rd\n",
    "import matplotlib.pyplot as plt"
   ]
  },
  {
   "cell_type": "code",
   "execution_count": 3,
   "id": "59710bd6",
   "metadata": {},
   "outputs": [
    {
     "name": "stdout",
     "output_type": "stream",
     "text": [
      "[[1. 0. 0. 0. 0.]\n",
      " [0. 1. 0. 0. 0.]\n",
      " [0. 0. 1. 0. 0.]\n",
      " [0. 0. 0. 1. 0.]\n",
      " [0. 0. 0. 0. 1.]]\n"
     ]
    }
   ],
   "source": [
    "I = np.eye(5) # Matriz Identidade com dimensão 5\n",
    "print(I)"
   ]
  },
  {
   "cell_type": "code",
   "execution_count": 4,
   "id": "94d06940",
   "metadata": {},
   "outputs": [
    {
     "name": "stdout",
     "output_type": "stream",
     "text": [
      "[[0. 0. 1. 0. 0.]\n",
      " [0. 0. 0. 1. 0.]\n",
      " [0. 0. 0. 0. 1.]\n",
      " [0. 0. 0. 0. 0.]\n",
      " [0. 0. 0. 0. 0.]]\n"
     ]
    }
   ],
   "source": [
    "II = np.eye(5, k=2) #Matriz Identidade com dimensão 5 mas os 1's são desviados duas casas\n",
    "print(II)"
   ]
  },
  {
   "cell_type": "code",
   "execution_count": 5,
   "id": "9cec4a12",
   "metadata": {},
   "outputs": [
    {
     "name": "stdout",
     "output_type": "stream",
     "text": [
      "[0. 0. 0. 0. 0.] float64\n"
     ]
    }
   ],
   "source": [
    "x0 = np.zeros(5)\n",
    "print(x0, x0.dtype)"
   ]
  },
  {
   "cell_type": "code",
   "execution_count": 6,
   "id": "acd69eb8",
   "metadata": {},
   "outputs": [
    {
     "name": "stdout",
     "output_type": "stream",
     "text": [
      "[1. 1. 1. 1. 1.] float64\n"
     ]
    }
   ],
   "source": [
    "x1 = np.ones(5)\n",
    "print(x1, x1.dtype)"
   ]
  },
  {
   "cell_type": "code",
   "execution_count": 7,
   "id": "3f2cb1b2",
   "metadata": {},
   "outputs": [
    {
     "name": "stdout",
     "output_type": "stream",
     "text": [
      "[0 1 2 3 4 5 6 7 8 9] int32\n"
     ]
    }
   ],
   "source": [
    "y = np.arange(0, 10)\n",
    "print(y, y.dtype)"
   ]
  },
  {
   "cell_type": "code",
   "execution_count": 8,
   "id": "5c141c6f",
   "metadata": {},
   "outputs": [],
   "source": [
    "# Zeros e Ones geram float64.\n",
    "# Arange gera int32"
   ]
  },
  {
   "cell_type": "code",
   "execution_count": 9,
   "id": "7c028739",
   "metadata": {},
   "outputs": [],
   "source": [
    "a = np.array([[1, 2], [3, 4]]) # a.shape (2,2)\n",
    "b = np.array([5, 6])           # b.shape (2,)\n",
    "c = np.array([[5], [6]])       # c.shape (2,1)"
   ]
  },
  {
   "cell_type": "code",
   "execution_count": 10,
   "id": "7bcd4be6",
   "metadata": {},
   "outputs": [
    {
     "name": "stdout",
     "output_type": "stream",
     "text": [
      "[[  9   9 -10   4  -5]\n",
      " [  8  -7   0  -7  10]\n",
      " [  1   2  -2  -7  -3]] \n",
      "\n",
      " [-2 -7  6]\n"
     ]
    }
   ],
   "source": [
    "a = rd.randint(-10, 11, (3, 5))\n",
    "b = rd.randint(-10, 11, 3)\n",
    "\n",
    "print(a, '\\n\\n', b)"
   ]
  },
  {
   "cell_type": "code",
   "execution_count": 11,
   "id": "57060e7e",
   "metadata": {},
   "outputs": [
    {
     "ename": "ValueError",
     "evalue": "all the input arrays must have same number of dimensions, but the array at index 0 has 2 dimension(s) and the array at index 1 has 1 dimension(s)",
     "output_type": "error",
     "traceback": [
      "\u001b[1;31m---------------------------------------------------------------------------\u001b[0m",
      "\u001b[1;31mValueError\u001b[0m                                Traceback (most recent call last)",
      "\u001b[1;32m<ipython-input-11-0c1be1f065bd>\u001b[0m in \u001b[0;36m<module>\u001b[1;34m\u001b[0m\n\u001b[1;32m----> 1\u001b[1;33m \u001b[0mc\u001b[0m \u001b[1;33m=\u001b[0m \u001b[0mnp\u001b[0m\u001b[1;33m.\u001b[0m\u001b[0mhstack\u001b[0m\u001b[1;33m(\u001b[0m\u001b[1;33m(\u001b[0m\u001b[0ma\u001b[0m\u001b[1;33m,\u001b[0m \u001b[0mb\u001b[0m\u001b[1;33m)\u001b[0m\u001b[1;33m)\u001b[0m \u001b[1;31m# As dimensões são diferentes, logo dá erro\u001b[0m\u001b[1;33m\u001b[0m\u001b[1;33m\u001b[0m\u001b[0m\n\u001b[0m",
      "\u001b[1;32m<__array_function__ internals>\u001b[0m in \u001b[0;36mhstack\u001b[1;34m(*args, **kwargs)\u001b[0m\n",
      "\u001b[1;32m~\\anaconda3\\lib\\site-packages\\numpy\\core\\shape_base.py\u001b[0m in \u001b[0;36mhstack\u001b[1;34m(tup)\u001b[0m\n\u001b[0;32m    344\u001b[0m         \u001b[1;32mreturn\u001b[0m \u001b[0m_nx\u001b[0m\u001b[1;33m.\u001b[0m\u001b[0mconcatenate\u001b[0m\u001b[1;33m(\u001b[0m\u001b[0marrs\u001b[0m\u001b[1;33m,\u001b[0m \u001b[1;36m0\u001b[0m\u001b[1;33m)\u001b[0m\u001b[1;33m\u001b[0m\u001b[1;33m\u001b[0m\u001b[0m\n\u001b[0;32m    345\u001b[0m     \u001b[1;32melse\u001b[0m\u001b[1;33m:\u001b[0m\u001b[1;33m\u001b[0m\u001b[1;33m\u001b[0m\u001b[0m\n\u001b[1;32m--> 346\u001b[1;33m         \u001b[1;32mreturn\u001b[0m \u001b[0m_nx\u001b[0m\u001b[1;33m.\u001b[0m\u001b[0mconcatenate\u001b[0m\u001b[1;33m(\u001b[0m\u001b[0marrs\u001b[0m\u001b[1;33m,\u001b[0m \u001b[1;36m1\u001b[0m\u001b[1;33m)\u001b[0m\u001b[1;33m\u001b[0m\u001b[1;33m\u001b[0m\u001b[0m\n\u001b[0m\u001b[0;32m    347\u001b[0m \u001b[1;33m\u001b[0m\u001b[0m\n\u001b[0;32m    348\u001b[0m \u001b[1;33m\u001b[0m\u001b[0m\n",
      "\u001b[1;32m<__array_function__ internals>\u001b[0m in \u001b[0;36mconcatenate\u001b[1;34m(*args, **kwargs)\u001b[0m\n",
      "\u001b[1;31mValueError\u001b[0m: all the input arrays must have same number of dimensions, but the array at index 0 has 2 dimension(s) and the array at index 1 has 1 dimension(s)"
     ]
    }
   ],
   "source": [
    "c = np.hstack((a, b)) # As dimensões são diferentes, logo dá erro"
   ]
  },
  {
   "cell_type": "code",
   "execution_count": 12,
   "id": "fcb4fb5f",
   "metadata": {},
   "outputs": [
    {
     "name": "stdout",
     "output_type": "stream",
     "text": [
      "[[  9   9 -10   4  -5  -2]\n",
      " [  8  -7   0  -7  10  -7]\n",
      " [  1   2  -2  -7  -3   6]]\n"
     ]
    }
   ],
   "source": [
    "# Concatenar Arrays\n",
    "\n",
    "# b[:, np.newaxis] Isto cria uma nova dimensão ao b.\n",
    "c = np.hstack((a, b[:, np.newaxis]))\n",
    "print(c)"
   ]
  },
  {
   "cell_type": "code",
   "execution_count": 13,
   "id": "2dc91139",
   "metadata": {},
   "outputs": [
    {
     "ename": "ValueError",
     "evalue": "operands could not be broadcast together with shapes (3,5) (3,) ",
     "output_type": "error",
     "traceback": [
      "\u001b[1;31m---------------------------------------------------------------------------\u001b[0m",
      "\u001b[1;31mValueError\u001b[0m                                Traceback (most recent call last)",
      "\u001b[1;32m<ipython-input-13-9ad73b0f93a8>\u001b[0m in \u001b[0;36m<module>\u001b[1;34m\u001b[0m\n\u001b[1;32m----> 1\u001b[1;33m \u001b[0ma\u001b[0m \u001b[1;33m+\u001b[0m \u001b[0mb\u001b[0m \u001b[1;31m# Não permite somar dois arrays com tamanhos diferentes. Dá erro\u001b[0m\u001b[1;33m\u001b[0m\u001b[1;33m\u001b[0m\u001b[0m\n\u001b[0m",
      "\u001b[1;31mValueError\u001b[0m: operands could not be broadcast together with shapes (3,5) (3,) "
     ]
    }
   ],
   "source": [
    "a + b # Não permite somar dois arrays com tamanhos diferentes. Dá erro"
   ]
  },
  {
   "cell_type": "code",
   "execution_count": 14,
   "id": "be1ccbc8",
   "metadata": {},
   "outputs": [
    {
     "name": "stdout",
     "output_type": "stream",
     "text": [
      "[[  9   9 -10   4  -5]\n",
      " [  8  -7   0  -7  10]\n",
      " [  1   2  -2  -7  -3]] \n",
      "\n",
      "[-2 -7  6]\n"
     ]
    },
    {
     "data": {
      "text/plain": [
       "array([[-18, -18,  20,  -8,  10],\n",
       "       [-56,  49,   0,  49, -70],\n",
       "       [  6,  12, -12, -42, -18]])"
      ]
     },
     "execution_count": 14,
     "metadata": {},
     "output_type": "execute_result"
    }
   ],
   "source": [
    "#Atenção: Isto não somou os valores.\n",
    "#O engenheiro chamou-lhe de broadcast.\n",
    "#Na primeira linha, o valor de b[0] vai ser somado a todas as colunas.\n",
    "#Na segunda, o valor de b[1] e na terceira o de b[2]\n",
    "a + b[:, np.newaxis]\n",
    "\n",
    "#A mesma coisa para as multiplicações e divisões\n",
    "print(a, '\\n')\n",
    "print(b)\n",
    "a * b[:, np.newaxis]"
   ]
  },
  {
   "cell_type": "code",
   "execution_count": null,
   "id": "9c5f2af0",
   "metadata": {},
   "outputs": [],
   "source": [
    "#Soma todos os valores de a pelo escalar 10\n",
    "a + 10"
   ]
  },
  {
   "cell_type": "code",
   "execution_count": null,
   "id": "827e2c4e",
   "metadata": {},
   "outputs": [],
   "source": [
    "x = rd.rand(2, 1000) + 10 #Array de duas dimensões, 1000 colunas\n",
    "plt.plot(x[0,:], x[1,:], '.')\n",
    "plt.axis('scaled')"
   ]
  },
  {
   "cell_type": "code",
   "execution_count": null,
   "id": "e0f8b151",
   "metadata": {},
   "outputs": [],
   "source": [
    "m = np.mean(x) # Média de todos os pontos\n",
    "mx = np.mean(x, axis=1) # Média de cada linha\n",
    "print(m)\n",
    "print(mx, mx.shape)"
   ]
  },
  {
   "cell_type": "code",
   "execution_count": null,
   "id": "fdb55263",
   "metadata": {},
   "outputs": [],
   "source": [
    "x2 = x - mx[:, np.newaxis]\n",
    "plt.plot(x2[0, :], x2[1, :], '.')\n",
    "plt.axis('scaled')"
   ]
  },
  {
   "cell_type": "code",
   "execution_count": null,
   "id": "c97c040b",
   "metadata": {},
   "outputs": [],
   "source": [
    "import sklearn.datasets as dt"
   ]
  },
  {
   "cell_type": "code",
   "execution_count": null,
   "id": "b54a13be",
   "metadata": {},
   "outputs": [],
   "source": [
    "D = dt.load_diabetes()\n",
    "print(type(D)) #Vai-me dar \"Bunch\". Basicamente, um dicionário\n",
    "print(D.keys()) #Todos os possíveis campos\n",
    "#print(D.DESCR) # Descrição do que a esta data representa"
   ]
  },
  {
   "cell_type": "code",
   "execution_count": null,
   "id": "07281f7b",
   "metadata": {},
   "outputs": [],
   "source": [
    "X = D.data # 442 entradas por 10 categorias (dimensões)\n",
    "Y = D.target # 442 pontos\n",
    "\n",
    "print(X.shape)\n",
    "print(Y.shape)"
   ]
  },
  {
   "cell_type": "code",
   "execution_count": null,
   "id": "f2e7de89",
   "metadata": {},
   "outputs": [],
   "source": [
    "D = dt.load_breast_cancer()\n",
    "X = D.data\n",
    "Y = D.target\n",
    "\n",
    "np.unique(Y)\n",
    "X2 = X[Y==0, :] #Quais as entradas cujo \"target\" é 0.\n",
    "print(X2.shape) #212 Entradas. (30 Dimensões)"
   ]
  },
  {
   "cell_type": "code",
   "execution_count": null,
   "id": "76a3b13d",
   "metadata": {},
   "outputs": [],
   "source": [
    "a = np.array([3, 0, 2, 4, 1])\n",
    "b = np.array([3, 3, 2, 1, 0, 0, 4])\n",
    "\n",
    "#Isto é basicamente um For. Os índices de b são percorridos um a um e são substituídos onde \"b\" se encontra. \n",
    "#Logo, ele vai criar um novo array com a[3] = 4, a[3] = 4, a[2] = 2, a[1] = 0, a[0] = 3, a[0] = 3, a[4] = 1\n",
    "print(a[b])"
   ]
  },
  {
   "cell_type": "code",
   "execution_count": null,
   "id": "8450f73e",
   "metadata": {},
   "outputs": [],
   "source": [
    "from mpl_toolkits.mplot3d import Axes3D #Gráficos em 3 Dimensões\n",
    "import pickle #Permite guardar um objecto de Python num ficheiro"
   ]
  },
  {
   "cell_type": "code",
   "execution_count": null,
   "id": "eac0f678",
   "metadata": {},
   "outputs": [],
   "source": [
    "iris = dt.load_iris()\n",
    "irisData = iris.data\n",
    "irisTarget = iris.target\n",
    "\n",
    "print(irisData.shape)\n",
    "print(irisTarget.shape)\n",
    "print(irisTarget)\n",
    "\n",
    "irisClass1 = irisData[irisTarget==2, :]\n",
    "print(len(irisClass1))"
   ]
  },
  {
   "cell_type": "code",
   "execution_count": null,
   "id": "cd993b81",
   "metadata": {},
   "outputs": [],
   "source": [
    "idx = rd.permutation(len(irisTarget))\n",
    "ys = irisTarget[idx]\n",
    "Xs = irisData[idx, :]\n",
    "plt.plot(ys)\n",
    "plt.show()"
   ]
  },
  {
   "cell_type": "code",
   "execution_count": null,
   "id": "845e2cdf",
   "metadata": {},
   "outputs": [],
   "source": [
    "D = dt.load_boston()\n",
    "X = D.data\n",
    "y = D.target\n",
    "\n",
    "#Devemos ordenar as entradas do X também. Esta possui todas as classes das entradas.\n",
    "#Assim, devemos organizar pelos preços, obtemos esta informação no y (target)\n",
    "#E depois aplicamos à data, X, e ao target, y.\n",
    "idx = np.argsort(y)\n",
    "Xs = X[idx, :]\n",
    "ys = y[idx]\n",
    "\n",
    "print(\"Shape Data:\\n\",X.shape)\n",
    "plt.plot(ys, '.')\n",
    "plt.show()"
   ]
  },
  {
   "cell_type": "code",
   "execution_count": null,
   "id": "c2cde118",
   "metadata": {},
   "outputs": [],
   "source": [
    "rd.seed(0)\n",
    "rd.rand(10)"
   ]
  },
  {
   "cell_type": "code",
   "execution_count": null,
   "id": "af9b3770",
   "metadata": {},
   "outputs": [],
   "source": [
    "a = np.arange(10)\n",
    "b = (a[1:]+a[:-1])/2\n",
    "\n",
    "print(\"a: \", a)\n",
    "print(\"b: \", b)"
   ]
  },
  {
   "cell_type": "code",
   "execution_count": null,
   "id": "0fb8b5e9",
   "metadata": {},
   "outputs": [],
   "source": [
    "x = rd.rand(1000000)\n",
    "hx, b = np.histogram(x, np.linspace(0, 1, 101), density=True)\n",
    "print(hx.shape, \"\\n\", b.shape)\n",
    "\n",
    "b2 = (b[:-1]+b[1:])/2\n",
    "plt.bar(b2, hx, width=0.025)\n",
    "plt.show()"
   ]
  },
  {
   "cell_type": "code",
   "execution_count": null,
   "id": "22f196b8",
   "metadata": {
    "scrolled": true
   },
   "outputs": [],
   "source": [
    "x = rd.wald(1, 3, 1000000)\n",
    "hx, b = np.histogram(x, np.linspace(0, 5, 101), density=True)\n",
    "print(hx.shape, \"\\n\", b.shape)\n",
    "\n",
    "b2 = (b[:-1]+b[1:])/2\n",
    "plt.bar(b2, hx, width=0.05)\n",
    "plt.show()"
   ]
  },
  {
   "cell_type": "code",
   "execution_count": null,
   "id": "77710fae",
   "metadata": {},
   "outputs": [],
   "source": [
    "x = rd.rand(1000000)\n",
    "h, b = np.histogram(x, np.linspace(-0.5, 1.5, 101), density=True)\n",
    "h2=(b[1:]+b[:-1])/2\n",
    "plt.bar(b2, h, width=0.25)"
   ]
  },
  {
   "cell_type": "code",
   "execution_count": null,
   "id": "4cdab644",
   "metadata": {},
   "outputs": [],
   "source": [
    "xSum = rd.rand(10, 1000000)\n",
    "xSum = np.sum(xSum, axis=0)\n",
    "\n",
    "h, b = np.histogram(xSum, np.linspace(-0.5, 10.5, 101), density=True)\n",
    "h2=(b[1:]+b[:-1])/2\n",
    "plt.bar(b2, h, width=0.25)"
   ]
  },
  {
   "cell_type": "code",
   "execution_count": null,
   "id": "062377d6",
   "metadata": {},
   "outputs": [],
   "source": [
    "X = rd.rand(3, 100000)\n",
    "X.shape\n",
    "C = np.cov(X)\n",
    "C"
   ]
  },
  {
   "cell_type": "code",
   "execution_count": null,
   "id": "0e40d2e5",
   "metadata": {},
   "outputs": [],
   "source": [
    "X = rd.rand(2, 1000) * 2 - 1\n",
    "plt.plot(X[0,:], X[1,:],'.')\n",
    "plt.show()"
   ]
  },
  {
   "cell_type": "code",
   "execution_count": null,
   "id": "bc947ba6",
   "metadata": {},
   "outputs": [],
   "source": [
    "A = rd.randint(-11, 10, (2,2))\n",
    "X2 = np.dot(A, X)\n",
    "plt.plot(X2[0,:], X2[1,:],'.')\n",
    "plt.show()"
   ]
  },
  {
   "cell_type": "code",
   "execution_count": null,
   "id": "7cbec917",
   "metadata": {},
   "outputs": [],
   "source": [
    "X = rd.randn(2, 1000) #Quanto mais pontos, mais próximos da média desejada (1) e mais próximos da matriz identidade, cov.\n",
    "m = np.mean(X, axis=1)\n",
    "C = np.cov(X)\n",
    "\n",
    "print(\"Media:\\n\", m, \"\\n\")\n",
    "print(\"Covarianca:\\n\", C)"
   ]
  },
  {
   "cell_type": "code",
   "execution_count": null,
   "id": "2eb43826",
   "metadata": {},
   "outputs": [],
   "source": [
    "A = np.array([[1/3, 1], [-1/3, 1]])/np.sqrt(2)\n",
    "b = np.array([3, 2])\n",
    "Y = np.dot(A, X) + b[:, np.newaxis]\n",
    "plt.plot(X[0, :], X[1, :], '.', Y[0, :], Y[1, :], '.')\n",
    "plt.show()"
   ]
  },
  {
   "cell_type": "code",
   "execution_count": null,
   "id": "132db7d5",
   "metadata": {},
   "outputs": [],
   "source": [
    "#Slide 20\n",
    "\n",
    "#Forma 1\n",
    "C1 = np.cov(Y)\n",
    "print(\"C1:\\n\", C1)\n",
    "\n",
    "#Forma 2\n",
    "my = np.mean(Y, axis=1)\n",
    "Yn = Y - my[:, np.newaxis]\n",
    "C2 = np.dot(Yn, Yn.T)/999\n",
    "\n",
    "print(\"C2:\\n\", C2)\n",
    "\n",
    "#Forma 3\n",
    "C3 = np.dot(A, A.T)\n",
    "print(\"C3:\\n\", C3)"
   ]
  }
 ],
 "metadata": {
  "kernelspec": {
   "display_name": "Python 3",
   "language": "python",
   "name": "python3"
  },
  "language_info": {
   "codemirror_mode": {
    "name": "ipython",
    "version": 3
   },
   "file_extension": ".py",
   "mimetype": "text/x-python",
   "name": "python",
   "nbconvert_exporter": "python",
   "pygments_lexer": "ipython3",
   "version": "3.8.8"
  }
 },
 "nbformat": 4,
 "nbformat_minor": 5
}
