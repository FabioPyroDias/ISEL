{
 "cells": [
  {
   "cell_type": "code",
   "execution_count": 23,
   "id": "cccf4f71",
   "metadata": {},
   "outputs": [],
   "source": [
    "import numpy as np\n",
    "import sklearn.datasets as dt\n",
    "import scipy.linalg as la"
   ]
  },
  {
   "cell_type": "code",
   "execution_count": 15,
   "id": "3830479a",
   "metadata": {},
   "outputs": [],
   "source": [
    "D = dt.load_diabetes()"
   ]
  },
  {
   "cell_type": "code",
   "execution_count": 16,
   "id": "35cdd865",
   "metadata": {},
   "outputs": [
    {
     "data": {
      "text/plain": [
       "(10, 442)"
      ]
     },
     "execution_count": 16,
     "metadata": {},
     "output_type": "execute_result"
    }
   ],
   "source": [
    "X = D.data.T\n",
    "X.shape"
   ]
  },
  {
   "cell_type": "code",
   "execution_count": 7,
   "id": "1a17a287",
   "metadata": {},
   "outputs": [],
   "source": [
    "y = D.target"
   ]
  },
  {
   "cell_type": "code",
   "execution_count": 17,
   "id": "aa5bc3ba",
   "metadata": {},
   "outputs": [],
   "source": [
    "X = np.vstack((np.ones(X.shape[1]), X)) #Adicionar coordenadas homogeneas"
   ]
  },
  {
   "cell_type": "code",
   "execution_count": 18,
   "id": "258ff9c0",
   "metadata": {},
   "outputs": [
    {
     "data": {
      "text/plain": [
       "(11, 442)"
      ]
     },
     "execution_count": 18,
     "metadata": {},
     "output_type": "execute_result"
    }
   ],
   "source": [
    "X.shape"
   ]
  },
  {
   "cell_type": "code",
   "execution_count": 19,
   "id": "4e596ffb",
   "metadata": {},
   "outputs": [
    {
     "data": {
      "text/plain": [
       "(442,)"
      ]
     },
     "execution_count": 19,
     "metadata": {},
     "output_type": "execute_result"
    }
   ],
   "source": [
    "y.shape"
   ]
  },
  {
   "cell_type": "code",
   "execution_count": 20,
   "id": "4f975e0e",
   "metadata": {},
   "outputs": [
    {
     "data": {
      "text/plain": [
       "(11, 11)"
      ]
     },
     "execution_count": 20,
     "metadata": {},
     "output_type": "execute_result"
    }
   ],
   "source": [
    "Rx = np.dot(X, X.T)\n",
    "Rx.shape"
   ]
  },
  {
   "cell_type": "code",
   "execution_count": 21,
   "id": "8379218f",
   "metadata": {},
   "outputs": [
    {
     "data": {
      "text/plain": [
       "(11,)"
      ]
     },
     "execution_count": 21,
     "metadata": {},
     "output_type": "execute_result"
    }
   ],
   "source": [
    "rxy = np.dot(X, y.T)\n",
    "rxy.shape"
   ]
  },
  {
   "cell_type": "code",
   "execution_count": 24,
   "id": "a1a9ddec",
   "metadata": {},
   "outputs": [
    {
     "data": {
      "text/plain": [
       "array([ 152.13348416,  -10.01219782, -239.81908937,  519.83978679,\n",
       "        324.39042769, -792.18416163,  476.74583782,  101.04457032,\n",
       "        177.06417623,  751.27932109,   67.62538639])"
      ]
     },
     "execution_count": 24,
     "metadata": {},
     "output_type": "execute_result"
    }
   ],
   "source": [
    "w = np.dot(la.inv(Rx), rxy)\n",
    "w"
   ]
  }
 ],
 "metadata": {
  "kernelspec": {
   "display_name": "Python 3",
   "language": "python",
   "name": "python3"
  },
  "language_info": {
   "codemirror_mode": {
    "name": "ipython",
    "version": 3
   },
   "file_extension": ".py",
   "mimetype": "text/x-python",
   "name": "python",
   "nbconvert_exporter": "python",
   "pygments_lexer": "ipython3",
   "version": "3.8.8"
  }
 },
 "nbformat": 4,
 "nbformat_minor": 5
}
