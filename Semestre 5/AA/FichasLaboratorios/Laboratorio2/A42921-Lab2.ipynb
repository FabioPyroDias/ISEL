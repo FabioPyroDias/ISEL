{
 "cells": [
  {
   "cell_type": "markdown",
   "metadata": {},
   "source": [
    "## LAB2: Classificadores baseados em distâncias entre pontos"
   ]
  },
  {
   "cell_type": "markdown",
   "metadata": {},
   "source": [
    "<hr style=\"border:1px  solid black\"> </hr>"
   ]
  },
  {
   "cell_type": "markdown",
   "metadata": {},
   "source": [
    "### (Preencher)\n",
    "## Nome: Fábio Dias\n",
    "## Número: 42921"
   ]
  },
  {
   "cell_type": "markdown",
   "metadata": {},
   "source": [
    "<hr style=\"border:1px  solid black\"> </hr>"
   ]
  },
  {
   "cell_type": "markdown",
   "metadata": {},
   "source": [
    "## Desenvolva e corra o código pedido nas células imediatamente abaixo das perguntas."
   ]
  },
  {
   "cell_type": "markdown",
   "metadata": {},
   "source": [
    "# IMPORTANTE:\n",
    "## Uma vez completado, grave este Jupyter notebook com o seguinte nome:\n",
    "## Axxxxx-Lab2.ipynb (Axxxxx: número de aluno)\n",
    "##  e depois submeta o ficheiro no link do Moodle providenciado para o efeito."
   ]
  },
  {
   "cell_type": "markdown",
   "metadata": {},
   "source": [
    "<hr style=\"border:2px solid black\"> </hr>"
   ]
  },
  {
   "cell_type": "markdown",
   "metadata": {},
   "source": [
    "## Considere o ficheiro pickle $\\texttt{Lab2-data.p}$\n",
    "### Neste ficheiro encontra-se um dicionário de Python com as seguintes variáveis:\n",
    "### 1. \"data\":          dados bi-dimensionais (4000 amostras)\n",
    "### 2. \"target\":       classe dos dados (inteiros de 0 a 3)\n",
    "### 3. \"foldTrain\":  array boleano indicando os dados a serem usados para treinar os classificadores\n",
    "### 3. \"foldTest\":   array boleano indicando os dados a serem usados para testar os classificadores\n"
   ]
  },
  {
   "cell_type": "markdown",
   "metadata": {},
   "source": [
    "<hr style=\"border:2px solid black\"> </hr>"
   ]
  },
  {
   "cell_type": "markdown",
   "metadata": {},
   "source": [
    "# Pergunta 1 - Classificadores da distância ao centroide:\n",
    "## 1. Use os dados de treino para estimar os centroides de cada classe. Imprima os valores obtidos para cada classe, indicando a classe em questão.\n",
    "## 2. Com a métrica de distância euclideana, calcule a matriz de confusão e o número total de erros nos dados de teste.\n",
    "## 3. Explique brevemente porque é que mais de metade dos pontos da classe \"1\" não são bem classificados "
   ]
  },
  {
   "cell_type": "code",
   "execution_count": 47,
   "metadata": {},
   "outputs": [
    {
     "name": "stdout",
     "output_type": "stream",
     "text": [
      "dict_keys(['data', 'target', 'foldTrain', 'foldTest'])\n"
     ]
    }
   ],
   "source": [
    "import numpy as np\n",
    "import matplotlib.pyplot as plt\n",
    "import pickle\n",
    "from sklearn.metrics import confusion_matrix\n",
    "from sklearn.neighbors import KNeighborsClassifier\n",
    "D=pickle.load(open('Lab2-data.p','rb'))\n",
    "print(D.keys())"
   ]
  },
  {
   "cell_type": "code",
   "execution_count": 21,
   "metadata": {},
   "outputs": [
    {
     "name": "stdout",
     "output_type": "stream",
     "text": [
      "Média Classe 0:  [-0.13243819  0.03660923]\n",
      "Média Classe 1:  [-0.77640453  1.25665047]\n",
      "Média Classe 2:  [0.01068383 0.25081224]\n",
      "Média Classe 3:  [-0.0907223  -0.54198523]\n",
      "[-0.00795518 -0.02462348]\n"
     ]
    },
    {
     "data": {
      "text/plain": [
       "'\\nIndeciso entre:\\nmClasse0 = np.mean(XTrain[:, targetTrain==0], axis=1) e mClasse0 = np.mean(X[:, y==0], axis=1)\\n\\nNa pergunta está dados de treino, logo seria só o XTrain, mas não tenho a certeza.\\n'"
      ]
     },
     "execution_count": 21,
     "metadata": {},
     "output_type": "execute_result"
    }
   ],
   "source": [
    "X = D['data']\n",
    "target = D['target']        #Existem 4 classes\n",
    "fTrain = D['foldTrain']     #f1\n",
    "fTest = D['foldTest']       #f2\n",
    "\n",
    "#Treino\n",
    "XTrain = X[:, fTrain]\n",
    "targetTrain = target[fTrain]\n",
    "\n",
    "#Teste\n",
    "XTest = X[:, fTest]\n",
    "targetTest = target[fTest]\n",
    "\n",
    "#Médias das Classes\n",
    "mClasse0 = np.mean(XTrain[:, targetTrain==0], axis=1)\n",
    "mClasse1 = np.mean(XTrain[:, targetTrain==1], axis=1)\n",
    "mClasse2 = np.mean(XTrain[:, targetTrain==2], axis=1)\n",
    "mClasse3 = np.mean(XTrain[:, targetTrain==3], axis=1)\n",
    "\n",
    "print(\"Média Classe 0: \", mClasse0)\n",
    "print(\"Média Classe 1: \", mClasse1)\n",
    "print(\"Média Classe 2: \", mClasse2)\n",
    "print(\"Média Classe 3: \", mClasse3)\n",
    "\n",
    "mClasse0 = np.mean(X[:, y==0], axis=1)\n",
    "print(mClasse0)\n",
    "\n",
    "'''\n",
    "Indeciso entre:\n",
    "mClasse0 = np.mean(XTrain[:, targetTrain==0], axis=1) e mClasse0 = np.mean(X[:, y==0], axis=1)\n",
    "\n",
    "Na pergunta está dados de treino, logo seria só o XTrain, mas não tenho a certeza.\n",
    "'''"
   ]
  },
  {
   "cell_type": "code",
   "execution_count": 68,
   "metadata": {},
   "outputs": [],
   "source": [
    "#Aqui mencionaram teste.\n",
    "#Acho que a primeira é com o XTrain.\n",
    "\n",
    "Dist0 = np.sqrt(np.sum((XTest - mClasse0[:, np.newaxis])**2, axis=0))\n",
    "Dist1 = np.sqrt(np.sum((XTest - mClasse1[:, np.newaxis])**2, axis=0))\n",
    "Dist2 = np.sqrt(np.sum((XTest - mClasse2[:, np.newaxis])**2, axis=0))\n",
    "Dist3 = np.sqrt(np.sum((XTest - mClasse3[:, np.newaxis])**2, axis=0))\n",
    "\n",
    "D = np.vstack((Dist0, Dist1, Dist2, Dist3))\n",
    "targetEstimado = np.argmin(D, axis=0) #ye do engenheiro\n",
    "#MC = confusion_matrix(target, targetEstimado)\n",
    "\n",
    "#Matriz de confusão dá erro.\n",
    "#Mas o número total de erros é somar todos os valores que não estão na diagonal principal, ou seja diferente de M[i, i]\n",
    "#ex. Diferente de [0, 0], [1, 1], etc... e dividir pelo número de amostras do teste.\n",
    "#Acho que existe uma forma mais simples como o do vídeo Lab2parte12, minuto 6:36."
   ]
  },
  {
   "cell_type": "markdown",
   "metadata": {},
   "source": []
  },
  {
   "cell_type": "markdown",
   "metadata": {},
   "source": [
    "# Pergunta 2 - Classificadores dos k-vizinhos mais próximos:\n",
    "## (Use os dados de treino nestes classificadores)\n",
    "## 1. Para k=1, calcule a matriz de confusão e o número total de erros nos dados de teste. \n",
    "## 2. Faça um plot dos dados de teste por classe e dos erros cometidos por este classificador.\n",
    "## 3. Repita as duas alíneas anteriores para k=5"
   ]
  },
  {
   "cell_type": "code",
   "execution_count": 90,
   "metadata": {},
   "outputs": [],
   "source": [
    "classificadorKNeighbours = KNeighborsClassifier(1)\n",
    "#kNN = classificadorKNeighbours.fit(XTest, targetTest)\n",
    "#targetTestEstimado = classificadorKNeighbours.predict(XTest)\n",
    "\n",
    "#Dá erro. Não percebo porquê"
   ]
  },
  {
   "cell_type": "code",
   "execution_count": 91,
   "metadata": {},
   "outputs": [
    {
     "data": {
      "text/plain": [
       "[<matplotlib.lines.Line2D at 0x21d8a8b6b80>]"
      ]
     },
     "execution_count": 91,
     "metadata": {},
     "output_type": "execute_result"
    },
    {
     "data": {
      "image/png": "[encoded data removed]",
      "text/plain": [
       "<Figure size 432x288 with 1 Axes>"
      ]
     },
     "metadata": {
      "needs_background": "light"
     },
     "output_type": "display_data"
    }
   ],
   "source": [
    "plt.plot(XTest[0,targetTest==0], XTest[1,targetTest==0], '.')\n",
    "plt.plot(XTest[0,targetTest==1], XTest[1,targetTest==1], '.')\n",
    "plt.plot(XTest[0,targetTest==2], XTest[1,targetTest==2], '.')\n",
    "plt.plot(XTest[0,targetTest==3], XTest[1,targetTest==3], '.')\n",
    "\n",
    "#plt.plot(XTest[0,targetTest!=targetEstimado], XTest[1,targetTest!=targetEstimado])\n",
    "#Como o target Estimado está errdo, o plot fica estragado"
   ]
  },
  {
   "cell_type": "code",
   "execution_count": 66,
   "metadata": {},
   "outputs": [],
   "source": [
    "#classificadorKNeighbours5 = KNeighborsClassifier(5)\n",
    "#targetTestEstimado = classificadorKNeighbours5.predict(XTest)\n",
    "\n",
    "#Lança erro. Outra vez."
   ]
  },
  {
   "cell_type": "markdown",
   "metadata": {},
   "source": [
    "# Pergunta 3 - Matrizes de distância:\n",
    "## Considere os dados \"digits\" do sklearn ()\n",
    "## 1. Ordene os dados por classe, calcule e visualize a matriz de distâncias para o conjunto de dados, usando a distância euclideana\n",
    "## 2. Repita a alínea anterior para a distância de cosseno"
   ]
  },
  {
   "cell_type": "code",
   "execution_count": 92,
   "metadata": {},
   "outputs": [],
   "source": [
    "import sklearn.datasets as dt\n",
    "import scipy.spatial.distance as spd\n",
    "\n",
    "D=dt.load_digits()\n",
    "X=D.data\n",
    "target=D.target\n",
    "\n",
    "idx = np.argsort(target)\n",
    "target = target[idx]\n",
    "X = X[idx, :]\n",
    "\n",
    "D1 = spd.squareform(spd.pdist(X, metric='euclidean')) #Copiei o que fizemos em aula, mas estou a ter resultados diferentes"
   ]
  },
  {
   "cell_type": "code",
   "execution_count": 88,
   "metadata": {},
   "outputs": [],
   "source": [
    "D2 = spd.squareform(spd.pdist(X, metric='cosine')) #Aqui também"
   ]
  }
 ],
 "metadata": {
  "kernelspec": {
   "display_name": "Python 3",
   "language": "python",
   "name": "python3"
  },
  "language_info": {
   "codemirror_mode": {
    "name": "ipython",
    "version": 3
   },
   "file_extension": ".py",
   "mimetype": "text/x-python",
   "name": "python",
   "nbconvert_exporter": "python",
   "pygments_lexer": "ipython3",
   "version": "3.8.8"
  }
 },
 "nbformat": 4,
 "nbformat_minor": 4
}
