{
 "cells": [
  {
   "cell_type": "markdown",
   "metadata": {},
   "source": [
    "# LAB3: PCA + conjunto de dados MNIST"
   ]
  },
  {
   "cell_type": "markdown",
   "metadata": {},
   "source": [
    "<hr style=\"border:1px  solid black\"> </hr>"
   ]
  },
  {
   "cell_type": "markdown",
   "metadata": {},
   "source": [
    "### (Preencher)\n",
    "## Nome: Fábio Dias\n",
    "## Número: 42921"
   ]
  },
  {
   "cell_type": "markdown",
   "metadata": {},
   "source": [
    "<hr style=\"border:1px  solid black\"> </hr>"
   ]
  },
  {
   "cell_type": "markdown",
   "metadata": {},
   "source": [
    "## Desenvolva e corra o código pedido nas células imediatamente abaixo das perguntas."
   ]
  },
  {
   "cell_type": "markdown",
   "metadata": {},
   "source": [
    "# IMPORTANTE:\n",
    "## Uma vez completado, grave este Jupyter notebook com o seguinte nome:\n",
    "## Axxxxx-Lab3.ipynb (Axxxxx: número de aluno)\n",
    "##  e depois submeta o ficheiro no link do Moodle providenciado para o efeito."
   ]
  },
  {
   "cell_type": "markdown",
   "metadata": {},
   "source": [
    "<hr style=\"border:2px solid black\"> </hr>"
   ]
  },
  {
   "cell_type": "markdown",
   "metadata": {},
   "source": [
    "# Conjunto de dados $\\texttt{MNISTsmall.p}$:"
   ]
  },
  {
   "cell_type": "markdown",
   "metadata": {},
   "source": [
    "# Pergunta 1: Considere os dígitos \"3\", \"8\" e \"9\"  dos dados (3000 dígitos de treino e 1500 de teste).\n",
    "## a) Calcule a matriz de PCA para os 3000 dígitos de treino. Use um número de componentes principais de modo aos dados projetados terem $95\\%$ da variância total dos dados originais. Especifique (imprima) qual o número de componentes obtidas. \n",
    "## b) Visualize em forma de imagem, as três primeiras componetes principais (3 imagens de $28\\times28$).\n",
    "## c) Aplique a transformação PCA ao primeiro dígito \"3\" e ao primeiro dígito \"8\" do conjunto de teste. Visualize em forma de imagem os dígitos originais e os dígitos reconstruídos após a transformação PCA inversa.\n"
   ]
  },
  {
   "cell_type": "code",
   "execution_count": 1,
   "metadata": {},
   "outputs": [],
   "source": [
    "import numpy as np\n",
    "import matplotlib.pyplot as plt\n",
    "import scipy.linalg as la\n",
    "import pickle\n",
    "from sklearn.decomposition import PCA"
   ]
  },
  {
   "cell_type": "markdown",
   "metadata": {},
   "source": [
    "### a)"
   ]
  },
  {
   "cell_type": "code",
   "execution_count": 2,
   "metadata": {},
   "outputs": [
    {
     "name": "stdout",
     "output_type": "stream",
     "text": [
      "Número de componentes principais de modo a obter 95% de Variância:  150\n"
     ]
    }
   ],
   "source": [
    "D = pickle.load(open('MNISTsmall.p', 'rb'))\n",
    "X = D['X'] * 1.0\n",
    "y = D['trueClass']\n",
    "f1 = D['foldTrain']\n",
    "f2 = D['foldTest']\n",
    "\n",
    "\n",
    "#Dados de Treino\n",
    "X1 = X[:, f1]\n",
    "y1 = y[f1]\n",
    "\n",
    "#Dados de Teste\n",
    "X2 = X[:, f2]\n",
    "y2=  y[f2]\n",
    "\n",
    "#Dados Treino Organizados\n",
    "idx = (y1 == 3) | (y1 == 8) | (y1 == 9) \n",
    "X1 = X1[:, idx]\n",
    "y1 = y1[idx]\n",
    "\n",
    "#Dados Teste Organizados\n",
    "idx = (y2 == 3) | (y2 == 8) | (y2 == 9)\n",
    "X2 = X2[:, idx]\n",
    "y2 = y2[idx]\n",
    "\n",
    "#Covariancia\n",
    "C3 = np.cov(X1[:, y1 == 3])\n",
    "C8 = np.cov(X1[:, y1 == 8])\n",
    "C9 = np.cov(X1[:, y1 == 9])\n",
    "\n",
    "C = C3 + C8 + C9\n",
    "\n",
    "u, W = la.eig(C)\n",
    "u = u.real\n",
    "W = W.real\n",
    "\n",
    "idx = np.argsort(-u)\n",
    "u = u[idx]\n",
    "W = W[:, idx]\n",
    "\n",
    "#Obter número de componente principais com 95% variância.\n",
    "un = u / np.sum(u)\n",
    "L = np.cumsum(un)\n",
    "\n",
    "print(\"Número de componentes principais de modo a obter 95% de Variância: \", np.sum(L <= 0.95))\n",
    "\n",
    "#Falta-me conseguir a matriz.\n",
    "#Projecção nas Componentes Principais\n",
    "#W2 = W[:, 150]\n",
    "# m = np.mean(X1, axis=1)[:, np.newaxis]\n",
    "# Xn = X1-m\n",
    "# Xp = np.dot(W2.T, Xn)\n",
    "\n",
    "pca = PCA(n_components=150).fit(X1.T)\n",
    "X1p = pca.transform(X1.T)"
   ]
  },
  {
   "cell_type": "markdown",
   "metadata": {},
   "source": [
    "### b)"
   ]
  },
  {
   "cell_type": "code",
   "execution_count": 3,
   "metadata": {},
   "outputs": [],
   "source": [
    "m = np.mean(X1, axis=1)[:, np.newaxis]\n",
    "Xn = X1 - m\n",
    "W2 = W[:, :150]\n",
    "Xp = np.dot(W2.T, Xn)\n",
    "Xr = np.dot(W2, Xp) + m"
   ]
  },
  {
   "cell_type": "code",
   "execution_count": 4,
   "metadata": {},
   "outputs": [
    {
     "data": {
      "text/plain": [
       "<matplotlib.image.AxesImage at 0x299c5b9a940>"
      ]
     },
     "execution_count": 4,
     "metadata": {},
     "output_type": "execute_result"
    },
    {
     "data": {
      "image/png": "[encoded data removed]",
      "text/plain": [
       "<Figure size 432x288 with 1 Axes>"
      ]
     },
     "metadata": {
      "needs_background": "light"
     },
     "output_type": "display_data"
    }
   ],
   "source": [
    "x = Xr[:, 0].reshape(28, 28)\n",
    "plt.imshow(x, cmap='binary')"
   ]
  },
  {
   "cell_type": "code",
   "execution_count": 5,
   "metadata": {},
   "outputs": [
    {
     "data": {
      "text/plain": [
       "<matplotlib.image.AxesImage at 0x299c5c647c0>"
      ]
     },
     "execution_count": 5,
     "metadata": {},
     "output_type": "execute_result"
    },
    {
     "data": {
      "image/png": "[encoded data removed]",
      "text/plain": [
       "<Figure size 432x288 with 1 Axes>"
      ]
     },
     "metadata": {
      "needs_background": "light"
     },
     "output_type": "display_data"
    }
   ],
   "source": [
    "x = Xr[:, 1].reshape(28, 28)\n",
    "plt.imshow(x, cmap='binary')"
   ]
  },
  {
   "cell_type": "code",
   "execution_count": 6,
   "metadata": {
    "scrolled": true
   },
   "outputs": [
    {
     "data": {
      "text/plain": [
       "<matplotlib.image.AxesImage at 0x299c6194bb0>"
      ]
     },
     "execution_count": 6,
     "metadata": {},
     "output_type": "execute_result"
    },
    {
     "data": {
      "image/png": "[encoded data removed]",
      "text/plain": [
       "<Figure size 432x288 with 1 Axes>"
      ]
     },
     "metadata": {
      "needs_background": "light"
     },
     "output_type": "display_data"
    }
   ],
   "source": [
    "x = Xr[:, 2].reshape(28, 28)\n",
    "plt.imshow(x, cmap='binary')"
   ]
  },
  {
   "cell_type": "markdown",
   "metadata": {},
   "source": [
    "### c)"
   ]
  },
  {
   "cell_type": "code",
   "execution_count": 7,
   "metadata": {},
   "outputs": [
    {
     "data": {
      "text/plain": [
       "Text(0.5, 1.0, '8 PCA Inverso')"
      ]
     },
     "execution_count": 7,
     "metadata": {},
     "output_type": "execute_result"
    },
    {
     "data": {
      "image/png": "[encoded data removed]",
      "text/plain": [
       "<Figure size 432x288 with 4 Axes>"
      ]
     },
     "metadata": {
      "needs_background": "light"
     },
     "output_type": "display_data"
    }
   ],
   "source": [
    "pca = PCA(n_components=150).fit(X1.T)\n",
    "X2a = pca.transform(X2.T).T\n",
    "\n",
    "#Transformação PCA inversa\n",
    "X2r = np.dot(W2, X2a)\n",
    "X2r = X2r + m\n",
    "\n",
    "#Normalizar Amplitude dos Digitos Reconstruídos. (0 - 255)\n",
    "X2r=X2r-X2r.min()\n",
    "X2r=255.0*X2r/X2r.max()\n",
    "\n",
    "#Alternativa, tenho este método\n",
    "#X2ai = pca.inverse_transform(X2a.T).T\n",
    "\n",
    "plt.subplot(2, 2, 1)\n",
    "plt.imshow(X2[:, 0].reshape(28, 28), cmap='binary')\n",
    "plt.axis('off')\n",
    "plt.title(\"3 Original\")\n",
    "\n",
    "plt.subplot(2, 2, 2)\n",
    "plt.imshow(Xr[:, 0].reshape(28, 28), cmap='binary')\n",
    "plt.axis('off')\n",
    "plt.title(\"3 PCA Inverso\")\n",
    "\n",
    "plt.subplot(2, 2, 3)\n",
    "plt.imshow(X2[:, 500].reshape(28, 28), cmap='binary')\n",
    "plt.axis('off')\n",
    "plt.title(\"8 Original\")\n",
    "\n",
    "plt.subplot(2, 2, 4)\n",
    "plt.imshow(Xr[:, 500].reshape(28, 28), cmap='binary')\n",
    "plt.axis('off')\n",
    "plt.title(\"8 PCA Inverso\")"
   ]
  },
  {
   "cell_type": "markdown",
   "metadata": {},
   "source": [
    "# Pergunta 2: Considere todos os dados\n",
    "## a) Estime a transformação PCA com os dados de treino, de modo aos dados projetados terem $75\\%$ da variância total dos dados e aplique a transformação aos dados de treino e teste. \n",
    "## b) Treine o classificador $\\texttt{SVC(kernel='rbf')}$ com os dados de treino transformados, e calcule a matriz de confusão e o número total de erros nos dados de teste transformados.\n",
    "## c) Estime a transformação PCA com os dados de treino, de modo aos dados projetados terem $75\\%$ da variância total dos dados e os dados transformardos terem média nula e variância unitária em cada dimensão. Aplique a transformação aos dados de treino e teste. \n",
    "## d) Treine o classificador $\\texttt{SVC(kernel='rbf')}$ com os dados transformados da alínea anterior, e calcule a matriz de confusão e o número total de erros nos dados de teste."
   ]
  },
  {
   "cell_type": "code",
   "execution_count": 8,
   "metadata": {},
   "outputs": [],
   "source": [
    "from sklearn.metrics import confusion_matrix\n",
    "from sklearn.svm import SVC\n",
    "svm=SVC(kernel='rbf')"
   ]
  },
  {
   "cell_type": "markdown",
   "metadata": {},
   "source": [
    "### a)"
   ]
  },
  {
   "cell_type": "code",
   "execution_count": 9,
   "metadata": {},
   "outputs": [
    {
     "name": "stdout",
     "output_type": "stream",
     "text": [
      "Número de componentes principais de modo a obter 75% de Variância:  32\n"
     ]
    }
   ],
   "source": [
    "X = D['X'] * 1.0\n",
    "y = D['trueClass']\n",
    "f1 = D['foldTrain']\n",
    "f2 = D['foldTest']\n",
    "\n",
    "#Dados de Treino\n",
    "X1 = X[:, f1]\n",
    "y1 = y[f1]\n",
    "\n",
    "#Dados de Teste\n",
    "X2 = X[:, f2]\n",
    "y2 =  y[f2]\n",
    "\n",
    "#Covariância\n",
    "Cx =np.cov(X1)\n",
    " \n",
    "u, W = la.eig(Cx)\n",
    "u = u.real\n",
    "W = W.real\n",
    "\n",
    "idx = np.argsort(-u)\n",
    "u = u[idx]\n",
    "W = W[:, idx]\n",
    "\n",
    "un = u / np.sum(u)\n",
    "L = np.cumsum(un)\n",
    "\n",
    "print(\"Número de componentes principais de modo a obter 75% de Variância: \", np.sum(L <= 0.75))\n",
    "\n",
    "pca = PCA(n_components=32).fit(X1.T)\n",
    "X1a = pca.transform(X1.T).T\n",
    "X2a = pca.transform(X2.T).T"
   ]
  },
  {
   "cell_type": "markdown",
   "metadata": {},
   "source": [
    "### b)"
   ]
  },
  {
   "cell_type": "code",
   "execution_count": 10,
   "metadata": {},
   "outputs": [
    {
     "name": "stdout",
     "output_type": "stream",
     "text": [
      "[[493   0   2   0   0   2   2   0   1   0]\n",
      " [  0 492   3   2   0   1   1   1   0   0]\n",
      " [  3   0 475   4   1   1   5   8   3   0]\n",
      " [  0   0   2 475   0  10   1   8   3   1]\n",
      " [  1   0   1   0 479   0   4   0   0  15]\n",
      " [  1   0   0   6   3 481   4   1   3   1]\n",
      " [  7   3   0   0   3   1 483   0   3   0]\n",
      " [  0   9  16   4   5   0   0 458   0   8]\n",
      " [  5   0   1  10   3   3   0   4 471   3]\n",
      " [  4   6   1   6  13   3   0   4   5 458]]\n",
      "Numero de Erros:  235\n"
     ]
    }
   ],
   "source": [
    "svm.fit(X1a.T, y1)\n",
    "y2e = svm.predict(X2a.T)\n",
    "\n",
    "CM = confusion_matrix(y2, y2e)\n",
    "\n",
    "print(CM)\n",
    "print(\"Numero de Erros: \", np.sum(y2 != y2e))"
   ]
  },
  {
   "cell_type": "markdown",
   "metadata": {},
   "source": [
    "### c)"
   ]
  },
  {
   "cell_type": "code",
   "execution_count": 11,
   "metadata": {},
   "outputs": [],
   "source": [
    "#Obter as Dimensões com 75% de Variância\n",
    "W = W[:, :32]\n",
    "\n",
    "#Anular a média\n",
    "m = np.mean(X1, axis = 1)[:, np.newaxis]\n",
    "X1n = X1 - m\n",
    "X1p = np.dot(W.T, X1n)\n",
    "\n",
    "X2n = X2 - m\n",
    "X2p = np.dot(W.T, X2n)\n",
    "\n",
    "#Normalizar a Variância\n",
    "s = np.std(X1p, axis=1)\n",
    "S = np.diag(1/s)\n",
    "X1p = np.dot(S, X1p)\n",
    "\n",
    "s = np.std(X2p, axis=1)\n",
    "S = np.diag(1/s)\n",
    "X2p = np.dot(S, X2p)\n",
    "\n",
    "pca = PCA(n_components=32).fit(X1p.T)\n",
    "X1a = pca.transform(X1p.T).T\n",
    "X2a = pca.transform(X2p.T).T"
   ]
  },
  {
   "cell_type": "markdown",
   "metadata": {},
   "source": [
    "### d)"
   ]
  },
  {
   "cell_type": "code",
   "execution_count": 12,
   "metadata": {},
   "outputs": [
    {
     "name": "stdout",
     "output_type": "stream",
     "text": [
      "[[494   0   1   0   0   1   3   0   1   0]\n",
      " [  0 492   4   2   0   1   0   1   0   0]\n",
      " [  1   0 474   5   2   0   4   8   5   1]\n",
      " [  0   0   3 475   0  11   1   7   2   1]\n",
      " [  0   0   1   0 479   0   4   0   1  15]\n",
      " [  0   0   0   8   1 485   3   1   1   1]\n",
      " [  7   3   0   0   3   3 482   0   2   0]\n",
      " [  1   9  16   1   4   0   0 459   2   8]\n",
      " [  4   0   5  10   1   3   0   3 472   2]\n",
      " [  4   6   1   6  12   3   0   6   4 458]]\n",
      "Numero de Erros:  230\n"
     ]
    }
   ],
   "source": [
    "svm.fit(X1a.T, y1)\n",
    "y2e = svm.predict(X2a.T)\n",
    "\n",
    "CM = confusion_matrix(y2, y2e)\n",
    "\n",
    "print(CM)\n",
    "print(\"Numero de Erros: \", np.sum(y2 != y2e))"
   ]
  }
 ],
 "metadata": {
  "kernelspec": {
   "display_name": "Python 3",
   "language": "python",
   "name": "python3"
  },
  "language_info": {
   "codemirror_mode": {
    "name": "ipython",
    "version": 3
   },
   "file_extension": ".py",
   "mimetype": "text/x-python",
   "name": "python",
   "nbconvert_exporter": "python",
   "pygments_lexer": "ipython3",
   "version": "3.8.8"
  }
 },
 "nbformat": 4,
 "nbformat_minor": 4
}
