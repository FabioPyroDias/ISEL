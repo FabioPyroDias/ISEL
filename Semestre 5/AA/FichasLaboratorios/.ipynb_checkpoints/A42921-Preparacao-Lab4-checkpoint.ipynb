{
 "cells": [
  {
   "cell_type": "markdown",
   "metadata": {},
   "source": [
    "# LAb4: Modelos polinomiais"
   ]
  },
  {
   "cell_type": "markdown",
   "metadata": {},
   "source": [
    "<hr style=\"border:1px  solid black\"> </hr>"
   ]
  },
  {
   "cell_type": "markdown",
   "metadata": {},
   "source": [
    "### (Preencher)\n",
    "## Nome: \n",
    "## Número: "
   ]
  },
  {
   "cell_type": "markdown",
   "metadata": {},
   "source": [
    "<hr style=\"border:1px  solid black\"> </hr>"
   ]
  },
  {
   "cell_type": "markdown",
   "metadata": {},
   "source": [
    "## Desenvolva e corra o código pedido nas células imediatamente abaixo das perguntas."
   ]
  },
  {
   "cell_type": "markdown",
   "metadata": {},
   "source": [
    "# IMPORTANTE:\n",
    "## Uma vez completado, grave este Jupyter notebook com o seguinte nome:\n",
    "## Axxxxx-Lab4.ipynb (Axxxxx: número de aluno)\n",
    "##  e depois submeta o ficheiro no link do Moodle providenciado para o efeito."
   ]
  },
  {
   "cell_type": "markdown",
   "metadata": {},
   "source": [
    "<hr style=\"border:2px solid black\"> </hr>"
   ]
  },
  {
   "cell_type": "markdown",
   "metadata": {},
   "source": [
    "# Pergunta 1 - Discriminantes polinomiais:\n",
    "### Considere o ficheiro pickle $\\texttt{Lab4-data-P1.p}$ onde se encontra um dicionário de Python com as seguintes variáveis:\n",
    "* #### \"data\":       dados bi-dimensionais (4000 amostras)\n",
    "* #### \"target\":     classe dos dados (inteiros de 0 a 3)\n",
    "* #### \"foldTrain\":  array boleano indicando os dados a serem usados para treinar os classificadores\n",
    "* #### \"foldTest\":   array boleano indicando os dados a serem usados para testar os classificadores\n",
    "## a) Use os dados de treino para estimar discriminante polinomial de 4ª ordem.\n",
    "## b) Calcule as matrizes de confusão e o número total de erros nos dados de treino e de teste. Imprima os resultados.\n",
    "## c) Faça um \"plot\" dos dados de teste por classe, e dos erros do discriminante polinomial.\n",
    "## d) Explique brevemente porque é que mais de metade dos pontos da classe \"0\" não são bem classificados "
   ]
  },
  {
   "cell_type": "code",
   "execution_count": 337,
   "metadata": {},
   "outputs": [
    {
     "name": "stdout",
     "output_type": "stream",
     "text": [
      "dict_keys(['data', 'target', 'foldTrain', 'foldTest'])\n"
     ]
    }
   ],
   "source": [
    "import numpy as np\n",
    "import matplotlib.pyplot as plt\n",
    "import pickle\n",
    "from sklearn.metrics import confusion_matrix\n",
    "import scipy.linalg as la\n",
    "import sklearn.preprocessing as pp\n",
    "D=pickle.load(open('PreparacaoLaboratorio4/Lab4-data-P1.p','rb'))\n",
    "print(D.keys())"
   ]
  },
  {
   "cell_type": "markdown",
   "metadata": {},
   "source": [
    "## 1.a)"
   ]
  },
  {
   "cell_type": "code",
   "execution_count": 338,
   "metadata": {},
   "outputs": [],
   "source": [
    "X = D['data']\n",
    "y = D['target']\n",
    "f1 = D['foldTrain']\n",
    "f2 = D['foldTest']\n",
    "\n",
    "X1 = X[:, f1]\n",
    "y1 = y[f1]\n",
    "\n",
    "X2 = X[:, f2]\n",
    "y2 = y[f2]"
   ]
  },
  {
   "cell_type": "code",
   "execution_count": 339,
   "metadata": {},
   "outputs": [
    {
     "name": "stdout",
     "output_type": "stream",
     "text": [
      "(2, 400)\n",
      "(400,)\n",
      "(2, 3600)\n",
      "(3600,)\n"
     ]
    }
   ],
   "source": [
    "print(X1.shape)\n",
    "print(y1.shape)\n",
    "\n",
    "print(X2.shape)\n",
    "print(y2.shape)"
   ]
  },
  {
   "cell_type": "code",
   "execution_count": 340,
   "metadata": {},
   "outputs": [
    {
     "data": {
      "text/plain": [
       "[<matplotlib.lines.Line2D at 0x22574e8d730>]"
      ]
     },
     "execution_count": 340,
     "metadata": {},
     "output_type": "execute_result"
    },
    {
     "data": {
      "image/png": "[encoded data removed]",
      "text/plain": [
       "<Figure size 432x288 with 1 Axes>"
      ]
     },
     "metadata": {
      "needs_background": "light"
     },
     "output_type": "display_data"
    }
   ],
   "source": [
    "plt.plot(X1[0, y1==0], X1[1, y1==0], '.')\n",
    "plt.plot(X1[0, y1==1], X1[1, y1==1], '.')\n",
    "plt.plot(X1[0, y1==2], X1[1, y1==2], '.')\n",
    "plt.plot(X1[0, y1==3], X1[1, y1==3], '.')"
   ]
  },
  {
   "cell_type": "code",
   "execution_count": 344,
   "metadata": {},
   "outputs": [],
   "source": [
    "poly = pp.PolynomialFeatures(4).fit(X1.T)\n",
    "Xp = poly.transform(X1.T).T\n",
    "\n",
    "Y = -np.ones((4, X1.shape[1]))\n",
    "\n",
    "for i in range(4):\n",
    "    Y[i, y1==i] = 1\n",
    "    \n",
    "Rx = np.dot(Xp, Xp.T)\n",
    "rxy = np.dot(Xp, Y.T)\n",
    "W = np.dot(la.pinv(Rx), rxy)\n",
    "\n",
    "yb = np.dot(W.T, Xp)\n",
    "ye = np.argmax(yb, axis=0)"
   ]
  },
  {
   "cell_type": "markdown",
   "metadata": {},
   "source": [
    "## 1.b)"
   ]
  },
  {
   "cell_type": "code",
   "execution_count": 342,
   "metadata": {},
   "outputs": [
    {
     "name": "stdout",
     "output_type": "stream",
     "text": [
      "Número Total de Erros Treino:  1\n",
      "[[ 99   0   0   1]\n",
      " [  0 100   0   0]\n",
      " [  0   0 100   0]\n",
      " [  0   0   0 100]]\n",
      "\n",
      "Número Total de Erros Teste:  484\n",
      "[[419 325  55 101]\n",
      " [  0 900   0   0]\n",
      " [  0   0 900   0]\n",
      " [  3   0   0 897]]\n"
     ]
    }
   ],
   "source": [
    "X2p = poly.transform(X2.T).T\n",
    "y2b = np.dot(W.T, X2p)\n",
    "y2e = np.argmax(y2b, axis=0)\n",
    "\n",
    "print(\"Número Total de Erros Treino: \", np.sum(y1!=ye))\n",
    "print(confusion_matrix(y1, ye))\n",
    "print()\n",
    "print(\"Número Total de Erros Teste: \", np.sum(y2 != y2e))\n",
    "print(confusion_matrix(y2, y2e))"
   ]
  },
  {
   "cell_type": "markdown",
   "metadata": {},
   "source": [
    "## 1.c)"
   ]
  },
  {
   "cell_type": "code",
   "execution_count": 313,
   "metadata": {},
   "outputs": [
    {
     "data": {
      "text/plain": [
       "[<matplotlib.lines.Line2D at 0x225739322b0>]"
      ]
     },
     "execution_count": 313,
     "metadata": {},
     "output_type": "execute_result"
    },
    {
     "data": {
      "image/png": "[encoded data removed]",
      "text/plain": [
       "<Figure size 432x288 with 1 Axes>"
      ]
     },
     "metadata": {
      "needs_background": "light"
     },
     "output_type": "display_data"
    }
   ],
   "source": [
    "plt.plot(X2[0, y2==0], X2[1, y2==0], '.r')\n",
    "plt.plot(X2[0, y2==1], X2[1, y2==1], '.g')\n",
    "plt.plot(X2[0, y2==2], X2[1, y2==2], '.b')\n",
    "plt.plot(X2[0, y2==3], X2[1, y2==3], '.m')\n",
    "plt.plot(X2[0, y2!=y2e], X2[1, y2!=y2e], 'ok', alpha=0.3)"
   ]
  },
  {
   "cell_type": "markdown",
   "metadata": {},
   "source": [
    "## 1.d)"
   ]
  },
  {
   "cell_type": "markdown",
   "metadata": {},
   "source": [
    "Como podemos observar no \"plot\" dos dados de treino, apenas foram tidos em conta os pontos que se encontravam no lado esquerdo da sua distribuição.\n",
    "\n",
    "O discriminante, ao encontrar estes pontos do lado direito, quando analisando os dados de teste, assume serem de outra classe dado que não encontrou nenhum ponto da classe 0 nesses locais.  "
   ]
  },
  {
   "cell_type": "markdown",
   "metadata": {},
   "source": [
    "<hr style=\"border:2px solid black\"> </hr>"
   ]
  },
  {
   "cell_type": "markdown",
   "metadata": {},
   "source": [
    "# Pergunta 2 - Regressão polinomial:\n",
    "### Considere o ficheiro pickle $\\texttt{Lab4-data-P2.p}$ onde se encontra um dicionário de Python com as seguintes variáveis:\n",
    "* #### \"x\":       dados uni-dimensionais/variável independente (500 pontos)\n",
    "* #### \"y\":       variável dependente/saídas desejadas (500 pontos)\n",
    "* #### \"foldTrain\":  array boleano indicando os dados a serem usados para treinar os classificadores\n",
    "* #### \"foldTest\":   array boleano indicando os dados a serem usados para testar os classificadores\n",
    "\n",
    "## a) Use os dados de treino para estimar um regressor polinomial de 5ª ordem. Imprima os valores dos pesos.\n",
    "## b) Calcule o coeficiente de determinação ($\\bf R^2$) para os dados de treino e para os dados de teste.\n",
    "## c) Faça um \"plot\" do polinómio estimado. Visualize o polinómio conjutamente com os dados de teste. \n",
    "## d)  Explique brevemente porque é que o modelo não está bem adaptado aos dados de teste."
   ]
  },
  {
   "cell_type": "code",
   "execution_count": 314,
   "metadata": {},
   "outputs": [
    {
     "data": {
      "text/plain": [
       "dict_keys(['x', 'y', 'foldTrain', 'foldTest'])"
      ]
     },
     "execution_count": 314,
     "metadata": {},
     "output_type": "execute_result"
    }
   ],
   "source": [
    "D=pickle.load(open('PreparacaoLaboratorio4/Lab4-data-P2.p','rb'))\n",
    "D.keys()"
   ]
  },
  {
   "cell_type": "code",
   "execution_count": 315,
   "metadata": {},
   "outputs": [
    {
     "name": "stdout",
     "output_type": "stream",
     "text": [
      "(500,)\n",
      "(500,)\n"
     ]
    },
    {
     "data": {
      "text/plain": [
       "[<matplotlib.lines.Line2D at 0x2257397ab50>]"
      ]
     },
     "execution_count": 315,
     "metadata": {},
     "output_type": "execute_result"
    },
    {
     "data": {
      "image/png": "[encoded data removed]",
      "text/plain": [
       "<Figure size 432x288 with 1 Axes>"
      ]
     },
     "metadata": {
      "needs_background": "light"
     },
     "output_type": "display_data"
    }
   ],
   "source": [
    "x = D['x']\n",
    "y = D['y']\n",
    "f1 = D['foldTrain']\n",
    "f2 = D['foldTest']\n",
    "\n",
    "print(x.shape)\n",
    "print(y.shape)\n",
    "\n",
    "plt.plot(x, y, '.')"
   ]
  },
  {
   "cell_type": "code",
   "execution_count": 316,
   "metadata": {},
   "outputs": [],
   "source": [
    "#Treino\n",
    "x1 = x[f1]\n",
    "y1 = y[f1]\n",
    "\n",
    "#plt.plot(x1, y1, '.')\n",
    "\n",
    "#Teste\n",
    "x2 = x[f2]\n",
    "y2 = y[f2]\n",
    "\n",
    "#plt.plot(x2, y2, '.')"
   ]
  },
  {
   "cell_type": "markdown",
   "metadata": {},
   "source": [
    "## 2.a)"
   ]
  },
  {
   "cell_type": "code",
   "execution_count": 317,
   "metadata": {},
   "outputs": [
    {
     "name": "stdout",
     "output_type": "stream",
     "text": [
      "[ 0.00883479  0.03881964 -0.45238482 -0.25033723  1.66738131  3.94647968]\n"
     ]
    }
   ],
   "source": [
    "X1=np.vstack((x1**5, x1**4, x1**3,x1**2,x1,np.ones((1, x1.shape[0]))))\n",
    "Rx=np.dot(X1,X1.T) # matriz 6 × 6\n",
    "rxy=np.dot(X1,y1.T) # vetor 6 × 1\n",
    "\n",
    "w=np.dot(np.linalg.pinv(Rx), rxy)\n",
    "\n",
    "print(w)"
   ]
  },
  {
   "cell_type": "markdown",
   "metadata": {},
   "source": [
    "## 2.b)"
   ]
  },
  {
   "cell_type": "code",
   "execution_count": 318,
   "metadata": {},
   "outputs": [
    {
     "name": "stdout",
     "output_type": "stream",
     "text": [
      "0.961163242355513\n"
     ]
    }
   ],
   "source": [
    "yh=np.dot(w.T, X1)\n",
    "\n",
    "my1=np.mean(y1) # media de ´ y\n",
    "SQtot=np.sum((y1-my1)**2)# soma dos quadrados de y\n",
    "SQres=np.sum((y1-yh)**2)# potencia do erro ˆ\n",
    "R2=1.0-SQres/SQtot\n",
    "\n",
    "print(R2)"
   ]
  },
  {
   "cell_type": "markdown",
   "metadata": {
    "scrolled": false
   },
   "source": [
    "## 2.c)"
   ]
  },
  {
   "cell_type": "code",
   "execution_count": 335,
   "metadata": {},
   "outputs": [
    {
     "name": "stdout",
     "output_type": "stream",
     "text": [
      "-0.8716026083338004\n"
     ]
    },
    {
     "data": {
      "image/png": "[encoded data removed]",
      "text/plain": [
       "<Figure size 432x288 with 1 Axes>"
      ]
     },
     "metadata": {
      "needs_background": "light"
     },
     "output_type": "display_data"
    }
   ],
   "source": [
    "#Dados Teste\n",
    "plt.plot(x2, y2, '.')\n",
    "\n",
    "#Polinómio Estimado\n",
    "plt.plot(x2, (y2-yh), '.k')\n",
    "#plt.plot(x2, yh, '.k')\n",
    "\n",
    "my2=np.mean(y2) # media de ´ y\n",
    "SQtot=np.sum((y2-my2)**2)# soma dos quadrados de y\n",
    "SQres=np.sum((y2-yh)**2)# potencia do erro ˆ\n",
    "R2=1.0-SQres/SQtot\n",
    "\n",
    "print(R2)"
   ]
  },
  {
   "cell_type": "markdown",
   "metadata": {},
   "source": [
    "## 2.d)"
   ]
  },
  {
   "cell_type": "markdown",
   "metadata": {},
   "source": [
    "O facto do R2 possuir um valor negativo é um claro sinal que as coisas estão a ser muito mal classificadas.<br>\n",
    "Um valor negativo significa que a potência do erro varia mais que os próprios y's. <br>\n",
    "\n",
    "Este modelo está a ter um bom desempenho para os dados de treino, mas ao chegar aos de teste falha redondamente.\n",
    "\n",
    "Pode-se concluir que o modelo está a entrar em sobreaprendizagem.\n",
    "\n",
    "Quanto maior for a ordem do polinómio do modelo, mais fácil é esse modelo entrar em sobreaprendizagem"
   ]
  }
 ],
 "metadata": {
  "kernelspec": {
   "display_name": "Python 3",
   "language": "python",
   "name": "python3"
  },
  "language_info": {
   "codemirror_mode": {
    "name": "ipython",
    "version": 3
   },
   "file_extension": ".py",
   "mimetype": "text/x-python",
   "name": "python",
   "nbconvert_exporter": "python",
   "pygments_lexer": "ipython3",
   "version": "3.8.8"
  }
 },
 "nbformat": 4,
 "nbformat_minor": 4
}
