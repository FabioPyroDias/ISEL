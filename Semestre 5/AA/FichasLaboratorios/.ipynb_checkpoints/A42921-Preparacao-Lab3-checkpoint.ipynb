{
 "cells": [
  {
   "cell_type": "code",
   "execution_count": 3,
   "metadata": {},
   "outputs": [],
   "source": [
    "import numpy as np\n",
    "import matplotlib.pyplot as plt\n",
    "import scipy.linalg as la\n",
    "import pickle\n"
   ]
  },
  {
   "cell_type": "markdown",
   "metadata": {},
   "source": [
    "# 1"
   ]
  },
  {
   "cell_type": "markdown",
   "metadata": {},
   "source": [
    "### a)"
   ]
  },
  {
   "cell_type": "code",
   "execution_count": 128,
   "metadata": {},
   "outputs": [
    {
     "name": "stdout",
     "output_type": "stream",
     "text": [
      "Número de componentes principais de modo a obter 95% de Variância:  139\n"
     ]
    }
   ],
   "source": [
    "D = pickle.load(open('PreparacaoLaboratorio3/MNISTsmall.p', 'rb'))\n",
    "X = D['X'] * 1.0\n",
    "y = D['trueClass']\n",
    "f1 = D['foldTrain']\n",
    "f2 = D['foldTest']\n",
    "\n",
    "#Dados de Treino\n",
    "X1 = X[:, f1]\n",
    "y1 = y[f1]\n",
    "\n",
    "#Dados de Teste\n",
    "X2 = X[:, f2]\n",
    "y2=  y[f2]\n",
    "\n",
    "#Dados Treino Organizados\n",
    "idx = (y1 == 3) | (y1 == 8) | (y1 == 9) \n",
    "X1 = X1[:, idx]\n",
    "y1 = y1[idx]\n",
    "\n",
    "#Dados Teste Organizados\n",
    "idx = (y2 == 3) | (y2 == 8) | (y2 == 9)\n",
    "X2 = X2[:, idx]\n",
    "y2 = y2[idx]\n",
    "\n",
    "#Confirmação dos Tamanhos e Ordenação\n",
    "#print(X1.shape, X2.shape)\n",
    "#plt.plot(y1)\n",
    "#plt.plot(y2)\n",
    "\n",
    "#Covariancia\n",
    "#C3 = np.cov(X1[:, y1 == 3])\n",
    "#C8 = np.cov(X1[:, y1 == 8])\n",
    "#C9 = np.cov(X1[:, y1 == 9])\n",
    "\n",
    "#C = C3 + C8 + C9\n",
    "C = np.cov(X1)\n",
    "\n",
    "u, W = la.eig(C)\n",
    "u = u.real\n",
    "W = W.real\n",
    "\n",
    "idx = np.argsort(-u)\n",
    "u = u[idx]\n",
    "W = W[:, idx]\n",
    "\n",
    "un = u / np.sum(u)\n",
    "L = np.cumsum(un)\n",
    "\n",
    "print(\"Número de componentes principais de modo a obter 95% de Variância: \", np.sum(L <= 0.95))"
   ]
  },
  {
   "cell_type": "markdown",
   "metadata": {},
   "source": [
    "### b)"
   ]
  },
  {
   "cell_type": "code",
   "execution_count": 97,
   "metadata": {},
   "outputs": [],
   "source": [
    "#Média dos Dados de Treino\n",
    "m = np.mean(X1, axis=1)[:, np.newaxis]\n",
    "\n",
    "Xn = X1-m\n",
    "W2 = W[:, :3]\n",
    "\n",
    "Xp = np.dot(W2.T, Xn)\n",
    "Xr = np.dot(W2, Xp) + m"
   ]
  },
  {
   "cell_type": "code",
   "execution_count": 95,
   "metadata": {},
   "outputs": [
    {
     "data": {
      "text/plain": [
       "<matplotlib.image.AxesImage at 0x1c13240c220>"
      ]
     },
     "execution_count": 95,
     "metadata": {},
     "output_type": "execute_result"
    },
    {
     "data": {
      "image/png": "[encoded data removed]",
      "text/plain": [
       "<Figure size 432x288 with 1 Axes>"
      ]
     },
     "metadata": {
      "needs_background": "light"
     },
     "output_type": "display_data"
    }
   ],
   "source": [
    "x = Xr[:, 0].reshape(28, 28)\n",
    "plt.imshow(x, cmap='binary')"
   ]
  },
  {
   "cell_type": "code",
   "execution_count": 32,
   "metadata": {},
   "outputs": [
    {
     "data": {
      "text/plain": [
       "<matplotlib.image.AxesImage at 0x1c1475f26d0>"
      ]
     },
     "execution_count": 32,
     "metadata": {},
     "output_type": "execute_result"
    },
    {
     "data": {
      "image/png": "[encoded data removed]",
      "text/plain": [
       "<Figure size 432x288 with 1 Axes>"
      ]
     },
     "metadata": {
      "needs_background": "light"
     },
     "output_type": "display_data"
    }
   ],
   "source": [
    "x = Xr[:, 1].reshape(28, 28)\n",
    "plt.imshow(x, cmap='binary')"
   ]
  },
  {
   "cell_type": "code",
   "execution_count": 34,
   "metadata": {},
   "outputs": [
    {
     "data": {
      "text/plain": [
       "<matplotlib.image.AxesImage at 0x1c147ae6430>"
      ]
     },
     "execution_count": 34,
     "metadata": {},
     "output_type": "execute_result"
    },
    {
     "data": {
      "image/png": "[encoded data removed]",
      "text/plain": [
       "<Figure size 432x288 with 1 Axes>"
      ]
     },
     "metadata": {
      "needs_background": "light"
     },
     "output_type": "display_data"
    }
   ],
   "source": [
    "x = Xr[:, 2].reshape(28, 28)\n",
    "plt.imshow(x, cmap='binary')"
   ]
  },
  {
   "cell_type": "markdown",
   "metadata": {},
   "source": [
    "### c)"
   ]
  },
  {
   "cell_type": "code",
   "execution_count": 103,
   "metadata": {},
   "outputs": [
    {
     "name": "stdout",
     "output_type": "stream",
     "text": [
      "(784, 784)\n",
      "(3, 3000)\n"
     ]
    }
   ],
   "source": [
    "from sklearn.decomposition import PCA\n",
    "\n",
    "pca = PCA(n_components=150).fit(X1.T)\n",
    "X2a = pca.transform(X2.T).T\n",
    "\n",
    "#X2ai = pca.inverse_transform(X2a.T).T\n",
    "\n",
    "print(W.shape)\n",
    "print(Xp.shape)\n",
    "\n",
    "#Xr = np.dot(W, Xp)"
   ]
  },
  {
   "cell_type": "code",
   "execution_count": 99,
   "metadata": {},
   "outputs": [
    {
     "data": {
      "text/plain": [
       "Text(0.5, 1.0, '8 PCA Inverso')"
      ]
     },
     "execution_count": 99,
     "metadata": {},
     "output_type": "execute_result"
    },
    {
     "data": {
      "image/png": "[encoded data removed]",
      "text/plain": [
       "<Figure size 432x288 with 4 Axes>"
      ]
     },
     "metadata": {
      "needs_background": "light"
     },
     "output_type": "display_data"
    }
   ],
   "source": [
    "plt.subplot(2, 2, 1)\n",
    "plt.imshow(X2[:, 0].reshape(28, 28), cmap='binary')\n",
    "plt.axis('off')\n",
    "plt.title(\"3 Original\")\n",
    "\n",
    "plt.subplot(2, 2, 2)\n",
    "plt.imshow(X2ai[:, 0].reshape(28, 28), cmap='binary')\n",
    "plt.axis('off')\n",
    "plt.title(\"3 PCA Inverso\")\n",
    "\n",
    "plt.subplot(2, 2, 3)\n",
    "plt.imshow(X2[:, 500].reshape(28, 28), cmap='binary')\n",
    "plt.axis('off')\n",
    "plt.title(\"8 Original\")\n",
    "\n",
    "plt.subplot(2, 2, 4)\n",
    "plt.imshow(X2ai[:, 500].reshape(28, 28), cmap='binary')\n",
    "plt.axis('off')\n",
    "plt.title(\"8 PCA Inverso\")"
   ]
  },
  {
   "cell_type": "markdown",
   "metadata": {},
   "source": [
    "# 2"
   ]
  },
  {
   "cell_type": "code",
   "execution_count": 141,
   "metadata": {},
   "outputs": [],
   "source": [
    "from sklearn.metrics import confusion_matrix\n",
    "from sklearn.svm import SVC"
   ]
  },
  {
   "cell_type": "markdown",
   "metadata": {},
   "source": [
    "### a)"
   ]
  },
  {
   "cell_type": "code",
   "execution_count": 137,
   "metadata": {},
   "outputs": [
    {
     "name": "stdout",
     "output_type": "stream",
     "text": [
      "Número de componentes principais de modo a obter 75% de Variância:  32\n"
     ]
    }
   ],
   "source": [
    "X = D['X'] * 1.0\n",
    "y = D['trueClass']\n",
    "f1 = D['foldTrain']\n",
    "f2 = D['foldTest']\n",
    "\n",
    "#Dados de Treino\n",
    "X1 = X[:, f1]\n",
    "y1 = y[f1]\n",
    "\n",
    "#Dados de Teste\n",
    "X2 = X[:, f2]\n",
    "y2 =  y[f2]\n",
    "\n",
    "#Covariância\n",
    "Cx =np.cov(X1)\n",
    " \n",
    "u, W = la.eig(Cx)\n",
    "u = u.real\n",
    "W = W.real\n",
    "\n",
    "idx = np.argsort(-u)\n",
    "u = u[idx]\n",
    "W = W[:, idx]\n",
    "\n",
    "un = u / np.sum(u)\n",
    "L = np.cumsum(un)\n",
    "\n",
    "print(\"Número de componentes principais de modo a obter 75% de Variância: \", np.sum(L <= 0.75))\n",
    "\n",
    "pca = PCA(n_components=32).fit(X1.T)\n",
    "X1a = pca.transform(X1.T).T\n",
    "X2a = pca.transform(X2.T).T"
   ]
  },
  {
   "cell_type": "markdown",
   "metadata": {},
   "source": [
    "### b)"
   ]
  },
  {
   "cell_type": "code",
   "execution_count": 138,
   "metadata": {},
   "outputs": [
    {
     "name": "stdout",
     "output_type": "stream",
     "text": [
      "[[493   0   2   0   0   2   2   0   1   0]\n",
      " [  0 492   3   2   0   1   1   1   0   0]\n",
      " [  3   0 475   4   1   1   5   8   3   0]\n",
      " [  0   0   2 473   0  11   1   9   3   1]\n",
      " [  1   0   1   0 478   0   5   0   0  15]\n",
      " [  1   0   0   6   3 481   4   1   3   1]\n",
      " [  7   3   0   0   3   1 483   0   3   0]\n",
      " [  0   8  16   4   6   0   0 458   0   8]\n",
      " [  5   0   1  10   3   3   0   4 471   3]\n",
      " [  4   6   1   6  13   3   0   4   5 458]]\n",
      "Numero de Erros:  238\n"
     ]
    }
   ],
   "source": [
    "svm=SVC(kernel='rbf')\n",
    "\n",
    "svm=SVC(kernel='rbf').fit(X1a.T, y1)\n",
    "y2e = svm.predict(X2a.T)\n",
    "\n",
    "CM = confusion_matrix(y2, y2e)\n",
    "\n",
    "print(CM)\n",
    "print(\"Numero de Erros: \", np.sum(y2 != y2e))"
   ]
  },
  {
   "cell_type": "markdown",
   "metadata": {},
   "source": [
    "### c)"
   ]
  },
  {
   "cell_type": "code",
   "execution_count": 142,
   "metadata": {},
   "outputs": [],
   "source": [
    "#Obter as Dimensões com 75% de Variância\n",
    "W = W[:, :32]\n",
    "\n",
    "#Anular a média\n",
    "m = np.mean(X1, axis = 1)[:, np.newaxis]\n",
    "X1n = X1 - m\n",
    "X1p = np.dot(W.T, X1n)\n",
    "\n",
    "X2n = X2 - m\n",
    "X2p = np.dot(W.T, X2n)\n",
    "\n",
    "#Normalizar a Variância\n",
    "s = np.std(X1p, axis=1)\n",
    "S = np.diag(1/s)\n",
    "X1p = np.dot(S, X1p)\n",
    "\n",
    "s = np.std(X2p, axis=1)\n",
    "S = np.diag(1/s)\n",
    "X2p = np.dot(S, X2p)\n",
    "\n",
    "pca = PCA(n_components=32).fit(X1p.T)\n",
    "X1a = pca.transform(X1p.T).T\n",
    "X2a = pca.transform(X2p.T).T"
   ]
  },
  {
   "cell_type": "markdown",
   "metadata": {},
   "source": [
    "### d)"
   ]
  },
  {
   "cell_type": "code",
   "execution_count": 140,
   "metadata": {},
   "outputs": [
    {
     "name": "stdout",
     "output_type": "stream",
     "text": [
      "[[494   0   1   0   0   1   3   0   1   0]\n",
      " [  0 492   4   2   0   1   0   1   0   0]\n",
      " [  1   0 474   5   2   0   4   8   5   1]\n",
      " [  0   0   3 475   0  11   1   7   2   1]\n",
      " [  0   0   1   0 479   0   4   0   1  15]\n",
      " [  0   0   0   8   1 485   3   1   1   1]\n",
      " [  7   3   0   0   3   3 482   0   2   0]\n",
      " [  1   9  16   1   4   0   0 459   2   8]\n",
      " [  4   0   5  10   1   3   0   3 472   2]\n",
      " [  4   6   1   6  12   3   0   6   4 458]]\n",
      "Numero de Erros:  230\n"
     ]
    }
   ],
   "source": [
    "svm=SVC(kernel='rbf').fit(X1p.T, y1)\n",
    "y2e = svm.predict(X2p.T)\n",
    "\n",
    "CM = confusion_matrix(y2, y2e)\n",
    "\n",
    "print(CM)\n",
    "print(\"Numero de Erros: \", np.sum(y2 != y2e))"
   ]
  }
 ],
 "metadata": {
  "kernelspec": {
   "display_name": "Python 3",
   "language": "python",
   "name": "python3"
  },
  "language_info": {
   "codemirror_mode": {
    "name": "ipython",
    "version": 3
   },
   "file_extension": ".py",
   "mimetype": "text/x-python",
   "name": "python",
   "nbconvert_exporter": "python",
   "pygments_lexer": "ipython3",
   "version": "3.8.8"
  }
 },
 "nbformat": 4,
 "nbformat_minor": 4
}
