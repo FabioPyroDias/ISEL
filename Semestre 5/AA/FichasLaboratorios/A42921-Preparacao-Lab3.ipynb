{
 "cells": [
  {
   "cell_type": "code",
   "execution_count": 3,
   "metadata": {},
   "outputs": [],
   "source": [
    "import numpy as np\n",
    "import matplotlib.pyplot as plt\n",
    "import scipy.linalg as la\n",
    "import pickle\n"
   ]
  },
  {
   "cell_type": "markdown",
   "metadata": {},
   "source": [
    "# 1"
   ]
  },
  {
   "cell_type": "markdown",
   "metadata": {},
   "source": [
    "### a)"
   ]
  },
  {
   "cell_type": "code",
   "execution_count": 4,
   "metadata": {},
   "outputs": [
    {
     "name": "stdout",
     "output_type": "stream",
     "text": [
      "Número de componentes principais de modo a obter 95% de Variância:  139\n"
     ]
    }
   ],
   "source": [
    "D = pickle.load(open('PreparacaoLaboratorio3/MNISTsmall.p', 'rb'))\n",
    "X = D['X'] * 1.0\n",
    "y = D['trueClass']\n",
    "f1 = D['foldTrain']\n",
    "f2 = D['foldTest']\n",
    "\n",
    "#Dados de Treino\n",
    "X1 = X[:, f1]\n",
    "y1 = y[f1]\n",
    "\n",
    "#Dados de Teste\n",
    "X2 = X[:, f2]\n",
    "y2=  y[f2]\n",
    "\n",
    "#Dados Treino Organizados\n",
    "idx = (y1 == 3) | (y1 == 8) | (y1 == 9) \n",
    "X1 = X1[:, idx]\n",
    "y1 = y1[idx]\n",
    "\n",
    "#Dados Teste Organizados\n",
    "idx = (y2 == 3) | (y2 == 8) | (y2 == 9)\n",
    "X2 = X2[:, idx]\n",
    "y2 = y2[idx]\n",
    "\n",
    "#Confirmação dos Tamanhos e Ordenação\n",
    "#print(X1.shape, X2.shape)\n",
    "#plt.plot(y1)\n",
    "#plt.plot(y2)\n",
    "\n",
    "#Covariancia\n",
    "#C3 = np.cov(X1[:, y1 == 3])\n",
    "#C8 = np.cov(X1[:, y1 == 8])\n",
    "#C9 = np.cov(X1[:, y1 == 9])\n",
    "\n",
    "#C = C3 + C8 + C9\n",
    "C = np.cov(X1)\n",
    "\n",
    "u, W = la.eig(C)\n",
    "u = u.real\n",
    "W = W.real\n",
    "\n",
    "idx = np.argsort(-u)\n",
    "u = u[idx]\n",
    "W = W[:, idx]\n",
    "\n",
    "un = u / np.sum(u)\n",
    "L = np.cumsum(un)\n",
    "\n",
    "print(\"Número de componentes principais de modo a obter 95% de Variância: \", np.sum(L <= 0.95))"
   ]
  },
  {
   "cell_type": "markdown",
   "metadata": {},
   "source": [
    "### b)"
   ]
  },
  {
   "cell_type": "code",
   "execution_count": 5,
   "metadata": {},
   "outputs": [],
   "source": [
    "#Média dos Dados de Treino\n",
    "m = np.mean(X1, axis=1)[:, np.newaxis]\n",
    "\n",
    "Xn = X1-m\n",
    "W2 = W[:, :3]\n",
    "\n",
    "Xp = np.dot(W2.T, Xn)\n",
    "Xr = np.dot(W2, Xp) + m"
   ]
  },
  {
   "cell_type": "code",
   "execution_count": 6,
   "metadata": {},
   "outputs": [
    {
     "data": {
      "text/plain": [
       "<matplotlib.image.AxesImage at 0x2645bc24bb0>"
      ]
     },
     "execution_count": 6,
     "metadata": {},
     "output_type": "execute_result"
    },
    {
     "data": {
      "image/png": "[encoded data removed]",
      "text/plain": [
       "<Figure size 432x288 with 1 Axes>"
      ]
     },
     "metadata": {
      "needs_background": "light"
     },
     "output_type": "display_data"
    }
   ],
   "source": [
    "x = Xr[:, 0].reshape(28, 28)\n",
    "plt.imshow(x, cmap='binary')"
   ]
  },
  {
   "cell_type": "code",
   "execution_count": 7,
   "metadata": {},
   "outputs": [
    {
     "data": {
      "text/plain": [
       "<matplotlib.image.AxesImage at 0x2645c18c6a0>"
      ]
     },
     "execution_count": 7,
     "metadata": {},
     "output_type": "execute_result"
    },
    {
     "data": {
      "image/png": "[encoded data removed]",
      "text/plain": [
       "<Figure size 432x288 with 1 Axes>"
      ]
     },
     "metadata": {
      "needs_background": "light"
     },
     "output_type": "display_data"
    }
   ],
   "source": [
    "x = Xr[:, 1].reshape(28, 28)\n",
    "plt.imshow(x, cmap='binary')"
   ]
  },
  {
   "cell_type": "code",
   "execution_count": 8,
   "metadata": {},
   "outputs": [
    {
     "data": {
      "text/plain": [
       "<matplotlib.image.AxesImage at 0x2645c1eb820>"
      ]
     },
     "execution_count": 8,
     "metadata": {},
     "output_type": "execute_result"
    },
    {
     "data": {
      "image/png": "[encoded data removed]",
      "text/plain": [
       "<Figure size 432x288 with 1 Axes>"
      ]
     },
     "metadata": {
      "needs_background": "light"
     },
     "output_type": "display_data"
    }
   ],
   "source": [
    "x = Xr[:, 2].reshape(28, 28)\n",
    "plt.imshow(x, cmap='binary')"
   ]
  },
  {
   "cell_type": "markdown",
   "metadata": {},
   "source": [
    "### c)"
   ]
  },
  {
   "cell_type": "code",
   "execution_count": 11,
   "metadata": {},
   "outputs": [
    {
     "name": "stdout",
     "output_type": "stream",
     "text": [
      "(784, 784)\n",
      "(3, 3000)\n"
     ]
    }
   ],
   "source": [
    "from sklearn.decomposition import PCA\n",
    "\n",
    "pca = PCA(n_components=150).fit(X1.T)\n",
    "X2a = pca.transform(X2.T).T\n",
    "\n",
    "X2ai = pca.inverse_transform(X2a.T).T\n",
    "\n",
    "print(W.shape)\n",
    "print(Xp.shape)\n",
    "\n",
    "#Xr = np.dot(W, Xp)"
   ]
  },
  {
   "cell_type": "code",
   "execution_count": 12,
   "metadata": {},
   "outputs": [
    {
     "data": {
      "text/plain": [
       "Text(0.5, 1.0, '8 PCA Inverso')"
      ]
     },
     "execution_count": 12,
     "metadata": {},
     "output_type": "execute_result"
    },
    {
     "data": {
      "image/png": "[encoded data removed]",
      "text/plain": [
       "<Figure size 432x288 with 4 Axes>"
      ]
     },
     "metadata": {
      "needs_background": "light"
     },
     "output_type": "display_data"
    }
   ],
   "source": [
    "plt.subplot(2, 2, 1)\n",
    "plt.imshow(X2[:, 0].reshape(28, 28), cmap='binary')\n",
    "plt.axis('off')\n",
    "plt.title(\"3 Original\")\n",
    "\n",
    "plt.subplot(2, 2, 2)\n",
    "plt.imshow(X2ai[:, 0].reshape(28, 28), cmap='binary')\n",
    "plt.axis('off')\n",
    "plt.title(\"3 PCA Inverso\")\n",
    "\n",
    "plt.subplot(2, 2, 3)\n",
    "plt.imshow(X2[:, 500].reshape(28, 28), cmap='binary')\n",
    "plt.axis('off')\n",
    "plt.title(\"8 Original\")\n",
    "\n",
    "plt.subplot(2, 2, 4)\n",
    "plt.imshow(X2ai[:, 500].reshape(28, 28), cmap='binary')\n",
    "plt.axis('off')\n",
    "plt.title(\"8 PCA Inverso\")"
   ]
  },
  {
   "cell_type": "markdown",
   "metadata": {},
   "source": [
    "# 2"
   ]
  },
  {
   "cell_type": "code",
   "execution_count": 13,
   "metadata": {},
   "outputs": [],
   "source": [
    "from sklearn.metrics import confusion_matrix\n",
    "from sklearn.svm import SVC"
   ]
  },
  {
   "cell_type": "markdown",
   "metadata": {},
   "source": [
    "### a)"
   ]
  },
  {
   "cell_type": "code",
   "execution_count": 14,
   "metadata": {},
   "outputs": [
    {
     "name": "stdout",
     "output_type": "stream",
     "text": [
      "Número de componentes principais de modo a obter 75% de Variância:  32\n"
     ]
    },
    {
     "data": {
      "text/plain": [
       "array([[1036.76459791, 1063.33483766,  615.28669602, ..., -154.70752325,\n",
       "        -258.10053979,  228.66370018],\n",
       "       [-339.50188057, -405.60906433, -288.85713212, ...,  690.80258298,\n",
       "         352.90733301,  538.76336662],\n",
       "       [ 580.48779233,  502.57083092,  762.87455754, ...,  218.93498442,\n",
       "         148.16258994,  182.52928316],\n",
       "       ...,\n",
       "       [-159.18058677, -249.78915524,  -54.34156869, ..., -171.56955154,\n",
       "          88.04905234, -261.18646791],\n",
       "       [  56.74647382, -188.89928735,  -28.90634817, ..., -106.5909011 ,\n",
       "         -56.18429836, -353.04702543],\n",
       "       [  63.38739675,  214.29605816,   62.74364507, ...,  -63.6153822 ,\n",
       "           8.15310844,  119.87527576]])"
      ]
     },
     "execution_count": 14,
     "metadata": {},
     "output_type": "execute_result"
    }
   ],
   "source": [
    "X = D['X'] * 1.0\n",
    "y = D['trueClass']\n",
    "f1 = D['foldTrain']\n",
    "f2 = D['foldTest']\n",
    "\n",
    "#Dados de Treino\n",
    "X1 = X[:, f1]\n",
    "y1 = y[f1]\n",
    "\n",
    "#Dados de Teste\n",
    "X2 = X[:, f2]\n",
    "y2 =  y[f2]\n",
    "\n",
    "#Covariância\n",
    "Cx =np.cov(X1)\n",
    " \n",
    "u, W = la.eig(Cx)\n",
    "u = u.real\n",
    "W = W.real\n",
    "\n",
    "idx = np.argsort(-u)\n",
    "u = u[idx]\n",
    "W = W[:, idx]\n",
    "\n",
    "un = u / np.sum(u)\n",
    "L = np.cumsum(un)\n",
    "\n",
    "print(\"Número de componentes principais de modo a obter 75% de Variância: \", np.sum(L <= 0.75))\n",
    "\n",
    "pca = PCA(n_components=32).fit(X1.T)\n",
    "X1a = pca.transform(X1.T).T\n",
    "X2a = pca.transform(X2.T).T"
   ]
  },
  {
   "cell_type": "markdown",
   "metadata": {},
   "source": [
    "### b)"
   ]
  },
  {
   "cell_type": "code",
   "execution_count": null,
   "metadata": {},
   "outputs": [],
   "source": [
    "svm=SVC(kernel='rbf')\n",
    "\n",
    "svm=SVC(kernel='rbf').fit(X1a.T, y1)\n",
    "y2e = svm.predict(X2a.T)\n",
    "\n",
    "CM = confusion_matrix(y2, y2e)\n",
    "\n",
    "print(CM)\n",
    "print(\"Numero de Erros: \", np.sum(y2 != y2e))"
   ]
  },
  {
   "cell_type": "markdown",
   "metadata": {},
   "source": [
    "### c)"
   ]
  },
  {
   "cell_type": "code",
   "execution_count": null,
   "metadata": {},
   "outputs": [],
   "source": [
    "#Obter as Dimensões com 75% de Variância\n",
    "W = W[:, :32]\n",
    "\n",
    "#Anular a média\n",
    "m = np.mean(X1, axis = 1)[:, np.newaxis]\n",
    "X1n = X1 - m\n",
    "X1p = np.dot(W.T, X1n)\n",
    "\n",
    "X2n = X2 - m\n",
    "X2p = np.dot(W.T, X2n)\n",
    "\n",
    "#Normalizar a Variância\n",
    "s = np.std(X1p, axis=1)\n",
    "S = np.diag(1/s)\n",
    "X1p = np.dot(S, X1p)\n",
    "\n",
    "s = np.std(X2p, axis=1)\n",
    "S = np.diag(1/s)\n",
    "X2p = np.dot(S, X2p)\n",
    "\n",
    "pca = PCA(n_components=32).fit(X1p.T)\n",
    "X1a = pca.transform(X1p.T).T\n",
    "X2a = pca.transform(X2p.T).T"
   ]
  },
  {
   "cell_type": "markdown",
   "metadata": {},
   "source": [
    "### d)"
   ]
  },
  {
   "cell_type": "code",
   "execution_count": null,
   "metadata": {},
   "outputs": [],
   "source": [
    "svm=SVC(kernel='rbf').fit(X1p.T, y1)\n",
    "y2e = svm.predict(X2p.T)\n",
    "\n",
    "CM = confusion_matrix(y2, y2e)\n",
    "\n",
    "print(CM)\n",
    "print(\"Numero de Erros: \", np.sum(y2 != y2e))"
   ]
  }
 ],
 "metadata": {
  "kernelspec": {
   "display_name": "Python 3",
   "language": "python",
   "name": "python3"
  },
  "language_info": {
   "codemirror_mode": {
    "name": "ipython",
    "version": 3
   },
   "file_extension": ".py",
   "mimetype": "text/x-python",
   "name": "python",
   "nbconvert_exporter": "python",
   "pygments_lexer": "ipython3",
   "version": "3.8.8"
  }
 },
 "nbformat": 4,
 "nbformat_minor": 4
}
