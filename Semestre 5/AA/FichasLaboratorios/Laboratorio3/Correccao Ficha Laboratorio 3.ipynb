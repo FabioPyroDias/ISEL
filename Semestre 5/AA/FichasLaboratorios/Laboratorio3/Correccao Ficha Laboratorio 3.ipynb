{
 "cells": [
  {
   "cell_type": "code",
   "execution_count": 19,
   "id": "3577f3d5",
   "metadata": {},
   "outputs": [],
   "source": [
    "from sklearn.decomposition import PCA\n",
    "import numpy as np\n",
    "import scipy.linalg as la\n",
    "import matplotlib.pyplot as plt\n",
    "import pickle"
   ]
  },
  {
   "cell_type": "markdown",
   "id": "722bc7ac",
   "metadata": {},
   "source": [
    "# 1"
   ]
  },
  {
   "cell_type": "code",
   "execution_count": 30,
   "id": "56712a85",
   "metadata": {},
   "outputs": [],
   "source": [
    "D = pickle.load(open('MNISTsmall.p', 'rb'))\n",
    "\n",
    "X = D['X'] * 1.0\n",
    "y = D['trueClass']\n",
    "f1 = D['foldTrain']\n",
    "f2 = D['foldTest']\n",
    "\n",
    "X1 = X[:, f1]\n",
    "y1 = y[f1]\n",
    "X1 = X1[:, (y1==3) | (y1==8) | (y1==9)]\n",
    "\n",
    "X2 = X[:, f2]\n",
    "y2 = y[f2]"
   ]
  },
  {
   "cell_type": "markdown",
   "id": "cda33172",
   "metadata": {},
   "source": [
    "### a"
   ]
  },
  {
   "cell_type": "code",
   "execution_count": 21,
   "id": "b710b316",
   "metadata": {},
   "outputs": [
    {
     "name": "stdout",
     "output_type": "stream",
     "text": [
      "140\n"
     ]
    }
   ],
   "source": [
    "C = np.cov(X1)\n",
    "u, V = la.eig(C)\n",
    "\n",
    "u = u.real\n",
    "V = V.real\n",
    "\n",
    "idx = np.argsort(-u)\n",
    "u = u[idx]\n",
    "V = V[:, idx]\n",
    "\n",
    "un = u / np.sum(u)\n",
    "\n",
    "L = np.cumsum(un)\n",
    "print(np.sum(L <= 0.95)+1)\n",
    "\n",
    "W = V[:, 140]"
   ]
  },
  {
   "cell_type": "code",
   "execution_count": 16,
   "id": "568362f0",
   "metadata": {},
   "outputs": [
    {
     "name": "stdout",
     "output_type": "stream",
     "text": [
      "(3000, 140)\n",
      "(140, 784)\n"
     ]
    }
   ],
   "source": [
    "pca = PCA(n_components=0.95).fit(X1.T)\n",
    "X1p = pca.transform(X1.T)\n",
    "print(X1p.shape)\n",
    "\n",
    "W2 = pca.components_\n",
    "print(W2.shape)"
   ]
  },
  {
   "cell_type": "markdown",
   "id": "49cb64fd",
   "metadata": {},
   "source": [
    "### b)"
   ]
  },
  {
   "cell_type": "code",
   "execution_count": 27,
   "id": "684db0bf",
   "metadata": {},
   "outputs": [
    {
     "data": {
      "text/plain": [
       "<matplotlib.image.AxesImage at 0x1f782925280>"
      ]
     },
     "execution_count": 27,
     "metadata": {},
     "output_type": "execute_result"
    },
    {
     "data": {
      "image/png": "[encoded data removed]",
      "text/plain": [
       "<Figure size 432x288 with 1 Axes>"
      ]
     },
     "metadata": {
      "needs_background": "light"
     },
     "output_type": "display_data"
    }
   ],
   "source": [
    "#plt.imshow(W[:, 0].reshape(28, 28), cmap='binary')\n",
    "plt.imshow(W2[0, :].reshape(28, 28), cmap='binary')"
   ]
  },
  {
   "cell_type": "code",
   "execution_count": 28,
   "id": "8d15fdea",
   "metadata": {},
   "outputs": [
    {
     "data": {
      "text/plain": [
       "<matplotlib.image.AxesImage at 0x1f782960850>"
      ]
     },
     "execution_count": 28,
     "metadata": {},
     "output_type": "execute_result"
    },
    {
     "data": {
      "image/png": "[encoded data removed]",
      "text/plain": [
       "<Figure size 432x288 with 1 Axes>"
      ]
     },
     "metadata": {
      "needs_background": "light"
     },
     "output_type": "display_data"
    }
   ],
   "source": [
    "plt.imshow(W2[1, :].reshape(28, 28), cmap='binary')"
   ]
  },
  {
   "cell_type": "code",
   "execution_count": 29,
   "id": "096b68ba",
   "metadata": {},
   "outputs": [
    {
     "data": {
      "text/plain": [
       "<matplotlib.image.AxesImage at 0x1f7829d6250>"
      ]
     },
     "execution_count": 29,
     "metadata": {},
     "output_type": "execute_result"
    },
    {
     "data": {
      "image/png": "[encoded data removed]",
      "text/plain": [
       "<Figure size 432x288 with 1 Axes>"
      ]
     },
     "metadata": {
      "needs_background": "light"
     },
     "output_type": "display_data"
    }
   ],
   "source": [
    "plt.imshow(W2[2, :].reshape(28, 28), cmap='binary')"
   ]
  },
  {
   "cell_type": "markdown",
   "id": "6df93789",
   "metadata": {},
   "source": [
    "### c)"
   ]
  },
  {
   "cell_type": "code",
   "execution_count": 37,
   "id": "06ebf428",
   "metadata": {},
   "outputs": [
    {
     "data": {
      "text/plain": [
       "<matplotlib.image.AxesImage at 0x1f78376caf0>"
      ]
     },
     "execution_count": 37,
     "metadata": {},
     "output_type": "execute_result"
    },
    {
     "data": {
      "image/png": "[encoded data removed]",
      "text/plain": [
       "<Figure size 432x288 with 4 Axes>"
      ]
     },
     "metadata": {
      "needs_background": "light"
     },
     "output_type": "display_data"
    }
   ],
   "source": [
    "#Xp = np.dot(W.T, X)\n",
    "#Xr = np.dot(W, Xp)\n",
    "\n",
    "x3 = X2[: ,y2==3][:, 0]\n",
    "x8 = X2[:, y2==8][:, 0]\n",
    "\n",
    "x3r = np.dot(W, np.dot(W.T, x3))\n",
    "x8r = np.dot(W, np.dot(W.T, x8))\n",
    "\n",
    "plt.subplot(221)\n",
    "plt.imshow(x3.reshape(28, 28), cmap='binary')\n",
    "\n",
    "plt.subplot(222)\n",
    "plt.imshow(x3r.reshape(28, 28), cmap='binary')\n",
    "\n",
    "plt.subplot(223)\n",
    "plt.imshow(x8.reshape(28, 28), cmap='binary')\n",
    "\n",
    "plt.subplot(224)\n",
    "plt.imshow(x8r.reshape(28, 28), cmap='binary')"
   ]
  },
  {
   "cell_type": "code",
   "execution_count": 38,
   "id": "5e3c84e6",
   "metadata": {},
   "outputs": [
    {
     "data": {
      "text/plain": [
       "<matplotlib.image.AxesImage at 0x1f78381b0a0>"
      ]
     },
     "execution_count": 38,
     "metadata": {},
     "output_type": "execute_result"
    },
    {
     "data": {
      "image/png": "[encoded data removed]",
      "text/plain": [
       "<Figure size 432x288 with 1 Axes>"
      ]
     },
     "metadata": {
      "needs_background": "light"
     },
     "output_type": "display_data"
    }
   ],
   "source": [
    "x3b = pca.inverse_transform(pca.transform(x3[np.newaxis, :]))\n",
    "plt.imshow(x3b.reshape(28, 28), cmap='binary')"
   ]
  },
  {
   "cell_type": "markdown",
   "id": "0b78ffc5",
   "metadata": {},
   "source": [
    "# 2"
   ]
  },
  {
   "cell_type": "markdown",
   "id": "500c87b4",
   "metadata": {},
   "source": [
    "## a)"
   ]
  },
  {
   "cell_type": "code",
   "execution_count": 41,
   "id": "95745f13",
   "metadata": {},
   "outputs": [],
   "source": [
    "from sklearn.metrics import confusion_matrix\n",
    "from sklearn.svm import SVC\n",
    "svm = SVC(kernel='rbf')"
   ]
  },
  {
   "cell_type": "code",
   "execution_count": 47,
   "id": "8c63ad3b",
   "metadata": {},
   "outputs": [],
   "source": [
    "X = D['X'] * 1.0\n",
    "y = D['trueClass']\n",
    "f1 = D['foldTrain']\n",
    "f2 = D['foldTest']\n",
    "\n",
    "X1 = X[:, f1]\n",
    "y1 = y[f1]\n",
    "\n",
    "X2 = X[:, f2]\n",
    "y2 = y[f2]"
   ]
  },
  {
   "cell_type": "code",
   "execution_count": 52,
   "id": "e505e9cf",
   "metadata": {},
   "outputs": [
    {
     "data": {
      "text/plain": [
       "(5000, 33)"
      ]
     },
     "execution_count": 52,
     "metadata": {},
     "output_type": "execute_result"
    }
   ],
   "source": [
    "pca = PCA(n_components=0.75).fit(X1.T)\n",
    "X1p = pca.transform(X1.T)\n",
    "X2p = pca.transform(X2.T)\n",
    "\n",
    "X2p.shape"
   ]
  },
  {
   "cell_type": "code",
   "execution_count": 53,
   "id": "2d820a3c",
   "metadata": {},
   "outputs": [
    {
     "name": "stdout",
     "output_type": "stream",
     "text": [
      "[[493   0   2   0   0   2   2   0   1   0]\n",
      " [  0 492   3   2   0   1   1   1   0   0]\n",
      " [  3   0 475   4   1   1   5   8   3   0]\n",
      " [  0   0   2 475   0  10   1   8   3   1]\n",
      " [  1   0   1   0 478   0   4   0   0  16]\n",
      " [  1   0   0   9   2 480   4   1   2   1]\n",
      " [  7   3   0   0   3   1 483   0   3   0]\n",
      " [  0  10  16   3   5   0   0 456   1   9]\n",
      " [  5   0   1  10   3   2   0   3 474   2]\n",
      " [  4   6   1   6  13   3   0   5   6 456]]\n",
      "238\n"
     ]
    }
   ],
   "source": [
    "svm = SVC(kernel='rbf').fit(X1p, y1)\n",
    "y2e = svm.predict(X2p)\n",
    "\n",
    "print(confusion_matrix(y2, y2e))\n",
    "print(np.sum(y2!=y2e))"
   ]
  },
  {
   "cell_type": "markdown",
   "id": "9aa2543c",
   "metadata": {},
   "source": [
    "## c)"
   ]
  },
  {
   "cell_type": "code",
   "execution_count": 50,
   "id": "5c59efdd",
   "metadata": {},
   "outputs": [
    {
     "data": {
      "text/plain": [
       "(5000, 33)"
      ]
     },
     "execution_count": 50,
     "metadata": {},
     "output_type": "execute_result"
    }
   ],
   "source": [
    "pca = PCA(n_components=0.75, whiten=True).fit(X1.T)\n",
    "X1p = pca.transform(X1.T)\n",
    "X2p = pca.transform(X2.T)\n",
    "\n",
    "X2p.shape"
   ]
  },
  {
   "cell_type": "markdown",
   "id": "78b44e18",
   "metadata": {},
   "source": [
    "## d)"
   ]
  },
  {
   "cell_type": "code",
   "execution_count": 51,
   "id": "9f46944a",
   "metadata": {
    "scrolled": true
   },
   "outputs": [
    {
     "name": "stdout",
     "output_type": "stream",
     "text": [
      "[[494   0   0   0   0   1   4   0   1   0]\n",
      " [  0 492   4   2   0   1   0   1   0   0]\n",
      " [  1   1 473   5   3   0   3   8   5   1]\n",
      " [  0   0   3 475   0   9   2   7   3   1]\n",
      " [  1   0   1   0 480   0   4   0   1  13]\n",
      " [  0   0   0   7   0 488   2   0   2   1]\n",
      " [  5   3   0   0   3   3 484   0   2   0]\n",
      " [  1   7  16   1   3   0   0 463   2   7]\n",
      " [  3   0   4   9   2   3   1   3 473   2]\n",
      " [  4   5   1   6  11   3   0   5   6 459]]\n",
      "219\n"
     ]
    }
   ],
   "source": [
    "svm = SVC(kernel='rbf').fit(X1p, y1)\n",
    "y2e = svm.predict(X2p)\n",
    "\n",
    "print(confusion_matrix(y2, y2e))\n",
    "print(np.sum(y2!=y2e))"
   ]
  },
  {
   "cell_type": "code",
   "execution_count": null,
   "id": "34b8c458",
   "metadata": {},
   "outputs": [],
   "source": []
  }
 ],
 "metadata": {
  "kernelspec": {
   "display_name": "Python 3",
   "language": "python",
   "name": "python3"
  },
  "language_info": {
   "codemirror_mode": {
    "name": "ipython",
    "version": 3
   },
   "file_extension": ".py",
   "mimetype": "text/x-python",
   "name": "python",
   "nbconvert_exporter": "python",
   "pygments_lexer": "ipython3",
   "version": "3.8.8"
  }
 },
 "nbformat": 4,
 "nbformat_minor": 5
}
