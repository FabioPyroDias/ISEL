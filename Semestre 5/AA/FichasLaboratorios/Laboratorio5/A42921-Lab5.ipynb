{
 "cells": [
  {
   "cell_type": "markdown",
   "metadata": {},
   "source": [
    "# LAb5: Generalização de modelos lineares"
   ]
  },
  {
   "cell_type": "markdown",
   "metadata": {},
   "source": [
    "<hr style=\"border:1px  solid black\"> </hr>"
   ]
  },
  {
   "cell_type": "markdown",
   "metadata": {},
   "source": [
    "### (Preencher)\n",
    "## Nome: Fábio Dias\n",
    "## Número: 42921"
   ]
  },
  {
   "cell_type": "markdown",
   "metadata": {},
   "source": [
    "<hr style=\"border:1px  solid black\"> </hr>"
   ]
  },
  {
   "cell_type": "markdown",
   "metadata": {},
   "source": [
    "## Desenvolva e corra o código pedido nas células imediatamente abaixo das perguntas."
   ]
  },
  {
   "cell_type": "markdown",
   "metadata": {},
   "source": [
    "# IMPORTANTE:\n",
    "## Uma vez completado, grave este Jupyter notebook com o seguinte nome:\n",
    "## Axxxxx-Lab5.ipynb (Axxxxx: número de aluno)\n",
    "##  e depois submeta o ficheiro no link do Moodle providenciado para o efeito."
   ]
  },
  {
   "cell_type": "markdown",
   "metadata": {},
   "source": [
    "<hr style=\"border:2px solid black\"> </hr>"
   ]
  },
  {
   "cell_type": "markdown",
   "metadata": {},
   "source": [
    "# Dados: $\\texttt{breast_cancer}$ dataset do $\\texttt{sklearn}$\n",
    "### Considere os dados do $\\texttt{breast_cancer}$ dataset do $\\texttt{sklearn}$, divididos em três conjuntos, treino/validação/teste, segundo os comandos da próxima célula.\n",
    "* ### X1a: dados de treino (array de $319\\times30$)\n",
    "* ### y1a: classe do dados de treino\n",
    "* ### X1b: dados de validação (array de $100\\times30$)\n",
    "* ### y1b: classe do dados de validação\n",
    "* ### X2: dados de treino (array de $150\\times30$)\n",
    "* ### y2: classe do dados de teste"
   ]
  },
  {
   "cell_type": "code",
   "execution_count": 50,
   "metadata": {},
   "outputs": [],
   "source": [
    "import numpy as np\n",
    "import matplotlib.pyplot as plt\n",
    "from sklearn.metrics import confusion_matrix, roc_curve\n",
    "from sklearn.model_selection import  train_test_split\n",
    "import sklearn.datasets as DT\n",
    "from sklearn.svm import SVC\n",
    "from sklearn.linear_model import LogisticRegression\n",
    "from sklearn.preprocessing import StandardScaler\n",
    "\n",
    "D=DT.load_breast_cancer()\n",
    "X=D.data\n",
    "y=D.target\n",
    "\n",
    "################################################################\n",
    "#ATENÇÃO: Considerar os casos malígnos como positivos (classe 1)\n",
    "#Necessário inverter classes\n",
    "y=np.abs(y-1)\n",
    "################################################################\n",
    "\n",
    "#divitir em treino, validação e teste\n",
    "X1,X2,y1,y2=train_test_split(X,y,test_size=150,stratify=y,random_state=42)\n",
    "X1a,X1b,y1a,y1b=train_test_split(X1,y1,test_size=100,stratify=y1,random_state=42)"
   ]
  },
  {
   "cell_type": "markdown",
   "metadata": {},
   "source": [
    "# Pergunta 1: Discriminantes logístico\n",
    "##  Considere um discriminante logístico com regularização $\\ell_1$ (lasso) e com os parâmetros $\\texttt{C=2}$, $\\texttt{solver='saga'}$ e $\\texttt{max_iter=5000}$. Treine o classificador com os conjuntos de treino e validação (419 exemplos).\n",
    "### a) Imprima o número total de erros e matriz de confusão (não normalizada) deste classificador para o conjunto de teste.\n",
    "### b) Imprima o índice e os nomes (feature names) das dimensões dos dados que não interferem no processo de classificação (dimensões descartadas).\n",
    "### c) Calibre este classificador de maneira a ter um número máximo de falsos negativos no teste inferior o igual a 5, e ao mesmo tempo mantendo o número total de erros igual à da alínea 1.a).\n",
    "### d) Faça um plot da curva ROC deste classificador com os dados de teste. Inclua nesse plot o ponto operacional dos classificadores das alíneas 1.a) e 1.c)."
   ]
  },
  {
   "cell_type": "markdown",
   "metadata": {},
   "source": [
    "## 1.a)"
   ]
  },
  {
   "cell_type": "code",
   "execution_count": 51,
   "metadata": {},
   "outputs": [
    {
     "name": "stdout",
     "output_type": "stream",
     "text": [
      "Número de Erros:  12\n",
      "[[93  1]\n",
      " [11 45]]\n"
     ]
    }
   ],
   "source": [
    "dl = LogisticRegression(penalty='l1', C=2, solver='saga', max_iter=5000)\n",
    "\n",
    "dl.fit(X1, y1)\n",
    "y2e = dl.predict(X2)\n",
    "\n",
    "CM = confusion_matrix(y2, y2e)\n",
    "\n",
    "print(\"Número de Erros: \", np.sum(y2 != y2e))\n",
    "print(CM)"
   ]
  },
  {
   "cell_type": "markdown",
   "metadata": {},
   "source": [
    "## 1.b)"
   ]
  },
  {
   "cell_type": "code",
   "execution_count": 52,
   "metadata": {},
   "outputs": [
    {
     "name": "stdout",
     "output_type": "stream",
     "text": [
      "Dimensões Descartadas:  11\n",
      "['mean smoothness' 'mean fractal dimension' 'radius error'\n",
      " 'smoothness error' 'compactness error' 'concavity error'\n",
      " 'concave points error' 'symmetry error' 'fractal dimension error'\n",
      " 'worst smoothness' 'worst fractal dimension']\n",
      "[ 4  9 10 14 15 16 17 18 19 24 29]\n"
     ]
    }
   ],
   "source": [
    "fN = D.feature_names\n",
    "\n",
    "w = dl.coef_\n",
    "w = w.squeeze()\n",
    "\n",
    "print(\"Dimensões Descartadas: \", np.sum(w==0))\n",
    "print(fN[w==0])\n",
    "print(np.argwhere(w==0).squeeze())"
   ]
  },
  {
   "cell_type": "markdown",
   "metadata": {},
   "source": [
    "## 1.c)"
   ]
  },
  {
   "cell_type": "code",
   "execution_count": 53,
   "metadata": {},
   "outputs": [
    {
     "name": "stdout",
     "output_type": "stream",
     "text": [
      "[[86  8]\n",
      " [ 4 52]]\n"
     ]
    }
   ],
   "source": [
    "y2d = dl.decision_function(X2)\n",
    "\n",
    "CM_limiar = confusion_matrix(y2, y2d > - 1.53)\n",
    "\n",
    "#Ter em conta que o que procuramos modificar é o índice (1, 0). As classes foram invertidas.\n",
    "#Se diminuir o indice (1, 0), tenho de aumentar, no mesmo número, o índice (0, 1)\n",
    "print(CM_limiar)"
   ]
  },
  {
   "cell_type": "markdown",
   "metadata": {},
   "source": [
    "## 1.d)"
   ]
  },
  {
   "cell_type": "code",
   "execution_count": 54,
   "metadata": {},
   "outputs": [
    {
     "data": {
      "image/png": "[encoded data removed]",
      "text/plain": [
       "<Figure size 864x432 with 1 Axes>"
      ]
     },
     "metadata": {
      "needs_background": "light"
     },
     "output_type": "display_data"
    }
   ],
   "source": [
    "f, r, t = roc_curve(y2, y2d)\n",
    "\n",
    "#Pontos Operacionais\n",
    "f1 = CM[0, 1] / (CM[0, 0] + CM[0, 1])\n",
    "r1 = CM[1, 1] / (CM[1, 0] + CM[1, 1])\n",
    "\n",
    "f2 = CM_limiar[0, 1] / (CM_limiar[0, 0] + CM_limiar[0, 1])\n",
    "r2 = CM_limiar[1, 1] / (CM_limiar[1, 0] + CM_limiar[1, 1])\n",
    "\n",
    "plt.figure(figsize=(12, 6))\n",
    "plt.plot(f, r, 'k-', f1, r1, 'or', f2, r2, 'ob')\n",
    "plt.axis('scaled')\n",
    "plt.grid(True)"
   ]
  },
  {
   "cell_type": "markdown",
   "metadata": {},
   "source": [
    "<hr style=\"border:2px solid black\"> </hr>"
   ]
  },
  {
   "cell_type": "markdown",
   "metadata": {},
   "source": [
    "# Pergunta 2 - SVMs:\n",
    "## Considere o classificador da função $\\texttt{SVC}$ com os parâmetros $\\texttt{kernel='rbf'}$ e $\\texttt{C=2}$.\n",
    "### a) Faça um pré-processamento dos dados usando a função $\\texttt{StandardScaler}$. Treine esta função com os dados treino e aplique a transformação aos três conjuntos (treino, validação e teste). Use os dados pré-processados nas alíneas seguintes.\n",
    "### b) Pertende-se estimar o valor do parâmetro $\\texttt{gamma}$  ($\\gamma$) mais adequado para este problema. Para tal, use o conjunto de validação para achar o valor de $\\gamma$ que resulta no menor número de erros (treine o $\\texttt{SVC}$ com o conjunto de treino). Teste os seguintes valores de $\\gamma$: $[0.005 , 0.0075, 0.01  , 0.0125, 0.015 , 0.0175]$. Volte a treinar o classificador $\\texttt{SVC}$ com os dados de treino e validação, e com o melhor valor de $\\gamma$. Imprima o número total de erros e matriz de confusão (não normalizada) deste classificador para o conjunto de teste.\n",
    "### c)  Calibre o classificador da alínea anterior de modo a obter zero (0) falsos negativos nos dados de teste. Após a calibração qual o número mínimo de falso positivos obtidos no teste?\n",
    "### d) Faça um plot da curva ROC deste classificador com os dados de teste. Inclua nesse plot o ponto operacional dos classificadores das alíneas 1.b) e 1.c)."
   ]
  },
  {
   "cell_type": "markdown",
   "metadata": {},
   "source": [
    "## 2.a)"
   ]
  },
  {
   "cell_type": "code",
   "execution_count": 55,
   "metadata": {},
   "outputs": [],
   "source": [
    "sc = StandardScaler().fit(X1)\n",
    "\n",
    "X1n = sc.transform(X1)\n",
    "X1an = sc.transform(X1a)\n",
    "X1bn = sc.transform(X1b)\n",
    "X2n = sc.transform(X2)"
   ]
  },
  {
   "cell_type": "markdown",
   "metadata": {},
   "source": [
    "## 2.b)"
   ]
  },
  {
   "cell_type": "code",
   "execution_count": 56,
   "metadata": {},
   "outputs": [
    {
     "name": "stdout",
     "output_type": "stream",
     "text": [
      "Número de Erros na Validação:  87\n",
      "Número de Erros no Teste:  3\n",
      "[[94  0]\n",
      " [ 3 53]]\n"
     ]
    }
   ],
   "source": [
    "minErros = 1000\n",
    "gList = [0.005, 0.0075, 0.01, 0.0125, 0.015, 0.0175]\n",
    "betterG = 0\n",
    "\n",
    "for g in gList:\n",
    "    svm = SVC(kernel='rbf', C=2, gamma=g).fit(X1an, y1a)\n",
    "    y1e = dl.predict(X1bn)\n",
    "    erros = np.sum(y1e != y1b)\n",
    "    if erros < minErros:\n",
    "        minErros = erros\n",
    "        betterG = g\n",
    "\n",
    "print(\"Número de Erros na Validação: \", minErros)\n",
    "\n",
    "svm = SVC(kernel='rbf', C=2, gamma=g).fit(X1n, y1)\n",
    "y2e = svm.predict(X2n)\n",
    "\n",
    "CM = confusion_matrix(y2, y2e)\n",
    "\n",
    "print(\"Número de Erros no Teste: \", np.sum(y2 != y2e))\n",
    "print(CM)"
   ]
  },
  {
   "cell_type": "markdown",
   "metadata": {},
   "source": [
    "## 2.c)"
   ]
  },
  {
   "cell_type": "code",
   "execution_count": 57,
   "metadata": {},
   "outputs": [
    {
     "name": "stdout",
     "output_type": "stream",
     "text": [
      "Falsos Negativos:  0\n",
      "Falsos Positivos:  12\n"
     ]
    }
   ],
   "source": [
    "y2d = svm.decision_function(X2n)\n",
    "CM_limiar = confusion_matrix(y2, y2d > -0.97)\n",
    "\n",
    "print(\"Falsos Negativos: \", CM_limiar[1, 0])\n",
    "print(\"Falsos Positivos: \", CM_limiar[0, 1])"
   ]
  },
  {
   "cell_type": "markdown",
   "metadata": {},
   "source": [
    "## 2.d)"
   ]
  },
  {
   "cell_type": "code",
   "execution_count": 58,
   "metadata": {},
   "outputs": [
    {
     "data": {
      "image/png": "[encoded data removed]",
      "text/plain": [
       "<Figure size 864x432 with 1 Axes>"
      ]
     },
     "metadata": {
      "needs_background": "light"
     },
     "output_type": "display_data"
    }
   ],
   "source": [
    "f, r, t = roc_curve(y2, y2d)\n",
    "\n",
    "#Pontos Operacionais\n",
    "f1 = CM[0, 1] / (CM[0, 0] + CM[0, 1])\n",
    "r1 = CM[1, 1] / (CM[1, 0] + CM[1, 1])\n",
    "\n",
    "f2 = CM_limiar[0, 1] / (CM_limiar[0, 0] + CM_limiar[0, 1])\n",
    "r2 = CM_limiar[1, 1] / (CM_limiar[1, 0] + CM_limiar[1, 1])\n",
    "\n",
    "plt.figure(figsize=(12, 6))\n",
    "plt.plot(f, r, 'k-', f1, r1, 'or', f2, r2, 'ob')\n",
    "plt.axis('scaled')\n",
    "plt.grid(True)"
   ]
  }
 ],
 "metadata": {
  "kernelspec": {
   "display_name": "Python 3",
   "language": "python",
   "name": "python3"
  },
  "language_info": {
   "codemirror_mode": {
    "name": "ipython",
    "version": 3
   },
   "file_extension": ".py",
   "mimetype": "text/x-python",
   "name": "python",
   "nbconvert_exporter": "python",
   "pygments_lexer": "ipython3",
   "version": "3.8.8"
  }
 },
 "nbformat": 4,
 "nbformat_minor": 4
}
