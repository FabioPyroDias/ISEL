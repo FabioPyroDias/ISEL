{
 "cells": [
  {
   "cell_type": "code",
   "execution_count": 1,
   "id": "9b0760bf",
   "metadata": {},
   "outputs": [],
   "source": [
    "import numpy as np\n",
    "import matplotlib.pyplot as plt"
   ]
  },
  {
   "cell_type": "code",
   "execution_count": 2,
   "id": "a9a4fe79",
   "metadata": {},
   "outputs": [
    {
     "data": {
      "text/plain": [
       "array([[ 0.23570226,  0.70710678],\n",
       "       [-0.23570226,  0.70710678]])"
      ]
     },
     "execution_count": 2,
     "metadata": {},
     "output_type": "execute_result"
    }
   ],
   "source": [
    "A = np.array([[1 / (3 * np.sqrt(2)), 1 / np.sqrt(2)], [-1 / (3 * np.sqrt(2)), 1 / np.sqrt(2)]])\n",
    "A"
   ]
  },
  {
   "cell_type": "code",
   "execution_count": 5,
   "id": "e646785c",
   "metadata": {},
   "outputs": [
    {
     "data": {
      "text/plain": [
       "array([3, 2])"
      ]
     },
     "execution_count": 5,
     "metadata": {},
     "output_type": "execute_result"
    }
   ],
   "source": [
    "b = np.array([3, 2])\n",
    "b"
   ]
  },
  {
   "cell_type": "code",
   "execution_count": 9,
   "id": "c036aa4b",
   "metadata": {},
   "outputs": [
    {
     "data": {
      "text/plain": [
       "array([[ 0.39230608, -0.04858971, -0.7852248 , ..., -0.2860171 ,\n",
       "         0.06587965, -0.37363854],\n",
       "       [ 1.12923157, -0.43591395,  0.95367223, ...,  0.52296494,\n",
       "         0.05866782,  1.14649057]])"
      ]
     },
     "execution_count": 9,
     "metadata": {},
     "output_type": "execute_result"
    }
   ],
   "source": [
    "x = np.array(np.random.randn(2, 10000))\n",
    "x"
   ]
  },
  {
   "cell_type": "code",
   "execution_count": 10,
   "id": "0441f4b1",
   "metadata": {
    "scrolled": true
   },
   "outputs": [
    {
     "data": {
      "text/plain": [
       "array([[ 0.89095473, -0.31969041,  0.48926884, ...,  0.30237717,\n",
       "         0.0570124 ,  0.72262381],\n",
       "       [ 0.70601987, -0.29678501,  0.85942736, ...,  0.43720693,\n",
       "         0.02595643,  0.89875871]])"
      ]
     },
     "execution_count": 10,
     "metadata": {},
     "output_type": "execute_result"
    }
   ],
   "source": [
    "Y = np.dot(A, x)\n",
    "Y"
   ]
  }
 ],
 "metadata": {
  "kernelspec": {
   "display_name": "Python 3",
   "language": "python",
   "name": "python3"
  },
  "language_info": {
   "codemirror_mode": {
    "name": "ipython",
    "version": 3
   },
   "file_extension": ".py",
   "mimetype": "text/x-python",
   "name": "python",
   "nbconvert_exporter": "python",
   "pygments_lexer": "ipython3",
   "version": "3.8.8"
  }
 },
 "nbformat": 4,
 "nbformat_minor": 5
}
