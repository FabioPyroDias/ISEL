{
 "cells": [
  {
   "cell_type": "code",
   "execution_count": 4,
   "id": "d8ed5992",
   "metadata": {},
   "outputs": [],
   "source": [
    "import cv2\n",
    "import numpy as np\n",
    "import matplotlib.pyplot as plt\n",
    "import sklearn as sl\n",
    "import skimage as si"
   ]
  },
  {
   "cell_type": "markdown",
   "id": "c29788d9",
   "metadata": {},
   "source": [
    "### Auxiliar Methods\n"
   ]
  },
  {
   "cell_type": "code",
   "execution_count": 5,
   "id": "22afc33d",
   "metadata": {},
   "outputs": [],
   "source": [
    "def showImage(imageTitle, image):\n",
    "    cv2.imshow(imageTitle, image)\n",
    "    cv2.waitKey()\n",
    "    cv2.destroyAllWindows()"
   ]
  },
  {
   "cell_type": "markdown",
   "id": "8b56e3ca",
   "metadata": {},
   "source": [
    "### Auxiliar Variables\n"
   ]
  },
  {
   "cell_type": "code",
   "execution_count": 42,
   "id": "e13a45ba",
   "metadata": {},
   "outputs": [],
   "source": [
    "falconImage = cv2.imread(\"../ImageDatabase/falcon.jpg\")"
   ]
  },
  {
   "cell_type": "markdown",
   "id": "779061e7",
   "metadata": {},
   "source": [
    "# Ex. 1."
   ]
  },
  {
   "cell_type": "markdown",
   "id": "a9e14a29",
   "metadata": {},
   "source": [
    "## Ex. 1.1."
   ]
  },
  {
   "cell_type": "code",
   "execution_count": 3,
   "id": "4203c61c",
   "metadata": {},
   "outputs": [],
   "source": [
    "image = cv2.imread(\"../ImageDatabase/falcon.jpg\")\n",
    "showImage(\"falcon\", image)"
   ]
  },
  {
   "cell_type": "markdown",
   "id": "3c30a204",
   "metadata": {},
   "source": [
    "## Ex. 1.2."
   ]
  },
  {
   "cell_type": "code",
   "execution_count": 39,
   "id": "d64e2fd4",
   "metadata": {},
   "outputs": [],
   "source": [
    "camera = cv2.VideoCapture(0) #Id da camera. Caso tenha mais que uma, tem que se incrementar o id até encontrar a que procuro.\n",
    "#cv2.VideoCapture(\"videoPath.avi\") #Caso não queiramos camera, mas sim um vídeo pré-feito.\n",
    "flag, imagem = camera.read() #Devolve uma flag, que indica se foi possível tirar a fotografia ou não. O segundo valor é a imagem.\n",
    "\n",
    "if flag:\n",
    "    showImage(\"Imagem da camera\", imagem)\n",
    "    #camera.release()\n",
    "else:\n",
    "    print(\"Não foi possível obter imagem\")\n",
    "    \n",
    "# Para obter \"vídeo\" (frames individuais)\n",
    "flagCiclo = True\n",
    "\n",
    "# Factor para Modificar o seu Tamanho\n",
    "downScaleFactor = 0.25\n",
    "upScaleFactor = 1 / downScaleFactor\n",
    "\n",
    "while flagCiclo:\n",
    "    flag, video = camera.read()\n",
    "    \n",
    "    #Caso queira testar o Blur.\n",
    "    #videoBlur = cv2.blur(video, (21, 21))\n",
    "    \n",
    "    #Caso queira testar o Resize\n",
    "    videoDownScale = cv2.resize(video, None, fx = downScaleFactor, fy = downScaleFactor, interpolation=cv2.INTER_NEAREST)\n",
    "    videoUpScale = cv2.resize(videoDownScale, None, fx = upScaleFactor, fy = upScaleFactor, interpolation=cv2.INTER_NEAREST)\n",
    "    \n",
    "    if flag:\n",
    "        #cv2.imshow(\"Video\", video)\n",
    "        #cv2.imshow(\"Video\", videoBlur)   #Blur\n",
    "        cv2.imshow(\"Video\", videoUpScale) #Resize\n",
    "        \n",
    "    key = cv2.waitKey(1)\n",
    "    \n",
    "    if key == 27:\n",
    "        flagCiclo = False\n",
    "        \n",
    "cv2.destroyAllWindows()\n",
    "camera.release()"
   ]
  },
  {
   "cell_type": "markdown",
   "id": "916fbc92",
   "metadata": {},
   "source": [
    "## Ex. 1.3."
   ]
  },
  {
   "cell_type": "code",
   "execution_count": 54,
   "id": "6ff0c155",
   "metadata": {},
   "outputs": [],
   "source": [
    "resizedImage = cv2.resize(falconImage, (256, 256))\n",
    "showImage(\"Resized Image\", resizedImage)\n",
    "\n",
    "#FingerPrint\n",
    "downScaleFactor = 0.25\n",
    "upScaleFactor = 1 / downScaleFactor\n",
    "\n",
    "fingerPrintImage = cv2.imread(\"../ImageDatabase/fingerprint.jpg\")\n",
    "downScaleFingerPrintImage = cv2.resize(fingerPrintImage, None, fx = downScaleFactor, fy = downScaleFactor, interpolation=cv2.INTER_NEAREST)\n",
    "upScaleFingerPrintImage = cv2.resize(fingerPrintImage, None, fx = upScaleFactor, fy = upScaleFactor, interpolation=cv2.INTER_NEAREST)\n",
    "\n",
    "showImage(\"Fingerprint Resized\", downScaleFingerPrintImage)"
   ]
  },
  {
   "cell_type": "markdown",
   "id": "35ab93cc",
   "metadata": {},
   "source": [
    "# Ex. 2."
   ]
  },
  {
   "cell_type": "markdown",
   "id": "9c7d1efa",
   "metadata": {},
   "source": [
    "## Ex. 2.1."
   ]
  },
  {
   "cell_type": "code",
   "execution_count": 6,
   "id": "e223c98f",
   "metadata": {},
   "outputs": [
    {
     "name": "stdout",
     "output_type": "stream",
     "text": [
      "uint8   uint8   uint8\n",
      "float64\n",
      "uint8\n",
      "uint8\n",
      "uint8\n",
      "uint8\n"
     ]
    }
   ],
   "source": [
    "databasePath = \"../ImageDatabase/\"\n",
    "objectImage = cv2.imread(databasePath + \"falcon.jpg\")\n",
    "mask = cv2.imread(databasePath + \"mask.png\")\n",
    "background = cv2.imread(databasePath + \"florest.jpg\")\n",
    "\n",
    "imageOut = objectImage * mask + background * cv2.bitwise_not(mask)\n",
    "imageOut_v2 = cv2.add(cv2.multiply(objectImage, mask), cv2.multiply(background, cv2.bitwise_not(mask)))\n",
    "imageOut_v3 = cv2.add(cv2.multiply(objectImage, mask, scale=1/255), cv2.multiply(background, (255 - mask), scale=1/255))\n",
    "\n",
    "showImage(\"Image Out direct Formula\", imageOut)\n",
    "showImage(\"Image Out cv2 Formula\", imageOut_v2)\n",
    "showImage(\"Image Out cv3 Formula\", imageOut_v3)\n",
    "\n",
    "print(objectImage.dtype, \" \", mask.dtype, \" \", background.dtype)\n",
    "\n",
    "print((mask / 255).dtype)\n",
    "test1 = (objectImage * (mask / 255).astype(np.uint8)).astype(np.uint8)\n",
    "test21 = 255 - mask\n",
    "test22 = (background * (test21 / 255).astype(np.uint8)).astype(np.uint8)\n",
    "test = test1 + test22\n",
    "\n",
    "showImage(\"test1\", test1)\n",
    "showImage(\"test21\", test21)\n",
    "showImage(\"test22\", test22)\n",
    "showImage(\"test\", test)\n",
    "\n",
    "print(test1.dtype)\n",
    "print(test21.dtype)\n",
    "print(test22.dtype)\n",
    "print(test.dtype)"
   ]
  },
  {
   "cell_type": "markdown",
   "id": "74c8f699",
   "metadata": {},
   "source": [
    "## Ex. 2.2."
   ]
  },
  {
   "cell_type": "code",
   "execution_count": 89,
   "id": "cac43176",
   "metadata": {
    "scrolled": true
   },
   "outputs": [
    {
     "name": "stdout",
     "output_type": "stream",
     "text": [
      "Gaussian Kernel:\n",
      " [[0.27406862]\n",
      " [0.45186276]\n",
      " [0.27406862]] \n",
      "\n"
     ]
    }
   ],
   "source": [
    "#Blur\n",
    "bluredImage = cv2.blur(objectImage, (10, 10))\n",
    "showImage(\"Blured Image\", bluredImage)\n",
    "\n",
    "#Median Blur\n",
    "#medianBluredImage = cv2.medianBlur(objectImage, 2)\n",
    "#showImage(\"Median Blured Image\", medianBluredImage)\n",
    "\n",
    "#Gaussian Blur\n",
    "#gaussianBluredImage = cv2.GaussianBlur(objectImage, (10, 10), 0)\n",
    "#showImage(\"Gaussian Blured Image\", gaussianBluredImage)\n",
    "\n",
    "#getGaussianKernel()\n",
    "gaussianKernel = cv2.getGaussianKernel(3, 1)\n",
    "print(\"Gaussian Kernel:\\n\", gaussianKernel, \"\\n\")\n",
    "\n",
    "#filter2D()\n",
    "kernel = np.array([[-1, -1, -1],\n",
    "                   [-1, 8, -1],\n",
    "                   [-1, -1, -1]])\n",
    "filter2D = (objectImage, -1, kernel)\n",
    "#showImage(\"\", filter2D)"
   ]
  },
  {
   "cell_type": "markdown",
   "id": "6410b8c9",
   "metadata": {},
   "source": [
    "## Ex. 2.3."
   ]
  },
  {
   "cell_type": "code",
   "execution_count": 88,
   "id": "af899fcf",
   "metadata": {},
   "outputs": [],
   "source": [
    "#O ponto central no y é o que oferece uma melhor rotação.\n",
    "#Não percebo o porquê\n",
    "\n",
    "rotationMatrix = cv2.getRotationMatrix2D((objectImage.shape[1] / 2, objectImage.shape[1] / 2), 90, 1)\n",
    "rotatedImage = cv2.warpAffine(objectImage, rotationMatrix, (objectImage.shape[0], objectImage.shape[1]))\n",
    "showImage(\"\", rotatedImage)"
   ]
  },
  {
   "cell_type": "markdown",
   "id": "5d3d92e9",
   "metadata": {},
   "source": [
    "# Ex. 3."
   ]
  },
  {
   "cell_type": "markdown",
   "id": "76f536c9",
   "metadata": {},
   "source": [
    "## Ex. 3.1."
   ]
  },
  {
   "cell_type": "code",
   "execution_count": 9,
   "id": "455b56ad",
   "metadata": {},
   "outputs": [
    {
     "data": {
      "text/plain": [
       "[<matplotlib.lines.Line2D at 0x22bec84b7f0>]"
      ]
     },
     "execution_count": 9,
     "metadata": {},
     "output_type": "execute_result"
    },
    {
     "data": {
      "image/png": "[encoded data removed]",
      "text/plain": [
       "<Figure size 432x288 with 1 Axes>"
      ]
     },
     "metadata": {
      "needs_background": "light"
     },
     "output_type": "display_data"
    }
   ],
   "source": [
    "histogramBlue = cv2.calcHist([objectImage], [0], None, [256], [0,256])\n",
    "histogramGreen = cv2.calcHist([objectImage], [1], None, [256], [0,256])\n",
    "histogramRed = cv2.calcHist([objectImage], [2], None, [256], [0,256])\n",
    "histogram = cv2.calcHist([objectImage], [0], None, [32], [0,256])\n",
    "\n",
    "#plt.plot(histogramBlue, color=\"blue\")\n",
    "#plt.plot(histogramGreen, color=\"green\")\n",
    "#plt.plot(histogramRed, color=\"red\")\n",
    "plt.plot(histogram)"
   ]
  },
  {
   "cell_type": "markdown",
   "id": "89dcbd66",
   "metadata": {},
   "source": [
    "# Ex. 5."
   ]
  },
  {
   "cell_type": "markdown",
   "id": "7706915e",
   "metadata": {},
   "source": [
    "## Ex. 5.1."
   ]
  },
  {
   "cell_type": "code",
   "execution_count": 10,
   "id": "2c03ad6d",
   "metadata": {},
   "outputs": [],
   "source": [
    "greyScaleImage = cv2.cvtColor(objectImage, cv2.COLOR_BGR2GRAY)\n",
    "\n",
    "sobelHorizontal = cv2.Sobel(greyScaleImage, cv2.CV_16S, 1, 0, ksize = 3)\n",
    "sobelVertical = cv2.Sobel(greyScaleImage, cv2.CV_16S, 0, 1, ksize = 3)\n",
    "\n",
    "absHorizontal = cv2.convertScaleAbs(sobelHorizontal)\n",
    "absVertical = cv2.convertScaleAbs(sobelVertical)\n",
    "\n",
    "contouredImage = cv2.addWeighted(absHorizontal, 0.5, absVertical, 0.5, 0)\n",
    "showImage(\"Contours Image\", contouredImage)"
   ]
  },
  {
   "cell_type": "markdown",
   "id": "a1e3223b",
   "metadata": {},
   "source": [
    "## Ex. 5.2."
   ]
  },
  {
   "cell_type": "code",
   "execution_count": 11,
   "id": "584bc174",
   "metadata": {},
   "outputs": [],
   "source": [
    "#?"
   ]
  },
  {
   "cell_type": "markdown",
   "id": "286a0e60",
   "metadata": {},
   "source": [
    "# Ex. 6."
   ]
  },
  {
   "cell_type": "markdown",
   "id": "adb80073",
   "metadata": {},
   "source": [
    "## Ex. 6.1."
   ]
  }
 ],
 "metadata": {
  "kernelspec": {
   "display_name": "Python 3",
   "language": "python",
   "name": "python3"
  },
  "language_info": {
   "codemirror_mode": {
    "name": "ipython",
    "version": 3
   },
   "file_extension": ".py",
   "mimetype": "text/x-python",
   "name": "python",
   "nbconvert_exporter": "python",
   "pygments_lexer": "ipython3",
   "version": "3.8.8"
  }
 },
 "nbformat": 4,
 "nbformat_minor": 5
}
