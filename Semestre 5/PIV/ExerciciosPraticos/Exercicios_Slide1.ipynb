{
 "cells": [
  {
   "cell_type": "code",
   "execution_count": 2,
   "id": "e4971af7",
   "metadata": {},
   "outputs": [],
   "source": [
    "import cv2"
   ]
  },
  {
   "cell_type": "markdown",
   "id": "a81888ee",
   "metadata": {},
   "source": [
    "### Auxiliar Methods"
   ]
  },
  {
   "cell_type": "code",
   "execution_count": 3,
   "id": "8fcc340a",
   "metadata": {},
   "outputs": [],
   "source": [
    "def showImage(imageTitle, image):\n",
    "    cv2.imshow(imageTitle, image)\n",
    "    cv2.waitKey()\n",
    "    cv2.destroyAllWindows()"
   ]
  },
  {
   "cell_type": "markdown",
   "id": "ff4299de",
   "metadata": {},
   "source": [
    "## Slide 37"
   ]
  },
  {
   "cell_type": "markdown",
   "id": "cf186030",
   "metadata": {},
   "source": [
    "### Ex.1"
   ]
  },
  {
   "cell_type": "code",
   "execution_count": 10,
   "id": "7f5e8ec7",
   "metadata": {},
   "outputs": [],
   "source": [
    "img = cv2.imread(\"goucha.jpg\")\n",
    "imgInvertida = 255 - img\n",
    "\n",
    "showImage(\"Goucha Normal\", img)\n",
    "showImage(\"Goucha Invertido\", imgInvertida)"
   ]
  },
  {
   "cell_type": "markdown",
   "id": "71072c5f",
   "metadata": {},
   "source": [
    "### Ex. 2"
   ]
  },
  {
   "cell_type": "code",
   "execution_count": 45,
   "id": "392905ec",
   "metadata": {},
   "outputs": [],
   "source": [
    "imgGreyscale = cv2.imread(\"goucha.jpg\", cv2.IMREAD_GRAYSCALE)\n",
    "x, imgBinary = cv2.threshold(imgGreyscale, 127, 255, cv2.THRESH_BINARY)\n",
    "imgBinaryInvertida = cv2.bitwise_not(imgBinary)\n",
    "\n",
    "showImage(\"Goucha Binario\", imgBinary)\n",
    "showImage(\"Goucha Binario Invertido\", imgBinaryInvertida)l"
   ]
  },
  {
   "cell_type": "markdown",
   "id": "949dad76",
   "metadata": {},
   "source": [
    "## Aula 29-09"
   ]
  },
  {
   "cell_type": "code",
   "execution_count": 4,
   "id": "990600be",
   "metadata": {},
   "outputs": [],
   "source": [
    "import numpy as np\n",
    "import cv2"
   ]
  },
  {
   "cell_type": "markdown",
   "id": "80fd817a",
   "metadata": {},
   "source": [
    "### Exercício 1"
   ]
  },
  {
   "cell_type": "code",
   "execution_count": 47,
   "id": "011dc0ad",
   "metadata": {},
   "outputs": [],
   "source": [
    "imgFalcon = cv2.imread(\"../ImageDatabase/falcon.jpg\")\n",
    "imgFalconMask = cv2.imread(\"../ImageDatabase/mask.png\")\n",
    "imgIselParkingLot = cv2.imread(\"../ImageDatabase/iselParkingLot.png\")\n",
    "\n",
    "showImage(\"Falcon\", imgFalcon)\n",
    "showImage(\"Falcon Mask\", imgFalconMask)\n",
    "showImage(\"Isel Parking Lot\", imgIselParkingLot)\n",
    "\n",
    "\n",
    "imgIselParkingLotResized = cv2.resize(imgIselParkingLot, [imgFalconMask.shape[1], imgFalconMask.shape[0]])\n",
    "imgMaskInverse = ~imgFalconMask\n",
    "\n",
    "#showImage(\"Isel Parking Lot Resized\", imgIselParkingLotResized)\n",
    "#showImage(\"Mask Inverse\", imgMaskInverse)\n",
    "\n",
    "imgFalconMaskApplied = cv2.multiply(imgFalcon, imgFalconMask)\n",
    "imgBackground = cv2.multiply(imgIselParkingLotResized, imgMaskInverse)\n",
    "imgFinal = cv2.add(imgFalconMaskApplied, imgBackground)\n",
    "\n",
    "showImage(\"Falcon Mask Applied\", imgFalconMaskApplied)\n",
    "showImage(\"Background\", imgBackground)\n",
    "showImage(\"Final \", imgFinal)"
   ]
  },
  {
   "cell_type": "markdown",
   "id": "bd50bbae",
   "metadata": {},
   "source": [
    "### Exercício 2"
   ]
  },
  {
   "cell_type": "code",
   "execution_count": 70,
   "id": "7eafd3f0",
   "metadata": {},
   "outputs": [],
   "source": [
    "imgFalcon = cv2.imread(\"../ImageDatabase/falcon.jpg\")\n",
    "imgFalconMask = cv2.imread(\"../ImageDatabase/mask.png\")\n",
    "imgBackground = cv2.imread(\"../ImageDatabase/iselParkingLot.png\")\n",
    "\n",
    "showImage(\"Falcon\", imgFalcon)\n",
    "showImage(\"Falcon Mask\", imgFalconMask)\n",
    "showImage(\"Background\", imgBackground)\n",
    "\n",
    "\n",
    "center = (imgFalcon.shape[1] / 2, imgFalcon.shape[1] / 2)\n",
    "angle = 90\n",
    "scale = 1\n",
    "\n",
    "#rotationAngle = cv2.getRotationMatrix2D([[np.cos(np.pi / 2), -np.sin(np.pi / 2), 0], [np.sin(np.pi / 2), np.cos(np.pi / 2), 0]], 90)\n",
    "rotationMatrix = cv2.getRotationMatrix2D(center, angle, scale)\n",
    "\n",
    "imgFalconRotated = cv2.warpAffine(imgFalcon, rotationMatrix, (imgFalcon.shape[0], imgFalcon.shape[1]))\n",
    "imgFalconMaskRotated = cv2.warpAffine(imgFalconMask, rotationMatrix, (imgFalconMask.shape[0], imgFalconMask.shape[1]))\n",
    "\n",
    "showImage(\"Falcon Rotated\", imgFalconRotated)\n",
    "showImage(\"Falcon Mask Rotated\", imgFalconMaskRotated)\n",
    "\n",
    "\n",
    "imgBackgroundResized = cv2.resize(imgIselParkingLot, [imgFalconMaskRotated.shape[1], imgFalconMaskRotated.shape[0]])\n",
    "imgMaskInverse = ~imgFalconMaskRotated\n",
    "\n",
    "showImage(\"Background Resized\", imgBackgroundResized)\n",
    "showImage(\"Falcon Mask Inverse\", imgMaskInverse)\n",
    "\n",
    "\n",
    "imgFalconMaskApplied = cv2.multiply(imgFalconRotated, imgFalconMaskRotated)\n",
    "imgBackgroundMaskApplied = cv2.multiply(imgBackgroundResized, imgMaskInverse)\n",
    "imgFinal = cv2.add(imgFalconMaskApplied, imgBackgroundMaskApplied)\n",
    "\n",
    "showImage(\"Falcon Mask Applied\", imgFalconMaskApplied)\n",
    "showImage(\"Background Mask Applied\", imgBackgroundMaskApplied)\n",
    "showImage(\"Final \", imgFinal)"
   ]
  },
  {
   "cell_type": "markdown",
   "id": "42682995",
   "metadata": {},
   "source": [
    "### Exercício 3"
   ]
  },
  {
   "cell_type": "code",
   "execution_count": 20,
   "id": "8c687c31",
   "metadata": {},
   "outputs": [],
   "source": [
    "imgMRI = cv2.imread(\"../ImageDatabase/BrainMRI_Axial.jpg\")\n",
    "\n",
    "showImage(\"MRI\", imgMRI)\n",
    "\n",
    "\n",
    "noiseGaussian = np.random.normal(0, 0.05 * 255, imgMRI.shape)\n",
    "\n",
    "showImage(\"Gaussian Noise\", noiseGaussian)\n",
    "\n",
    "\n",
    "imgNoise = imgMRI + noiseGaussian\n",
    "\n",
    "showImage(\"Final\", imgNoise)"
   ]
  }
 ],
 "metadata": {
  "kernelspec": {
   "display_name": "Python 3",
   "language": "python",
   "name": "python3"
  },
  "language_info": {
   "codemirror_mode": {
    "name": "ipython",
    "version": 3
   },
   "file_extension": ".py",
   "mimetype": "text/x-python",
   "name": "python",
   "nbconvert_exporter": "python",
   "pygments_lexer": "ipython3",
   "version": "3.8.8"
  }
 },
 "nbformat": 4,
 "nbformat_minor": 5
}
