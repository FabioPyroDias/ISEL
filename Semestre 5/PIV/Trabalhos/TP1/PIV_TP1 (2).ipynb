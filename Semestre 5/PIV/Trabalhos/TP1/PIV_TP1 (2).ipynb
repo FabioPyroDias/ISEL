{
 "cells": [
  {
   "cell_type": "markdown",
   "metadata": {},
   "source": [
    "<div style=\"text-align:center\">\n",
    "\n",
    "<img width=\"400\" src=\"logo_isel.png\">\n",
    "\n",
    "## Licenciatura em Engenharia Informática e Multimédia\n",
    "## Processamento de Imagem e Visão\n",
    "### Trabalho prático 1\n",
    "#### Fábio Dias [A42921] <br> Diogo Ribeiro [A46337]\n",
    "\n",
    "##### 2023-2024\n",
    "\n",
    "</div>"
   ]
  },
  {
   "cell_type": "markdown",
   "metadata": {},
   "source": [
    "## Objetivos :\n",
    "<ol type=\"a\">\n",
    "<h4>\n",
    "<li> Desenvolver algoritmo de visão por computador, capaz de contar automaticamente a quantia em dinheiro (moedas), colocado em cima de uma mesa;</li><br>\n",
    "<li> Familiarização com a biblioteca de funções OpenCV (Open Source Computer Vision) para programação de aplicações de visão por computador em tempo real (para linguagem de programação Python)</li>\n",
    "</h4>\n",
    "</ol>"
   ]
  },
  {
   "cell_type": "markdown",
   "metadata": {},
   "source": [
    "## Descrição\n",
    "<ol type=\"a\">\n",
    "<h4>\n",
    "<li> Pretende-se desenvolver um algoritmo para contagem da quantia em dinheiro (moedas de euro), colocado em cima de uma mesa de superfície homogénea e clara, observada por uma câmara, montada num tripé, ajustado de modo a que o plano do sensor é paralelo ao plano da mesa. </li><br>\n",
    "\n",
    "<li> O algoritmo deverá possuir alguma robustez relativamente às seguintes perturbações: \n",
    "<ol type=\"i\">\n",
    "    <li> presença de objectos, diferentes de moedas, no campo de visão; </li>\n",
    "    <li> existência de pequenas sombras; </li>\n",
    "    <li> eventual contacto dos objectos. </li> </li>\n",
    "</ol><br>\n",
    "\n",
    "<li> Serão fornecidos exemplos de imagens de treino que podem ser usadas para o desenvolvimento do algoritmo. </li><br>\n",
    "\n",
    "<li> O algoritmo será avaliado usando um conjunto de imagens de teste, diferentes das de treino, mas adquiridas nas mesmas condições. </li>\n",
    "\n",
    "</h4>\n",
    "</ol>"
   ]
  },
  {
   "cell_type": "markdown",
   "metadata": {},
   "source": [
    "## Desenvolvimento\n",
    "<ul>\n",
    "    <li> <h3> Abordagem inicial </h3>\n",
    "\n",
    "<h4>\n",
    "<p> No enunciado deste trabalho prático, foi-nos disponibilizada uma sequência típica de tarefas e operações relacionadas com o desenvolvimento deste algoritmo. </p>\n",
    "<p> Inicialmente, temos de carregar as imagens e guardá-las em memória para depois serem manipuladas conforme o nosso objetivo. </p>\n",
    "<p> Convertemos as imagens para tons de cinzento. Assim, a imagem passa de três canais, vermelho, verde e azul para apenas um. Desta forma, é requerido menos processamento e reduz a influência da iluminação, o que destaca melhor o contraste entre as moedas e a mesa. </p>\n",
    "<p> O passo seguinte é a binarização da imagem. Isto significa que as imagens vão possuir apenas dois valores. Neste caso, 0 ou 255. 0 sendo preto e 255 sendo branco. Mas é necessário especificar o que vai ser branco e o que vai ser preto. Desta forma, podemos usar o algoritmo de Otsu. Este encontra automaticamente um valor para o limiar de decisão entre estes dois grupos. Ou seja, este vai encontrar o valor para um limiar ótimo para cada imagem, de forma adaptativa. Finalizando a binarização, quando visualizamos a imagem, conseguimos observar padrões circulares no fundo preto. Estes serão as moedas. </p>\n",
    "<p> Este processo não é perfeito. As moedas podem ter circunferências perfeitas, mas buracos no círculo ou baías. Algumas moedas ficam irreconhecíveis ao ponto de não terem o aspeto de círculo nem parecerem pertencer ao mesmo objeto. Para corrigir isto e tentar obter algo semelhante a uma moeda, precisamos de efetuar operações morfológicas. Estão são um conjunto de técnicas de processamento de imagem utilizadas para modificar a forma de objetos em imagens. São utilizadas para pré-processamento e análise de imagem para melhorar características, como as bordas dos objetos. </p>\n",
    "<p> Algumas destas operações usadas são a erosão, esta é utilizada para encolher o objeto, separar objetos assim como remover pequenos detalhes e ruído nas imagens; a dilatação, que serve para expandir objetos, preencher alguns buracos e engrossar bordas; outra operação usada foi o fechamento, que é uma operação de dilatação seguida de uma erosão. Esta também é útil para preencher buracos e suavizar contornos. </p>\n",
    "<p> Para estas operações, é necessário ter elementos estruturantes. Estas são máscaras com diferentes tamanhos que percorrem cada pixel na imagem, substituindo o seu valor por um diferente de acordo com a operação desejada. </p>\n",
    "<p> Após diversas tentativas e com diversos elementos estruturantes, concluiu-se que embora fosse um caminho possível, era esgotante e provou-se ineficaz na medida de investimento de tempo. Assim, partimos para outra abordagem. </p></li>\n",
    "</h4>"
   ]
  },
  {
   "cell_type": "markdown",
   "metadata": {},
   "source": [
    "### Código"
   ]
  },
  {
   "cell_type": "code",
   "execution_count": 182,
   "metadata": {},
   "outputs": [],
   "source": [
    "# IMPORTS\n",
    "import numpy as np\n",
    "import cv2\n",
    "import matplotlib.pyplot as plt"
   ]
  },
  {
   "cell_type": "markdown",
   "metadata": {},
   "source": [
    "#### Métodos auxiliares"
   ]
  },
  {
   "cell_type": "code",
   "execution_count": null,
   "metadata": {},
   "outputs": [],
   "source": [
    "def showImage(imageTitle, image):\n",
    "    cv2.imshow(imageTitle, image)\n",
    "    cv2.waitKey()\n",
    "    cv2.destroyAllWindows()\n",
    "    \n",
    "def showImageArray(tituloArray, arrayImagens):\n",
    "    for index in range(len(arrayImagens)):\n",
    "        showImage(tituloArray + \": \" + str(index), arrayImagens[index])"
   ]
  },
  {
   "cell_type": "markdown",
   "metadata": {},
   "source": [
    "### Importar imagens"
   ]
  },
  {
   "cell_type": "code",
   "execution_count": null,
   "metadata": {},
   "outputs": [],
   "source": [
    "numberOfImages = 9\n",
    "width = 768\n",
    "height = 1024\n",
    "initialIndex = 1000697\n",
    "\n",
    "imagesOriginal = [None] * numberOfImages\n",
    "currentIndex = initialIndex\n",
    "\n",
    "for index in range(numberOfImages):\n",
    "    while imagesOriginal[index] is None:\n",
    "        imagesOriginal[index] = cv2.imread(\"P\" + str(currentIndex) + \"s.jpg\")\n",
    "        currentIndex = currentIndex + 1"
   ]
  },
  {
   "cell_type": "markdown",
   "metadata": {},
   "source": [
    "#### Conversão para escala de cinzentos"
   ]
  },
  {
   "cell_type": "code",
   "execution_count": null,
   "metadata": {},
   "outputs": [],
   "source": [
    "imagesGrayscale = [None] * numberOfImages\n",
    "\n",
    "for index in range(numberOfImages):\n",
    "    imagesGrayscale[index] = cv2.cvtColor(imagesOriginal[index], cv2.COLOR_BGR2GRAY)"
   ]
  },
  {
   "cell_type": "markdown",
   "metadata": {},
   "source": [
    "#### Obtenção do limiar (threshold) para a binarização das imagens e respetiva conversão usando o algoritmo de Otsu"
   ]
  },
  {
   "cell_type": "code",
   "execution_count": null,
   "metadata": {},
   "outputs": [],
   "source": [
    "imagesBinary = [None] * numberOfImages\n",
    "imagesThresholds = [None] * numberOfImages\n",
    "\n",
    "for index in range(numberOfImages):\n",
    "    imagesThresholds[index], imagesBinary[index] = cv2.threshold(imagesGrayscale[index], 0, 255, cv2.THRESH_BINARY + cv2.THRESH_OTSU)"
   ]
  },
  {
   "cell_type": "markdown",
   "metadata": {},
   "source": [
    "#### Correção/melhoramento das imagens usando operações morfológicas"
   ]
  },
  {
   "cell_type": "code",
   "execution_count": null,
   "metadata": {},
   "outputs": [],
   "source": [
    "imagemBinaria = imagesBinary[0]\n",
    "\n",
    "mascara5x5 = np.ones((5, 5), np.uint8)\n",
    "mascara5x5[0, 0] = 0\n",
    "mascara5x5[0, 4] = 0\n",
    "mascara5x5[4, 0] = 0\n",
    "mascara5x5[4, 4] = 0\n",
    "\n",
    "mascara7x7 = np.ones((7, 7), np.uint8)\n",
    "mascara7x7[0, 0] = 0\n",
    "mascara7x7[0, 6] = 0\n",
    "mascara7x7[6, 0] = 0\n",
    "mascara7x7[6, 6] = 0\n",
    "\n",
    "mascara9x9 = np.ones((9, 9), np.uint8)\n",
    "mascara9x9[0, 0] = 0\n",
    "mascara9x9[0, 8] = 0\n",
    "mascara9x9[8, 0] = 0\n",
    "mascara9x9[8, 8] = 0\n",
    "\n",
    "#Erosão\n",
    "# erosao1 = cv2.erode(imagemBinaria, mascara5x5, iterations = 1)\n",
    "# erosao2 = cv2.erode(imagemBinaria, mascara5x5, iterations = 10)\n",
    "# erosao3 = cv2.erode(imagemBinaria, mascara5x5, iterations = 30)\n",
    "# erosao4 = cv2.erode(imagemBinaria, mascara5x5, iterations = 50)\n",
    "\n",
    "#erosao = [erosao1, erosao2, erosao3, erosao4]\n",
    "\n",
    "\n",
    "#showImageArray(\"Erosao\", erosao)\n",
    "\n",
    "#Fecho\n",
    "fechoV1 = cv2.morphologyEx(imagemBinaria, cv2.MORPH_CLOSE, mascara5x5)\n",
    "fechoV2 = cv2.morphologyEx(fechoV1, cv2.MORPH_CLOSE, mascara5x5)\n",
    "fechoV3 = cv2.morphologyEx(fechoV2, cv2.MORPH_CLOSE, mascara5x5)\n",
    "\n",
    "#fecho = [fechoV1, fechoV2, fechoV3] #Várias iterações não tem efeito\n",
    "\n",
    "fecho5X5 = cv2.morphologyEx(imagemBinaria, cv2.MORPH_CLOSE, mascara5x5)\n",
    "fecho7X7 = cv2.morphologyEx(imagemBinaria, cv2.MORPH_CLOSE, mascara7x7)\n",
    "fecho9X9 = cv2.morphologyEx(imagemBinaria, cv2.MORPH_CLOSE, mascara9x9)\n",
    "\n",
    "##Visualizar as Imagens\n",
    "#showImage(\"Binária\", imagemBinaria)\n",
    "\n",
    "imagemBinariaColada = imagesBinary[4]\n",
    "fecho9X9 = cv2.morphologyEx(imagemBinariaColada, cv2.MORPH_CLOSE, mascara9x9)\n",
    "contours, hierarchy = cv2.findContours(fecho9X9, cv2.RETR_EXTERNAL, cv2.CHAIN_APPROX_SIMPLE)\n",
    "im = cv2.drawContours(imagesOriginal[4], contours, -1, (0,255,0), 3)\n",
    "\n",
    "#showImage(\"\", im)\n",
    "\n",
    "# showImageArray(\"Erosao\", erosao)\n",
    "# showImageArray(\"Fecho 5x5\", fecho)\n",
    "# showImage(\"Fecho 5X5\", fecho5X5)\n",
    "# showImage(\"Fecho 7X7\", fecho7X7)\n",
    "# showImage(\"Fecho 9X9\", fecho9X9)\n",
    "\n",
    "imagemBinariaColada = imagesBinary[4]\n",
    "#showImage(\"Bin Problema\", imagemBinariaColada)\n",
    "\n",
    "\n",
    "fecho5X5 = cv2.morphologyEx(imagemBinariaColada, cv2.MORPH_CLOSE, mascara5x5)\n",
    "fecho7X7 = cv2.morphologyEx(imagemBinariaColada, cv2.MORPH_CLOSE, mascara7x7)\n",
    "fecho9X9 = cv2.morphologyEx(imagemBinariaColada, cv2.MORPH_CLOSE, mascara9x9)\n",
    "\n",
    "#showImage(\"Fecho5X5\", fecho5X5)\n",
    "#showImage(\"Fecho7X7\", fecho7X7)\n",
    "#showImage(\"Fecho9X9\", fecho9X9)\n",
    "\n",
    "#O engenheiro disse-me para usar a dilatação também com os discos.\n",
    "\n",
    "dilatacao5X5 = cv2.dilate(imagemBinariaColada, mascara5x5, iterations=1)\n",
    "fecho5X5 = cv2.morphologyEx(dilatacao5X5, cv2.MORPH_CLOSE, mascara5x5)\n",
    "\n",
    "# showImage(\"Dilatacao\", dilatacao5X5)\n",
    "# showImage(\"Dilatacao + Fecho\", fecho5X5)\n",
    "\n",
    "erosao1 = cv2.erode(dilatacao5X5, mascara5x5, iterations = 1)\n",
    "#showImage(\"Erosao\", erosao1)\n",
    "\n",
    "fecho5X5 = cv2.morphologyEx(imagemBinariaColada, cv2.MORPH_CLOSE, mascara5x5)\n",
    "dilatacao5X5 = cv2.dilate(fecho5X5, mascara5x5, iterations=1)\n",
    "\n",
    "# showImage(\"Fecho\", fecho5X5)\n",
    "# showImage(\"Fecho + Dilatacao\", dilatacao5X5)"
   ]
  },
  {
   "cell_type": "markdown",
   "metadata": {},
   "source": [
    "<ul>\n",
    "<li> <h3> Abordagem Final </h3>\n",
    "<h4>\n",
    "<p> Para esta abordagem, foi necessário o carregamento das imagens assim como a conversão para os tons de cinzento, previamente efetuados para a abordagem anterior. </p>\n",
    "<p> O próximo passo é desfocar ligeiramente a imagem. Isto porque o desfoque pode suavizar a imagem e reduzir o ruído, conseguindo assim uma melhor detecção das bordas das moedas.</p>\n",
    "<p> Seguidamente, procuramos os círculos presentes nas imagens e anotamos a que correspondem os mesmos, assim como os seus raios. Esta será a principal característica a ter em conta nas avaliações e classificações das moedas: o seu raio. </p>\n",
    "<p> Por  fim, soma-se o valor encontrado nos objetos classificados como moedas em cada imagem. </p> \n",
    "</h4>\n",
    "</li>\n",
    "</ul>"
   ]
  },
  {
   "cell_type": "code",
   "execution_count": null,
   "metadata": {},
   "outputs": [],
   "source": []
  }
 ],
 "metadata": {
  "kernelspec": {
   "display_name": "Python 3",
   "language": "python",
   "name": "python3"
  },
  "language_info": {
   "codemirror_mode": {
    "name": "ipython",
    "version": 3
   },
   "file_extension": ".py",
   "mimetype": "text/x-python",
   "name": "python",
   "nbconvert_exporter": "python",
   "pygments_lexer": "ipython3",
   "version": "3.8.8"
  }
 },
 "nbformat": 4,
 "nbformat_minor": 2
}
