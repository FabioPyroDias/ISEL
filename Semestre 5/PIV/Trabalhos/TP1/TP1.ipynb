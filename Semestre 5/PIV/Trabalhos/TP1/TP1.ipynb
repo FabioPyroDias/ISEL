{
 "cells": [
  {
   "cell_type": "code",
   "execution_count": 145,
   "id": "9f639113",
   "metadata": {},
   "outputs": [],
   "source": [
    "import numpy as np\n",
    "import cv2\n",
    "import matplotlib.pyplot as plt"
   ]
  },
  {
   "cell_type": "markdown",
   "id": "ab30c0f1",
   "metadata": {},
   "source": [
    "## Métodos Auxiliares"
   ]
  },
  {
   "cell_type": "code",
   "execution_count": 277,
   "id": "d213b382",
   "metadata": {},
   "outputs": [],
   "source": [
    "def showImage(imageTitle, image, waitForKey):\n",
    "    cv2.imshow(imageTitle, image)\n",
    "    \n",
    "    if waitForKey:\n",
    "        cv2.waitKey()\n",
    "        cv2.destroyAllWindows()\n",
    "    \n",
    "def showImageArray(tituloArray, arrayImagens):\n",
    "    for index in range(len(arrayImagens)):\n",
    "        if index == len(arrayImagens) - 1:\n",
    "            showImage(tituloArray + \": \" + str(index), arrayImagens[index], True)\n",
    "        else:\n",
    "            showImage(tituloArray + \": \" + str(index), arrayImagens[index], False)\n",
    "            \n",
    "def classificadorMoedas(areaMoeda):\n",
    "    \n",
    "    #Moeda 0.01\n",
    "    if areaMoeda >= 5600 and areaMoeda <= 6000:\n",
    "        return moedas.get(\"Moeda 0.01\"), 0.01\n",
    "    \n",
    "    #Moeda 0.02\n",
    "    if areaMoeda >= 8400 and areaMoeda <= 9000:\n",
    "        return moedas.get(\"Moeda 0.02\"), 0.02\n",
    "    \n",
    "    #Moeda 0.05\n",
    "    if areaMoeda >= 11000 and areaMoeda <= 12000:\n",
    "        return moedas.get(\"Moeda 0.05\"), 0.05\n",
    "    \n",
    "    #Moeda 0.10\n",
    "    if areaMoeda >= 9400 and areaMoeda <= 10500:\n",
    "        return moedas.get(\"Moeda 0.10\"), 0.10\n",
    "    \n",
    "    #Moeda 0.20\n",
    "    if areaMoeda >= 12500 and areaMoeda <= 13500:\n",
    "        return moedas.get(\"Moeda 0.20\"), 0.20\n",
    "    \n",
    "    #Moeda 0.50\n",
    "    if areaMoeda >= 15800 and areaMoeda <= 16700:\n",
    "        return moedas.get(\"Moeda 0.50\"), 0.50\n",
    "    \n",
    "    #Moeda 1.00\n",
    "    if areaMoeda >= 14100 and areaMoeda <= 15300:\n",
    "        return moedas.get(\"Moeda 1.00\"), 1.0\n",
    "    \n",
    "    #Moeda 2.00\n",
    "    if areaMoeda >= 17000 and areaMoeda <= 18600:\n",
    "        return moedas.get(\"Moeda 2.00\"), 2.0"
   ]
  },
  {
   "cell_type": "markdown",
   "id": "632cc2f3",
   "metadata": {},
   "source": [
    "## Carregar Imagens"
   ]
  },
  {
   "cell_type": "code",
   "execution_count": 147,
   "id": "4be319e4",
   "metadata": {},
   "outputs": [],
   "source": [
    "numberOfImages = 9\n",
    "imagensOriginais = [None] * numberOfImages\n",
    "initialIndex = 1000697\n",
    "currentIndex = initialIndex\n",
    "\n",
    "for index in range(numberOfImages):\n",
    "    while imagensOriginais[index] is None:\n",
    "        imagensOriginais[index] = cv2.imread(\"P\" + str(currentIndex) + \"s.jpg\")\n",
    "        currentIndex = currentIndex + 1"
   ]
  },
  {
   "cell_type": "markdown",
   "id": "3fd8316a",
   "metadata": {},
   "source": [
    "## Obter o Canal RED das Imagens"
   ]
  },
  {
   "cell_type": "code",
   "execution_count": 148,
   "id": "6026f051",
   "metadata": {},
   "outputs": [],
   "source": [
    "imagensCanalRED = [None] * numberOfImages\n",
    "\n",
    "for index in range(numberOfImages):\n",
    "    imagensCanalRED[index] = imagensOriginais[index][:, :, 2]"
   ]
  },
  {
   "cell_type": "markdown",
   "id": "bf405cb5",
   "metadata": {},
   "source": [
    "## Obter Thresholds e Imagens Binárias"
   ]
  },
  {
   "cell_type": "code",
   "execution_count": 149,
   "id": "4231f662",
   "metadata": {},
   "outputs": [],
   "source": [
    "imagensBinarias = [None] * numberOfImages\n",
    "imagensThresholds = [None] * numberOfImages\n",
    "\n",
    "for index in range(numberOfImages):\n",
    "    imagensThresholds[index], imagensBinarias[index] = cv2.threshold(imagensCanalRED[index], 0, 255, cv2.THRESH_BINARY + cv2.THRESH_OTSU)"
   ]
  },
  {
   "cell_type": "code",
   "execution_count": 150,
   "id": "e9259409",
   "metadata": {},
   "outputs": [
    {
     "name": "stdout",
     "output_type": "stream",
     "text": [
      "[134.0, 140.0, 142.0, 117.0, 144.0, 144.0, 142.0, 119.0, 144.0]\n"
     ]
    }
   ],
   "source": [
    "print(imagensThresholds)"
   ]
  },
  {
   "cell_type": "code",
   "execution_count": 151,
   "id": "5e1b165f",
   "metadata": {},
   "outputs": [],
   "source": [
    "imagensBinarias = [None] * numberOfImages\n",
    "imagensThresholds = [None] * numberOfImages\n",
    "\n",
    "for index in range(numberOfImages):\n",
    "    imagensThresholds[index], imagensBinarias[index] = cv2.threshold(imagensCanalRED[index], 100, 255, cv2.THRESH_BINARY)"
   ]
  },
  {
   "cell_type": "markdown",
   "id": "b947fbbb",
   "metadata": {},
   "source": [
    "## Elementos Estruturantes"
   ]
  },
  {
   "cell_type": "code",
   "execution_count": 152,
   "id": "9946cf8c",
   "metadata": {},
   "outputs": [],
   "source": [
    "maskClose = cv2.getStructuringElement(cv2.MORPH_ELLIPSE, (3, 3))\n",
    "maskErode = cv2.getStructuringElement(cv2.MORPH_ELLIPSE, (15, 15))\n",
    "maskDilate = cv2.getStructuringElement(cv2.MORPH_ELLIPSE, (11, 11))"
   ]
  },
  {
   "cell_type": "markdown",
   "id": "7ce3a0f3",
   "metadata": {},
   "source": [
    "## Aplicação das Operações Morfológicas"
   ]
  },
  {
   "cell_type": "code",
   "execution_count": 279,
   "id": "53b8e338",
   "metadata": {},
   "outputs": [],
   "source": [
    "imagensPosOperacoesMorfologicas = [None] * numberOfImages\n",
    "\n",
    "for index in range(numberOfImages):\n",
    "\n",
    "    imagensPosOperacoesMorfologicas[index] = cv2.morphologyEx(imagensBinarias[index], cv2.MORPH_CLOSE, maskDilate)\n",
    "    imagensPosOperacoesMorfologicas[index] = cv2.erode(imagensPosOperacoesMorfologicas[index], maskErode, iterations=7)    \n",
    "    imagensPosOperacoesMorfologicas[index] = cv2.dilate(imagensPosOperacoesMorfologicas[index], maskDilate, iterations=7)"
   ]
  },
  {
   "cell_type": "markdown",
   "id": "f07e50ad",
   "metadata": {},
   "source": [
    "## Criação das Máscaras das Moedas"
   ]
  },
  {
   "cell_type": "code",
   "execution_count": 284,
   "id": "dcd841b6",
   "metadata": {},
   "outputs": [],
   "source": [
    "valorMoedasOrdenado = [0.01, 0.02, 0.05, 0.10, 0.20, 0.50, 1.0, 2.0]\n",
    "moedas = {}\n",
    "\n",
    "for index in range(len(valorMoedasOrdenado)):\n",
    "    moeda = {\"Moeda \" + str(f\"{valorMoedasOrdenado[index]:.2f}\") : valorMoedasOrdenado[index]}\n",
    "    \n",
    "    moedas.update({\"Moeda \" + str(f\"{valorMoedasOrdenado[index]:.2f}\") : moeda})"
   ]
  },
  {
   "cell_type": "code",
   "execution_count": 285,
   "id": "65a1aed4",
   "metadata": {},
   "outputs": [
    {
     "data": {
      "text/plain": [
       "{'Moeda 0.01': {'Moeda 0.01': 0.01},\n",
       " 'Moeda 0.02': {'Moeda 0.02': 0.02},\n",
       " 'Moeda 0.05': {'Moeda 0.05': 0.05},\n",
       " 'Moeda 0.10': {'Moeda 0.10': 0.1},\n",
       " 'Moeda 0.20': {'Moeda 0.20': 0.2},\n",
       " 'Moeda 0.50': {'Moeda 0.50': 0.5},\n",
       " 'Moeda 1.00': {'Moeda 1.00': 1.0},\n",
       " 'Moeda 2.00': {'Moeda 2.00': 2.0}}"
      ]
     },
     "execution_count": 285,
     "metadata": {},
     "output_type": "execute_result"
    }
   ],
   "source": [
    "moedas"
   ]
  },
  {
   "cell_type": "markdown",
   "id": "50536e70",
   "metadata": {},
   "source": [
    "## Classficação das Moedas nas Imagens"
   ]
  },
  {
   "cell_type": "code",
   "execution_count": 286,
   "id": "1b2d4c64",
   "metadata": {
    "scrolled": false
   },
   "outputs": [],
   "source": [
    "valorImagens = [None] * numberOfImages\n",
    "valorTotalImagens = np.zeros(numberOfImages)\n",
    "\n",
    "for index in range(numberOfImages):\n",
    "    numLabels, labels, stats, centroids = cv2.connectedComponentsWithStats(imagensPosOperacoesMorfologicas[index], 8, cv2.CV_32S)\n",
    "\n",
    "    valorImagem = {}\n",
    "    valorTotal = 0\n",
    "    \n",
    "    for i in range(numLabels):\n",
    "        \n",
    "        if i != 0:\n",
    "            \n",
    "            area = stats[i, cv2.CC_STAT_AREA]            \n",
    "            valor = classificadorMoedas(area)\n",
    "                \n",
    "            if valor is not None:\n",
    "                valorImagem.update({\"moeda \" + str(i - 1) : valor[0]})\n",
    "                valorTotal = valorTotal + valor[1]\n",
    "    \n",
    "    valorImagens[index] = valorImagem\n",
    "    valorTotalImagens[index] = valorTotal"
   ]
  },
  {
   "cell_type": "markdown",
   "id": "468e4505",
   "metadata": {},
   "source": [
    "## Comparação com Valores Reais"
   ]
  },
  {
   "cell_type": "code",
   "execution_count": 287,
   "id": "c8ca485a",
   "metadata": {},
   "outputs": [
    {
     "name": "stdout",
     "output_type": "stream",
     "text": [
      "2.08 2.08\n",
      "1.33 1.33\n",
      "0.78 0.78\n",
      "0.67 0.67\n",
      "1.62 1.62\n",
      "1.67 1.67\n",
      "1.3 1.3\n",
      "1.3 1.3\n",
      "1.7 1.7\n"
     ]
    }
   ],
   "source": [
    "valoresReais = [2.08, 1.33, 0.78, 0.67, 1.62, 1.67, 1.30, 1.30, 1.70]\n",
    "\n",
    "for index in range(numberOfImages):\n",
    "    print(valoresReais[index], valorTotalImagens[index])"
   ]
  },
  {
   "cell_type": "markdown",
   "id": "8bec570a",
   "metadata": {},
   "source": [
    "## Cálculo para Moeda de 2 Euros"
   ]
  },
  {
   "cell_type": "code",
   "execution_count": 160,
   "id": "aff11720",
   "metadata": {},
   "outputs": [],
   "source": [
    "# Calculo da Area Real das Moedas\n",
    "areaCentimo1 = np.pi * (16.25/2)**2 #1 Centimo\n",
    "areaCentimo2 = np.pi * (18.75/2)**2 #2 Centimos\n",
    "areaCentimo5 = np.pi * (21.25/2)**2 #5 Centimos\n",
    "areaCentimo10 = np.pi * (19.75/2)**2 #10 Centimos\n",
    "areaCentimo20 = np.pi * (22.25/2)**2 #20 Centimos\n",
    "areaCentimo50 = np.pi * (24.25/2)**2 #50 Centimos\n",
    "areaEuro1 = np.pi * (23.25/2)**2 #1 Euro\n",
    "areaEuro2 = np.pi * (25.75/2)**2 #2 Euro\n",
    "\n",
    "# Area Minima das Moedas\n",
    "areaMinimaEuro2 = np.zeros(7)\n",
    "\n",
    "areaMinimaEuro2[0] = areaEuro2 * 5727. / areaCentimo1\n",
    "areaMinimaEuro2[1] = areaEuro2 * 8581. / areaCentimo2\n",
    "areaMinimaEuro2[2] = areaEuro2 * 11305. / areaCentimo5\n",
    "areaMinimaEuro2[3] = areaEuro2 * 9557. / areaCentimo10\n",
    "areaMinimaEuro2[4] = areaEuro2 * 12796. / areaCentimo20\n",
    "areaMinimaEuro2[5] = areaEuro2 * 16056. / areaCentimo50\n",
    "areaMinimaEuro2[6] = areaEuro2 * 14456. / areaEuro1\n",
    "\n",
    "# Area Maxima das Moedas\n",
    "areaMaximaEuro2 = np.zeros(7)\n",
    "\n",
    "areaMaximaEuro2[0] = areaEuro2 * 5910. / areaCentimo1\n",
    "areaMaximaEuro2[1] = areaEuro2 * 8842. / areaCentimo2\n",
    "areaMaximaEuro2[2] = areaEuro2 * 11731. / areaCentimo5\n",
    "areaMaximaEuro2[3] = areaEuro2 * 10078. / areaCentimo10\n",
    "areaMaximaEuro2[4] = areaEuro2 * 13444. / areaCentimo20\n",
    "areaMaximaEuro2[5] = areaEuro2 * 16434. / areaCentimo50\n",
    "areaMaximaEuro2[6] = areaEuro2 * 14941. / areaEuro1\n",
    "\n",
    "#Arranjar Minimos e Máximos para a Moeda de 2 Euros\n",
    "minimoEuro2 = np.min(areaMinimaEuro2[areaMinimaEuro2 > 16700])\n",
    "maximoEuro2 = np.max(areaMaximaEuro2[(areaMaximaEuro2 > minimoEuro2) & (areaMaximaEuro2 < 18600)])"
   ]
  },
  {
   "cell_type": "code",
   "execution_count": 161,
   "id": "0a1b40d4",
   "metadata": {},
   "outputs": [
    {
     "name": "stdout",
     "output_type": "stream",
     "text": [
      "17138.336573664943 18529.95068551387\n"
     ]
    }
   ],
   "source": [
    "print(minimoEuro2, maximoEuro2)"
   ]
  }
 ],
 "metadata": {
  "kernelspec": {
   "display_name": "Python 3",
   "language": "python",
   "name": "python3"
  },
  "language_info": {
   "codemirror_mode": {
    "name": "ipython",
    "version": 3
   },
   "file_extension": ".py",
   "mimetype": "text/x-python",
   "name": "python",
   "nbconvert_exporter": "python",
   "pygments_lexer": "ipython3",
   "version": "3.8.8"
  }
 },
 "nbformat": 4,
 "nbformat_minor": 5
}
