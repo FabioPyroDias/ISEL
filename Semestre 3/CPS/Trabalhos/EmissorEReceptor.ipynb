{
 "cells": [
  {
   "cell_type": "code",
   "execution_count": 2,
   "id": "5159a6fa",
   "metadata": {},
   "outputs": [],
   "source": [
    "import numpy as np\n",
    "import matplotlib.pyplot as plt"
   ]
  },
  {
   "cell_type": "markdown",
   "id": "afab5572",
   "metadata": {},
   "source": [
    "# Emissor"
   ]
  },
  {
   "cell_type": "markdown",
   "id": "f7259d93",
   "metadata": {},
   "source": [
    "#### Descrição\n",
    "\n",
    "Cria o Quantificador\n",
    "\n",
    "\n",
    "#### Parametros\n",
    "\n",
    "R - Número de Bits\n",
    "\n",
    "Vmax - Voltagem máxima para Quantificação do Sinal\n",
    "\n",
    "Qtype - Tipo de Codifacação (midrise ou midtread)\n",
    "\n",
    "\n",
    "#### Return\n",
    "Vq - Valores de Quantificação\n",
    "\n",
    "Iq - Intervalos de Decisão"
   ]
  },
  {
   "cell_type": "code",
   "execution_count": 11,
   "id": "8dda8f47",
   "metadata": {},
   "outputs": [],
   "source": [
    "def Quantific(R,Vmax,Qtype):\n",
    "    \n",
    "    if Qtype != \"midrise\" and Qtype != \"midtread\":\n",
    "\n",
    "        print(\"Tipo de Quantificador inserido não válido\")\n",
    "\n",
    "        return\n",
    "    \n",
    "    delta = (2*Vmax) / 2**R\n",
    "    \n",
    "    if Qtype == \"midrise\":\n",
    "        \n",
    "        Iq = np.arange(-Vmax + delta, Vmax + delta, delta)\n",
    "\n",
    "        Vq = np.arange(-Vmax + (delta/2), Vmax + (delta/2), delta)\n",
    "    \n",
    "    else:\n",
    "        \n",
    "        Iq = np.arange(-Vmax + (delta/2), Vmax, delta)\n",
    "        \n",
    "        Vq = np.arange(-Vmax + delta, Vmax + delta, delta)\n",
    "\n",
    "    return Vq, Iq"
   ]
  },
  {
   "cell_type": "markdown",
   "id": "0b71a48b",
   "metadata": {},
   "source": [
    "#### Descrição\n",
    "\n",
    "Quantifica o Sinal Analógico\n",
    "\n",
    "\n",
    "#### Parametros\n",
    "\n",
    "Rx - Sinal Analógico\n",
    "\n",
    "Vq - Valores de Quantificação\n",
    "\n",
    "Iq - Intervalos de Decisão\n",
    "\n",
    "\n",
    "#### Return\n",
    "\n",
    "xq - Sinal Quantificado\n",
    "\n",
    "iq - Indices de Quantificação"
   ]
  },
  {
   "cell_type": "code",
   "execution_count": 5,
   "id": "6eb1ad2c",
   "metadata": {},
   "outputs": [],
   "source": [
    "def Quantificador(Rx, Vq, Iq):\n",
    "    \n",
    "    xq = np.zeros(len(Rx))\n",
    "    iq = np.zeros(len(Rx), dtype=\"int\")\n",
    "\n",
    "    indexQuantificado = 0\n",
    "    \n",
    "    for valorDoSinal in Rx:\n",
    "    \n",
    "        indexIntervalos = 0\n",
    "        \n",
    "        for intervaloDecisao in Iq:\n",
    "\n",
    "            if valorDoSinal <= intervaloDecisao:\n",
    "                xq[indexQuantificado] = Vq[indexIntervalos]\n",
    "                iq[indexQuantificado] = indexIntervalos\n",
    "                indexQuantificado += 1\n",
    "                break\n",
    "                \n",
    "            if indexIntervalos >= len(Iq) - 1:\n",
    "                xq[indexQuantificado] = Vq[indexIntervalos]\n",
    "                iq[indexQuantificado] = indexIntervalos\n",
    "                indexQuantificado += 1\n",
    "                break\n",
    "            \n",
    "            indexIntervalos += 1\n",
    "                \n",
    "    return xq, iq"
   ]
  },
  {
   "cell_type": "markdown",
   "id": "1751e936",
   "metadata": {},
   "source": [
    "# Receptor"
   ]
  },
  {
   "cell_type": "markdown",
   "id": "d9bbc00b",
   "metadata": {},
   "source": [
    "#### Descrição\n",
    "\n",
    "Retorna o Sinal Quantificado\n",
    "\n",
    "\n",
    "#### Parametros\n",
    "\n",
    "Vq - Valores de Quantificação\n",
    "\n",
    "iq - Indices de Quantificação\n",
    "\n",
    "\n",
    "#### Return\n",
    "\n",
    "xq - Sinal Quantificado"
   ]
  },
  {
   "cell_type": "code",
   "execution_count": 12,
   "id": "83045c13",
   "metadata": {},
   "outputs": [],
   "source": [
    "def Desquantificador(Vq, iq):\n",
    "    xq = np.zeros(len(iq))\n",
    "    \n",
    "    for valor in range(len(iq)):\n",
    "        xq[valor] = Vq[iq[valor]]\n",
    "        \n",
    "    return xq"
   ]
  },
  {
   "cell_type": "markdown",
   "id": "6ba649d4",
   "metadata": {},
   "source": [
    "# Utilidades"
   ]
  },
  {
   "cell_type": "markdown",
   "id": "77a13160",
   "metadata": {},
   "source": [
    "#### Descrição\n",
    "\n",
    "SNR Prático\n",
    "\n",
    "\n",
    "#### Parametros\n",
    "\n",
    "x - Sinal 1\n",
    "\n",
    "y - Sinal 2\n",
    "\n",
    "\n",
    "#### Return\n",
    "\n",
    "SNRp - Valor do SNR Prático"
   ]
  },
  {
   "cell_type": "code",
   "execution_count": 9,
   "id": "48a331a6",
   "metadata": {},
   "outputs": [],
   "source": [
    "def Measure_SNRp(x,y):\n",
    "    \n",
    "    erro = x - y\n",
    "    \n",
    "    potenciaSinal = np.sum(x**2.0)/len(x)\n",
    "    potenciaErro = np.sum(erro**2.0)/len(erro)\n",
    "    \n",
    "    SNRp = 10*np.log10(potenciaSinal / potenciaErro)\n",
    "    \n",
    "    # resposta\n",
    "    return SNRp"
   ]
  },
  {
   "cell_type": "markdown",
   "id": "e617a6ff",
   "metadata": {},
   "source": [
    "#### Descrição\n",
    "\n",
    "SNR Teórico\n",
    "\n",
    "\n",
    "#### Parametros\n",
    "\n",
    "R - Número de Bits\n",
    "\n",
    "Vmax - Voltagem Máxima de Quantificação do Sinal\n",
    "\n",
    "P - Potência do Sinal\n",
    "\n",
    "\n",
    "#### Return\n",
    "\n",
    "SNRt - SNR Teórico"
   ]
  },
  {
   "cell_type": "code",
   "execution_count": 10,
   "id": "74b493e5",
   "metadata": {},
   "outputs": [],
   "source": [
    "def Measure_SNRt(R,Vmax,P):\n",
    "    \n",
    "    SNRt = 6.02*R + 10*np.log10((3*P)/Vmax**2.0)\n",
    "    \n",
    "    #resposta\n",
    "    return SNRt"
   ]
  },
  {
   "cell_type": "markdown",
   "id": "3ec96af2",
   "metadata": {},
   "source": [
    "# Exportar para .py"
   ]
  },
  {
   "cell_type": "markdown",
   "id": "c04457b4",
   "metadata": {},
   "source": [
    "Descomentar e Ctrl + Enter"
   ]
  },
  {
   "cell_type": "code",
   "execution_count": 2,
   "id": "d4d0af4b",
   "metadata": {},
   "outputs": [],
   "source": [
    "# !jupyter nbconvert --to script EmissorEReceptor.ipynb"
   ]
  }
 ],
 "metadata": {
  "kernelspec": {
   "display_name": "Python 3",
   "language": "python",
   "name": "python3"
  },
  "language_info": {
   "codemirror_mode": {
    "name": "ipython",
    "version": 3
   },
   "file_extension": ".py",
   "mimetype": "text/x-python",
   "name": "python",
   "nbconvert_exporter": "python",
   "pygments_lexer": "ipython3",
   "version": "3.8.8"
  }
 },
 "nbformat": 4,
 "nbformat_minor": 5
}
