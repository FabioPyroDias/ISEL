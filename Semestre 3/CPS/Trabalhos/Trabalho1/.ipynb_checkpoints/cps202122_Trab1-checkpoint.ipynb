{
 "cells": [
  {
   "cell_type": "markdown",
   "metadata": {},
   "source": [
    "# ISEL - CPS \n",
    "## Semestre 2021/21\n",
    "# <br>\n",
    "###  <center> Trabalho Prático 1 </center>\n",
    "# </br>\n",
    "\n",
    "\n",
    "Trabalho realizado por:\n",
    "* Fábio Dias, numero <b> 42921 </b>\n",
    "* Jorge Silva, numero <b> 44615 </b>\n",
    "\n",
    " \n"
   ]
  },
  {
   "cell_type": "markdown",
   "metadata": {},
   "source": [
    "A figura representa o esquema típico do processo de envio e recepção de informação usando modulações\n",
    "digitais.\n",
    "\n",
    "![fig_trab](esquemaCPS.png)\n",
    "\n",
    "O 1º trabalho foca os blocos de amostragem, reconstrução do sinal e Quantificação e Desquantificação do sinal.\n",
    "\n",
    "\n"
   ]
  },
  {
   "cell_type": "markdown",
   "metadata": {},
   "source": [
    "# Amostragem\n",
    "\n",
    "1. Considere o sinal $x(t) = 20000 cos(2\\pi 5025 t) + 10000 sin(2\\pi 2507 t)$. Estude o sinal teoricamente. Apresente a expressão do espetro do sinal e represente numa figura o espectro de Amplitude e de Fase do sinal.\n"
   ]
  },
  {
   "cell_type": "markdown",
   "metadata": {},
   "source": [
    "Após as transformações necessárias, o sinal fica $x(t) = 20000 cos(2\\pi 5025 t) + 10000 cos(2\\pi 2507 t - \\pi/2)$"
   ]
  },
  {
   "cell_type": "markdown",
   "metadata": {},
   "source": [
    "<h3><center>Espectro de Amplitudes</center></h3>\n",
    "\n",
    "![EspectroAmplitudeOriginal](Imagens/EspectroAmplitudes.jpg)"
   ]
  },
  {
   "cell_type": "markdown",
   "metadata": {},
   "source": [
    "<h3><center>Espectro de Fase</center></h3>\n",
    "\n",
    "![EspectroFaseOriginal](Imagens/EspectroFase.jpg)"
   ]
  },
  {
   "cell_type": "markdown",
   "metadata": {},
   "source": [
    "2. Gere o sinal $x(t)$ usando o Python. Cnsidere o intervalo de tempo $0 < t < 1\\,ms$, e a frequência de amostragem de 48KHz. Apresente numa figura o sinal no domínio do tempo e noutra figura o seu espetro de amplitude.\n"
   ]
  },
  {
   "cell_type": "code",
   "execution_count": 2,
   "metadata": {},
   "outputs": [
    {
     "data": {
      "text/plain": [
       "Text(0.5, 1.0, 'Espectro de Amplitudes')"
      ]
     },
     "execution_count": 2,
     "metadata": {},
     "output_type": "execute_result"
    },
    {
     "data": {
      "image/png": "[encoded data removed]",
      "text/plain": [
       "<Figure size 432x288 with 2 Axes>"
      ]
     },
     "metadata": {
      "needs_background": "light"
     },
     "output_type": "display_data"
    }
   ],
   "source": [
    "import numpy as np\n",
    "import matplotlib.pyplot as plt\n",
    "\n",
    "Fs = 48000\n",
    "Ts = 1 / Fs\n",
    "\n",
    "t = np.arange(0, 0.001, Ts)\n",
    "x = 20000 * np.cos(2 * np.pi * 5025 * t) + 10000 * np.sin(2 * np.pi * 2507 * t)\n",
    "\n",
    "f = np.arange(0, Fs, Fs/len(x))\n",
    "\n",
    "fig, axs = plt.subplots(2)\n",
    "fig.tight_layout(pad=3.0)\n",
    "\n",
    "axs[0].plot(t, x)\n",
    "axs[0].set_title(\"Sinal\")\n",
    "\n",
    "y = np.fft.fft(x)\n",
    "\n",
    "axs[1].plot(f, np.abs(y))\n",
    "axs[1].set_title(\"Espectro de Amplitudes\")"
   ]
  },
  {
   "cell_type": "markdown",
   "metadata": {},
   "source": [
    "3. Admitindo que faz a amostragem do sinal com uma frequência $f_s = 8kHz$, represente o espectro do sinal amostrado. Comente os resultados apresentados."
   ]
  },
  {
   "cell_type": "markdown",
   "metadata": {},
   "source": [
    "<b>Resposta:</b> O sinal amostrado apresenta intercepções com as frequências das réplicas.\n",
    "Isto porque a <b>Frequência de Amostragem</b> é demasiado baixa.\n",
    "\n",
    "De forma a evitar isto, a <b>Frequência de Amostragem</b> deve ser maior que duas vezes a frequência máxima do sinal. $f_s > 2frequenciaMaxima$\n",
    "\n",
    "<h3><center>Espectro de Amplitudes com Réplicas</center></h3>\n",
    "\n",
    "![EspectroAmplitudesAmostrado](Imagens/EspectroAmplitudesComReplicas.jpg)"
   ]
  },
  {
   "cell_type": "markdown",
   "metadata": {},
   "source": [
    "# Quantificação\n",
    "\n",
    "4. Construa uma função em Python que crie as tabelas com os intervalos de decisão e valores de quantificação para um quantificador uniforme. \n",
    "\n",
    "    Esta função tem como parâmetros de entrada o número de bits por amostra (R), o valor máximo a quantificar (Vmax) e o tipo de quantificador (midrse ou midtread). Como parâmetros de saída tem dois Numpy arrays com valores de quantificação e os intervalos de decisão."
   ]
  },
  {
   "cell_type": "code",
   "execution_count": 3,
   "metadata": {},
   "outputs": [],
   "source": [
    "import numpy as np\n",
    "import matplotlib.pyplot as plt\n",
    "\n",
    "def Quantific(R,Vmax,Qtype):\n",
    "    \n",
    "    if Qtype != \"midrise\" and Qtype != \"midtread\":\n",
    "\n",
    "        print(\"Tipo de Quantificador inserido não válido\")\n",
    "\n",
    "        return\n",
    "    \n",
    "    delta = (2*Vmax) / 2**R\n",
    "    \n",
    "    if Qtype == \"midrise\":\n",
    "        \n",
    "        Iq = np.arange(-Vmax + delta, Vmax + delta, delta)\n",
    "\n",
    "        Vq = np.arange(-Vmax + (delta/2), Vmax + (delta/2), delta)\n",
    "    \n",
    "    else:\n",
    "        \n",
    "        Iq = np.arange(-Vmax + (delta/2), Vmax, delta)\n",
    "        \n",
    "        Vq = np.arange(-Vmax + delta, Vmax + delta, delta)\n",
    "\n",
    "    return Vq, Iq"
   ]
  },
  {
   "cell_type": "markdown",
   "metadata": {},
   "source": [
    "   Verifique se a sua implementação está correta.\n",
    "   Admita que $R=3$ e $Vmax=1$, para uma quantificação midtread."
   ]
  },
  {
   "cell_type": "code",
   "execution_count": 4,
   "metadata": {},
   "outputs": [
    {
     "name": "stdout",
     "output_type": "stream",
     "text": [
      "[-0.75 -0.5  -0.25  0.    0.25  0.5   0.75  1.  ]\n",
      "[-0.875 -0.625 -0.375 -0.125  0.125  0.375  0.625  0.875]\n"
     ]
    }
   ],
   "source": [
    "Vq, Iq = Quantific(3,1,'midtread')\n",
    "\n",
    "print(Vq)\n",
    "print(Iq)"
   ]
  },
  {
   "cell_type": "markdown",
   "metadata": {},
   "source": [
    "Implemente uma função que realize a quantificação:"
   ]
  },
  {
   "cell_type": "code",
   "execution_count": 5,
   "metadata": {},
   "outputs": [],
   "source": [
    "# Função que implementa o Quantificador\n",
    "# in: \n",
    "# x - sinal com amostras (nao quantificadas)\n",
    "# Vq, Iq - valores de quantificação e intervalos de decisão\n",
    "# out: \n",
    "# xq - sinal quantificado\n",
    "# iq - indices do sinal quantificado\n",
    "# prototipo da função\n",
    "# xq, iq = Quantificador(x, Vq, Iq)\n",
    "def Quantificador(Rx, Vq, Iq):\n",
    "    \n",
    "    xq = np.zeros(len(Rx))\n",
    "    iq = np.zeros(len(Rx), dtype=\"int\")\n",
    "\n",
    "    indexQuantificado = 0\n",
    "    \n",
    "    for valorDoSinal in Rx:\n",
    "    \n",
    "        indexIntervalos = 0\n",
    "        \n",
    "        for intervaloDecisao in Iq:\n",
    "\n",
    "            if valorDoSinal <= intervaloDecisao:\n",
    "                xq[indexQuantificado] = Vq[indexIntervalos]\n",
    "                iq[indexQuantificado] = indexIntervalos\n",
    "                indexQuantificado += 1\n",
    "                break\n",
    "                \n",
    "            if indexIntervalos >= len(Iq) - 1:\n",
    "                xq[indexQuantificado] = Vq[indexIntervalos]\n",
    "                iq[indexQuantificado] = indexIntervalos\n",
    "                indexQuantificado += 1\n",
    "                break\n",
    "            \n",
    "            indexIntervalos += 1\n",
    "                \n",
    "    return xq, iq"
   ]
  },
  {
   "cell_type": "code",
   "execution_count": 6,
   "metadata": {},
   "outputs": [
    {
     "name": "stdout",
     "output_type": "stream",
     "text": [
      "Valores de Quantificação:  [-0.75 -0.25  0.25  0.75]\n",
      "Intervalos de Decisão:  [-0.5  0.   0.5  1. ]\n",
      "Valor do Sinal:  [0.1, 0.8, -0.3, -0.9, 1.1]\n",
      "Sinal Quantificado:  [ 0.25  0.75 -0.25 -0.75  0.75]\n",
      "Indices de Quantificação:  [2 3 1 0 3]\n"
     ]
    }
   ],
   "source": [
    "# testes unitarios\n",
    "quantificador = Quantific(2, 1, \"midrise\")\n",
    "sinal = [0.1, 0.8, -0.3, -0.9, 1.1]\n",
    "sinalQuantificado = Quantificador(sinal, quantificador[0], quantificador[1])\n",
    "\n",
    "print(\"Valores de Quantificação: \", quantificador[0])\n",
    "print(\"Intervalos de Decisão: \", quantificador[1])\n",
    "print(\"Valor do Sinal: \", sinal)\n",
    "print(\"Sinal Quantificado: \", sinalQuantificado[0])\n",
    "print(\"Indices de Quantificação: \", sinalQuantificado[1])"
   ]
  },
  {
   "cell_type": "markdown",
   "metadata": {},
   "source": [
    "Construa um sinal de rampa $x(t)= 1000t\\Pi\\left(\\frac{t-0.5\\times10^{-3}}{10^{-3}}\\right)$, no intervalo $0<t<1\\,ms$.\n",
    "Represente o sinal x(t), o sinal quantificado e o sinal de erro."
   ]
  },
  {
   "cell_type": "code",
   "execution_count": 7,
   "metadata": {},
   "outputs": [
    {
     "data": {
      "text/plain": [
       "Text(0.5, 1.0, 'Erro')"
      ]
     },
     "execution_count": 7,
     "metadata": {},
     "output_type": "execute_result"
    },
    {
     "data": {
      "image/png": "[encoded data removed]",
      "text/plain": [
       "<Figure size 432x288 with 1 Axes>"
      ]
     },
     "metadata": {
      "needs_background": "light"
     },
     "output_type": "display_data"
    }
   ],
   "source": [
    "#t = np.arange(0, .001, 0.0001)\n",
    "#x = 1000 * t * np.pi*((t - (0.5*pow(10, -3))/pow(10, -3)))\n",
    "\n",
    "x = np.arange(-1, 1, 0.001)\n",
    "\n",
    "Vmax = np.max(np.abs(x))\n",
    "\n",
    "Vq, Iq = Quantific(3, Vmax, \"midrise\")\n",
    "xq = Quantificador(x, Vq, Iq)[0]\n",
    "erro = x - xq\n",
    "\n",
    "plt.plot(x)\n",
    "plt.title(\"Sinal\")\n",
    "\n",
    "plt.plot(xq)\n",
    "plt.title(\"Sinal Quantizado\")\n",
    "\n",
    "plt.plot(erro)\n",
    "plt.title(\"Erro\")"
   ]
  },
  {
   "cell_type": "markdown",
   "metadata": {},
   "source": [
    "Represente o histograma do sinal de erro. Comente os resultados."
   ]
  },
  {
   "cell_type": "code",
   "execution_count": 17,
   "metadata": {},
   "outputs": [
    {
     "data": {
      "image/png": "[encoded data removed]",
      "text/plain": [
       "<Figure size 432x288 with 1 Axes>"
      ]
     },
     "metadata": {
      "needs_background": "light"
     },
     "output_type": "display_data"
    }
   ],
   "source": [
    "def Histograma(sinalOriginal, sinalQuantizado, numeroDeAmostras):\n",
    "    sinalDeErro = sinalOriginal - sinalQuantizado\n",
    "\n",
    "    plt.hist(sinalDeErro, bins=numeroDeAmostras)\n",
    "    \n",
    "x = np.arange(-1, 1, 0.01)\n",
    "\n",
    "Vq, Iq = Quantific(3,4,\"midrise\")\n",
    "xq = Quantificador(x, Vq, Iq)[0]\n",
    "\n",
    "Histograma(x, xq, 10)"
   ]
  },
  {
   "cell_type": "markdown",
   "metadata": {},
   "source": [
    "<b>Resposta:</b> Pelo histograma apresentado acima, é possível "
   ]
  },
  {
   "cell_type": "markdown",
   "metadata": {},
   "source": [
    "5. Implemente uma função que realize a desquantificação:"
   ]
  },
  {
   "cell_type": "code",
   "execution_count": 9,
   "metadata": {},
   "outputs": [
    {
     "data": {
      "text/plain": [
       "[<matplotlib.lines.Line2D at 0x189621a6fa0>]"
      ]
     },
     "execution_count": 9,
     "metadata": {},
     "output_type": "execute_result"
    },
    {
     "data": {
      "image/png": "[encoded data removed]",
      "text/plain": [
       "<Figure size 432x288 with 1 Axes>"
      ]
     },
     "metadata": {
      "needs_background": "light"
     },
     "output_type": "display_data"
    }
   ],
   "source": [
    "#Recebo Valores de Quantificacao (VQ), Indices do Sinal Quantificado (iq) e retorno o sinal quantificado (xq)\n",
    "def Desquantificador(Vq, iq):\n",
    "    xq = np.zeros(len(iq))\n",
    "    \n",
    "    for valor in range(len(iq)):\n",
    "        xq[valor] = Vq[iq[valor]]\n",
    "        \n",
    "    return xq\n",
    "\n",
    "x = np.arange(-1, 1, 0.01)\n",
    "\n",
    "Vq, Iq = Quantific(3, 4, \"midrise\")\n",
    "\n",
    "xq, iq = Quantificador(x, Vq, Iq)\n",
    "\n",
    "yq = Desquantificador(Vq, iq)\n",
    "\n",
    "plt.plot(x)\n",
    "plt.plot(xq)\n",
    "plt.plot(yq)"
   ]
  },
  {
   "cell_type": "markdown",
   "metadata": {},
   "source": [
    "Crie uma função que meça o SNR prático, ou seja, medindo a potência do sinal e a potência do sinal de erro."
   ]
  },
  {
   "cell_type": "code",
   "execution_count": 10,
   "metadata": {},
   "outputs": [
    {
     "name": "stdout",
     "output_type": "stream",
     "text": [
      "18.04814164678492\n"
     ]
    }
   ],
   "source": [
    "def Measure_SNRp(x,y):\n",
    "    \n",
    "    erro = x - y\n",
    "    \n",
    "    potenciaSinal = np.sum(x**2.0)/len(x)\n",
    "    potenciaErro = np.sum(erro**2.0)/len(erro)\n",
    "    \n",
    "    SNRp = 10*np.log10(potenciaSinal / potenciaErro)\n",
    "    \n",
    "    # resposta\n",
    "    return SNRp\n",
    "\n",
    "x = np.arange(-1, 1, 0.01)\n",
    "\n",
    "Vmax = np.max(np.abs(x))\n",
    "\n",
    "Vq, Iq = Quantific(3, Vmax, \"midrise\")\n",
    "\n",
    "xq, iq = Quantificador(x, Vq, Iq)\n",
    "\n",
    "snrP = Measure_SNRp(x, xq)\n",
    "\n",
    "print(snrP)"
   ]
  },
  {
   "cell_type": "markdown",
   "metadata": {},
   "source": [
    "Crie uma função que calcule o SNR para o caso da quantificação uniforme.\n",
    "\n",
    "$SNRt_{dB}= 6,02 \\times N_b + 10 \\log_{10} \\frac{3 P_x}{V_{max}}$"
   ]
  },
  {
   "cell_type": "code",
   "execution_count": 11,
   "metadata": {},
   "outputs": [
    {
     "data": {
      "text/plain": [
       "18.06021714181246"
      ]
     },
     "execution_count": 11,
     "metadata": {},
     "output_type": "execute_result"
    }
   ],
   "source": [
    "def Measure_SNRt(R,Vmax,P):\n",
    "    \n",
    "    SNRt = 6.02*R + 10*np.log10((3*P)/Vmax**2.0)\n",
    "    \n",
    "    #resposta\n",
    "    return SNRt\n",
    "\n",
    "x = np.arange(-1, 1, 0.01)\n",
    "potenciaSinal = np.sum(x**2.0)/len(x)\n",
    "\n",
    "Vmax = np.max(np.abs(x))\n",
    "\n",
    "Measure_SNRt(3, Vmax, potenciaSinal)"
   ]
  },
  {
   "cell_type": "markdown",
   "metadata": {},
   "source": [
    "Considere o sinal de rampa já implementado.\n",
    "Realize a quantificação do sinal x(t) para cada valor de R={3,4,5,6,7,8}.\n",
    "Meça a SNR prática e o valor teórico. \n",
    "Construa um gráfico com ambos os valores da SNR teórica e medida em função do número de bits R. Comente os resultados."
   ]
  },
  {
   "cell_type": "code",
   "execution_count": 12,
   "metadata": {},
   "outputs": [
    {
     "name": "stdout",
     "output_type": "stream",
     "text": [
      "[18.04814165 24.06874156 30.08934147 36.10994139 42.1305413  48.15114121]\n",
      "[18.06021714 24.08021714 30.10021714 36.12021714 42.14021714 48.16021714]\n"
     ]
    },
    {
     "data": {
      "text/plain": [
       "[<matplotlib.lines.Line2D at 0x18962218520>]"
      ]
     },
     "execution_count": 12,
     "metadata": {},
     "output_type": "execute_result"
    },
    {
     "data": {
      "image/png": "[encoded data removed]",
      "text/plain": [
       "<Figure size 432x288 with 1 Axes>"
      ]
     },
     "metadata": {
      "needs_background": "light"
     },
     "output_type": "display_data"
    }
   ],
   "source": [
    "x = np.arange(-1, 1, 0.01)\n",
    "Vmax = np.max(np.abs(x))\n",
    "potenciaSinal = np.sum(x**2.0)/len(x)\n",
    "\n",
    "Rs = np.array([3, 4, 5, 6, 7, 8], dtype=\"int\")\n",
    "snrP = np.zeros(6)\n",
    "snrT = np.zeros(6)\n",
    "\n",
    "for R in Rs:\n",
    "    Vq, Iq = Quantific(R, Vmax, \"midrise\")\n",
    "\n",
    "    xq, iq = Quantificador(x, Vq, Iq)\n",
    "    \n",
    "    snrP[R - 3] = Measure_SNRp(x, xq)\n",
    "    snrT[R - 3] = Measure_SNRt(R, Vmax, potenciaSinal)\n",
    "\n",
    "print(snrP)\n",
    "print(snrT)\n",
    "    \n",
    "plt.plot(Rs, snrP)\n",
    "plt.plot(Rs, snrT)"
   ]
  },
  {
   "cell_type": "markdown",
   "metadata": {},
   "source": [
    "<b>Resposta: </b> A definição do SNR, <i>Signal To Noise Ration</i>, é quantas o sinal se sobrepoem ao ruído existente no mundo. Mas, neste caso, comparamos o sinal original ao sinal quantificado e o ruído é o erro de quantificação.\n",
    "\n",
    "Pelo gráfico apresentado acima, podemos concluir que, neste caso, tanto o SNR prático como o teórico são iguais.\n",
    "O que também podemos analisar é o número de vezes que o sinal se sobrepoem ao ruído à medida que o número de bits usado na quantificação é aumentado. Com apenas 3 bits, o sinal é pouco mais de 18 vezes mais presente que o ruído, enquanto com 8 bits, o sinal alcança 48 vezes mais que o ruído."
   ]
  },
  {
   "cell_type": "markdown",
   "metadata": {},
   "source": [
    "Grave um sinal de voz através do microfone com aproximadamente um segundo de duração. Faça a leitura do ficheiro de aúdio previamente gravado para um Numpy array. Apresente o sinal em função do tempo."
   ]
  },
  {
   "cell_type": "code",
   "execution_count": 13,
   "metadata": {},
   "outputs": [
    {
     "data": {
      "text/plain": [
       "[<matplotlib.lines.Line2D at 0x189624c17f0>,\n",
       " <matplotlib.lines.Line2D at 0x189624c18b0>]"
      ]
     },
     "execution_count": 13,
     "metadata": {},
     "output_type": "execute_result"
    },
    {
     "data": {
      "image/png": "[encoded data removed]",
      "text/plain": [
       "<Figure size 432x288 with 1 Axes>"
      ]
     },
     "metadata": {
      "needs_background": "light"
     },
     "output_type": "display_data"
    }
   ],
   "source": [
    "from scipy.io import wavfile as wave\n",
    "\n",
    "samplingRate, audio = wave.read(\"Audios/AudioDeUmMinuto.wav\")\n",
    "\n",
    "time = np.arange(0, 1, 1/samplingRate)\n",
    "\n",
    "plt.plot(time, audio)"
   ]
  },
  {
   "cell_type": "markdown",
   "metadata": {},
   "source": [
    "Realize a quantificação do sinal de voz para cada valor de R={3,4,5,6,7,8}. Meça a SNR prática e o valor teórico (para determinar a potência no caso teórico deve usar o mesmo valor que na prática). Construa um gráfico com ambos os valores da SNR teórica e SNR medida em função do número de bits R. Comente os resultados."
   ]
  },
  {
   "cell_type": "code",
   "execution_count": 14,
   "metadata": {},
   "outputs": [
    {
     "name": "stdout",
     "output_type": "stream",
     "text": [
      "SNR Prático dos R's Pedidos:  [ 6.85005146 13.0498136  19.42233696 25.92133859 32.54710682 38.73646485]\n",
      "SNR Teórico dos R's Pedidos:  [ 9.02509537 15.04509537 21.06509537 27.08509537 33.10509537 39.12509537]\n",
      "\n"
     ]
    },
    {
     "data": {
      "image/png": "[encoded data removed]",
      "text/plain": [
       "<Figure size 432x288 with 1 Axes>"
      ]
     },
     "metadata": {
      "needs_background": "light"
     },
     "output_type": "display_data"
    }
   ],
   "source": [
    "x = wave.read(\"Audios/AudioDeUmMinuto.wav\")[1][:,0]\n",
    "Vmax = np.max(np.abs(x))\n",
    "potenciaSinal = np.sum(x**2.0)/len(x)\n",
    "\n",
    "RsPedidos = np.array([3, 4, 5, 6, 7, 8], dtype=\"int\")\n",
    "\n",
    "snrPRsPedidos = np.zeros(len(RsPedidos))\n",
    "snrTRsPedidos = np.zeros(len(RsPedidos))\n",
    "\n",
    "for R in RsPedidos:\n",
    "    Vq, Iq = Quantific(R, Vmax, \"midrise\")\n",
    "\n",
    "    xq, iq = Quantificador(x, Vq, Iq)\n",
    "    \n",
    "    snrPRsPedidos[R - 3] = Measure_SNRp(x, xq)\n",
    "    snrTRsPedidos[R - 3] = Measure_SNRt(R, Vmax, potenciaSinal)\n",
    "\n",
    "print(\"SNR Prático dos R's Pedidos: \", snrPRsPedidos)\n",
    "print(\"SNR Teórico dos R's Pedidos: \", snrTRsPedidos)\n",
    "print()\n",
    "\n",
    "plt.title(\"SNR's com R's Pedidos\")\n",
    "plt.plot(RsPedidos, snrPRsPedidos)\n",
    "plt.plot(RsPedidos, snrTRsPedidos)\n",
    "plt.legend([\"snrP\", \"snrT\"])\n",
    "plt.show()"
   ]
  },
  {
   "cell_type": "markdown",
   "metadata": {},
   "source": [
    "<b>Resposta: </b> Como previamente explicado o que é o SNR, neste caso, o SNR teórico apresenta melhores resultados que o SNR prático. Mas, como é possível observar, o SNR prático irá ultrapassar a qualidade do teórico usando mais bits.\n",
    "Não compensa o uso desses bits pois entre os cinco e os seis bits já observamos valores decentes, podendo assim poupar o tamanho da mensagem futura."
   ]
  },
  {
   "cell_type": "markdown",
   "metadata": {},
   "source": [
    "Faça a leitura do ficheiro de imagem. Teste o código a baixo com vários valores de Q. Descreva o que produz o\n",
    "código."
   ]
  },
  {
   "cell_type": "code",
   "execution_count": 15,
   "metadata": {},
   "outputs": [],
   "source": [
    "from PIL import Image\n",
    "Q = 5\n",
    "im = Image.open(\"lena.tiff\")\n",
    "type(im)\n",
    "im = im.quantize(Q)\n",
    "im.show()"
   ]
  },
  {
   "cell_type": "markdown",
   "metadata": {},
   "source": [
    "<b>Resposta:</b> Alterando os valores de Q, obtemos uma melhor ou pior qualidade de imagem. Quanto mais alto, melhor fica e, consequentemente, quanto menor, pior.\n",
    "Acredito que este valor é o número de cores que queremos que a imagem quantizada possua. Quantas mais cores, neste caso são as variações do cinzento, mais qualidade possui."
   ]
  }
 ],
 "metadata": {
  "kernelspec": {
   "display_name": "Python 3",
   "language": "python",
   "name": "python3"
  },
  "language_info": {
   "codemirror_mode": {
    "name": "ipython",
    "version": 3
   },
   "file_extension": ".py",
   "mimetype": "text/x-python",
   "name": "python",
   "nbconvert_exporter": "python",
   "pygments_lexer": "ipython3",
   "version": "3.8.8"
  }
 },
 "nbformat": 4,
 "nbformat_minor": 2
}
