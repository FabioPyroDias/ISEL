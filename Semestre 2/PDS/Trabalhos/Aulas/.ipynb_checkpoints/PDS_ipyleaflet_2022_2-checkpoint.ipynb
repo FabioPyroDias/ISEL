{
 "cells": [
  {
   "cell_type": "markdown",
   "metadata": {},
   "source": [
    "#  <center> ISEL </center>\n",
    "#  <center> Licenciatura em Informática e Multimédia </center>\n",
    "## <center> Processamento Digital de Sinais </center>\n",
    "##  <center> 2º Semestre 2021/22</center>\n",
    "\n",
    "# Sumário\n",
    "* ipyleaflet e geojson\n"
   ]
  },
  {
   "cell_type": "markdown",
   "metadata": {},
   "source": [
    "# ipyleafleat\n",
    "https://ipyleaflet.readthedocs.io/en/latest/\n",
    "\n",
    "pdf: \n",
    "https://readthedocs.org/projects/ipyleaflet/downloads/pdf/stable/"
   ]
  },
  {
   "cell_type": "markdown",
   "metadata": {},
   "source": [
    "## Demo baseada em:\n",
    "https://github.com/jupyter-widgets/ipyleaflet/blob/master/examples/GeoJSON.ipynb"
   ]
  },
  {
   "cell_type": "markdown",
   "metadata": {},
   "source": [
    "## GeoJSON\n",
    "https://en.wikipedia.org/wiki/GeoJSON\n",
    "https://geojson.io/#map=2/20.0/0.0\n",
    "\n",
    "### JSON vs XML\n",
    "https://www.w3schools.com/jS/js_json_xml.asp"
   ]
  },
  {
   "cell_type": "code",
   "execution_count": 1,
   "metadata": {},
   "outputs": [
    {
     "name": "stderr",
     "output_type": "stream",
     "text": [
      "/anaconda3/lib/python3.7/site-packages/dask/config.py:161: YAMLLoadWarning: calling yaml.load() without Loader=... is deprecated, as the default Loader is unsafe. Please read https://msg.pyyaml.org/load for full details.\n",
      "  data = yaml.load(f.read()) or {}\n",
      "/anaconda3/lib/python3.7/site-packages/distributed/config.py:20: YAMLLoadWarning: calling yaml.load() without Loader=... is deprecated, as the default Loader is unsafe. Please read https://msg.pyyaml.org/load for full details.\n",
      "  defaults = yaml.load(f)\n"
     ]
    }
   ],
   "source": [
    "# https://ipyleaflet.readthedocs.io/en/latest/api_reference/geo_json.html\n",
    "# https://github.com/jupyter-widgets/ipyleaflet/blob/master/examples/GeoJson_EU_on_hover.ipynb\n",
    "# https://github.com/jupyter-widgets/ipyleaflet/blob/master/examples/GeoJSON.ipynb\n",
    "from ipyleaflet import (\n",
    "    Map,\n",
    "    Marker,\n",
    "    TileLayer, ImageOverlay,\n",
    "    Polyline, Polygon, Rectangle, Circle, CircleMarker,\n",
    "    GeoJSON,\n",
    "    DrawControl\n",
    ")\n",
    "import json # biblioteca para interagir com json\n",
    "import os # biblioteca para interagir com ficheiros no sistema operativo\n",
    "import requests #biblioteca para realizar pedidos request web"
   ]
  },
  {
   "cell_type": "markdown",
   "metadata": {},
   "source": [
    "# creating GeoJson data:\n",
    "https://geojson.io/"
   ]
  },
  {
   "cell_type": "code",
   "execution_count": 3,
   "metadata": {},
   "outputs": [],
   "source": [
    "pontos= [\n",
    "          [\n",
    "            -9.113588333129883,\n",
    "            38.75555581285356\n",
    "          ],\n",
    "          [\n",
    "            -9.112129211425781,\n",
    "            38.75850079583952\n",
    "          ],\n",
    "          [\n",
    "            -9.102773666381836,\n",
    "            38.75568967835281\n",
    "          ],\n",
    "          [\n",
    "            -9.104962348937988,\n",
    "            38.77452874267188\n",
    "          ],\n",
    "          [\n",
    "            -9.105756282806396,\n",
    "            38.774629115126146\n",
    "          ],\n",
    "          [\n",
    "            -9.105885028839111,\n",
    "            38.77389304718155\n",
    "          ],\n",
    "          [\n",
    "            -9.105756282806396,\n",
    "            38.7730565971152\n",
    "          ],\n",
    "          [\n",
    "            -9.108138084411621,\n",
    "            38.77130002004864\n",
    "          ],\n",
    "          [\n",
    "            -9.109961986541746,\n",
    "            38.76872362877296\n",
    "          ],\n",
    "          [\n",
    "            -9.110069274902344,\n",
    "            38.76773654512525\n",
    "          ],\n",
    "          [\n",
    "            -9.109210968017578,\n",
    "            38.762984968343915\n",
    "          ],\n",
    "          [\n",
    "            -9.111185073852539,\n",
    "            38.761311802602414\n",
    "          ],\n",
    "          [\n",
    "            -9.111528396606445,\n",
    "            38.75923702259862\n",
    "          ],\n",
    "          [\n",
    "            -9.112815856933594,\n",
    "            38.758768515539764\n",
    "          ],\n",
    "          [\n",
    "            -9.11590576171875,\n",
    "            38.7594378103966\n",
    "          ]\n",
    "        ]"
   ]
  },
  {
   "cell_type": "code",
   "execution_count": 4,
   "metadata": {},
   "outputs": [],
   "source": [
    "data={\n",
    "  \"type\": \"FeatureCollection\",\n",
    "  \"features\": [\n",
    "    {\n",
    "      \"type\": \"Feature\",\n",
    "      \"properties\": {},\n",
    "      \"geometry\": {\n",
    "        \"type\": \"LineString\",\n",
    "        \"coordinates\": pontos\n",
    "      }\n",
    "    }\n",
    "  ]\n",
    "}"
   ]
  },
  {
   "cell_type": "code",
   "execution_count": 6,
   "metadata": {},
   "outputs": [
    {
     "data": {
      "text/plain": [
       "{'type': 'FeatureCollection',\n",
       " 'features': [{'type': 'Feature',\n",
       "   'properties': {},\n",
       "   'geometry': {'type': 'LineString',\n",
       "    'coordinates': [[-9.113588333129883, 38.75555581285356],\n",
       "     [-9.112129211425781, 38.75850079583952],\n",
       "     [-9.102773666381836, 38.75568967835281],\n",
       "     [-9.104962348937988, 38.77452874267188],\n",
       "     [-9.105756282806396, 38.774629115126146],\n",
       "     [-9.105885028839111, 38.77389304718155],\n",
       "     [-9.105756282806396, 38.7730565971152],\n",
       "     [-9.108138084411621, 38.77130002004864],\n",
       "     [-9.109961986541746, 38.76872362877296],\n",
       "     [-9.110069274902344, 38.76773654512525],\n",
       "     [-9.109210968017578, 38.762984968343915],\n",
       "     [-9.111185073852539, 38.761311802602414],\n",
       "     [-9.111528396606445, 38.75923702259862],\n",
       "     [-9.112815856933594, 38.758768515539764],\n",
       "     [-9.11590576171875, 38.7594378103966]]}}]}"
      ]
     },
     "execution_count": 6,
     "metadata": {},
     "output_type": "execute_result"
    }
   ],
   "source": [
    "data"
   ]
  },
  {
   "cell_type": "code",
   "execution_count": 9,
   "metadata": {},
   "outputs": [
    {
     "data": {
      "application/vnd.jupyter.widget-view+json": {
       "model_id": "b3b0d6621f0347eea6d1e120aa05a5cd",
       "version_major": 2,
       "version_minor": 0
      },
      "text/plain": [
       "Map(basemap={'url': 'https://{s}.tile.openstreetmap.org/{z}/{x}/{y}.png', 'max_zoom': 19, 'attribution': 'Map …"
      ]
     },
     "metadata": {},
     "output_type": "display_data"
    }
   ],
   "source": [
    "center = [38.75555581285356, -9.113588333129883]\n",
    "zoom = 10\n",
    "m = Map(center=center, zoom=zoom)\n",
    "m"
   ]
  },
  {
   "cell_type": "code",
   "execution_count": 10,
   "metadata": {},
   "outputs": [],
   "source": [
    "g = GeoJSON(data=data)"
   ]
  },
  {
   "cell_type": "code",
   "execution_count": 11,
   "metadata": {},
   "outputs": [],
   "source": [
    "m.add_layer(g)"
   ]
  },
  {
   "cell_type": "code",
   "execution_count": 7,
   "metadata": {},
   "outputs": [
    {
     "data": {
      "application/vnd.jupyter.widget-view+json": {
       "model_id": "a284198688364ffd8c503d66be067945",
       "version_major": 2,
       "version_minor": 0
      },
      "text/plain": [
       "Map(basemap={'url': 'https://{s}.tile.openstreetmap.org/{z}/{x}/{y}.png', 'max_zoom': 19, 'attribution': 'Map …"
      ]
     },
     "metadata": {},
     "output_type": "display_data"
    }
   ],
   "source": [
    "m"
   ]
  }
 ],
 "metadata": {
  "kernelspec": {
   "display_name": "Python 3",
   "language": "python",
   "name": "python3"
  },
  "language_info": {
   "codemirror_mode": {
    "name": "ipython",
    "version": 3
   },
   "file_extension": ".py",
   "mimetype": "text/x-python",
   "name": "python",
   "nbconvert_exporter": "python",
   "pygments_lexer": "ipython3",
   "version": "3.8.8"
  }
 },
 "nbformat": 4,
 "nbformat_minor": 2
}
