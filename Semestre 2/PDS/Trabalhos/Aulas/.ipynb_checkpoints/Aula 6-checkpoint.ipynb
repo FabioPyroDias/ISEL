{
 "cells": [
  {
   "cell_type": "code",
   "execution_count": 19,
   "id": "c8248f53",
   "metadata": {},
   "outputs": [],
   "source": [
    "import numpy as np\n",
    "import matplotlib.pyplot as plt\n",
    "from ipywidgets import interact"
   ]
  },
  {
   "cell_type": "markdown",
   "id": "734dba68",
   "metadata": {},
   "source": [
    "# Equação de Síntese\n",
    "\n",
    "$ x(t) = \\sum_{k=-\\infty}^{+\\infty} X_k e^{j 2 \\pi k f_0 t}$"
   ]
  },
  {
   "cell_type": "code",
   "execution_count": 40,
   "id": "333cca38",
   "metadata": {},
   "outputs": [],
   "source": [
    "def sinteseOndasQuadradas(kMax, f0):\n",
    "\n",
    "    kMin = -kMax\n",
    "    Fs = 10000\n",
    "    t = np.arange(0, 1, 1/Fs)\n",
    "    \n",
    "    equacaoSinteseFourier = np.zeros(len(t))\n",
    "    \n",
    "    kContas = 0\n",
    "    \n",
    "    for k in range(kMin, kMax + 1):\n",
    "        if(k % 2 == 1):\n",
    "            kContas += 1\n",
    "\n",
    "    Ks = np.zeros(kContas)\n",
    "    index = 0;\n",
    "    \n",
    "    for k in range(kMin, kMax + 1):\n",
    "        if(k % 2 == 1):\n",
    "            Ks[index] = k\n",
    "            index = index + 1\n",
    "\n",
    "    Xks = 2 / (1j * np.pi*Ks)\n",
    "            \n",
    "    for index in range(len(Ks)):\n",
    "        equacaoSinteseFourier = equacaoSinteseFourier + Xks[index] * np.exp(1j * 2 * np.pi * Ks[index] * f0 * t)\n",
    "\n",
    "    plt.plot(t, equacaoSinteseFourier)"
   ]
  },
  {
   "cell_type": "code",
   "execution_count": 41,
   "id": "6edd2487",
   "metadata": {
    "scrolled": true
   },
   "outputs": [
    {
     "data": {
      "application/vnd.jupyter.widget-view+json": {
       "model_id": "bc2e2f7714ca4c168f72725c1066fb01",
       "version_major": 2,
       "version_minor": 0
      },
      "text/plain": [
       "interactive(children=(IntSlider(value=27, description='kMax', max=51, min=5, step=2), IntSlider(value=10, desc…"
      ]
     },
     "metadata": {},
     "output_type": "display_data"
    },
    {
     "data": {
      "text/plain": [
       "<function __main__.sinteseOndasQuadradas(kMax, f0)>"
      ]
     },
     "execution_count": 41,
     "metadata": {},
     "output_type": "execute_result"
    }
   ],
   "source": [
    "interact(sinteseOndasQuadradas, kMax=(5, 51, 2), f0=(1, 20))"
   ]
  },
  {
   "cell_type": "code",
   "execution_count": 45,
   "id": "6ecfaad1",
   "metadata": {},
   "outputs": [],
   "source": [
    "def sinteseOndaTriangular(kMax, f0):\n",
    "    kMin = -kMax\n",
    "    Fs = 10000\n",
    "    t = np.arange(0, 1, 1/Fs)\n",
    "    \n",
    "    equacaoSinteseFourier = np.zeros(len(t))\n",
    "    Ks = np.zeros(np.abs(kMax) + np.abs(kMin))\n",
    "    Xks = (2 / (np.pi** 2 * Ks**2))\n",
    "        \n",
    "    for index in range(len(Xks)):\n",
    "        equacaoSinteseFourier = equacaoSinteseFourier * Xks[index] * np.exp(1j * 2 * np.pi * Xks[index] * f0 * t)\n",
    "    \n",
    "    equacaoSinteseFourier = equacaoSinteseFourier + 0.5\n",
    "    \n",
    "    plt.plot(equacaoSinteseFourier, t)"
   ]
  },
  {
   "cell_type": "code",
   "execution_count": 46,
   "id": "27f2b166",
   "metadata": {},
   "outputs": [
    {
     "data": {
      "application/vnd.jupyter.widget-view+json": {
       "model_id": "d2c58d8b8fe644169518ceab6aa1b43b",
       "version_major": 2,
       "version_minor": 0
      },
      "text/plain": [
       "interactive(children=(IntSlider(value=27, description='kMax', max=51, min=5, step=2), IntSlider(value=10, desc…"
      ]
     },
     "metadata": {},
     "output_type": "display_data"
    },
    {
     "data": {
      "text/plain": [
       "<function __main__.sinteseOndaTriangular(kMax, f0)>"
      ]
     },
     "execution_count": 46,
     "metadata": {},
     "output_type": "execute_result"
    }
   ],
   "source": [
    "interact(sinteseOndaTriangular, kMax=(5, 51, 2), f0=(1, 20))"
   ]
  }
 ],
 "metadata": {
  "kernelspec": {
   "display_name": "Python 3",
   "language": "python",
   "name": "python3"
  },
  "language_info": {
   "codemirror_mode": {
    "name": "ipython",
    "version": 3
   },
   "file_extension": ".py",
   "mimetype": "text/x-python",
   "name": "python",
   "nbconvert_exporter": "python",
   "pygments_lexer": "ipython3",
   "version": "3.8.8"
  }
 },
 "nbformat": 4,
 "nbformat_minor": 5
}
